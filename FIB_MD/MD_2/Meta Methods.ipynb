{
 "cells": [
  {
   "cell_type": "markdown",
   "metadata": {},
   "source": [
    "# Meta Methods"
   ]
  },
  {
   "cell_type": "code",
   "execution_count": 4,
   "metadata": {},
   "outputs": [
    {
     "data": {
      "text/html": [
       "<div>\n",
       "<style scoped>\n",
       "    .dataframe tbody tr th:only-of-type {\n",
       "        vertical-align: middle;\n",
       "    }\n",
       "\n",
       "    .dataframe tbody tr th {\n",
       "        vertical-align: top;\n",
       "    }\n",
       "\n",
       "    .dataframe thead th {\n",
       "        text-align: right;\n",
       "    }\n",
       "</style>\n",
       "<table border=\"1\" class=\"dataframe\">\n",
       "  <thead>\n",
       "    <tr style=\"text-align: right;\">\n",
       "      <th></th>\n",
       "      <th>school</th>\n",
       "      <th>sex</th>\n",
       "      <th>age</th>\n",
       "      <th>address</th>\n",
       "      <th>famsize</th>\n",
       "      <th>pstatus</th>\n",
       "      <th>medu</th>\n",
       "      <th>fedu</th>\n",
       "      <th>mjob</th>\n",
       "      <th>fjob</th>\n",
       "      <th>...</th>\n",
       "      <th>internet</th>\n",
       "      <th>romantic</th>\n",
       "      <th>famrel</th>\n",
       "      <th>freetime</th>\n",
       "      <th>goout</th>\n",
       "      <th>dalc</th>\n",
       "      <th>walc</th>\n",
       "      <th>health</th>\n",
       "      <th>absences</th>\n",
       "      <th>Passed</th>\n",
       "    </tr>\n",
       "  </thead>\n",
       "  <tbody>\n",
       "    <tr>\n",
       "      <th>0</th>\n",
       "      <td>1</td>\n",
       "      <td>1</td>\n",
       "      <td>18</td>\n",
       "      <td>1</td>\n",
       "      <td>1</td>\n",
       "      <td>1</td>\n",
       "      <td>4</td>\n",
       "      <td>4</td>\n",
       "      <td>4</td>\n",
       "      <td>1</td>\n",
       "      <td>...</td>\n",
       "      <td>2</td>\n",
       "      <td>2</td>\n",
       "      <td>4</td>\n",
       "      <td>3</td>\n",
       "      <td>4</td>\n",
       "      <td>1</td>\n",
       "      <td>1</td>\n",
       "      <td>3</td>\n",
       "      <td>1</td>\n",
       "      <td>0</td>\n",
       "    </tr>\n",
       "    <tr>\n",
       "      <th>1</th>\n",
       "      <td>1</td>\n",
       "      <td>1</td>\n",
       "      <td>17</td>\n",
       "      <td>1</td>\n",
       "      <td>1</td>\n",
       "      <td>2</td>\n",
       "      <td>1</td>\n",
       "      <td>1</td>\n",
       "      <td>4</td>\n",
       "      <td>5</td>\n",
       "      <td>...</td>\n",
       "      <td>1</td>\n",
       "      <td>2</td>\n",
       "      <td>5</td>\n",
       "      <td>3</td>\n",
       "      <td>3</td>\n",
       "      <td>1</td>\n",
       "      <td>1</td>\n",
       "      <td>3</td>\n",
       "      <td>0</td>\n",
       "      <td>1</td>\n",
       "    </tr>\n",
       "    <tr>\n",
       "      <th>2</th>\n",
       "      <td>1</td>\n",
       "      <td>1</td>\n",
       "      <td>15</td>\n",
       "      <td>1</td>\n",
       "      <td>2</td>\n",
       "      <td>2</td>\n",
       "      <td>1</td>\n",
       "      <td>1</td>\n",
       "      <td>4</td>\n",
       "      <td>5</td>\n",
       "      <td>...</td>\n",
       "      <td>1</td>\n",
       "      <td>2</td>\n",
       "      <td>4</td>\n",
       "      <td>3</td>\n",
       "      <td>2</td>\n",
       "      <td>2</td>\n",
       "      <td>3</td>\n",
       "      <td>3</td>\n",
       "      <td>1</td>\n",
       "      <td>1</td>\n",
       "    </tr>\n",
       "    <tr>\n",
       "      <th>3</th>\n",
       "      <td>1</td>\n",
       "      <td>1</td>\n",
       "      <td>15</td>\n",
       "      <td>1</td>\n",
       "      <td>1</td>\n",
       "      <td>2</td>\n",
       "      <td>4</td>\n",
       "      <td>2</td>\n",
       "      <td>2</td>\n",
       "      <td>3</td>\n",
       "      <td>...</td>\n",
       "      <td>1</td>\n",
       "      <td>1</td>\n",
       "      <td>3</td>\n",
       "      <td>2</td>\n",
       "      <td>2</td>\n",
       "      <td>1</td>\n",
       "      <td>1</td>\n",
       "      <td>5</td>\n",
       "      <td>0</td>\n",
       "      <td>1</td>\n",
       "    </tr>\n",
       "    <tr>\n",
       "      <th>4</th>\n",
       "      <td>1</td>\n",
       "      <td>1</td>\n",
       "      <td>16</td>\n",
       "      <td>1</td>\n",
       "      <td>1</td>\n",
       "      <td>2</td>\n",
       "      <td>3</td>\n",
       "      <td>3</td>\n",
       "      <td>5</td>\n",
       "      <td>5</td>\n",
       "      <td>...</td>\n",
       "      <td>2</td>\n",
       "      <td>2</td>\n",
       "      <td>4</td>\n",
       "      <td>3</td>\n",
       "      <td>2</td>\n",
       "      <td>1</td>\n",
       "      <td>2</td>\n",
       "      <td>5</td>\n",
       "      <td>0</td>\n",
       "      <td>1</td>\n",
       "    </tr>\n",
       "  </tbody>\n",
       "</table>\n",
       "<p>5 rows × 31 columns</p>\n",
       "</div>"
      ],
      "text/plain": [
       "   school  sex  age  address  famsize  pstatus  medu  fedu  mjob  fjob  \\\n",
       "0       1    1   18        1        1        1     4     4     4     1   \n",
       "1       1    1   17        1        1        2     1     1     4     5   \n",
       "2       1    1   15        1        2        2     1     1     4     5   \n",
       "3       1    1   15        1        1        2     4     2     2     3   \n",
       "4       1    1   16        1        1        2     3     3     5     5   \n",
       "\n",
       "    ...    internet  romantic  famrel  freetime  goout  dalc  walc  health  \\\n",
       "0   ...           2         2       4         3      4     1     1       3   \n",
       "1   ...           1         2       5         3      3     1     1       3   \n",
       "2   ...           1         2       4         3      2     2     3       3   \n",
       "3   ...           1         1       3         2      2     1     1       5   \n",
       "4   ...           2         2       4         3      2     1     2       5   \n",
       "\n",
       "   absences  Passed  \n",
       "0         1       0  \n",
       "1         0       1  \n",
       "2         1       1  \n",
       "3         0       1  \n",
       "4         0       1  \n",
       "\n",
       "[5 rows x 31 columns]"
      ]
     },
     "execution_count": 4,
     "metadata": {},
     "output_type": "execute_result"
    }
   ],
   "source": [
    "# Import libraries \n",
    "\n",
    "import numpy as np\n",
    "import pandas as pd\n",
    "import sklearn as sk\n",
    "\n",
    "df = pd.read_csv(\"clean_student_por.csv\")\n",
    "df.head()"
   ]
  },
  {
   "cell_type": "code",
   "execution_count": 5,
   "metadata": {},
   "outputs": [
    {
     "name": "stdout",
     "output_type": "stream",
     "text": [
      "(649, 30)\n"
     ]
    }
   ],
   "source": [
    "# Separate data from labels\n",
    "X = df.drop([\"Passed\"], axis=1).values\n",
    "y = df[\"Passed\"]\n",
    "print(X.shape)"
   ]
  },
  {
   "cell_type": "markdown",
   "metadata": {},
   "source": [
    "## Voting scheme"
   ]
  },
  {
   "cell_type": "code",
   "execution_count": 6,
   "metadata": {},
   "outputs": [
    {
     "name": "stdout",
     "output_type": "stream",
     "text": [
      "Best Params fo Knn= {'n_neighbors': 19, 'weights': 'distance'} F1 score= 0.8785360694530282\n",
      "F1 score: 0.859 (+/-0.067) [Naive Bayes]\n",
      "F1 score: 0.879 (+/-0.011) [Knn (3)]\n",
      "F1 score: 0.790 (+/-0.079) [Dec. Tree]\n"
     ]
    }
   ],
   "source": [
    "from sklearn.model_selection import cross_val_score\n",
    "from sklearn.linear_model import LogisticRegression\n",
    "from sklearn.naive_bayes import GaussianNB\n",
    "from sklearn.ensemble import VotingClassifier\n",
    "from sklearn.tree import DecisionTreeClassifier\n",
    "from sklearn.neighbors import KNeighborsClassifier\n",
    "from sklearn.model_selection import GridSearchCV\n",
    "\n",
    "cv=10\n",
    "\n",
    "clf1 = GaussianNB()\n",
    "\n",
    "params = {'n_neighbors':list(range(1,30,2)), 'weights':('distance','uniform')}\n",
    "knc = KNeighborsClassifier()\n",
    "clf = GridSearchCV(knc, param_grid=params,cv=cv,n_jobs=-1, scoring='f1')\n",
    "clf.fit(X, y)\n",
    "print(\"Best Params fo Knn=\", clf.best_params_, \"F1 score=\", clf.best_score_)\n",
    "parval=clf.best_params_\n",
    "clf2 = KNeighborsClassifier(n_neighbors=parval['n_neighbors'],weights=parval['weights'])\n",
    "\n",
    "clf3 = DecisionTreeClassifier(criterion='entropy')\n",
    "\n",
    "for clf, label in zip([clf1, clf2, clf3], ['Naive Bayes','Knn (3)', 'Dec. Tree', ]):\n",
    "    scores = cross_val_score(clf, X, y, cv=cv, scoring='f1')\n",
    "    print(\"F1 score: %0.3f (+/-%0.3f) [%s]\" % (scores.mean(), scores.std(), label))"
   ]
  },
  {
   "cell_type": "code",
   "execution_count": 7,
   "metadata": {},
   "outputs": [
    {
     "name": "stdout",
     "output_type": "stream",
     "text": [
      "F1 score: 0.865 (+/-0.031) [Majority Voting]\n"
     ]
    }
   ],
   "source": [
    "import warnings\n",
    "warnings.filterwarnings(\"ignore\", category=DeprecationWarning)\n",
    "\n",
    "eclf = VotingClassifier(estimators=[('nb', clf1), ('knn3', clf2), ('dt', clf3)], voting='hard')\n",
    "scores = cross_val_score(eclf, X, y, cv=cv, scoring='f1')\n",
    "print(\"F1 score: %0.3f (+/-%0.3f) [%s]\" % (scores.mean(), scores.std(), \"Majority Voting\"))"
   ]
  },
  {
   "cell_type": "code",
   "execution_count": 8,
   "metadata": {},
   "outputs": [
    {
     "name": "stdout",
     "output_type": "stream",
     "text": [
      "F1 score: 0.864 (+/-0.041) [Weighted Voting]\n"
     ]
    }
   ],
   "source": [
    "eclf = VotingClassifier(estimators=[('nb', clf1), ('knn3', clf2), ('dt', clf3)], voting='soft', weights=[2,4,1])\n",
    "scores = cross_val_score(eclf, X, y, cv=cv, scoring='f1')\n",
    "print(\"F1 score: %0.3f (+/-%0.3f) [%s]\" % (scores.mean(), scores.std(), \"Weighted Voting\"))"
   ]
  },
  {
   "cell_type": "markdown",
   "metadata": {},
   "source": [
    "## Bagging"
   ]
  },
  {
   "cell_type": "code",
   "execution_count": 9,
   "metadata": {},
   "outputs": [
    {
     "name": "stdout",
     "output_type": "stream",
     "text": [
      "Bagging DT\n",
      "F1 score: 0.809 (+/-0.065) [1]\n",
      "F1 score: 0.748 (+/-0.127) [2]\n",
      "F1 score: 0.809 (+/-0.103) [5]\n",
      "F1 score: 0.815 (+/-0.108) [10]\n",
      "F1 score: 0.822 (+/-0.104) [20]\n",
      "F1 score: 0.840 (+/-0.070) [50]\n",
      "F1 score: 0.834 (+/-0.069) [100]\n",
      "F1 score: 0.831 (+/-0.084) [200]\n",
      "Bagging DT forced variance\n",
      "F1 score: 0.782 (+/-0.055) [1]\n",
      "F1 score: 0.730 (+/-0.087) [2]\n",
      "F1 score: 0.823 (+/-0.069) [5]\n",
      "F1 score: 0.827 (+/-0.053) [10]\n",
      "F1 score: 0.858 (+/-0.023) [20]\n",
      "F1 score: 0.859 (+/-0.029) [50]\n",
      "F1 score: 0.858 (+/-0.026) [100]\n",
      "F1 score: 0.861 (+/-0.026) [200]\n"
     ]
    }
   ],
   "source": [
    "from sklearn.ensemble import BaggingClassifier\n",
    "\n",
    "lb=[]\n",
    "print(\"Bagging DT\")\n",
    "for nest in [1,2,5,10,20,50,100,200]:\n",
    "    scores = cross_val_score(BaggingClassifier(base_estimator=DecisionTreeClassifier(), n_estimators=nest), X, y, \n",
    "                             cv=cv, scoring='f1')\n",
    "    print(\"F1 score: %0.3f (+/-%0.3f) [%s]\" % (scores.mean(), scores.std(), nest))\n",
    "    lb.append(scores.mean())\n",
    "\n",
    "lb2=[]\n",
    "print(\"Bagging DT forced variance\")\n",
    "for nest in [1,2,5,10,20,50,100,200]:\n",
    "    scores = cross_val_score(BaggingClassifier(base_estimator=DecisionTreeClassifier(), n_estimators=nest, \n",
    "                                               max_features=0.35), X, y, cv=cv, scoring='f1')\n",
    "    print(\"F1 score: %0.3f (+/-%0.3f) [%s]\" % (scores.mean(), scores.std(), nest))\n",
    "    lb2.append(scores.mean())  "
   ]
  },
  {
   "cell_type": "markdown",
   "metadata": {},
   "source": [
    "## Random Forest"
   ]
  },
  {
   "cell_type": "code",
   "execution_count": 12,
   "metadata": {},
   "outputs": [
    {
     "name": "stdout",
     "output_type": "stream",
     "text": [
      "Random Forest\n",
      "F1 score: 0.758 (+/-0.139) [1]\n",
      "F1 score: 0.751 (+/-0.076) [2]\n",
      "F1 score: 0.841 (+/-0.072) [5]\n",
      "F1 score: 0.832 (+/-0.072) [10]\n",
      "F1 score: 0.846 (+/-0.070) [20]\n",
      "F1 score: 0.862 (+/-0.050) [50]\n",
      "F1 score: 0.855 (+/-0.045) [100]\n",
      "F1 score: 0.860 (+/-0.047) [200]\n"
     ]
    }
   ],
   "source": [
    "from sklearn.ensemble import RandomForestClassifier\n",
    "\n",
    "lrf=[]\n",
    "print(\"Random Forest\")\n",
    "for nest in [1,2,5,10,20,50,100,200]:\n",
    "    scores = cross_val_score(RandomForestClassifier(n_estimators=nest), X, y, cv=cv, scoring='f1')\n",
    "    print(\"F1 score: %0.3f (+/-%0.3f) [%s]\" % (scores.mean(), scores.std(), nest))\n",
    "    lrf.append(scores.mean())"
   ]
  },
  {
   "cell_type": "code",
   "execution_count": 13,
   "metadata": {},
   "outputs": [
    {
     "name": "stdout",
     "output_type": "stream",
     "text": [
      "Extra Trees\n",
      "F1 score: 0.797 (+/-0.062) [1]\n",
      "F1 score: 0.732 (+/-0.132) [2]\n",
      "F1 score: 0.833 (+/-0.072) [5]\n",
      "F1 score: 0.828 (+/-0.088) [10]\n",
      "F1 score: 0.843 (+/-0.071) [20]\n",
      "F1 score: 0.853 (+/-0.058) [50]\n",
      "F1 score: 0.855 (+/-0.050) [100]\n",
      "F1 score: 0.853 (+/-0.045) [200]\n"
     ]
    }
   ],
   "source": [
    "from sklearn.ensemble import ExtraTreesClassifier\n",
    "\n",
    "lext=[]\n",
    "print(\"Extra Trees\")\n",
    "for nest in [1,2,5,10,20,50,100,200]:\n",
    "    scores = cross_val_score(ExtraTreesClassifier(n_estimators=nest), X, y, cv=cv, scoring='f1')\n",
    "    print(\"F1 score: %0.3f (+/-%0.3f) [%s]\" % (scores.mean(), scores.std(), nest))\n",
    "    lext.append(scores.mean())"
   ]
  },
  {
   "cell_type": "markdown",
   "metadata": {},
   "source": [
    "## Boosting"
   ]
  },
  {
   "cell_type": "code",
   "execution_count": 13,
   "metadata": {},
   "outputs": [
    {
     "name": "stdout",
     "output_type": "stream",
     "text": [
      "AdaBoost Dec.Stumps\n",
      "F1 score 0.889 (+/-0.023) [1]\n",
      "F1 score 0.889 (+/-0.023) [2]\n",
      "F1 score 0.893 (+/-0.021) [5]\n",
      "F1 score 0.881 (+/-0.031) [10]\n",
      "F1 score 0.868 (+/-0.046) [20]\n",
      "F1 score 0.856 (+/-0.051) [50]\n",
      "F1 score 0.855 (+/-0.056) [100]\n",
      "F1 score 0.844 (+/-0.059) [200]\n"
     ]
    }
   ],
   "source": [
    "from sklearn.ensemble import AdaBoostClassifier\n",
    "\n",
    "lboo=[]\n",
    "print(\"AdaBoost Dec.Stumps\")\n",
    "for nest in [1,2,5,10,20,50,100,200]:\n",
    "    scores = cross_val_score(AdaBoostClassifier(n_estimators=nest), X, y, cv=cv, scoring='f1')\n",
    "    print(\"F1 score %0.3f (+/-%0.3f) [%s]\" % (scores.mean(), scores.std(), nest))\n",
    "    lboo.append(scores.mean())"
   ]
  },
  {
   "cell_type": "code",
   "execution_count": 14,
   "metadata": {},
   "outputs": [
    {
     "name": "stdout",
     "output_type": "stream",
     "text": [
      "AdaBoost DT\n",
      "F1 score: 0.822 (+/-0.068) [1]\n",
      "F1 score: 0.831 (+/-0.057) [2]\n",
      "F1 score: 0.824 (+/-0.067) [5]\n",
      "F1 score: 0.821 (+/-0.065) [10]\n",
      "F1 score: 0.849 (+/-0.033) [20]\n",
      "F1 score: 0.843 (+/-0.061) [50]\n",
      "F1 score: 0.837 (+/-0.050) [100]\n",
      "F1 score: 0.852 (+/-0.034) [200]\n"
     ]
    }
   ],
   "source": [
    "from sklearn.ensemble import AdaBoostClassifier\n",
    "\n",
    "lboodt=[]\n",
    "print(\"AdaBoost DT\")\n",
    "for nest in [1,2,5,10,20,50,100,200]:\n",
    "    scores = cross_val_score(AdaBoostClassifier(DecisionTreeClassifier(max_depth=5),n_estimators=nest), X, y, cv=cv, \n",
    "                             scoring='f1')\n",
    "    print(\"F1 score: %0.3f (+/-%0.3f) [%s]\" % (scores.mean(), scores.std(), nest))\n",
    "    lboodt.append(scores.mean())"
   ]
  },
  {
   "cell_type": "code",
   "execution_count": 19,
   "metadata": {},
   "outputs": [
    {
     "name": "stdout",
     "output_type": "stream",
     "text": [
      "Gradient Boosting\n",
      "F1 score: 0.862 (+/-0.003) [1]\n",
      "F1 score: 0.862 (+/-0.003) [2]\n",
      "F1 score: 0.860 (+/-0.011) [5]\n",
      "F1 score: 0.862 (+/-0.018) [10]\n",
      "F1 score: 0.864 (+/-0.034) [20]\n",
      "F1 score: 0.854 (+/-0.059) [50]\n",
      "F1 score: 0.845 (+/-0.065) [100]\n",
      "F1 score: 0.843 (+/-0.062) [200]\n"
     ]
    }
   ],
   "source": [
    "from sklearn.ensemble import GradientBoostingClassifier\n",
    "\n",
    "lgbboo=[]\n",
    "print(\"Gradient Boosting\")\n",
    "for nest in [1,2,5,10,20,50,100,200]:\n",
    "    scores = cross_val_score(GradientBoostingClassifier(n_estimators=nest), X, y, cv=cv, scoring='f1')\n",
    "    print(\"F1 score: %0.3f (+/-%0.3f) [%s]\" % (scores.mean(), scores.std(), nest))\n",
    "    lgbboo.append(scores.mean())"
   ]
  },
  {
   "cell_type": "code",
   "execution_count": 20,
   "metadata": {},
   "outputs": [
    {
     "ename": "NameError",
     "evalue": "name 'lboo' is not defined",
     "output_type": "error",
     "traceback": [
      "\u001b[0;31m---------------------------------------------------------------------------\u001b[0m",
      "\u001b[0;31mNameError\u001b[0m                                 Traceback (most recent call last)",
      "\u001b[0;32m<ipython-input-20-6abd3c2b073d>\u001b[0m in \u001b[0;36m<module>\u001b[0;34m()\u001b[0m\n\u001b[1;32m      6\u001b[0m \u001b[0mplt\u001b[0m\u001b[0;34m.\u001b[0m\u001b[0mplot\u001b[0m\u001b[0;34m(\u001b[0m\u001b[0;34m[\u001b[0m\u001b[0;36m1\u001b[0m\u001b[0;34m,\u001b[0m\u001b[0;36m2\u001b[0m\u001b[0;34m,\u001b[0m\u001b[0;36m5\u001b[0m\u001b[0;34m,\u001b[0m\u001b[0;36m10\u001b[0m\u001b[0;34m,\u001b[0m\u001b[0;36m20\u001b[0m\u001b[0;34m,\u001b[0m\u001b[0;36m50\u001b[0m\u001b[0;34m,\u001b[0m\u001b[0;36m100\u001b[0m\u001b[0;34m,\u001b[0m\u001b[0;36m200\u001b[0m\u001b[0;34m]\u001b[0m\u001b[0;34m,\u001b[0m\u001b[0mlrf\u001b[0m\u001b[0;34m,\u001b[0m\u001b[0mlabel\u001b[0m\u001b[0;34m=\u001b[0m\u001b[0;34m\"Random Forest\"\u001b[0m\u001b[0;34m)\u001b[0m\u001b[0;34m\u001b[0m\u001b[0m\n\u001b[1;32m      7\u001b[0m \u001b[0mplt\u001b[0m\u001b[0;34m.\u001b[0m\u001b[0mplot\u001b[0m\u001b[0;34m(\u001b[0m\u001b[0;34m[\u001b[0m\u001b[0;36m1\u001b[0m\u001b[0;34m,\u001b[0m\u001b[0;36m2\u001b[0m\u001b[0;34m,\u001b[0m\u001b[0;36m5\u001b[0m\u001b[0;34m,\u001b[0m\u001b[0;36m10\u001b[0m\u001b[0;34m,\u001b[0m\u001b[0;36m20\u001b[0m\u001b[0;34m,\u001b[0m\u001b[0;36m50\u001b[0m\u001b[0;34m,\u001b[0m\u001b[0;36m100\u001b[0m\u001b[0;34m,\u001b[0m\u001b[0;36m200\u001b[0m\u001b[0;34m]\u001b[0m\u001b[0;34m,\u001b[0m\u001b[0mlext\u001b[0m\u001b[0;34m,\u001b[0m\u001b[0mlabel\u001b[0m\u001b[0;34m=\u001b[0m\u001b[0;34m\"Extra Trees\"\u001b[0m\u001b[0;34m)\u001b[0m\u001b[0;34m\u001b[0m\u001b[0m\n\u001b[0;32m----> 8\u001b[0;31m \u001b[0mplt\u001b[0m\u001b[0;34m.\u001b[0m\u001b[0mplot\u001b[0m\u001b[0;34m(\u001b[0m\u001b[0;34m[\u001b[0m\u001b[0;36m1\u001b[0m\u001b[0;34m,\u001b[0m\u001b[0;36m2\u001b[0m\u001b[0;34m,\u001b[0m\u001b[0;36m5\u001b[0m\u001b[0;34m,\u001b[0m\u001b[0;36m10\u001b[0m\u001b[0;34m,\u001b[0m\u001b[0;36m20\u001b[0m\u001b[0;34m,\u001b[0m\u001b[0;36m50\u001b[0m\u001b[0;34m,\u001b[0m\u001b[0;36m100\u001b[0m\u001b[0;34m,\u001b[0m\u001b[0;36m200\u001b[0m\u001b[0;34m]\u001b[0m\u001b[0;34m,\u001b[0m\u001b[0mlboo\u001b[0m\u001b[0;34m,\u001b[0m\u001b[0mlabel\u001b[0m\u001b[0;34m=\u001b[0m\u001b[0;34m\"AdaBoost Dec.Stumps\"\u001b[0m\u001b[0;34m)\u001b[0m\u001b[0;34m\u001b[0m\u001b[0m\n\u001b[0m\u001b[1;32m      9\u001b[0m \u001b[0mplt\u001b[0m\u001b[0;34m.\u001b[0m\u001b[0mplot\u001b[0m\u001b[0;34m(\u001b[0m\u001b[0;34m[\u001b[0m\u001b[0;36m1\u001b[0m\u001b[0;34m,\u001b[0m\u001b[0;36m2\u001b[0m\u001b[0;34m,\u001b[0m\u001b[0;36m5\u001b[0m\u001b[0;34m,\u001b[0m\u001b[0;36m10\u001b[0m\u001b[0;34m,\u001b[0m\u001b[0;36m20\u001b[0m\u001b[0;34m,\u001b[0m\u001b[0;36m50\u001b[0m\u001b[0;34m,\u001b[0m\u001b[0;36m100\u001b[0m\u001b[0;34m,\u001b[0m\u001b[0;36m200\u001b[0m\u001b[0;34m]\u001b[0m\u001b[0;34m,\u001b[0m\u001b[0mlboodt\u001b[0m\u001b[0;34m,\u001b[0m\u001b[0mlabel\u001b[0m\u001b[0;34m=\u001b[0m\u001b[0;34m\"AdaBoost DT\"\u001b[0m\u001b[0;34m)\u001b[0m\u001b[0;34m\u001b[0m\u001b[0m\n\u001b[1;32m     10\u001b[0m \u001b[0mplt\u001b[0m\u001b[0;34m.\u001b[0m\u001b[0mplot\u001b[0m\u001b[0;34m(\u001b[0m\u001b[0;34m[\u001b[0m\u001b[0;36m1\u001b[0m\u001b[0;34m,\u001b[0m\u001b[0;36m2\u001b[0m\u001b[0;34m,\u001b[0m\u001b[0;36m5\u001b[0m\u001b[0;34m,\u001b[0m\u001b[0;36m10\u001b[0m\u001b[0;34m,\u001b[0m\u001b[0;36m20\u001b[0m\u001b[0;34m,\u001b[0m\u001b[0;36m50\u001b[0m\u001b[0;34m,\u001b[0m\u001b[0;36m100\u001b[0m\u001b[0;34m,\u001b[0m\u001b[0;36m200\u001b[0m\u001b[0;34m]\u001b[0m\u001b[0;34m,\u001b[0m\u001b[0mlgbboo\u001b[0m\u001b[0;34m,\u001b[0m\u001b[0mlabel\u001b[0m\u001b[0;34m=\u001b[0m\u001b[0;34m\"Gradient Boosting\"\u001b[0m\u001b[0;34m)\u001b[0m\u001b[0;34m\u001b[0m\u001b[0m\n",
      "\u001b[0;31mNameError\u001b[0m: name 'lboo' is not defined"
     ]
    }
   ],
   "source": [
    "import matplotlib.pyplot as plt\n",
    "\n",
    "plt.figure(figsize=(12,6))\n",
    "plt.plot([1,2,5,10,20,50,100,200],lb,label=\"Bagging DT\")\n",
    "plt.plot([1,2,5,10,20,50,100,200],lb2,label=\"Bagging DT forced variance\")\n",
    "plt.plot([1,2,5,10,20,50,100,200],lrf,label=\"Random Forest\")\n",
    "plt.plot([1,2,5,10,20,50,100,200],lext,label=\"Extra Trees\")\n",
    "plt.plot([1,2,5,10,20,50,100,200],lboo,label=\"AdaBoost Dec.Stumps\")\n",
    "plt.plot([1,2,5,10,20,50,100,200],lboodt,label=\"AdaBoost DT\")\n",
    "plt.plot([1,2,5,10,20,50,100,200],lgbboo,label=\"Gradient Boosting\")\n",
    "plt.legend(loc='lower right')\n",
    "plt.xlabel('nest')\n",
    "plt.ylabel('F1 score')\n",
    "plt.savefig('Meta-methods.png', dpi=600)\n",
    "plt.show()\n",
    "plt.close()"
   ]
  },
  {
   "cell_type": "code",
   "execution_count": 18,
   "metadata": {},
   "outputs": [
    {
     "data": {
      "image/png": "[encoded data removed]",
      "text/plain": [
       "<Figure size 864x432 with 1 Axes>"
      ]
     },
     "metadata": {
      "needs_background": "light"
     },
     "output_type": "display_data"
    }
   ],
   "source": [
    "plt.figure(figsize=(12,6))\n",
    "plt.plot([1,2,5,10,20,50,100,200],lb,label=\"Bagging DT\")\n",
    "plt.plot([1,2,5,10,20,50,100,200],lb2,label=\"Bagging DT forced variance\")\n",
    "plt.plot([1,2,5,10,20,50,100,200],lrf,label=\"Random Forest\")\n",
    "plt.plot([1,2,5,10,20,50,100,200],lext,label=\"Extra Trees\")\n",
    "plt.plot([1,2,5,10,20,50,100,200],lboo,label=\"AdaBoost Dec.Stumps\")\n",
    "plt.plot([1,2,5,10,20,50,100,200],lboodt,label=\"AdaBoost DT\")\n",
    "plt.plot([1,2,5,10,20,50,100,200],lgbboo,label=\"Gradient Boosting\")\n",
    "plt.legend(loc='lower right')\n",
    "plt.xlim(10,200)\n",
    "plt.ylim(0.80,0.90)\n",
    "plt.xlabel('nest')\n",
    "plt.ylabel('F1 score')\n",
    "plt.savefig('EnlargeView_Meta-methods.png', dpi=600)\n",
    "plt.show()\n",
    "plt.close()"
   ]
  },
  {
   "cell_type": "markdown",
   "metadata": {},
   "source": [
    "## Measures for the two best models"
   ]
  },
  {
   "cell_type": "code",
   "execution_count": 44,
   "metadata": {},
   "outputs": [
    {
     "name": "stdout",
     "output_type": "stream",
     "text": [
      "Bagging DT forced variance with 200 nest\n",
      "Confusion matrix:\n",
      "[[ 37 120]\n",
      " [ 27 465]]\n",
      "Accuracy: 0.773497688751926\n",
      "F1 score: 0.863509749303621\n",
      "\n",
      "Random Forest with 100 nest\n",
      "Confusion matrix:\n",
      "[[ 61  96]\n",
      " [ 45 447]]\n",
      "Accuracy: 0.7827426810477658\n",
      "F1 score: 0.863768115942029\n"
     ]
    }
   ],
   "source": [
    "from sklearn.metrics import confusion_matrix\n",
    "from sklearn.metrics import accuracy_score\n",
    "from sklearn.metrics import f1_score\n",
    "from sklearn.model_selection import cross_val_predict\n",
    "knc = BaggingClassifier(base_estimator=DecisionTreeClassifier(), n_estimators=200, max_features=0.35)\n",
    "knc.fit(X, y)\n",
    "pred = cross_val_predict(knc, X=X, y=y, cv=cv)\n",
    "best_confmat = confusion_matrix(y, pred)\n",
    "print(\"Bagging DT forced variance with 200 nest\")\n",
    "print(\"Confusion matrix:\")\n",
    "print(best_confmat)\n",
    "print(\"Accuracy: %s\" % accuracy_score(y, pred))\n",
    "print(\"F1 score: %s\" % f1_score(y, pred))\n",
    "\n",
    "fig, ax = plt.subplots(figsize=(2.5, 2.5))\n",
    "ax.matshow(best_confmat, cmap=plt.cm.Blues, alpha=0.3)\n",
    "for i in range(best_confmat.shape[0]):\n",
    "    for j in range(best_confmat.shape[1]):\n",
    "        ax.text(x=j, y=i, s=best_confmat[i, j], va='center', ha='center', fontsize=7)\n",
    "plt.xlabel('Predicted label')\n",
    "plt.ylabel('True label')\n",
    "plt.tight_layout()\n",
    "plt.savefig('ConMatrix_BaggingDT_forced.png', dpi=600)\n",
    "plt.close()\n",
    "\n",
    "print()\n",
    "knc = RandomForestClassifier(n_estimators=100)\n",
    "knc.fit(X, y)\n",
    "pred = cross_val_predict(knc, X=X, y=y, cv=cv)\n",
    "best_confmat = confusion_matrix(y, pred)\n",
    "print(\"Random Forest with 100 nest\")\n",
    "print(\"Confusion matrix:\")\n",
    "print(best_confmat)\n",
    "print(\"Accuracy: %s\" % accuracy_score(y, pred))\n",
    "print(\"F1 score: %s\" % f1_score(y, pred))\n",
    "fig, ax = plt.subplots(figsize=(2.5, 2.5))\n",
    "ax.matshow(best_confmat, cmap=plt.cm.Blues, alpha=0.3)\n",
    "for i in range(best_confmat.shape[0]):\n",
    "    for j in range(best_confmat.shape[1]):\n",
    "        ax.text(x=j, y=i, s=best_confmat[i, j], va='center', ha='center', fontsize=7)\n",
    "plt.xlabel('Predicted label')\n",
    "plt.ylabel('True label')\n",
    "plt.tight_layout()\n",
    "plt.savefig('ConMatrix_BestModel_RandomForest.png', dpi=600)\n",
    "plt.close()"
   ]
  },
  {
   "cell_type": "markdown",
   "metadata": {},
   "source": [
    "## Feature Selection with Forests of trees"
   ]
  },
  {
   "cell_type": "code",
   "execution_count": 14,
   "metadata": {},
   "outputs": [
    {
     "name": "stdout",
     "output_type": "stream",
     "text": [
      "[0.04792767 0.02127861 0.03791953 0.01659722 0.01491823 0.01203515\n",
      " 0.03849646 0.04650071 0.03468573 0.02489429 0.03495747 0.02290614\n",
      " 0.03539029 0.03603259 0.12944629 0.01268052 0.01808284 0.00783968\n",
      " 0.01589009 0.01551985 0.05542101 0.0229033  0.01556227 0.04518558\n",
      " 0.04337829 0.04305371 0.02773085 0.04203553 0.03530954 0.04542055]\n"
     ]
    }
   ],
   "source": [
    "clf = RandomForestClassifier(n_estimators=100)\n",
    "clf = clf.fit(X, y)\n",
    "print(clf.feature_importances_)  "
   ]
  },
  {
   "cell_type": "code",
   "execution_count": 15,
   "metadata": {},
   "outputs": [
    {
     "name": "stdout",
     "output_type": "stream",
     "text": [
      "(649, 2)\n",
      "0.8573749825308472\n",
      "0.883092134029653\n"
     ]
    }
   ],
   "source": [
    "from sklearn.feature_selection import SelectFromModel\n",
    "\n",
    "model = SelectFromModel(clf, prefit=True, threshold=0.05)\n",
    "X_new = model.transform(X)\n",
    "print(X_new.shape)\n",
    "\n",
    "print(np.mean(cross_val_score(KNeighborsClassifier(), X=X, y=y, cv=cv, scoring='f1')))\n",
    "print(np.mean(cross_val_score(KNeighborsClassifier(), X=X_new, y=y, cv=cv, scoring='f1')))"
   ]
  },
  {
   "cell_type": "code",
   "execution_count": 23,
   "metadata": {},
   "outputs": [
    {
     "data": {
      "image/png": "[encoded data removed]",
      "text/plain": [
       "<Figure size 432x288 with 1 Axes>"
      ]
     },
     "metadata": {
      "needs_background": "light"
     },
     "output_type": "display_data"
    },
    {
     "name": "stdout",
     "output_type": "stream",
     "text": [
      "Best threshold:  0.129446291354577\n"
     ]
    }
   ],
   "source": [
    "thresholds=clf.feature_importances_\n",
    "\n",
    "l=[]\n",
    "lparval=[]\n",
    "for threshold in thresholds:\n",
    "    model = SelectFromModel(clf, prefit=True, threshold=threshold)\n",
    "    X_new = model.transform(X)\n",
    "    params = {'n_neighbors':list(range(1,30,2)), 'weights':('distance','uniform')}\n",
    "    knc = KNeighborsClassifier()\n",
    "    clf2 = GridSearchCV(knc, param_grid=params,cv=cv,n_jobs=-1, scoring='f1')\n",
    "    clf2.fit(X, y)\n",
    "    parval=clf2.best_params_\n",
    "    clf3 = KNeighborsClassifier(n_neighbors=parval['n_neighbors'],weights=parval['weights'])\n",
    "    f1_score = np.mean(cross_val_score(clf3, X=X_new, y=y, cv=cv, scoring='f1'))\n",
    "    l.append(f1_score)\n",
    "    lparval.append(parval)\n",
    "    \n",
    "plt.scatter(thresholds,l)\n",
    "plt.xlabel('thresholds')\n",
    "plt.ylabel('F1 score')\n",
    "plt.tight_layout()\n",
    "plt.savefig('feature_importance.png', dpi=600)\n",
    "plt.show()\n",
    "plt.close()\n",
    "\n",
    "print('Best threshold: ',thresholds[np.argmax(l)])"
   ]
  },
  {
   "cell_type": "code",
   "execution_count": 24,
   "metadata": {},
   "outputs": [
    {
     "name": "stdout",
     "output_type": "stream",
     "text": [
      "(649, 1)\n",
      "Original:  0.8785912585742928\n",
      "With FS:  0.8892931264351691\n"
     ]
    }
   ],
   "source": [
    "parval=lparval[np.argmax(l)]\n",
    "model = SelectFromModel(clf, prefit=True, threshold=thresholds[np.argmax(l)])\n",
    "X_new = model.transform(X)\n",
    "print(X_new.shape)\n",
    "\n",
    "print('Original: ', np.mean(cross_val_score(KNeighborsClassifier(n_neighbors=parval['n_neighbors'],\n",
    "                                                                weights=parval['weights']), X=X, y=y, cv=cv, scoring='f1')))\n",
    "print('With FS: ', np.mean(cross_val_score(KNeighborsClassifier(n_neighbors=parval['n_neighbors'],\n",
    "                                                                weights=parval['weights']), X=X_new, y=y, cv=cv, \n",
    "                                           scoring='f1')))"
   ]
  },
  {
   "cell_type": "markdown",
   "metadata": {},
   "source": [
    "## Measures for KNN after Feasure Selection"
   ]
  },
  {
   "cell_type": "code",
   "execution_count": 21,
   "metadata": {},
   "outputs": [
    {
     "name": "stdout",
     "output_type": "stream",
     "text": [
      "Confusion matrix:\n",
      "[[ 71  86]\n",
      " [ 29 463]]\n",
      "Accuracy: 0.8228043143297381\n",
      "F1 score: 0.8895292987512008\n"
     ]
    }
   ],
   "source": [
    "from sklearn.metrics import confusion_matrix\n",
    "from sklearn.metrics import accuracy_score\n",
    "from sklearn.metrics import f1_score\n",
    "from sklearn.model_selection import cross_val_predict\n",
    "knc = KNeighborsClassifier(n_neighbors=parval['n_neighbors'], weights=parval['weights'])\n",
    "knc.fit(X, y)\n",
    "pred = cross_val_predict(knc, X=X_new, y=y, cv=cv)\n",
    "best_confmat = confusion_matrix(y, pred)\n",
    "print(\"Confusion matrix:\")\n",
    "print(best_confmat)\n",
    "print(\"Accuracy: %s\" % accuracy_score(y, pred))\n",
    "print(\"F1 score: %s\" % f1_score(y, pred))\n",
    "fig, ax = plt.subplots(figsize=(2.5, 2.5))\n",
    "ax.matshow(best_confmat, cmap=plt.cm.Blues, alpha=0.3)\n",
    "for i in range(best_confmat.shape[0]):\n",
    "    for j in range(best_confmat.shape[1]):\n",
    "        ax.text(x=j, y=i, s=best_confmat[i, j], va='center', ha='center', fontsize=7)\n",
    "plt.xlabel('Predicted label')\n",
    "plt.ylabel('True label')\n",
    "plt.tight_layout()\n",
    "plt.savefig('ConMatrix_BestModel_KNN_Selection.png', dpi=600)\n",
    "plt.close()"
   ]
  }
 ],
 "metadata": {
  "kernelspec": {
   "display_name": "Python 3",
   "language": "python",
   "name": "python3"
  },
  "language_info": {
   "codemirror_mode": {
    "name": "ipython",
    "version": 3
   },
   "file_extension": ".py",
   "mimetype": "text/x-python",
   "name": "python",
   "nbconvert_exporter": "python",
   "pygments_lexer": "ipython3",
   "version": "3.7.0"
  }
 },
 "nbformat": 4,
 "nbformat_minor": 2
}
