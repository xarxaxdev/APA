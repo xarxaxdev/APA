{
 "cells": [
  {
   "cell_type": "markdown",
   "metadata": {},
   "source": [
    "# APA Laboratori 4 - Sistemes lineals (regularitzats)"
   ]
  },
  {
   "cell_type": "code",
   "execution_count": 1,
   "metadata": {},
   "outputs": [],
   "source": [
    "# Uncomment to upgrade packages\n",
    "# !pip install pandas --upgrade \n",
    "# !pip install numpy --upgrade\n",
    "# !pip install scipy --upgrade\n",
    "# !pip install statsmodels --upgrade\n",
    "# !pip install scikit-learn --upgrade\n",
    "%load_ext autoreload"
   ]
  },
  {
   "cell_type": "code",
   "execution_count": 2,
   "metadata": {},
   "outputs": [],
   "source": [
    "import numpy as np\n",
    "import matplotlib.pyplot as plt\n",
    "import seaborn as sn\n",
    "import pandas as pd\n",
    "pd.set_option('precision', 3)\n",
    "from IPython.core.interactiveshell import InteractiveShell\n",
    "InteractiveShell.ast_node_interactivity = \"all\""
   ]
  },
  {
   "cell_type": "code",
   "execution_count": 3,
   "metadata": {},
   "outputs": [],
   "source": [
    "# Extra imports\n",
    "from numpy.random import normal\n",
    "from numpy.linalg import inv, svd, cond, pinv\n",
    "from statsmodels.genmod.generalized_linear_model import GLM\n",
    "from pandas import read_csv\n",
    "from scipy import stats\n",
    "from sklearn.linear_model import RidgeCV, Ridge\n",
    "from sklearn.linear_model import LassoCV, Lasso"
   ]
  },
  {
   "cell_type": "markdown",
   "metadata": {},
   "source": [
    "veiem que les matrius $A·A^T$ i $A^T·A$ són diferents\n",
    "\n",
    "`1j` es la unitat imaginaria, definim la matriu "
   ]
  },
  {
   "cell_type": "code",
   "execution_count": 4,
   "metadata": {},
   "outputs": [
    {
     "data": {
      "text/plain": [
       "array([[0.+0.j, 0.+1.j],\n",
       "       [0.+0.j, 1.+0.j]])"
      ]
     },
     "execution_count": 4,
     "metadata": {},
     "output_type": "execute_result"
    }
   ],
   "source": [
    "A = np.array([[0,1j],[0,1]])\n",
    "A"
   ]
  },
  {
   "cell_type": "markdown",
   "metadata": {},
   "source": [
    "$A\\cdot A^T$ és la matriu (-1 i; i 1)"
   ]
  },
  {
   "cell_type": "code",
   "execution_count": 5,
   "metadata": {},
   "outputs": [
    {
     "data": {
      "text/plain": [
       "array([[-1.+0.j,  0.+1.j],\n",
       "       [ 0.+1.j,  1.+0.j]])"
      ]
     },
     "execution_count": 5,
     "metadata": {},
     "output_type": "execute_result"
    }
   ],
   "source": [
    "A@A.T  # el simbol @ es la multiplicació de matrius en numpy"
   ]
  },
  {
   "cell_type": "markdown",
   "metadata": {},
   "source": [
    "$A^T \\cdot A$ és la matriu tot zeros"
   ]
  },
  {
   "cell_type": "code",
   "execution_count": 6,
   "metadata": {},
   "outputs": [
    {
     "data": {
      "text/plain": [
       "array([[0.+0.j, 0.+0.j],\n",
       "       [0.+0.j, 0.+0.j]])"
      ]
     },
     "execution_count": 6,
     "metadata": {},
     "output_type": "execute_result"
    }
   ],
   "source": [
    "A.T@A"
   ]
  },
  {
   "cell_type": "markdown",
   "metadata": {},
   "source": [
    "***"
   ]
  },
  {
   "cell_type": "markdown",
   "metadata": {},
   "source": [
    "## EXEMPLE 1"
   ]
  },
  {
   "cell_type": "markdown",
   "metadata": {},
   "source": [
    " Resolució d'un problema artificial senzill\n",
    "\n",
    "\n",
    " Definició del sistema lineal a resoldre\n",
    " \n",
    " $t = f(x) + \\epsilon$\n",
    " \n",
    "on $f(x) = (1 + 1/9)(x-1) + 10$ i $\\epsilon \\sim N(0,1)$"
   ]
  },
  {
   "cell_type": "code",
   "execution_count": 7,
   "metadata": {},
   "outputs": [
    {
     "data": {
      "text/plain": [
       "array([[ 1,  1],\n",
       "       [ 1,  2],\n",
       "       [ 1,  3],\n",
       "       [ 1,  4],\n",
       "       [ 1,  5],\n",
       "       [ 1,  6],\n",
       "       [ 1,  7],\n",
       "       [ 1,  8],\n",
       "       [ 1,  9],\n",
       "       [ 1, 10]])"
      ]
     },
     "execution_count": 7,
     "metadata": {},
     "output_type": "execute_result"
    }
   ],
   "source": [
    "N=10\n",
    "X=np.array([[1]*N,range(1,11)]).T\n",
    "X"
   ]
  },
  {
   "cell_type": "code",
   "execution_count": 8,
   "metadata": {},
   "outputs": [
    {
     "data": {
      "text/plain": [
       "array([ 8.27098422, 10.52270153, 11.57451043, 11.61698802, 13.93946336,\n",
       "       15.27490323, 15.66396609, 19.78918239, 17.59525074, 20.07005656])"
      ]
     },
     "execution_count": 8,
     "metadata": {},
     "output_type": "execute_result"
    }
   ],
   "source": [
    "t= np.linspace(9,20,num=N)+normal(size=N)\n",
    "t"
   ]
  },
  {
   "cell_type": "code",
   "execution_count": 9,
   "metadata": {},
   "outputs": [
    {
     "data": {
      "image/png": "[encoded data removed]",
      "text/plain": [
       "<Figure size 576x576 with 1 Axes>"
      ]
     },
     "metadata": {
      "needs_background": "light"
     },
     "output_type": "display_data"
    }
   ],
   "source": [
    "fig, ax = plt.subplots(figsize=(8,8))\n",
    "ax.plot(X[:,1], t, 'o');"
   ]
  },
  {
   "cell_type": "markdown",
   "metadata": {},
   "source": [
    "\n",
    "### Solució de problemes de mínims quadrats de l'estil \n",
    "\n",
    "$\\min_w || t - Xw ||^2$\n",
    "\n",
    "1) Resolució mitjançant la pseudo-inversa"
   ]
  },
  {
   "cell_type": "markdown",
   "metadata": {},
   "source": [
    "$X^T \\cdot X$"
   ]
  },
  {
   "cell_type": "code",
   "execution_count": 10,
   "metadata": {},
   "outputs": [
    {
     "data": {
      "text/plain": [
       "array([[ 10,  55],\n",
       "       [ 55, 385]])"
      ]
     },
     "execution_count": 10,
     "metadata": {},
     "output_type": "execute_result"
    }
   ],
   "source": [
    "C = X.T @ X\n",
    "C"
   ]
  },
  {
   "cell_type": "markdown",
   "metadata": {},
   "source": [
    "$(X^T \\cdot X)^{-1} \\cdot X^T$"
   ]
  },
  {
   "cell_type": "code",
   "execution_count": 11,
   "metadata": {},
   "outputs": [
    {
     "data": {
      "text/plain": [
       "array([[ 0.4       ,  0.33333333,  0.26666667,  0.2       ,  0.13333333,\n",
       "         0.06666667,  0.        , -0.06666667, -0.13333333, -0.2       ],\n",
       "       [-0.05454545, -0.04242424, -0.03030303, -0.01818182, -0.00606061,\n",
       "         0.00606061,  0.01818182,  0.03030303,  0.04242424,  0.05454545]])"
      ]
     },
     "execution_count": 11,
     "metadata": {},
     "output_type": "execute_result"
    }
   ],
   "source": [
    "X_pseudo = inv(C) @ X.T\n",
    "X_pseudo"
   ]
  },
  {
   "cell_type": "code",
   "execution_count": 12,
   "metadata": {},
   "outputs": [
    {
     "data": {
      "text/plain": [
       "array([[1.00000000e+00, 8.88178420e-16],\n",
       "       [1.38777878e-17, 1.00000000e+00]])"
      ]
     },
     "execution_count": 12,
     "metadata": {},
     "output_type": "execute_result"
    }
   ],
   "source": [
    "X_pseudo @ X # és pseudo-inversa esquerra d'X"
   ]
  },
  {
   "cell_type": "code",
   "execution_count": 13,
   "metadata": {},
   "outputs": [
    {
     "data": {
      "text/plain": [
       "array([7.42349301, 1.27423775])"
      ]
     },
     "execution_count": 13,
     "metadata": {},
     "output_type": "execute_result"
    }
   ],
   "source": [
    "w = X_pseudo @ t\n",
    "w"
   ]
  },
  {
   "cell_type": "code",
   "execution_count": 14,
   "metadata": {},
   "outputs": [
    {
     "data": {
      "image/png": "[encoded data removed]",
      "text/plain": [
       "<Figure size 576x576 with 1 Axes>"
      ]
     },
     "metadata": {
      "needs_background": "light"
     },
     "output_type": "display_data"
    }
   ],
   "source": [
    "fig, ax = plt.subplots(figsize=(8,8))\n",
    "ax.plot(X[:,1], t, 'o');\n",
    "ax.plot(X[:,1], w[0] + X[:,1] * w[1], '-');"
   ]
  },
  {
   "cell_type": "markdown",
   "metadata": {},
   "source": [
    "2) Resolució mitjançant la SVD"
   ]
  },
  {
   "cell_type": "code",
   "execution_count": 15,
   "metadata": {},
   "outputs": [
    {
     "data": {
      "text/plain": [
       "(array([[ 0.0571102 ,  0.58497262],\n",
       "        [ 0.10704739,  0.48685286],\n",
       "        [ 0.15698459,  0.38873309],\n",
       "        [ 0.20692178,  0.29061332],\n",
       "        [ 0.25685898,  0.19249355],\n",
       "        [ 0.30679617,  0.09437379],\n",
       "        [ 0.35673337, -0.00374598],\n",
       "        [ 0.40667056, -0.10186575],\n",
       "        [ 0.45660776, -0.19998551],\n",
       "        [ 0.50654495, -0.29810528]]),\n",
       " array([19.82171108,  1.44905821]),\n",
       " array([[ 0.14218125,  0.98984064],\n",
       "        [ 0.98984064, -0.14218125]]))"
      ]
     },
     "execution_count": 15,
     "metadata": {},
     "output_type": "execute_result"
    }
   ],
   "source": [
    "u, d, v = svd(X, full_matrices=False)\n",
    "u,d,v"
   ]
  },
  {
   "cell_type": "markdown",
   "metadata": {},
   "source": [
    "Les dues columnes d'X són linealment independents, i per tant els dos valors singulars són diferents de 0; en altres paraules, $rang(X) = 2 = min(10,2)$, per tant X és \"full rank\"\n",
    "\n",
    "ara comprovem que $X = U D V^T$"
   ]
  },
  {
   "cell_type": "code",
   "execution_count": 16,
   "metadata": {},
   "outputs": [
    {
     "data": {
      "text/plain": [
       "array([[ 1.,  1.],\n",
       "       [ 1.,  2.],\n",
       "       [ 1.,  3.],\n",
       "       [ 1.,  4.],\n",
       "       [ 1.,  5.],\n",
       "       [ 1.,  6.],\n",
       "       [ 1.,  7.],\n",
       "       [ 1.,  8.],\n",
       "       [ 1.,  9.],\n",
       "       [ 1., 10.]])"
      ]
     },
     "execution_count": 16,
     "metadata": {},
     "output_type": "execute_result"
    }
   ],
   "source": [
    "D = np.diag(d)\n",
    "\n",
    "u @ D @ v.T\n"
   ]
  },
  {
   "cell_type": "markdown",
   "metadata": {},
   "source": [
    "Ara ho apliquem a la solució del problema de mínims quadrats\n",
    "\n",
    "$\\min_w || t - Xw ||^2$"
   ]
  },
  {
   "cell_type": "code",
   "execution_count": 17,
   "metadata": {},
   "outputs": [
    {
     "data": {
      "text/plain": [
       "array([7.42349301, 1.27423775])"
      ]
     },
     "execution_count": 17,
     "metadata": {},
     "output_type": "execute_result"
    }
   ],
   "source": [
    "D = np.diag(1/d)\n",
    "w = v @ D @ u.T @ t\n",
    "w"
   ]
  },
  {
   "cell_type": "markdown",
   "metadata": {},
   "source": [
    "noteu que obtenim la mateixa solució\n",
    "\n",
    "La rutina `glm()` implementa regressió lineal per mínims quadrats si li demanem\n",
    " mitjançant el paràmetre `family = gaussian`"
   ]
  },
  {
   "cell_type": "code",
   "execution_count": 18,
   "metadata": {},
   "outputs": [
    {
     "data": {
      "text/html": [
       "<div>\n",
       "<style scoped>\n",
       "    .dataframe tbody tr th:only-of-type {\n",
       "        vertical-align: middle;\n",
       "    }\n",
       "\n",
       "    .dataframe tbody tr th {\n",
       "        vertical-align: top;\n",
       "    }\n",
       "\n",
       "    .dataframe thead th {\n",
       "        text-align: right;\n",
       "    }\n",
       "</style>\n",
       "<table border=\"1\" class=\"dataframe\">\n",
       "  <thead>\n",
       "    <tr style=\"text-align: right;\">\n",
       "      <th></th>\n",
       "      <th>x1</th>\n",
       "      <th>x2</th>\n",
       "      <th>t</th>\n",
       "    </tr>\n",
       "  </thead>\n",
       "  <tbody>\n",
       "    <tr>\n",
       "      <th>0</th>\n",
       "      <td>1</td>\n",
       "      <td>1</td>\n",
       "      <td>8.271</td>\n",
       "    </tr>\n",
       "    <tr>\n",
       "      <th>1</th>\n",
       "      <td>1</td>\n",
       "      <td>2</td>\n",
       "      <td>10.523</td>\n",
       "    </tr>\n",
       "    <tr>\n",
       "      <th>2</th>\n",
       "      <td>1</td>\n",
       "      <td>3</td>\n",
       "      <td>11.575</td>\n",
       "    </tr>\n",
       "    <tr>\n",
       "      <th>3</th>\n",
       "      <td>1</td>\n",
       "      <td>4</td>\n",
       "      <td>11.617</td>\n",
       "    </tr>\n",
       "    <tr>\n",
       "      <th>4</th>\n",
       "      <td>1</td>\n",
       "      <td>5</td>\n",
       "      <td>13.939</td>\n",
       "    </tr>\n",
       "    <tr>\n",
       "      <th>5</th>\n",
       "      <td>1</td>\n",
       "      <td>6</td>\n",
       "      <td>15.275</td>\n",
       "    </tr>\n",
       "    <tr>\n",
       "      <th>6</th>\n",
       "      <td>1</td>\n",
       "      <td>7</td>\n",
       "      <td>15.664</td>\n",
       "    </tr>\n",
       "    <tr>\n",
       "      <th>7</th>\n",
       "      <td>1</td>\n",
       "      <td>8</td>\n",
       "      <td>19.789</td>\n",
       "    </tr>\n",
       "    <tr>\n",
       "      <th>8</th>\n",
       "      <td>1</td>\n",
       "      <td>9</td>\n",
       "      <td>17.595</td>\n",
       "    </tr>\n",
       "    <tr>\n",
       "      <th>9</th>\n",
       "      <td>1</td>\n",
       "      <td>10</td>\n",
       "      <td>20.070</td>\n",
       "    </tr>\n",
       "  </tbody>\n",
       "</table>\n",
       "</div>"
      ],
      "text/plain": [
       "   x1  x2       t\n",
       "0   1   1   8.271\n",
       "1   1   2  10.523\n",
       "2   1   3  11.575\n",
       "3   1   4  11.617\n",
       "4   1   5  13.939\n",
       "5   1   6  15.275\n",
       "6   1   7  15.664\n",
       "7   1   8  19.789\n",
       "8   1   9  17.595\n",
       "9   1  10  20.070"
      ]
     },
     "execution_count": 18,
     "metadata": {},
     "output_type": "execute_result"
    }
   ],
   "source": [
    "mostra = pd.DataFrame({'x1':X[:,0], 'x2':X[:,1],'t':t})\n",
    "mostra"
   ]
  },
  {
   "cell_type": "markdown",
   "metadata": {},
   "source": [
    " Noteu que glm sempre afegeix un terme *intercept* o *offset* (un regressor constant 1) per defecte, així que tenim dues opcions:"
   ]
  },
  {
   "cell_type": "markdown",
   "metadata": {},
   "source": [
    " 1) desactivar-lo (el \"-1\" a la fòrmula següent) i usar la nostra pròpia columna de 1's"
   ]
  },
  {
   "cell_type": "code",
   "execution_count": 19,
   "metadata": {},
   "outputs": [],
   "source": [
    "model1 = GLM.from_formula('t ~ x2 + x1 -1', mostra)\n",
    "result = model1.fit()"
   ]
  },
  {
   "cell_type": "markdown",
   "metadata": {},
   "source": [
    "2) usar la que glm ja posa (recomanat) i desactivar la nostra pròpia columna de 1's"
   ]
  },
  {
   "cell_type": "code",
   "execution_count": 20,
   "metadata": {},
   "outputs": [],
   "source": [
    "model2 = GLM.from_formula('t ~ x2', mostra)\n",
    "result = model2.fit()"
   ]
  },
  {
   "cell_type": "markdown",
   "metadata": {},
   "source": [
    " Els coefficients (el vector w)"
   ]
  },
  {
   "cell_type": "code",
   "execution_count": 21,
   "metadata": {},
   "outputs": [
    {
     "data": {
      "text/plain": [
       "Intercept    7.423\n",
       "x2           1.274\n",
       "dtype: float64"
      ]
     },
     "execution_count": 21,
     "metadata": {},
     "output_type": "execute_result"
    }
   ],
   "source": [
    "result.params"
   ]
  },
  {
   "cell_type": "markdown",
   "metadata": {},
   "source": [
    "** Per què la SVD?**"
   ]
  },
  {
   "cell_type": "markdown",
   "metadata": {},
   "source": [
    "  a. En formar la matriu $X^T X$ es pot perdre informació"
   ]
  },
  {
   "cell_type": "code",
   "execution_count": 22,
   "metadata": {},
   "outputs": [
    {
     "data": {
      "text/plain": [
       "array([[1.   , 1.   ],\n",
       "       [0.001, 0.   ],\n",
       "       [0.   , 0.001]])"
      ]
     },
     "execution_count": 22,
     "metadata": {},
     "output_type": "execute_result"
    }
   ],
   "source": [
    "eps = 1e-3\n",
    "X_eps = np.array([[1,1],[eps,0],[0,eps]])\n",
    "X_eps"
   ]
  },
  {
   "cell_type": "code",
   "execution_count": 23,
   "metadata": {},
   "outputs": [
    {
     "data": {
      "text/plain": [
       "array([[1.000001, 1.      ],\n",
       "       [1.      , 1.000001]])"
      ]
     },
     "execution_count": 23,
     "metadata": {},
     "output_type": "execute_result"
    }
   ],
   "source": [
    "C_eps = X_eps.T @ X_eps\n",
    "C_eps"
   ]
  },
  {
   "cell_type": "code",
   "execution_count": 24,
   "metadata": {},
   "outputs": [
    {
     "data": {
      "text/plain": [
       "array([[ 500000.25003573, -499999.75003598],\n",
       "       [-499999.75003598,  500000.25003573]])"
      ]
     },
     "execution_count": 24,
     "metadata": {},
     "output_type": "execute_result"
    }
   ],
   "source": [
    "inv(C_eps)# comencem a tenir problemes ..."
   ]
  },
  {
   "cell_type": "code",
   "execution_count": 25,
   "metadata": {},
   "outputs": [
    {
     "data": {
      "text/plain": [
       "array([[1.e+00, 1.e+00],\n",
       "       [1.e-10, 0.e+00],\n",
       "       [0.e+00, 1.e-10]])"
      ]
     },
     "execution_count": 25,
     "metadata": {},
     "output_type": "execute_result"
    }
   ],
   "source": [
    "eps = 1e-10\n",
    "X_eps = np.array([[1,1],[eps,0],[0,eps]])\n",
    "X_eps"
   ]
  },
  {
   "cell_type": "code",
   "execution_count": 26,
   "metadata": {},
   "outputs": [
    {
     "data": {
      "text/plain": [
       "array([[1., 1.],\n",
       "       [1., 1.]])"
      ]
     },
     "execution_count": 26,
     "metadata": {},
     "output_type": "execute_result"
    }
   ],
   "source": [
    "C_eps = X_eps.T @ X_eps\n",
    "C_eps"
   ]
  },
  {
   "cell_type": "code",
   "execution_count": 27,
   "metadata": {},
   "outputs": [
    {
     "ename": "LinAlgError",
     "evalue": "Singular matrix",
     "output_type": "error",
     "traceback": [
      "\u001b[0;31m---------------------------------------------------------------------------\u001b[0m",
      "\u001b[0;31mLinAlgError\u001b[0m                               Traceback (most recent call last)",
      "\u001b[0;32m<ipython-input-27-3e489997295d>\u001b[0m in \u001b[0;36m<module>\u001b[0;34m()\u001b[0m\n\u001b[0;32m----> 1\u001b[0;31m \u001b[0minv\u001b[0m\u001b[0;34m(\u001b[0m\u001b[0mC_eps\u001b[0m\u001b[0;34m)\u001b[0m\u001b[0;31m# dóna error (la matriu 2x2 \"tot uns\" és singular)\u001b[0m\u001b[0;34m\u001b[0m\u001b[0m\n\u001b[0m",
      "\u001b[0;32m/usr/local/lib64/python3.6/site-packages/numpy/linalg/linalg.py\u001b[0m in \u001b[0;36minv\u001b[0;34m(a)\u001b[0m\n\u001b[1;32m    530\u001b[0m     \u001b[0msignature\u001b[0m \u001b[0;34m=\u001b[0m \u001b[0;34m'D->D'\u001b[0m \u001b[0;32mif\u001b[0m \u001b[0misComplexType\u001b[0m\u001b[0;34m(\u001b[0m\u001b[0mt\u001b[0m\u001b[0;34m)\u001b[0m \u001b[0;32melse\u001b[0m \u001b[0;34m'd->d'\u001b[0m\u001b[0;34m\u001b[0m\u001b[0m\n\u001b[1;32m    531\u001b[0m     \u001b[0mextobj\u001b[0m \u001b[0;34m=\u001b[0m \u001b[0mget_linalg_error_extobj\u001b[0m\u001b[0;34m(\u001b[0m\u001b[0m_raise_linalgerror_singular\u001b[0m\u001b[0;34m)\u001b[0m\u001b[0;34m\u001b[0m\u001b[0m\n\u001b[0;32m--> 532\u001b[0;31m     \u001b[0mainv\u001b[0m \u001b[0;34m=\u001b[0m \u001b[0m_umath_linalg\u001b[0m\u001b[0;34m.\u001b[0m\u001b[0minv\u001b[0m\u001b[0;34m(\u001b[0m\u001b[0ma\u001b[0m\u001b[0;34m,\u001b[0m \u001b[0msignature\u001b[0m\u001b[0;34m=\u001b[0m\u001b[0msignature\u001b[0m\u001b[0;34m,\u001b[0m \u001b[0mextobj\u001b[0m\u001b[0;34m=\u001b[0m\u001b[0mextobj\u001b[0m\u001b[0;34m)\u001b[0m\u001b[0;34m\u001b[0m\u001b[0m\n\u001b[0m\u001b[1;32m    533\u001b[0m     \u001b[0;32mreturn\u001b[0m \u001b[0mwrap\u001b[0m\u001b[0;34m(\u001b[0m\u001b[0mainv\u001b[0m\u001b[0;34m.\u001b[0m\u001b[0mastype\u001b[0m\u001b[0;34m(\u001b[0m\u001b[0mresult_t\u001b[0m\u001b[0;34m,\u001b[0m \u001b[0mcopy\u001b[0m\u001b[0;34m=\u001b[0m\u001b[0;32mFalse\u001b[0m\u001b[0;34m)\u001b[0m\u001b[0;34m)\u001b[0m\u001b[0;34m\u001b[0m\u001b[0m\n\u001b[1;32m    534\u001b[0m \u001b[0;34m\u001b[0m\u001b[0m\n",
      "\u001b[0;32m/usr/local/lib64/python3.6/site-packages/numpy/linalg/linalg.py\u001b[0m in \u001b[0;36m_raise_linalgerror_singular\u001b[0;34m(err, flag)\u001b[0m\n\u001b[1;32m     87\u001b[0m \u001b[0;34m\u001b[0m\u001b[0m\n\u001b[1;32m     88\u001b[0m \u001b[0;32mdef\u001b[0m \u001b[0m_raise_linalgerror_singular\u001b[0m\u001b[0;34m(\u001b[0m\u001b[0merr\u001b[0m\u001b[0;34m,\u001b[0m \u001b[0mflag\u001b[0m\u001b[0;34m)\u001b[0m\u001b[0;34m:\u001b[0m\u001b[0;34m\u001b[0m\u001b[0m\n\u001b[0;32m---> 89\u001b[0;31m     \u001b[0;32mraise\u001b[0m \u001b[0mLinAlgError\u001b[0m\u001b[0;34m(\u001b[0m\u001b[0;34m\"Singular matrix\"\u001b[0m\u001b[0;34m)\u001b[0m\u001b[0;34m\u001b[0m\u001b[0m\n\u001b[0m\u001b[1;32m     90\u001b[0m \u001b[0;34m\u001b[0m\u001b[0m\n\u001b[1;32m     91\u001b[0m \u001b[0;32mdef\u001b[0m \u001b[0m_raise_linalgerror_nonposdef\u001b[0m\u001b[0;34m(\u001b[0m\u001b[0merr\u001b[0m\u001b[0;34m,\u001b[0m \u001b[0mflag\u001b[0m\u001b[0;34m)\u001b[0m\u001b[0;34m:\u001b[0m\u001b[0;34m\u001b[0m\u001b[0m\n",
      "\u001b[0;31mLinAlgError\u001b[0m: Singular matrix"
     ]
    }
   ],
   "source": [
    "inv(C_eps)# dóna error (la matriu 2x2 \"tot uns\" és singular)"
   ]
  },
  {
   "cell_type": "markdown",
   "metadata": {},
   "source": [
    " (el determinant és 1·1 - 1·1 = 0)\n",
    "\n",
    " però no ho hauria de ser ... aquesta no és la nostra matriu ...\n",
    " el problema és que l'operacio $X^T$ X fa perdre molta precissió numèrica (hem perdut epsilon)"
   ]
  },
  {
   "cell_type": "markdown",
   "metadata": {},
   "source": [
    "b. El número de condició d'una matriu\n",
    "\n",
    " El número de condició d'una matriu és el producte entre la norma de la matriu\n",
    " i la norma de la seva inversa\n",
    " Dóna una indicació de l'exactitud dels resultats de la inversió d'una matriu\n",
    " Valors prop d'1 indiquen una matriu ben condicionada\n",
    "\n",
    " El número de condició de la matriu $X^T X$ és el quadrat del de la matriu $X$\n",
    "\n",
    " Incidentalment, el número de condició corresponent a usar la norma-2 equival al quocient entre el valor singular més gran i el més petit (no nul) de la matriu\n",
    "\n",
    " La rutina `cond()` calcula el número de condició"
   ]
  },
  {
   "cell_type": "code",
   "execution_count": 28,
   "metadata": {},
   "outputs": [
    {
     "data": {
      "text/plain": [
       "13.679030222900371"
      ]
     },
     "execution_count": 28,
     "metadata": {},
     "output_type": "execute_result"
    },
    {
     "data": {
      "text/plain": [
       "187.1158678390236"
      ]
     },
     "execution_count": 28,
     "metadata": {},
     "output_type": "execute_result"
    }
   ],
   "source": [
    "cond(X)\n",
    "cond(X.T @ X)"
   ]
  },
  {
   "cell_type": "markdown",
   "metadata": {},
   "source": [
    "veiem-ho amb un exemple:"
   ]
  },
  {
   "cell_type": "code",
   "execution_count": 29,
   "metadata": {},
   "outputs": [
    {
     "data": {
      "text/plain": [
       "array([[  1., 101.],\n",
       "       [  1., 102.],\n",
       "       [  1., 103.],\n",
       "       [  1., 104.],\n",
       "       [  1., 105.],\n",
       "       [  1., 106.],\n",
       "       [  1., 107.],\n",
       "       [  1., 108.],\n",
       "       [  1., 109.],\n",
       "       [  1., 110.]])"
      ]
     },
     "execution_count": 29,
     "metadata": {},
     "output_type": "execute_result"
    }
   ],
   "source": [
    "X= np.array([[1]*N, np.linspace(101,110,num=10)]).T\n",
    "X"
   ]
  },
  {
   "cell_type": "code",
   "execution_count": 30,
   "metadata": {},
   "outputs": [
    {
     "data": {
      "text/plain": [
       "3878.275839190437"
      ]
     },
     "execution_count": 30,
     "metadata": {},
     "output_type": "execute_result"
    },
    {
     "data": {
      "text/plain": [
       "15041023.484257316"
      ]
     },
     "execution_count": 30,
     "metadata": {},
     "output_type": "execute_result"
    }
   ],
   "source": [
    "cond(X)\n",
    "cond(X.T @ X)"
   ]
  },
  {
   "cell_type": "markdown",
   "metadata": {},
   "source": [
    "Una solució molt senzilla és centrar la segona columna:"
   ]
  },
  {
   "cell_type": "code",
   "execution_count": 31,
   "metadata": {},
   "outputs": [
    {
     "data": {
      "text/plain": [
       "array([[ 1. , -4.5],\n",
       "       [ 1. , -3.5],\n",
       "       [ 1. , -2.5],\n",
       "       [ 1. , -1.5],\n",
       "       [ 1. , -0.5],\n",
       "       [ 1. ,  0.5],\n",
       "       [ 1. ,  1.5],\n",
       "       [ 1. ,  2.5],\n",
       "       [ 1. ,  3.5],\n",
       "       [ 1. ,  4.5]])"
      ]
     },
     "execution_count": 31,
     "metadata": {},
     "output_type": "execute_result"
    }
   ],
   "source": [
    "X= np.array([[1]*N, np.linspace(101,110,num=10)]).T\n",
    "X[:,1] = X[:,1] - np.mean(X[:,1])\n",
    "X"
   ]
  },
  {
   "cell_type": "code",
   "execution_count": 32,
   "metadata": {},
   "outputs": [
    {
     "data": {
      "text/plain": [
       "2.8722813232690134"
      ]
     },
     "execution_count": 32,
     "metadata": {},
     "output_type": "execute_result"
    },
    {
     "data": {
      "text/plain": [
       "8.25"
      ]
     },
     "execution_count": 32,
     "metadata": {},
     "output_type": "execute_result"
    }
   ],
   "source": [
    "cond(X)\n",
    "cond(X.T @ X)"
   ]
  },
  {
   "cell_type": "markdown",
   "metadata": {},
   "source": [
    "Hi ha una relació senzilla entre els dos sistems lineals; en altres paraules, podem \"post-processar els coeficients de sortida perquè corresponguin a la matriu inicial\n",
    "\n",
    " Nota: hi ha una rutina que calcula directament la pseudo-inversa (ho fa via la SVD):"
   ]
  },
  {
   "cell_type": "code",
   "execution_count": 33,
   "metadata": {},
   "outputs": [
    {
     "data": {
      "text/plain": [
       "array([[ 0.1       ,  0.1       ,  0.1       ,  0.1       ,  0.1       ,\n",
       "         0.1       ,  0.1       ,  0.1       ,  0.1       ,  0.1       ],\n",
       "       [-0.05454545, -0.04242424, -0.03030303, -0.01818182, -0.00606061,\n",
       "         0.00606061,  0.01818182,  0.03030303,  0.04242424,  0.05454545]])"
      ]
     },
     "execution_count": 33,
     "metadata": {},
     "output_type": "execute_result"
    }
   ],
   "source": [
    "pinv(X)"
   ]
  },
  {
   "cell_type": "markdown",
   "metadata": {},
   "source": [
    "***"
   ]
  },
  {
   "cell_type": "markdown",
   "metadata": {},
   "source": [
    "## EXEMPLE 2"
   ]
  },
  {
   "cell_type": "markdown",
   "metadata": {},
   "source": [
    " Anem a analitzar dades de greix corporal\n",
    " mitjançant regressió normal i ridge (regularitzada)\n"
   ]
  },
  {
   "cell_type": "code",
   "execution_count": 34,
   "metadata": {},
   "outputs": [
    {
     "data": {
      "text/html": [
       "<div>\n",
       "<style scoped>\n",
       "    .dataframe tbody tr th:only-of-type {\n",
       "        vertical-align: middle;\n",
       "    }\n",
       "\n",
       "    .dataframe tbody tr th {\n",
       "        vertical-align: top;\n",
       "    }\n",
       "\n",
       "    .dataframe thead th {\n",
       "        text-align: right;\n",
       "    }\n",
       "</style>\n",
       "<table border=\"1\" class=\"dataframe\">\n",
       "  <thead>\n",
       "    <tr style=\"text-align: right;\">\n",
       "      <th></th>\n",
       "      <th>triceps</th>\n",
       "      <th>thigh</th>\n",
       "      <th>midarm</th>\n",
       "      <th>bodyfat</th>\n",
       "    </tr>\n",
       "  </thead>\n",
       "  <tbody>\n",
       "    <tr>\n",
       "      <th>count</th>\n",
       "      <td>20.000</td>\n",
       "      <td>20.000</td>\n",
       "      <td>20.000</td>\n",
       "      <td>20.000</td>\n",
       "    </tr>\n",
       "    <tr>\n",
       "      <th>mean</th>\n",
       "      <td>25.305</td>\n",
       "      <td>51.170</td>\n",
       "      <td>27.620</td>\n",
       "      <td>20.195</td>\n",
       "    </tr>\n",
       "    <tr>\n",
       "      <th>std</th>\n",
       "      <td>5.023</td>\n",
       "      <td>5.235</td>\n",
       "      <td>3.647</td>\n",
       "      <td>5.106</td>\n",
       "    </tr>\n",
       "    <tr>\n",
       "      <th>min</th>\n",
       "      <td>14.600</td>\n",
       "      <td>42.200</td>\n",
       "      <td>21.300</td>\n",
       "      <td>11.700</td>\n",
       "    </tr>\n",
       "    <tr>\n",
       "      <th>25%</th>\n",
       "      <td>21.500</td>\n",
       "      <td>47.775</td>\n",
       "      <td>24.750</td>\n",
       "      <td>17.050</td>\n",
       "    </tr>\n",
       "    <tr>\n",
       "      <th>50%</th>\n",
       "      <td>25.550</td>\n",
       "      <td>52.000</td>\n",
       "      <td>27.900</td>\n",
       "      <td>21.200</td>\n",
       "    </tr>\n",
       "    <tr>\n",
       "      <th>75%</th>\n",
       "      <td>29.900</td>\n",
       "      <td>54.625</td>\n",
       "      <td>30.025</td>\n",
       "      <td>24.275</td>\n",
       "    </tr>\n",
       "    <tr>\n",
       "      <th>max</th>\n",
       "      <td>31.400</td>\n",
       "      <td>58.600</td>\n",
       "      <td>37.000</td>\n",
       "      <td>27.200</td>\n",
       "    </tr>\n",
       "  </tbody>\n",
       "</table>\n",
       "</div>"
      ],
      "text/plain": [
       "       triceps   thigh  midarm  bodyfat\n",
       "count   20.000  20.000  20.000   20.000\n",
       "mean    25.305  51.170  27.620   20.195\n",
       "std      5.023   5.235   3.647    5.106\n",
       "min     14.600  42.200  21.300   11.700\n",
       "25%     21.500  47.775  24.750   17.050\n",
       "50%     25.550  52.000  27.900   21.200\n",
       "75%     29.900  54.625  30.025   24.275\n",
       "max     31.400  58.600  37.000   27.200"
      ]
     },
     "execution_count": 34,
     "metadata": {},
     "output_type": "execute_result"
    }
   ],
   "source": [
    "bodyfat_data = read_csv(\"bodyfatdata.txt\", \n",
    "                        delim_whitespace=True, \n",
    "                        names=['triceps', 'thigh', 'midarm', 'bodyfat'])\n",
    "bodyfat_data.describe()\n",
    "N=bodyfat_data.shape[0]"
   ]
  },
  {
   "cell_type": "markdown",
   "metadata": {},
   "source": [
    " let us start with standard linear regression"
   ]
  },
  {
   "cell_type": "code",
   "execution_count": 35,
   "metadata": {},
   "outputs": [
    {
     "data": {
      "text/html": [
       "<table class=\"simpletable\">\n",
       "<caption>Generalized Linear Model Regression Results</caption>\n",
       "<tr>\n",
       "  <th>Dep. Variable:</th>       <td>bodyfat</td>     <th>  No. Observations:  </th>  <td>    20</td>  \n",
       "</tr>\n",
       "<tr>\n",
       "  <th>Model:</th>                 <td>GLM</td>       <th>  Df Residuals:      </th>  <td>    16</td>  \n",
       "</tr>\n",
       "<tr>\n",
       "  <th>Model Family:</th>       <td>Gaussian</td>     <th>  Df Model:          </th>  <td>     3</td>  \n",
       "</tr>\n",
       "<tr>\n",
       "  <th>Link Function:</th>      <td>identity</td>     <th>  Scale:             </th> <td>  6.1503</td> \n",
       "</tr>\n",
       "<tr>\n",
       "  <th>Method:</th>               <td>IRLS</td>       <th>  Log-Likelihood:    </th> <td> -44.312</td> \n",
       "</tr>\n",
       "<tr>\n",
       "  <th>Date:</th>           <td>Thu, 06 Sep 2018</td> <th>  Deviance:          </th> <td>  98.405</td> \n",
       "</tr>\n",
       "<tr>\n",
       "  <th>Time:</th>               <td>14:33:55</td>     <th>  Pearson chi2:      </th>  <td>  98.4</td>  \n",
       "</tr>\n",
       "<tr>\n",
       "  <th>No. Iterations:</th>         <td>3</td>        <th>  Covariance Type:   </th> <td>nonrobust</td>\n",
       "</tr>\n",
       "</table>\n",
       "<table class=\"simpletable\">\n",
       "<tr>\n",
       "      <td></td>         <th>coef</th>     <th>std err</th>      <th>z</th>      <th>P>|z|</th>  <th>[0.025</th>    <th>0.975]</th>  \n",
       "</tr>\n",
       "<tr>\n",
       "  <th>Intercept</th> <td>  117.0847</td> <td>   99.782</td> <td>    1.173</td> <td> 0.241</td> <td>  -78.485</td> <td>  312.655</td>\n",
       "</tr>\n",
       "<tr>\n",
       "  <th>triceps</th>   <td>    4.3341</td> <td>    3.016</td> <td>    1.437</td> <td> 0.151</td> <td>   -1.576</td> <td>   10.244</td>\n",
       "</tr>\n",
       "<tr>\n",
       "  <th>thigh</th>     <td>   -2.8568</td> <td>    2.582</td> <td>   -1.106</td> <td> 0.269</td> <td>   -7.918</td> <td>    2.204</td>\n",
       "</tr>\n",
       "<tr>\n",
       "  <th>midarm</th>    <td>   -2.1861</td> <td>    1.595</td> <td>   -1.370</td> <td> 0.171</td> <td>   -5.313</td> <td>    0.941</td>\n",
       "</tr>\n",
       "</table>"
      ],
      "text/plain": [
       "<class 'statsmodels.iolib.summary.Summary'>\n",
       "\"\"\"\n",
       "                 Generalized Linear Model Regression Results                  \n",
       "==============================================================================\n",
       "Dep. Variable:                bodyfat   No. Observations:                   20\n",
       "Model:                            GLM   Df Residuals:                       16\n",
       "Model Family:                Gaussian   Df Model:                            3\n",
       "Link Function:               identity   Scale:                          6.1503\n",
       "Method:                          IRLS   Log-Likelihood:                -44.312\n",
       "Date:                Thu, 06 Sep 2018   Deviance:                       98.405\n",
       "Time:                        14:33:55   Pearson chi2:                     98.4\n",
       "No. Iterations:                     3   Covariance Type:             nonrobust\n",
       "==============================================================================\n",
       "                 coef    std err          z      P>|z|      [0.025      0.975]\n",
       "------------------------------------------------------------------------------\n",
       "Intercept    117.0847     99.782      1.173      0.241     -78.485     312.655\n",
       "triceps        4.3341      3.016      1.437      0.151      -1.576      10.244\n",
       "thigh         -2.8568      2.582     -1.106      0.269      -7.918       2.204\n",
       "midarm        -2.1861      1.595     -1.370      0.171      -5.313       0.941\n",
       "==============================================================================\n",
       "\"\"\""
      ]
     },
     "execution_count": 35,
     "metadata": {},
     "output_type": "execute_result"
    }
   ],
   "source": [
    "model = GLM.from_formula('bodyfat ~ triceps + thigh + midarm', bodyfat_data)\n",
    "result = model.fit()\n",
    "result.summary()"
   ]
  },
  {
   "cell_type": "markdown",
   "metadata": {},
   "source": [
    " How to read this output:\n",
    "\n",
    " $x = (1,triceps, thigh, midarm)^T$\n",
    "\n",
    "$w = (117.085, 4.334, -2.857, -2.186)^T$\n",
    "\n",
    " the model is $y(x; w) = w^T x = 117.085 + 4.334*triceps -2.857*thigh -2.186*midarm$\n",
    "\n",
    " The residuals are the differences $(t_n - y(x_n; w)), n = 1,\\dots N$\n",
    " \n",
    " let's inspect `model$residuals`"
   ]
  },
  {
   "cell_type": "code",
   "execution_count": 36,
   "metadata": {},
   "outputs": [
    {
     "name": "stderr",
     "output_type": "stream",
     "text": [
      "/usr/lib64/python3.6/site-packages/scipy/stats/stats.py:1706: FutureWarning: Using a non-tuple sequence for multidimensional indexing is deprecated; use `arr[tuple(seq)]` instead of `arr[seq]`. In the future this will be interpreted as an array index, `arr[np.array(seq)]`, which will result either in an error or a different result.\n",
      "  return np.add.reduce(sorted[indexer] * weights, axis=axis) / sumval\n"
     ]
    },
    {
     "data": {
      "image/png": "[encoded data removed]",
      "text/plain": [
       "<Figure size 576x576 with 1 Axes>"
      ]
     },
     "metadata": {
      "needs_background": "light"
     },
     "output_type": "display_data"
    }
   ],
   "source": [
    "fig, ax = plt.subplots(figsize=(8,8))\n",
    "ax.set_xlim([-5,5])\n",
    "sn.distplot(result.resid_response,bins=9);"
   ]
  },
  {
   "cell_type": "markdown",
   "metadata": {},
   "source": [
    " Do the residuals look Gaussian? this is direct indication of model validity\n",
    " (since it was our departing assumption)\n",
    "\n",
    " Let's do a more informative plot (a QQ-plot), which plots actual quantiles\n",
    " against theoretical quantiles of a comparison distribution (Gaussian in this case)"
   ]
  },
  {
   "cell_type": "code",
   "execution_count": 37,
   "metadata": {},
   "outputs": [
    {
     "data": {
      "image/png": "[encoded data removed]",
      "text/plain": [
       "<Figure size 576x576 with 1 Axes>"
      ]
     },
     "metadata": {
      "needs_background": "light"
     },
     "output_type": "display_data"
    }
   ],
   "source": [
    "fig, ax = plt.subplots(figsize=(8,8))\n",
    "stats.probplot(result.resid_response, plot=plt);"
   ]
  },
  {
   "cell_type": "markdown",
   "metadata": {},
   "source": [
    " The solid line corresponds to the theoretical quantiles\n",
    " therefore in this case the residuals are not even close \n",
    " (the tails are heavier, the central part is flatter)\n",
    "\n",
    " This is how we can compute the mean square error"
   ]
  },
  {
   "cell_type": "code",
   "execution_count": 38,
   "metadata": {},
   "outputs": [
    {
     "data": {
      "text/plain": [
       "4.92024440837829"
      ]
     },
     "execution_count": 38,
     "metadata": {},
     "output_type": "execute_result"
    }
   ],
   "source": [
    "prediction = result.predict(bodyfat_data.loc[:,'triceps':'midarm'])\n",
    "mean_square_error = np.sum((bodyfat_data.bodyfat - prediction)**2)/N\n",
    "mean_square_error"
   ]
  },
  {
   "cell_type": "markdown",
   "metadata": {},
   "source": [
    " Is this number large or small? it depends on the magnitude of the targets!\n",
    " a very good practice is to normalise it, by dividing by the variance of the target:"
   ]
  },
  {
   "cell_type": "code",
   "execution_count": 39,
   "metadata": {},
   "outputs": [
    {
     "data": {
      "text/plain": [
       "0.2090962622501365"
      ]
     },
     "execution_count": 39,
     "metadata": {},
     "output_type": "execute_result"
    }
   ],
   "source": [
    "norm_mse = np.sum((bodyfat_data.bodyfat - prediction)**2) /  \\\n",
    "                  ((N-1)*np.var(bodyfat_data.bodyfat))\n",
    "norm_mse"
   ]
  },
  {
   "cell_type": "markdown",
   "metadata": {},
   "source": [
    " If we divide the mean square error by the variance of the targets t,\n",
    " we get the proportion of the variability of the target that is NOT explained by the model\n",
    "\n",
    " A model with 'norm.mse' equal to 1 is as good as the best constant model\n",
    " (namely, the model that always outputs the average of the target)\n",
    "\n",
    " models with 'norm.mse' above 0.5 are so so, beyond 0.7 they begin to be quite bad\n",
    "\n",
    " models with 'norm.mse' below 0.2 are quite good\n",
    "\n",
    " The Multiple R-squared (usually used by statisticians) is obtained by subtracting this quantity form one; that is, the proportion of the target variability that is explained by the model; in this case it reaches ~80%"
   ]
  },
  {
   "cell_type": "code",
   "execution_count": 40,
   "metadata": {},
   "outputs": [
    {
     "data": {
      "text/plain": [
       "79.09037377498636"
      ]
     },
     "execution_count": 40,
     "metadata": {},
     "output_type": "execute_result"
    }
   ],
   "source": [
    "R_squared = (1 - norm_mse)*100\n",
    "R_squared"
   ]
  },
  {
   "cell_type": "markdown",
   "metadata": {},
   "source": [
    " The \"adjusted R-squared\" is the same thing, but adjusted for the complexity of the model,\n",
    " i.e. the number of parameters (three in our case)\n",
    "\n",
    " Now let us try to see how are the real predictions by plotting the real predictions against the targets:"
   ]
  },
  {
   "cell_type": "code",
   "execution_count": 41,
   "metadata": {},
   "outputs": [
    {
     "data": {
      "image/png": "[encoded data removed]",
      "text/plain": [
       "<Figure size 576x576 with 1 Axes>"
      ]
     },
     "metadata": {
      "needs_background": "light"
     },
     "output_type": "display_data"
    }
   ],
   "source": [
    "fig, ax = plt.subplots(figsize=(8,8))\n",
    "plt.plot(bodyfat_data.bodyfat,prediction,'o')\n",
    "ax.set_xlabel('Bodyfat')\n",
    "ax.set_ylabel('Predicion');"
   ]
  },
  {
   "cell_type": "markdown",
   "metadata": {},
   "source": [
    " It is difficult to see if the model is a good predictor; what we need is a\n",
    " numerical assessment of predictive ability. We compute the exact LOOCV as seen in class:\n",
    " \n",
    " $LOOCV = \\frac{1}{N} \\sum_{i=1}^{N} \\left(\\frac{y_i - \\hat{y}_i}{1-h_i}\\right)^2$\n",
    " \n",
    " where $H = X (X^TX)^{-1}X^T$ and $h_i = diag(H)_i$"
   ]
  },
  {
   "cell_type": "code",
   "execution_count": 42,
   "metadata": {},
   "outputs": [
    {
     "data": {
      "text/plain": [
       "8.036828037162582"
      ]
     },
     "execution_count": 42,
     "metadata": {},
     "output_type": "execute_result"
    }
   ],
   "source": [
    "H= np.diag(model.exog@inv(model.exog.T@model.exog)@model.exog.T)\n",
    "\n",
    "LOOCV = np.sum( (result.resid_response/(1-H))**2) / N\n",
    "LOOCV"
   ]
  },
  {
   "cell_type": "markdown",
   "metadata": {},
   "source": [
    " and the corresponding predictive R-square "
   ]
  },
  {
   "cell_type": "code",
   "execution_count": 43,
   "metadata": {},
   "outputs": [
    {
     "data": {
      "text/plain": [
       "65.8457880658071"
      ]
     },
     "execution_count": 43,
     "metadata": {},
     "output_type": "execute_result"
    }
   ],
   "source": [
    "R2_LOOCV = (1 - LOOCV*N/((N-1)*np.var(bodyfat_data.bodyfat)))*100\n",
    "R2_LOOCV"
   ]
  },
  {
   "cell_type": "markdown",
   "metadata": {},
   "source": [
    " we can see that prediction quality is not as good as it seemed (since CV error is worse than training error)\n",
    "\n",
    " this last number is the one I recommend to do model selection!!!"
   ]
  },
  {
   "cell_type": "markdown",
   "metadata": {},
   "source": [
    "***"
   ]
  },
  {
   "cell_type": "markdown",
   "metadata": {},
   "source": [
    " Let us continue now with *regularized linear regression* (aka ridge regression)\n",
    " this time we need to use scikit-learn RidgeCV\n",
    "\n",
    " We must first choose a value for lambda (the regularization constant)\n",
    " there are several criteria to do this, the most used of which is the GCV\n",
    " so we optimize the GCV for several values of lambda in a sequence"
   ]
  },
  {
   "cell_type": "markdown",
   "metadata": {},
   "source": [
    "notice we start with a wide logarithmic search"
   ]
  },
  {
   "cell_type": "code",
   "execution_count": 44,
   "metadata": {},
   "outputs": [
    {
     "name": "stdout",
     "output_type": "stream",
     "text": [
      "LAMBDA= 0.0019952623149688256\n"
     ]
    }
   ],
   "source": [
    "lambdas = 10**np.arange(-6,2,0.1)\n",
    "ridge = RidgeCV(alphas=lambdas,normalize=True)\n",
    "ridge.fit(bodyfat_data.loc[:,'triceps':'midarm'],\n",
    "          bodyfat_data.bodyfat)\n",
    "print('LAMBDA=',ridge.alpha_);"
   ]
  },
  {
   "cell_type": "markdown",
   "metadata": {},
   "source": [
    " best value (according to GCV) is 0.01995262\n",
    "\n",
    " we perform a finer search"
   ]
  },
  {
   "cell_type": "code",
   "execution_count": 45,
   "metadata": {},
   "outputs": [
    {
     "name": "stdout",
     "output_type": "stream",
     "text": [
      "LAMBDA= 0.0019000000000000002\n"
     ]
    }
   ],
   "source": [
    "lambdas = np.arange(0.0001,1,0.0001)\n",
    "ridge = RidgeCV(alphas=lambdas,\n",
    "                normalize=True,\n",
    "                store_cv_values=True)\n",
    "ridge.fit(bodyfat_data.loc[:,'triceps':'midarm'],\n",
    "          bodyfat_data.bodyfat)\n",
    "print('LAMBDA=',ridge.alpha_);"
   ]
  },
  {
   "cell_type": "markdown",
   "metadata": {},
   "source": [
    " Definitely the best value is 0.019, so we refit the model with this precise value:"
   ]
  },
  {
   "cell_type": "code",
   "execution_count": 46,
   "metadata": {},
   "outputs": [
    {
     "data": {
      "text/html": [
       "<div>\n",
       "<style scoped>\n",
       "    .dataframe tbody tr th:only-of-type {\n",
       "        vertical-align: middle;\n",
       "    }\n",
       "\n",
       "    .dataframe tbody tr th {\n",
       "        vertical-align: top;\n",
       "    }\n",
       "\n",
       "    .dataframe thead th {\n",
       "        text-align: right;\n",
       "    }\n",
       "</style>\n",
       "<table border=\"1\" class=\"dataframe\">\n",
       "  <thead>\n",
       "    <tr style=\"text-align: right;\">\n",
       "      <th></th>\n",
       "      <th>0</th>\n",
       "    </tr>\n",
       "  </thead>\n",
       "  <tbody>\n",
       "    <tr>\n",
       "      <th>Intercept</th>\n",
       "      <td>23.587</td>\n",
       "    </tr>\n",
       "    <tr>\n",
       "      <th>triceps</th>\n",
       "      <td>1.504</td>\n",
       "    </tr>\n",
       "    <tr>\n",
       "      <th>thigh</th>\n",
       "      <td>-0.435</td>\n",
       "    </tr>\n",
       "    <tr>\n",
       "      <th>midarm</th>\n",
       "      <td>-0.695</td>\n",
       "    </tr>\n",
       "  </tbody>\n",
       "</table>\n",
       "</div>"
      ],
      "text/plain": [
       "                0\n",
       "Intercept  23.587\n",
       "triceps     1.504\n",
       "thigh      -0.435\n",
       "midarm     -0.695"
      ]
     },
     "execution_count": 46,
     "metadata": {},
     "output_type": "execute_result"
    }
   ],
   "source": [
    "bodyfat_ridge_reg = Ridge(alpha=0.0019,\n",
    "                          normalize=True).fit(bodyfat_data.loc[:,'triceps':'midarm'],\n",
    "                                              bodyfat_data.bodyfat)\n",
    "pd.DataFrame([bodyfat_ridge_reg.intercept_,\n",
    "              bodyfat_ridge_reg.coef_[0],\n",
    "              bodyfat_ridge_reg.coef_[1],\n",
    "              bodyfat_ridge_reg.coef_[2]],\n",
    "             index=['Intercept','triceps','thigh','midarm'])\n"
   ]
  },
  {
   "cell_type": "markdown",
   "metadata": {},
   "source": [
    " Now let us compare these results with those obtained by standard regression (without regularization)\n",
    "\n",
    " Hand calculation of coefficients, since we know the theory:"
   ]
  },
  {
   "cell_type": "code",
   "execution_count": 47,
   "metadata": {},
   "outputs": [
    {
     "data": {
      "text/html": [
       "<div>\n",
       "<style scoped>\n",
       "    .dataframe tbody tr th:only-of-type {\n",
       "        vertical-align: middle;\n",
       "    }\n",
       "\n",
       "    .dataframe tbody tr th {\n",
       "        vertical-align: top;\n",
       "    }\n",
       "\n",
       "    .dataframe thead th {\n",
       "        text-align: right;\n",
       "    }\n",
       "</style>\n",
       "<table border=\"1\" class=\"dataframe\">\n",
       "  <thead>\n",
       "    <tr style=\"text-align: right;\">\n",
       "      <th></th>\n",
       "      <th>0</th>\n",
       "    </tr>\n",
       "  </thead>\n",
       "  <tbody>\n",
       "    <tr>\n",
       "      <th>Intercept</th>\n",
       "      <td>117.085</td>\n",
       "    </tr>\n",
       "    <tr>\n",
       "      <th>triceps</th>\n",
       "      <td>4.334</td>\n",
       "    </tr>\n",
       "    <tr>\n",
       "      <th>thigh</th>\n",
       "      <td>-2.857</td>\n",
       "    </tr>\n",
       "    <tr>\n",
       "      <th>midarm</th>\n",
       "      <td>-2.186</td>\n",
       "    </tr>\n",
       "  </tbody>\n",
       "</table>\n",
       "</div>"
      ],
      "text/plain": [
       "                 0\n",
       "Intercept  117.085\n",
       "triceps      4.334\n",
       "thigh       -2.857\n",
       "midarm      -2.186"
      ]
     },
     "execution_count": 47,
     "metadata": {},
     "output_type": "execute_result"
    }
   ],
   "source": [
    "X= np.concatenate((np.ones((bodyfat_data.shape[0],1)), \n",
    "                   bodyfat_data.loc[:,'triceps':'midarm']), \n",
    "                  axis=1).T\n",
    "w = pinv(X) @ bodyfat_data.bodyfat\n",
    "pd.DataFrame(w, index=['Intercept','triceps','thigh','midarm'])"
   ]
  },
  {
   "cell_type": "markdown",
   "metadata": {},
   "source": [
    "they should coincide with the results of GLM"
   ]
  },
  {
   "cell_type": "code",
   "execution_count": 48,
   "metadata": {},
   "outputs": [
    {
     "data": {
      "text/plain": [
       "Intercept    117.085\n",
       "triceps        4.334\n",
       "thigh         -2.857\n",
       "midarm        -2.186\n",
       "dtype: float64"
      ]
     },
     "execution_count": 48,
     "metadata": {},
     "output_type": "execute_result"
    }
   ],
   "source": [
    "result.params"
   ]
  },
  {
   "cell_type": "markdown",
   "metadata": {},
   "source": [
    " Notice that the regularized weights are smaller (in absolute value), one by one\n",
    "\n",
    " Now we calculate the corresponding prediction errors\n",
    " First by standard regression (without regularization, we already did this)"
   ]
  },
  {
   "cell_type": "code",
   "execution_count": 49,
   "metadata": {},
   "outputs": [
    {
     "data": {
      "text/plain": [
       "65.8457880658071"
      ]
     },
     "execution_count": 49,
     "metadata": {},
     "output_type": "execute_result"
    }
   ],
   "source": [
    "R2_LOOCV"
   ]
  },
  {
   "cell_type": "markdown",
   "metadata": {},
   "source": [
    " Now those with ridge regression (with regularization):"
   ]
  },
  {
   "cell_type": "code",
   "execution_count": 50,
   "metadata": {},
   "outputs": [
    {
     "data": {
      "text/plain": [
       "8.422173377848805"
      ]
     },
     "execution_count": 50,
     "metadata": {},
     "output_type": "execute_result"
    },
    {
     "data": {
      "text/plain": [
       "64.2081809933659"
      ]
     },
     "execution_count": 50,
     "metadata": {},
     "output_type": "execute_result"
    }
   ],
   "source": [
    "resid = bodyfat_ridge_reg.\\\n",
    "          predict(bodyfat_data.loc[:,'triceps':'midarm'])-bodyfat_data.bodyfat\n",
    "LOOCV_ridge = np.sum( (resid/(1-H))**2) / N\n",
    "LOOCV_ridge\n",
    "R2_LOOCV_ridge = (1 - LOOCV_ridge*N/((N-1)*np.var(bodyfat_data.bodyfat)))*100\n",
    "R2_LOOCV_ridge"
   ]
  },
  {
   "cell_type": "markdown",
   "metadata": {},
   "source": [
    " The prediction errors are quite close and the model is way simpler: \n",
    " we would probably prefer the regularized one"
   ]
  },
  {
   "cell_type": "markdown",
   "metadata": {},
   "source": [
    "***"
   ]
  },
  {
   "cell_type": "markdown",
   "metadata": {},
   "source": [
    "Now we use the LASSO: here the coefficients are penalized by the L1 norm. The \n",
    " optimal value for lambda is again chosen by cross-validation"
   ]
  },
  {
   "cell_type": "code",
   "execution_count": 51,
   "metadata": {},
   "outputs": [
    {
     "name": "stdout",
     "output_type": "stream",
     "text": [
      "LAMBDA= 1.0349280998473913\n"
     ]
    },
    {
     "data": {
      "image/png": "[encoded data removed]",
      "text/plain": [
       "<Figure size 576x576 with 1 Axes>"
      ]
     },
     "metadata": {
      "needs_background": "light"
     },
     "output_type": "display_data"
    }
   ],
   "source": [
    "lasso =LassoCV(max_iter=5000)\n",
    "lasso.fit(bodyfat_data.loc[:,'triceps':'midarm'],bodyfat_data.bodyfat)\n",
    "print('LAMBDA=',lasso.alpha_)\n",
    "fig, ax = plt.subplots(figsize=(8,8))\n",
    "plt.plot(lasso.alphas_,lasso.mse_path_.mean(axis=1),'k-')\n",
    "plt.plot(lasso.alphas_,lasso.mse_path_.max(axis=1),'r--')\n",
    "plt.plot(lasso.alphas_,lasso.mse_path_.min(axis=1),'r--');"
   ]
  },
  {
   "cell_type": "markdown",
   "metadata": {},
   "source": [
    "Predictions can be made based on the fitted object; for instance, this would be the TR error with the *optimal* lambda as chosen by LOOCV\n"
   ]
  },
  {
   "cell_type": "code",
   "execution_count": 52,
   "metadata": {},
   "outputs": [
    {
     "name": "stdout",
     "output_type": "stream",
     "text": [
      "Intercept: -17.803172901893376\n",
      "triceps: 0.18928783908462435\n",
      "thigh: 0.6489787792428563\n",
      "midarm: 0.0\n"
     ]
    }
   ],
   "source": [
    "bodyfat_lasso_reg =Lasso(alpha=1.0349, max_iter=5000)\n",
    "bodyfat_lasso_reg.fit(bodyfat_data.loc[:,'triceps':'midarm'],\n",
    "                      bodyfat_data.bodyfat)\n",
    "print('Intercept:', bodyfat_lasso_reg.intercept_)\n",
    "print('triceps:', bodyfat_lasso_reg.coef_[0])\n",
    "print('thigh:', bodyfat_lasso_reg.coef_[1])\n",
    "print('midarm:', bodyfat_lasso_reg.coef_[2]);"
   ]
  },
  {
   "cell_type": "code",
   "execution_count": 53,
   "metadata": {},
   "outputs": [
    {
     "data": {
      "text/html": [
       "<div>\n",
       "<style scoped>\n",
       "    .dataframe tbody tr th:only-of-type {\n",
       "        vertical-align: middle;\n",
       "    }\n",
       "\n",
       "    .dataframe tbody tr th {\n",
       "        vertical-align: top;\n",
       "    }\n",
       "\n",
       "    .dataframe thead th {\n",
       "        text-align: right;\n",
       "    }\n",
       "</style>\n",
       "<table border=\"1\" class=\"dataframe\">\n",
       "  <thead>\n",
       "    <tr style=\"text-align: right;\">\n",
       "      <th></th>\n",
       "      <th>0</th>\n",
       "    </tr>\n",
       "  </thead>\n",
       "  <tbody>\n",
       "    <tr>\n",
       "      <th>0</th>\n",
       "      <td>13.859</td>\n",
       "    </tr>\n",
       "    <tr>\n",
       "      <th>1</th>\n",
       "      <td>19.191</td>\n",
       "    </tr>\n",
       "    <tr>\n",
       "      <th>2</th>\n",
       "      <td>21.690</td>\n",
       "    </tr>\n",
       "    <tr>\n",
       "      <th>3</th>\n",
       "      <td>23.077</td>\n",
       "    </tr>\n",
       "    <tr>\n",
       "      <th>4</th>\n",
       "      <td>13.199</td>\n",
       "    </tr>\n",
       "    <tr>\n",
       "      <th>5</th>\n",
       "      <td>22.023</td>\n",
       "    </tr>\n",
       "    <tr>\n",
       "      <th>6</th>\n",
       "      <td>26.106</td>\n",
       "    </tr>\n",
       "    <tr>\n",
       "      <th>7</th>\n",
       "      <td>21.290</td>\n",
       "    </tr>\n",
       "    <tr>\n",
       "      <th>8</th>\n",
       "      <td>18.764</td>\n",
       "    </tr>\n",
       "    <tr>\n",
       "      <th>9</th>\n",
       "      <td>21.744</td>\n",
       "    </tr>\n",
       "    <tr>\n",
       "      <th>10</th>\n",
       "      <td>24.816</td>\n",
       "    </tr>\n",
       "    <tr>\n",
       "      <th>11</th>\n",
       "      <td>24.748</td>\n",
       "    </tr>\n",
       "    <tr>\n",
       "      <th>12</th>\n",
       "      <td>15.914</td>\n",
       "    </tr>\n",
       "    <tr>\n",
       "      <th>13</th>\n",
       "      <td>14.611</td>\n",
       "    </tr>\n",
       "    <tr>\n",
       "      <th>14</th>\n",
       "      <td>12.672</td>\n",
       "    </tr>\n",
       "    <tr>\n",
       "      <th>15</th>\n",
       "      <td>23.085</td>\n",
       "    </tr>\n",
       "    <tr>\n",
       "      <th>16</th>\n",
       "      <td>23.329</td>\n",
       "    </tr>\n",
       "    <tr>\n",
       "      <th>17</th>\n",
       "      <td>25.943</td>\n",
       "    </tr>\n",
       "    <tr>\n",
       "      <th>18</th>\n",
       "      <td>17.774</td>\n",
       "    </tr>\n",
       "    <tr>\n",
       "      <th>19</th>\n",
       "      <td>20.065</td>\n",
       "    </tr>\n",
       "  </tbody>\n",
       "</table>\n",
       "</div>"
      ],
      "text/plain": [
       "         0\n",
       "0   13.859\n",
       "1   19.191\n",
       "2   21.690\n",
       "3   23.077\n",
       "4   13.199\n",
       "5   22.023\n",
       "6   26.106\n",
       "7   21.290\n",
       "8   18.764\n",
       "9   21.744\n",
       "10  24.816\n",
       "11  24.748\n",
       "12  15.914\n",
       "13  14.611\n",
       "14  12.672\n",
       "15  23.085\n",
       "16  23.329\n",
       "17  25.943\n",
       "18  17.774\n",
       "19  20.065"
      ]
     },
     "execution_count": 53,
     "metadata": {},
     "output_type": "execute_result"
    }
   ],
   "source": [
    " pd.DataFrame(bodyfat_lasso_reg.predict(bodyfat_data.loc[:,'triceps':'midarm']))"
   ]
  },
  {
   "cell_type": "markdown",
   "metadata": {},
   "source": [
    "And this would be corresponding LOOCV  and the corresponding predictive R-square "
   ]
  },
  {
   "cell_type": "code",
   "execution_count": 54,
   "metadata": {},
   "outputs": [
    {
     "data": {
      "text/plain": [
       "9.023634611567775"
      ]
     },
     "execution_count": 54,
     "metadata": {},
     "output_type": "execute_result"
    },
    {
     "data": {
      "text/plain": [
       "61.652143418386096"
      ]
     },
     "execution_count": 54,
     "metadata": {},
     "output_type": "execute_result"
    }
   ],
   "source": [
    "resid = bodyfat_lasso_reg.\\\n",
    "          predict(bodyfat_data.loc[:,'triceps':'midarm'])-bodyfat_data.bodyfat\n",
    "LOOCV_lasso = np.sum( (resid/(1-H))**2) / N\n",
    "LOOCV_lasso\n",
    "R2_LOOCV_lasso = (1 - LOOCV_lasso*N/((N-1)*np.var(bodyfat_data.bodyfat)))*100\n",
    "R2_LOOCV_lasso"
   ]
  }
 ],
 "metadata": {
  "kernelspec": {
   "display_name": "Python 3",
   "language": "python",
   "name": "python3"
  },
  "language_info": {
   "codemirror_mode": {
    "name": "ipython",
    "version": 3
   },
   "file_extension": ".py",
   "mimetype": "text/x-python",
   "name": "python",
   "nbconvert_exporter": "python",
   "pygments_lexer": "ipython3",
   "version": "3.6.6"
  },
  "latex_envs": {
   "LaTeX_envs_menu_present": true,
   "autoclose": false,
   "autocomplete": true,
   "bibliofile": "biblio.bib",
   "cite_by": "apalike",
   "current_citInitial": 1,
   "eqLabelWithNumbers": true,
   "eqNumInitial": 1,
   "hotkeys": {
    "equation": "Ctrl-E",
    "itemize": "Ctrl-I"
   },
   "labels_anchors": false,
   "latex_user_defs": false,
   "report_style_numbering": false,
   "user_envs_cfg": false
  },
  "toc": {
   "base_numbering": 1,
   "nav_menu": {},
   "number_sections": true,
   "sideBar": true,
   "skip_h1_title": false,
   "title_cell": "Table of Contents",
   "title_sidebar": "Contents",
   "toc_cell": false,
   "toc_position": {
    "height": "calc(100% - 180px)",
    "left": "10px",
    "top": "150px",
    "width": "345px"
   },
   "toc_section_display": true,
   "toc_window_display": true
  }
 },
 "nbformat": 4,
 "nbformat_minor": 2
}
