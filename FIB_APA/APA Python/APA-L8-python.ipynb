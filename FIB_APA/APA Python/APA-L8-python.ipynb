{
 "cells": [
  {
   "cell_type": "markdown",
   "metadata": {},
   "source": [
    "# APA Laboratori 8 - Random Forests             "
   ]
  },
  {
   "cell_type": "code",
   "execution_count": 1,
   "metadata": {},
   "outputs": [],
   "source": [
    "# Uncomment to upgrade packages\n",
    "# !pip install pandas --upgrade \n",
    "# !pip install numpy --upgrade\n",
    "# !pip install scipy --upgrade\n",
    "# !pip install statsmodels --upgrade\n",
    "# !pip install scikit-learn --upgrade\n",
    "#!pip install imblearn --upgrade \n",
    "%load_ext autoreload"
   ]
  },
  {
   "cell_type": "code",
   "execution_count": 2,
   "metadata": {},
   "outputs": [],
   "source": [
    "import numpy as np\n",
    "import matplotlib.pyplot as plt\n",
    "import seaborn as sn\n",
    "import pandas as pd\n",
    "from IPython.core.interactiveshell import InteractiveShell\n",
    "pd.set_option('precision', 3)\n",
    "InteractiveShell.ast_node_interactivity = \"all\""
   ]
  },
  {
   "cell_type": "code",
   "execution_count": 3,
   "metadata": {},
   "outputs": [
    {
     "name": "stderr",
     "output_type": "stream",
     "text": [
      "/home/bejar/.local/lib/python3.6/site-packages/sklearn/ensemble/weight_boosting.py:29: DeprecationWarning: numpy.core.umath_tests is an internal NumPy module and should not be imported. It will be removed in a future NumPy release.\n",
      "  from numpy.core.umath_tests import inner1d\n"
     ]
    }
   ],
   "source": [
    "# Extra imports\n",
    "from pandas import read_csv\n",
    "from sklearn.preprocessing import LabelEncoder\n",
    "from sklearn.model_selection import train_test_split\n",
    "from sklearn.tree import DecisionTreeClassifier\n",
    "import graphviz\n",
    "from sklearn.tree import export_graphviz\n",
    "from sklearn.metrics import confusion_matrix,\\\n",
    "        accuracy_score, classification_report, f1_score\n",
    "from sklearn.ensemble import RandomForestClassifier\n",
    "from imblearn.under_sampling import RandomUnderSampler"
   ]
  },
  {
   "cell_type": "code",
   "execution_count": 4,
   "metadata": {},
   "outputs": [],
   "source": [
    "def confusion(true, pred, classes):\n",
    "    \"\"\"\n",
    "    Function for pretty printing confusion matrices\n",
    "    \"\"\"\n",
    "    cm =pd.DataFrame(confusion_matrix(true, pred), index=classes,\n",
    "                 columns=classes)\n",
    "    cm.index.name = 'Actual'\n",
    "    cm.columns.name = 'Predicted'\n",
    "    return cm"
   ]
  },
  {
   "cell_type": "code",
   "execution_count": 5,
   "metadata": {},
   "outputs": [],
   "source": [
    "np.random.seed(6046)"
   ]
  },
  {
   "cell_type": "markdown",
   "metadata": {},
   "source": [
    "## Financial Example: classification model for deposit subscription"
   ]
  },
  {
   "cell_type": "markdown",
   "metadata": {},
   "source": [
    "Direct marketing campaigns (phone calls) of a Portuguese banking institution. \n",
    " The classification goal is to predict if the client will subscribe a term deposit"
   ]
  },
  {
   "cell_type": "code",
   "execution_count": 6,
   "metadata": {},
   "outputs": [
    {
     "data": {
      "text/plain": [
       "(45211, 17)"
      ]
     },
     "execution_count": 6,
     "metadata": {},
     "output_type": "execute_result"
    }
   ],
   "source": [
    "deposit = read_csv(\"bank-full.csv.gz\", header=0, delimiter=';')\n",
    "deposit.shape"
   ]
  },
  {
   "cell_type": "code",
   "execution_count": 7,
   "metadata": {},
   "outputs": [
    {
     "data": {
      "text/html": [
       "<div>\n",
       "<style scoped>\n",
       "    .dataframe tbody tr th:only-of-type {\n",
       "        vertical-align: middle;\n",
       "    }\n",
       "\n",
       "    .dataframe tbody tr th {\n",
       "        vertical-align: top;\n",
       "    }\n",
       "\n",
       "    .dataframe thead th {\n",
       "        text-align: right;\n",
       "    }\n",
       "</style>\n",
       "<table border=\"1\" class=\"dataframe\">\n",
       "  <thead>\n",
       "    <tr style=\"text-align: right;\">\n",
       "      <th></th>\n",
       "      <th>age</th>\n",
       "      <th>job</th>\n",
       "      <th>marital</th>\n",
       "      <th>education</th>\n",
       "      <th>default</th>\n",
       "      <th>balance</th>\n",
       "      <th>housing</th>\n",
       "      <th>loan</th>\n",
       "      <th>contact</th>\n",
       "      <th>day</th>\n",
       "      <th>month</th>\n",
       "      <th>duration</th>\n",
       "      <th>campaign</th>\n",
       "      <th>pdays</th>\n",
       "      <th>previous</th>\n",
       "      <th>poutcome</th>\n",
       "      <th>y</th>\n",
       "    </tr>\n",
       "  </thead>\n",
       "  <tbody>\n",
       "    <tr>\n",
       "      <th>count</th>\n",
       "      <td>45211.000</td>\n",
       "      <td>45211</td>\n",
       "      <td>45211</td>\n",
       "      <td>45211</td>\n",
       "      <td>45211</td>\n",
       "      <td>45211.000</td>\n",
       "      <td>45211</td>\n",
       "      <td>45211</td>\n",
       "      <td>45211</td>\n",
       "      <td>45211.000</td>\n",
       "      <td>45211</td>\n",
       "      <td>45211.000</td>\n",
       "      <td>45211.000</td>\n",
       "      <td>45211.000</td>\n",
       "      <td>45211.000</td>\n",
       "      <td>45211</td>\n",
       "      <td>45211</td>\n",
       "    </tr>\n",
       "    <tr>\n",
       "      <th>unique</th>\n",
       "      <td>NaN</td>\n",
       "      <td>12</td>\n",
       "      <td>3</td>\n",
       "      <td>4</td>\n",
       "      <td>2</td>\n",
       "      <td>NaN</td>\n",
       "      <td>2</td>\n",
       "      <td>2</td>\n",
       "      <td>3</td>\n",
       "      <td>NaN</td>\n",
       "      <td>12</td>\n",
       "      <td>NaN</td>\n",
       "      <td>NaN</td>\n",
       "      <td>NaN</td>\n",
       "      <td>NaN</td>\n",
       "      <td>4</td>\n",
       "      <td>2</td>\n",
       "    </tr>\n",
       "    <tr>\n",
       "      <th>top</th>\n",
       "      <td>NaN</td>\n",
       "      <td>blue-collar</td>\n",
       "      <td>married</td>\n",
       "      <td>secondary</td>\n",
       "      <td>no</td>\n",
       "      <td>NaN</td>\n",
       "      <td>yes</td>\n",
       "      <td>no</td>\n",
       "      <td>cellular</td>\n",
       "      <td>NaN</td>\n",
       "      <td>may</td>\n",
       "      <td>NaN</td>\n",
       "      <td>NaN</td>\n",
       "      <td>NaN</td>\n",
       "      <td>NaN</td>\n",
       "      <td>unknown</td>\n",
       "      <td>no</td>\n",
       "    </tr>\n",
       "    <tr>\n",
       "      <th>freq</th>\n",
       "      <td>NaN</td>\n",
       "      <td>9732</td>\n",
       "      <td>27214</td>\n",
       "      <td>23202</td>\n",
       "      <td>44396</td>\n",
       "      <td>NaN</td>\n",
       "      <td>25130</td>\n",
       "      <td>37967</td>\n",
       "      <td>29285</td>\n",
       "      <td>NaN</td>\n",
       "      <td>13766</td>\n",
       "      <td>NaN</td>\n",
       "      <td>NaN</td>\n",
       "      <td>NaN</td>\n",
       "      <td>NaN</td>\n",
       "      <td>36959</td>\n",
       "      <td>39922</td>\n",
       "    </tr>\n",
       "    <tr>\n",
       "      <th>mean</th>\n",
       "      <td>40.936</td>\n",
       "      <td>NaN</td>\n",
       "      <td>NaN</td>\n",
       "      <td>NaN</td>\n",
       "      <td>NaN</td>\n",
       "      <td>1362.272</td>\n",
       "      <td>NaN</td>\n",
       "      <td>NaN</td>\n",
       "      <td>NaN</td>\n",
       "      <td>15.806</td>\n",
       "      <td>NaN</td>\n",
       "      <td>258.163</td>\n",
       "      <td>2.764</td>\n",
       "      <td>40.198</td>\n",
       "      <td>0.580</td>\n",
       "      <td>NaN</td>\n",
       "      <td>NaN</td>\n",
       "    </tr>\n",
       "    <tr>\n",
       "      <th>std</th>\n",
       "      <td>10.619</td>\n",
       "      <td>NaN</td>\n",
       "      <td>NaN</td>\n",
       "      <td>NaN</td>\n",
       "      <td>NaN</td>\n",
       "      <td>3044.766</td>\n",
       "      <td>NaN</td>\n",
       "      <td>NaN</td>\n",
       "      <td>NaN</td>\n",
       "      <td>8.322</td>\n",
       "      <td>NaN</td>\n",
       "      <td>257.528</td>\n",
       "      <td>3.098</td>\n",
       "      <td>100.129</td>\n",
       "      <td>2.303</td>\n",
       "      <td>NaN</td>\n",
       "      <td>NaN</td>\n",
       "    </tr>\n",
       "    <tr>\n",
       "      <th>min</th>\n",
       "      <td>18.000</td>\n",
       "      <td>NaN</td>\n",
       "      <td>NaN</td>\n",
       "      <td>NaN</td>\n",
       "      <td>NaN</td>\n",
       "      <td>-8019.000</td>\n",
       "      <td>NaN</td>\n",
       "      <td>NaN</td>\n",
       "      <td>NaN</td>\n",
       "      <td>1.000</td>\n",
       "      <td>NaN</td>\n",
       "      <td>0.000</td>\n",
       "      <td>1.000</td>\n",
       "      <td>-1.000</td>\n",
       "      <td>0.000</td>\n",
       "      <td>NaN</td>\n",
       "      <td>NaN</td>\n",
       "    </tr>\n",
       "    <tr>\n",
       "      <th>25%</th>\n",
       "      <td>33.000</td>\n",
       "      <td>NaN</td>\n",
       "      <td>NaN</td>\n",
       "      <td>NaN</td>\n",
       "      <td>NaN</td>\n",
       "      <td>72.000</td>\n",
       "      <td>NaN</td>\n",
       "      <td>NaN</td>\n",
       "      <td>NaN</td>\n",
       "      <td>8.000</td>\n",
       "      <td>NaN</td>\n",
       "      <td>103.000</td>\n",
       "      <td>1.000</td>\n",
       "      <td>-1.000</td>\n",
       "      <td>0.000</td>\n",
       "      <td>NaN</td>\n",
       "      <td>NaN</td>\n",
       "    </tr>\n",
       "    <tr>\n",
       "      <th>50%</th>\n",
       "      <td>39.000</td>\n",
       "      <td>NaN</td>\n",
       "      <td>NaN</td>\n",
       "      <td>NaN</td>\n",
       "      <td>NaN</td>\n",
       "      <td>448.000</td>\n",
       "      <td>NaN</td>\n",
       "      <td>NaN</td>\n",
       "      <td>NaN</td>\n",
       "      <td>16.000</td>\n",
       "      <td>NaN</td>\n",
       "      <td>180.000</td>\n",
       "      <td>2.000</td>\n",
       "      <td>-1.000</td>\n",
       "      <td>0.000</td>\n",
       "      <td>NaN</td>\n",
       "      <td>NaN</td>\n",
       "    </tr>\n",
       "    <tr>\n",
       "      <th>75%</th>\n",
       "      <td>48.000</td>\n",
       "      <td>NaN</td>\n",
       "      <td>NaN</td>\n",
       "      <td>NaN</td>\n",
       "      <td>NaN</td>\n",
       "      <td>1428.000</td>\n",
       "      <td>NaN</td>\n",
       "      <td>NaN</td>\n",
       "      <td>NaN</td>\n",
       "      <td>21.000</td>\n",
       "      <td>NaN</td>\n",
       "      <td>319.000</td>\n",
       "      <td>3.000</td>\n",
       "      <td>-1.000</td>\n",
       "      <td>0.000</td>\n",
       "      <td>NaN</td>\n",
       "      <td>NaN</td>\n",
       "    </tr>\n",
       "    <tr>\n",
       "      <th>max</th>\n",
       "      <td>95.000</td>\n",
       "      <td>NaN</td>\n",
       "      <td>NaN</td>\n",
       "      <td>NaN</td>\n",
       "      <td>NaN</td>\n",
       "      <td>102127.000</td>\n",
       "      <td>NaN</td>\n",
       "      <td>NaN</td>\n",
       "      <td>NaN</td>\n",
       "      <td>31.000</td>\n",
       "      <td>NaN</td>\n",
       "      <td>4918.000</td>\n",
       "      <td>63.000</td>\n",
       "      <td>871.000</td>\n",
       "      <td>275.000</td>\n",
       "      <td>NaN</td>\n",
       "      <td>NaN</td>\n",
       "    </tr>\n",
       "  </tbody>\n",
       "</table>\n",
       "</div>"
      ],
      "text/plain": [
       "              age          job  marital  education default     balance  \\\n",
       "count   45211.000        45211    45211      45211   45211   45211.000   \n",
       "unique        NaN           12        3          4       2         NaN   \n",
       "top           NaN  blue-collar  married  secondary      no         NaN   \n",
       "freq          NaN         9732    27214      23202   44396         NaN   \n",
       "mean       40.936          NaN      NaN        NaN     NaN    1362.272   \n",
       "std        10.619          NaN      NaN        NaN     NaN    3044.766   \n",
       "min        18.000          NaN      NaN        NaN     NaN   -8019.000   \n",
       "25%        33.000          NaN      NaN        NaN     NaN      72.000   \n",
       "50%        39.000          NaN      NaN        NaN     NaN     448.000   \n",
       "75%        48.000          NaN      NaN        NaN     NaN    1428.000   \n",
       "max        95.000          NaN      NaN        NaN     NaN  102127.000   \n",
       "\n",
       "       housing   loan   contact        day  month   duration   campaign  \\\n",
       "count    45211  45211     45211  45211.000  45211  45211.000  45211.000   \n",
       "unique       2      2         3        NaN     12        NaN        NaN   \n",
       "top        yes     no  cellular        NaN    may        NaN        NaN   \n",
       "freq     25130  37967     29285        NaN  13766        NaN        NaN   \n",
       "mean       NaN    NaN       NaN     15.806    NaN    258.163      2.764   \n",
       "std        NaN    NaN       NaN      8.322    NaN    257.528      3.098   \n",
       "min        NaN    NaN       NaN      1.000    NaN      0.000      1.000   \n",
       "25%        NaN    NaN       NaN      8.000    NaN    103.000      1.000   \n",
       "50%        NaN    NaN       NaN     16.000    NaN    180.000      2.000   \n",
       "75%        NaN    NaN       NaN     21.000    NaN    319.000      3.000   \n",
       "max        NaN    NaN       NaN     31.000    NaN   4918.000     63.000   \n",
       "\n",
       "            pdays   previous poutcome      y  \n",
       "count   45211.000  45211.000    45211  45211  \n",
       "unique        NaN        NaN        4      2  \n",
       "top           NaN        NaN  unknown     no  \n",
       "freq          NaN        NaN    36959  39922  \n",
       "mean       40.198      0.580      NaN    NaN  \n",
       "std       100.129      2.303      NaN    NaN  \n",
       "min        -1.000      0.000      NaN    NaN  \n",
       "25%        -1.000      0.000      NaN    NaN  \n",
       "50%        -1.000      0.000      NaN    NaN  \n",
       "75%        -1.000      0.000      NaN    NaN  \n",
       "max       871.000    275.000      NaN    NaN  "
      ]
     },
     "execution_count": 7,
     "metadata": {},
     "output_type": "execute_result"
    }
   ],
   "source": [
    "deposit.describe(include='all')"
   ]
  },
  {
   "cell_type": "markdown",
   "metadata": {},
   "source": [
    " This dataset needs a lot of pre-processing ... also it displays a good mixture of categorical and numeric variables\n",
    "\n",
    " age seems OK\n",
    " job has 12 values, let's check their frequency\n",
    "\n",
    " seems OK"
   ]
  },
  {
   "cell_type": "code",
   "execution_count": 8,
   "metadata": {},
   "outputs": [
    {
     "data": {
      "text/plain": [
       "blue-collar      9732\n",
       "management       9458\n",
       "technician       7597\n",
       "admin.           5171\n",
       "services         4154\n",
       "retired          2264\n",
       "self-employed    1579\n",
       "entrepreneur     1487\n",
       "unemployed       1303\n",
       "housemaid        1240\n",
       "student           938\n",
       "unknown           288\n",
       "Name: job, dtype: int64"
      ]
     },
     "execution_count": 8,
     "metadata": {},
     "output_type": "execute_result"
    }
   ],
   "source": [
    "deposit.job.value_counts()"
   ]
  },
  {
   "cell_type": "markdown",
   "metadata": {},
   "source": [
    "education has 4 values, let's check their frequency\n",
    "\n",
    " seems OK"
   ]
  },
  {
   "cell_type": "code",
   "execution_count": 9,
   "metadata": {},
   "outputs": [
    {
     "data": {
      "text/plain": [
       "secondary    23202\n",
       "tertiary     13301\n",
       "primary       6851\n",
       "unknown       1857\n",
       "Name: education, dtype: int64"
      ]
     },
     "execution_count": 9,
     "metadata": {},
     "output_type": "execute_result"
    }
   ],
   "source": [
    "deposit.education.value_counts()"
   ]
  },
  {
   "cell_type": "markdown",
   "metadata": {},
   "source": [
    " month looks very suspicious ... but is OK"
   ]
  },
  {
   "cell_type": "code",
   "execution_count": 10,
   "metadata": {},
   "outputs": [
    {
     "data": {
      "text/plain": [
       "may    13766\n",
       "jul     6895\n",
       "aug     6247\n",
       "jun     5341\n",
       "nov     3970\n",
       "apr     2932\n",
       "feb     2649\n",
       "jan     1403\n",
       "oct      738\n",
       "sep      579\n",
       "mar      477\n",
       "dec      214\n",
       "Name: month, dtype: int64"
      ]
     },
     "execution_count": 10,
     "metadata": {},
     "output_type": "execute_result"
    }
   ],
   "source": [
    "deposit.month.value_counts()"
   ]
  },
  {
   "cell_type": "markdown",
   "metadata": {},
   "source": [
    "Duration is highly skewed ..."
   ]
  },
  {
   "cell_type": "code",
   "execution_count": 11,
   "metadata": {},
   "outputs": [
    {
     "data": {
      "image/png": "[encoded data removed]",
      "text/plain": [
       "<Figure size 576x432 with 1 Axes>"
      ]
     },
     "metadata": {
      "needs_background": "light"
     },
     "output_type": "display_data"
    }
   ],
   "source": [
    "deposit.duration.plot.hist(figsize=(8,6));"
   ]
  },
  {
   "cell_type": "code",
   "execution_count": 12,
   "metadata": {},
   "outputs": [
    {
     "name": "stderr",
     "output_type": "stream",
     "text": [
      "/usr/local/lib64/python3.6/site-packages/pandas/core/base.py:315: RuntimeWarning: divide by zero encountered in log\n",
      "  return f(self, *args, **kwargs)\n"
     ]
    },
    {
     "data": {
      "image/png": "[encoded data removed]",
      "text/plain": [
       "<Figure size 576x432 with 1 Axes>"
      ]
     },
     "metadata": {
      "needs_background": "light"
     },
     "output_type": "display_data"
    }
   ],
   "source": [
    "pd.set_option('use_inf_as_na', True)\n",
    "ax = deposit.duration.apply('log').dropna().plot.hist(figsize=(8,6))\n",
    "plt.xlabel('log(duration)');\n"
   ]
  },
  {
   "cell_type": "code",
   "execution_count": 13,
   "metadata": {},
   "outputs": [],
   "source": [
    "deposit['duration'] = deposit.duration.apply(lambda x: np.log(x+0.001))"
   ]
  },
  {
   "cell_type": "markdown",
   "metadata": {},
   "source": [
    " what to do with 'pdays' and 'previous'? it is not clear how to best pre-process them; we shall need\n",
    " some financial expertise... we leave them as they are\n",
    "\n",
    " The rest seem OK (but it would take a careful analysis, and a lot of domain knowledge)\n",
    "\n",
    "Let's rename the target ..."
   ]
  },
  {
   "cell_type": "code",
   "execution_count": 14,
   "metadata": {},
   "outputs": [
    {
     "data": {
      "text/plain": [
       "(45211, 17)"
      ]
     },
     "execution_count": 14,
     "metadata": {},
     "output_type": "execute_result"
    }
   ],
   "source": [
    "deposit.rename({'y':'subscribe'}, axis='columns',inplace=True)\n",
    "deposit.shape"
   ]
  },
  {
   "cell_type": "code",
   "execution_count": 15,
   "metadata": {},
   "outputs": [
    {
     "data": {
      "text/html": [
       "<div>\n",
       "<style scoped>\n",
       "    .dataframe tbody tr th:only-of-type {\n",
       "        vertical-align: middle;\n",
       "    }\n",
       "\n",
       "    .dataframe tbody tr th {\n",
       "        vertical-align: top;\n",
       "    }\n",
       "\n",
       "    .dataframe thead th {\n",
       "        text-align: right;\n",
       "    }\n",
       "</style>\n",
       "<table border=\"1\" class=\"dataframe\">\n",
       "  <thead>\n",
       "    <tr style=\"text-align: right;\">\n",
       "      <th></th>\n",
       "      <th>age</th>\n",
       "      <th>job</th>\n",
       "      <th>marital</th>\n",
       "      <th>education</th>\n",
       "      <th>default</th>\n",
       "      <th>balance</th>\n",
       "      <th>housing</th>\n",
       "      <th>loan</th>\n",
       "      <th>contact</th>\n",
       "      <th>day</th>\n",
       "      <th>month</th>\n",
       "      <th>duration</th>\n",
       "      <th>campaign</th>\n",
       "      <th>pdays</th>\n",
       "      <th>previous</th>\n",
       "      <th>poutcome</th>\n",
       "      <th>subscribe</th>\n",
       "    </tr>\n",
       "  </thead>\n",
       "  <tbody>\n",
       "    <tr>\n",
       "      <th>count</th>\n",
       "      <td>45211.000</td>\n",
       "      <td>45211</td>\n",
       "      <td>45211</td>\n",
       "      <td>45211</td>\n",
       "      <td>45211</td>\n",
       "      <td>45211.000</td>\n",
       "      <td>45211</td>\n",
       "      <td>45211</td>\n",
       "      <td>45211</td>\n",
       "      <td>45211.000</td>\n",
       "      <td>45211</td>\n",
       "      <td>45211.000</td>\n",
       "      <td>45211.000</td>\n",
       "      <td>45211.000</td>\n",
       "      <td>45211.000</td>\n",
       "      <td>45211</td>\n",
       "      <td>45211</td>\n",
       "    </tr>\n",
       "    <tr>\n",
       "      <th>unique</th>\n",
       "      <td>NaN</td>\n",
       "      <td>12</td>\n",
       "      <td>3</td>\n",
       "      <td>4</td>\n",
       "      <td>2</td>\n",
       "      <td>NaN</td>\n",
       "      <td>2</td>\n",
       "      <td>2</td>\n",
       "      <td>3</td>\n",
       "      <td>NaN</td>\n",
       "      <td>12</td>\n",
       "      <td>NaN</td>\n",
       "      <td>NaN</td>\n",
       "      <td>NaN</td>\n",
       "      <td>NaN</td>\n",
       "      <td>4</td>\n",
       "      <td>2</td>\n",
       "    </tr>\n",
       "    <tr>\n",
       "      <th>top</th>\n",
       "      <td>NaN</td>\n",
       "      <td>blue-collar</td>\n",
       "      <td>married</td>\n",
       "      <td>secondary</td>\n",
       "      <td>no</td>\n",
       "      <td>NaN</td>\n",
       "      <td>yes</td>\n",
       "      <td>no</td>\n",
       "      <td>cellular</td>\n",
       "      <td>NaN</td>\n",
       "      <td>may</td>\n",
       "      <td>NaN</td>\n",
       "      <td>NaN</td>\n",
       "      <td>NaN</td>\n",
       "      <td>NaN</td>\n",
       "      <td>unknown</td>\n",
       "      <td>no</td>\n",
       "    </tr>\n",
       "    <tr>\n",
       "      <th>freq</th>\n",
       "      <td>NaN</td>\n",
       "      <td>9732</td>\n",
       "      <td>27214</td>\n",
       "      <td>23202</td>\n",
       "      <td>44396</td>\n",
       "      <td>NaN</td>\n",
       "      <td>25130</td>\n",
       "      <td>37967</td>\n",
       "      <td>29285</td>\n",
       "      <td>NaN</td>\n",
       "      <td>13766</td>\n",
       "      <td>NaN</td>\n",
       "      <td>NaN</td>\n",
       "      <td>NaN</td>\n",
       "      <td>NaN</td>\n",
       "      <td>36959</td>\n",
       "      <td>39922</td>\n",
       "    </tr>\n",
       "    <tr>\n",
       "      <th>mean</th>\n",
       "      <td>40.936</td>\n",
       "      <td>NaN</td>\n",
       "      <td>NaN</td>\n",
       "      <td>NaN</td>\n",
       "      <td>NaN</td>\n",
       "      <td>1362.272</td>\n",
       "      <td>NaN</td>\n",
       "      <td>NaN</td>\n",
       "      <td>NaN</td>\n",
       "      <td>15.806</td>\n",
       "      <td>NaN</td>\n",
       "      <td>5.162</td>\n",
       "      <td>2.764</td>\n",
       "      <td>40.198</td>\n",
       "      <td>0.580</td>\n",
       "      <td>NaN</td>\n",
       "      <td>NaN</td>\n",
       "    </tr>\n",
       "    <tr>\n",
       "      <th>std</th>\n",
       "      <td>10.619</td>\n",
       "      <td>NaN</td>\n",
       "      <td>NaN</td>\n",
       "      <td>NaN</td>\n",
       "      <td>NaN</td>\n",
       "      <td>3044.766</td>\n",
       "      <td>NaN</td>\n",
       "      <td>NaN</td>\n",
       "      <td>NaN</td>\n",
       "      <td>8.322</td>\n",
       "      <td>NaN</td>\n",
       "      <td>0.938</td>\n",
       "      <td>3.098</td>\n",
       "      <td>100.129</td>\n",
       "      <td>2.303</td>\n",
       "      <td>NaN</td>\n",
       "      <td>NaN</td>\n",
       "    </tr>\n",
       "    <tr>\n",
       "      <th>min</th>\n",
       "      <td>18.000</td>\n",
       "      <td>NaN</td>\n",
       "      <td>NaN</td>\n",
       "      <td>NaN</td>\n",
       "      <td>NaN</td>\n",
       "      <td>-8019.000</td>\n",
       "      <td>NaN</td>\n",
       "      <td>NaN</td>\n",
       "      <td>NaN</td>\n",
       "      <td>1.000</td>\n",
       "      <td>NaN</td>\n",
       "      <td>-6.908</td>\n",
       "      <td>1.000</td>\n",
       "      <td>-1.000</td>\n",
       "      <td>0.000</td>\n",
       "      <td>NaN</td>\n",
       "      <td>NaN</td>\n",
       "    </tr>\n",
       "    <tr>\n",
       "      <th>25%</th>\n",
       "      <td>33.000</td>\n",
       "      <td>NaN</td>\n",
       "      <td>NaN</td>\n",
       "      <td>NaN</td>\n",
       "      <td>NaN</td>\n",
       "      <td>72.000</td>\n",
       "      <td>NaN</td>\n",
       "      <td>NaN</td>\n",
       "      <td>NaN</td>\n",
       "      <td>8.000</td>\n",
       "      <td>NaN</td>\n",
       "      <td>4.635</td>\n",
       "      <td>1.000</td>\n",
       "      <td>-1.000</td>\n",
       "      <td>0.000</td>\n",
       "      <td>NaN</td>\n",
       "      <td>NaN</td>\n",
       "    </tr>\n",
       "    <tr>\n",
       "      <th>50%</th>\n",
       "      <td>39.000</td>\n",
       "      <td>NaN</td>\n",
       "      <td>NaN</td>\n",
       "      <td>NaN</td>\n",
       "      <td>NaN</td>\n",
       "      <td>448.000</td>\n",
       "      <td>NaN</td>\n",
       "      <td>NaN</td>\n",
       "      <td>NaN</td>\n",
       "      <td>16.000</td>\n",
       "      <td>NaN</td>\n",
       "      <td>5.193</td>\n",
       "      <td>2.000</td>\n",
       "      <td>-1.000</td>\n",
       "      <td>0.000</td>\n",
       "      <td>NaN</td>\n",
       "      <td>NaN</td>\n",
       "    </tr>\n",
       "    <tr>\n",
       "      <th>75%</th>\n",
       "      <td>48.000</td>\n",
       "      <td>NaN</td>\n",
       "      <td>NaN</td>\n",
       "      <td>NaN</td>\n",
       "      <td>NaN</td>\n",
       "      <td>1428.000</td>\n",
       "      <td>NaN</td>\n",
       "      <td>NaN</td>\n",
       "      <td>NaN</td>\n",
       "      <td>21.000</td>\n",
       "      <td>NaN</td>\n",
       "      <td>5.765</td>\n",
       "      <td>3.000</td>\n",
       "      <td>-1.000</td>\n",
       "      <td>0.000</td>\n",
       "      <td>NaN</td>\n",
       "      <td>NaN</td>\n",
       "    </tr>\n",
       "    <tr>\n",
       "      <th>max</th>\n",
       "      <td>95.000</td>\n",
       "      <td>NaN</td>\n",
       "      <td>NaN</td>\n",
       "      <td>NaN</td>\n",
       "      <td>NaN</td>\n",
       "      <td>102127.000</td>\n",
       "      <td>NaN</td>\n",
       "      <td>NaN</td>\n",
       "      <td>NaN</td>\n",
       "      <td>31.000</td>\n",
       "      <td>NaN</td>\n",
       "      <td>8.501</td>\n",
       "      <td>63.000</td>\n",
       "      <td>871.000</td>\n",
       "      <td>275.000</td>\n",
       "      <td>NaN</td>\n",
       "      <td>NaN</td>\n",
       "    </tr>\n",
       "  </tbody>\n",
       "</table>\n",
       "</div>"
      ],
      "text/plain": [
       "              age          job  marital  education default     balance  \\\n",
       "count   45211.000        45211    45211      45211   45211   45211.000   \n",
       "unique        NaN           12        3          4       2         NaN   \n",
       "top           NaN  blue-collar  married  secondary      no         NaN   \n",
       "freq          NaN         9732    27214      23202   44396         NaN   \n",
       "mean       40.936          NaN      NaN        NaN     NaN    1362.272   \n",
       "std        10.619          NaN      NaN        NaN     NaN    3044.766   \n",
       "min        18.000          NaN      NaN        NaN     NaN   -8019.000   \n",
       "25%        33.000          NaN      NaN        NaN     NaN      72.000   \n",
       "50%        39.000          NaN      NaN        NaN     NaN     448.000   \n",
       "75%        48.000          NaN      NaN        NaN     NaN    1428.000   \n",
       "max        95.000          NaN      NaN        NaN     NaN  102127.000   \n",
       "\n",
       "       housing   loan   contact        day  month   duration   campaign  \\\n",
       "count    45211  45211     45211  45211.000  45211  45211.000  45211.000   \n",
       "unique       2      2         3        NaN     12        NaN        NaN   \n",
       "top        yes     no  cellular        NaN    may        NaN        NaN   \n",
       "freq     25130  37967     29285        NaN  13766        NaN        NaN   \n",
       "mean       NaN    NaN       NaN     15.806    NaN      5.162      2.764   \n",
       "std        NaN    NaN       NaN      8.322    NaN      0.938      3.098   \n",
       "min        NaN    NaN       NaN      1.000    NaN     -6.908      1.000   \n",
       "25%        NaN    NaN       NaN      8.000    NaN      4.635      1.000   \n",
       "50%        NaN    NaN       NaN     16.000    NaN      5.193      2.000   \n",
       "75%        NaN    NaN       NaN     21.000    NaN      5.765      3.000   \n",
       "max        NaN    NaN       NaN     31.000    NaN      8.501     63.000   \n",
       "\n",
       "            pdays   previous poutcome subscribe  \n",
       "count   45211.000  45211.000    45211     45211  \n",
       "unique        NaN        NaN        4         2  \n",
       "top           NaN        NaN  unknown        no  \n",
       "freq          NaN        NaN    36959     39922  \n",
       "mean       40.198      0.580      NaN       NaN  \n",
       "std       100.129      2.303      NaN       NaN  \n",
       "min        -1.000      0.000      NaN       NaN  \n",
       "25%        -1.000      0.000      NaN       NaN  \n",
       "50%        -1.000      0.000      NaN       NaN  \n",
       "75%        -1.000      0.000      NaN       NaN  \n",
       "max       871.000    275.000      NaN       NaN  "
      ]
     },
     "execution_count": 15,
     "metadata": {},
     "output_type": "execute_result"
    }
   ],
   "source": [
    "deposit.describe(include='all')"
   ]
  },
  {
   "cell_type": "markdown",
   "metadata": {},
   "source": [
    "Scikit learn decision trees classifier do not handle categorical attributes so we have to transform them to numerical"
   ]
  },
  {
   "cell_type": "code",
   "execution_count": 16,
   "metadata": {},
   "outputs": [
    {
     "data": {
      "text/html": [
       "<div>\n",
       "<style scoped>\n",
       "    .dataframe tbody tr th:only-of-type {\n",
       "        vertical-align: middle;\n",
       "    }\n",
       "\n",
       "    .dataframe tbody tr th {\n",
       "        vertical-align: top;\n",
       "    }\n",
       "\n",
       "    .dataframe thead th {\n",
       "        text-align: right;\n",
       "    }\n",
       "</style>\n",
       "<table border=\"1\" class=\"dataframe\">\n",
       "  <thead>\n",
       "    <tr style=\"text-align: right;\">\n",
       "      <th></th>\n",
       "      <th>age</th>\n",
       "      <th>job</th>\n",
       "      <th>marital</th>\n",
       "      <th>education</th>\n",
       "      <th>default</th>\n",
       "      <th>balance</th>\n",
       "      <th>housing</th>\n",
       "      <th>loan</th>\n",
       "      <th>contact</th>\n",
       "      <th>day</th>\n",
       "      <th>month</th>\n",
       "      <th>duration</th>\n",
       "      <th>campaign</th>\n",
       "      <th>pdays</th>\n",
       "      <th>previous</th>\n",
       "      <th>poutcome</th>\n",
       "      <th>subscribe</th>\n",
       "    </tr>\n",
       "  </thead>\n",
       "  <tbody>\n",
       "    <tr>\n",
       "      <th>0</th>\n",
       "      <td>58</td>\n",
       "      <td>4</td>\n",
       "      <td>1</td>\n",
       "      <td>2</td>\n",
       "      <td>0</td>\n",
       "      <td>2143</td>\n",
       "      <td>1</td>\n",
       "      <td>0</td>\n",
       "      <td>2</td>\n",
       "      <td>5</td>\n",
       "      <td>8</td>\n",
       "      <td>5.565</td>\n",
       "      <td>1</td>\n",
       "      <td>-1</td>\n",
       "      <td>0</td>\n",
       "      <td>3</td>\n",
       "      <td>0</td>\n",
       "    </tr>\n",
       "    <tr>\n",
       "      <th>1</th>\n",
       "      <td>44</td>\n",
       "      <td>9</td>\n",
       "      <td>2</td>\n",
       "      <td>1</td>\n",
       "      <td>0</td>\n",
       "      <td>29</td>\n",
       "      <td>1</td>\n",
       "      <td>0</td>\n",
       "      <td>2</td>\n",
       "      <td>5</td>\n",
       "      <td>8</td>\n",
       "      <td>5.017</td>\n",
       "      <td>1</td>\n",
       "      <td>-1</td>\n",
       "      <td>0</td>\n",
       "      <td>3</td>\n",
       "      <td>0</td>\n",
       "    </tr>\n",
       "    <tr>\n",
       "      <th>2</th>\n",
       "      <td>33</td>\n",
       "      <td>2</td>\n",
       "      <td>1</td>\n",
       "      <td>1</td>\n",
       "      <td>0</td>\n",
       "      <td>2</td>\n",
       "      <td>1</td>\n",
       "      <td>1</td>\n",
       "      <td>2</td>\n",
       "      <td>5</td>\n",
       "      <td>8</td>\n",
       "      <td>4.331</td>\n",
       "      <td>1</td>\n",
       "      <td>-1</td>\n",
       "      <td>0</td>\n",
       "      <td>3</td>\n",
       "      <td>0</td>\n",
       "    </tr>\n",
       "    <tr>\n",
       "      <th>3</th>\n",
       "      <td>47</td>\n",
       "      <td>1</td>\n",
       "      <td>1</td>\n",
       "      <td>3</td>\n",
       "      <td>0</td>\n",
       "      <td>1506</td>\n",
       "      <td>1</td>\n",
       "      <td>0</td>\n",
       "      <td>2</td>\n",
       "      <td>5</td>\n",
       "      <td>8</td>\n",
       "      <td>4.522</td>\n",
       "      <td>1</td>\n",
       "      <td>-1</td>\n",
       "      <td>0</td>\n",
       "      <td>3</td>\n",
       "      <td>0</td>\n",
       "    </tr>\n",
       "    <tr>\n",
       "      <th>4</th>\n",
       "      <td>33</td>\n",
       "      <td>11</td>\n",
       "      <td>2</td>\n",
       "      <td>3</td>\n",
       "      <td>0</td>\n",
       "      <td>1</td>\n",
       "      <td>0</td>\n",
       "      <td>0</td>\n",
       "      <td>2</td>\n",
       "      <td>5</td>\n",
       "      <td>8</td>\n",
       "      <td>5.288</td>\n",
       "      <td>1</td>\n",
       "      <td>-1</td>\n",
       "      <td>0</td>\n",
       "      <td>3</td>\n",
       "      <td>0</td>\n",
       "    </tr>\n",
       "  </tbody>\n",
       "</table>\n",
       "</div>"
      ],
      "text/plain": [
       "   age  job  marital  education  default  balance  housing  loan  contact  \\\n",
       "0   58    4        1          2        0     2143        1     0        2   \n",
       "1   44    9        2          1        0       29        1     0        2   \n",
       "2   33    2        1          1        0        2        1     1        2   \n",
       "3   47    1        1          3        0     1506        1     0        2   \n",
       "4   33   11        2          3        0        1        0     0        2   \n",
       "\n",
       "   day  month  duration  campaign  pdays  previous  poutcome  subscribe  \n",
       "0    5      8     5.565         1     -1         0         3          0  \n",
       "1    5      8     5.017         1     -1         0         3          0  \n",
       "2    5      8     4.331         1     -1         0         3          0  \n",
       "3    5      8     4.522         1     -1         0         3          0  \n",
       "4    5      8     5.288         1     -1         0         3          0  "
      ]
     },
     "execution_count": 16,
     "metadata": {},
     "output_type": "execute_result"
    }
   ],
   "source": [
    "for v in deposit.columns:\n",
    "    if deposit[v].dtype.kind == 'O':\n",
    "        deposit[v] = LabelEncoder().fit_transform(deposit[v])\n",
    "\n",
    "deposit.head()"
   ]
  },
  {
   "cell_type": "markdown",
   "metadata": {},
   "source": [
    "precalculate the TR/TE partition and the cross-validation partitions on the TR part"
   ]
  },
  {
   "cell_type": "code",
   "execution_count": 17,
   "metadata": {},
   "outputs": [],
   "source": [
    "train, test = train_test_split(deposit, test_size=1/3)"
   ]
  },
  {
   "cell_type": "markdown",
   "metadata": {},
   "source": [
    "First try a standard decision tree. \n"
   ]
  },
  {
   "cell_type": "code",
   "execution_count": 18,
   "metadata": {},
   "outputs": [],
   "source": [
    "model_tree = DecisionTreeClassifier().fit(train.loc[:,:'poutcome'], \n",
    "                                          train.subscribe)\n"
   ]
  },
  {
   "cell_type": "code",
   "execution_count": 19,
   "metadata": {},
   "outputs": [
    {
     "data": {
      "image/svg+xml": [
       "<?xml version=\"1.0\" encoding=\"UTF-8\" standalone=\"no\"?>\n",
       "<!DOCTYPE svg PUBLIC \"-//W3C//DTD SVG 1.1//EN\"\n",
       " \"http://www.w3.org/Graphics/SVG/1.1/DTD/svg11.dtd\">\n",
       "<!-- Generated by graphviz version 2.40.1 (20161225.0304)\n",
       " -->\n",
       "<!-- Title: Tree Pages: 1 -->\n",
       "<svg width=\"830pt\" height=\"856pt\"\n",
       " viewBox=\"0.00 0.00 830.00 856.00\" xmlns=\"http://www.w3.org/2000/svg\" xmlns:xlink=\"http://www.w3.org/1999/xlink\">\n",
       "<g id=\"graph0\" class=\"graph\" transform=\"scale(1 1) rotate(0) translate(4 852)\">\n",
       "<title>Tree</title>\n",
       "<polygon fill=\"#ffffff\" stroke=\"transparent\" points=\"-4,4 -4,-852 826,-852 826,4 -4,4\"/>\n",
       "<!-- 0 -->\n",
       "<g id=\"node1\" class=\"node\">\n",
       "<title>0</title>\n",
       "<path fill=\"#e58139\" fill-opacity=\"0.866667\" stroke=\"#000000\" d=\"M144,-515.5C144,-515.5 12,-515.5 12,-515.5 6,-515.5 0,-509.5 0,-503.5 0,-503.5 0,-444.5 0,-444.5 0,-438.5 6,-432.5 12,-432.5 12,-432.5 144,-432.5 144,-432.5 150,-432.5 156,-438.5 156,-444.5 156,-444.5 156,-503.5 156,-503.5 156,-509.5 150,-515.5 144,-515.5\"/>\n",
       "<text text-anchor=\"start\" x=\"25.5\" y=\"-500.3\" font-family=\"Helvetica,sans-Serif\" font-size=\"14.00\" fill=\"#000000\">duration ≤ 6.222</text>\n",
       "<text text-anchor=\"start\" x=\"40\" y=\"-485.3\" font-family=\"Helvetica,sans-Serif\" font-size=\"14.00\" fill=\"#000000\">gini = 0.206</text>\n",
       "<text text-anchor=\"start\" x=\"17.5\" y=\"-470.3\" font-family=\"Helvetica,sans-Serif\" font-size=\"14.00\" fill=\"#000000\">samples = 100.0%</text>\n",
       "<text text-anchor=\"start\" x=\"8\" y=\"-455.3\" font-family=\"Helvetica,sans-Serif\" font-size=\"14.00\" fill=\"#000000\">value = [0.884, 0.116]</text>\n",
       "<text text-anchor=\"start\" x=\"44.5\" y=\"-440.3\" font-family=\"Helvetica,sans-Serif\" font-size=\"14.00\" fill=\"#000000\">class = no</text>\n",
       "</g>\n",
       "<!-- 1 -->\n",
       "<g id=\"node2\" class=\"node\">\n",
       "<title>1</title>\n",
       "<path fill=\"#e58139\" fill-opacity=\"0.917647\" stroke=\"#000000\" d=\"M336,-567.5C336,-567.5 204,-567.5 204,-567.5 198,-567.5 192,-561.5 192,-555.5 192,-555.5 192,-496.5 192,-496.5 192,-490.5 198,-484.5 204,-484.5 204,-484.5 336,-484.5 336,-484.5 342,-484.5 348,-490.5 348,-496.5 348,-496.5 348,-555.5 348,-555.5 348,-561.5 342,-567.5 336,-567.5\"/>\n",
       "<text text-anchor=\"start\" x=\"232\" y=\"-552.3\" font-family=\"Helvetica,sans-Serif\" font-size=\"14.00\" fill=\"#000000\">month ≤ 9.5</text>\n",
       "<text text-anchor=\"start\" x=\"232\" y=\"-537.3\" font-family=\"Helvetica,sans-Serif\" font-size=\"14.00\" fill=\"#000000\">gini = 0.138</text>\n",
       "<text text-anchor=\"start\" x=\"214\" y=\"-522.3\" font-family=\"Helvetica,sans-Serif\" font-size=\"14.00\" fill=\"#000000\">samples = 88.3%</text>\n",
       "<text text-anchor=\"start\" x=\"200\" y=\"-507.3\" font-family=\"Helvetica,sans-Serif\" font-size=\"14.00\" fill=\"#000000\">value = [0.925, 0.075]</text>\n",
       "<text text-anchor=\"start\" x=\"236.5\" y=\"-492.3\" font-family=\"Helvetica,sans-Serif\" font-size=\"14.00\" fill=\"#000000\">class = no</text>\n",
       "</g>\n",
       "<!-- 0&#45;&gt;1 -->\n",
       "<g id=\"edge1\" class=\"edge\">\n",
       "<title>0&#45;&gt;1</title>\n",
       "<path fill=\"none\" stroke=\"#000000\" d=\"M156.0938,-495.1504C164.693,-497.4794 173.491,-499.8622 182.1984,-502.2204\"/>\n",
       "<polygon fill=\"#000000\" stroke=\"#000000\" points=\"181.4082,-505.6324 191.9755,-504.8684 183.2382,-498.8758 181.4082,-505.6324\"/>\n",
       "<text text-anchor=\"middle\" x=\"170.2913\" y=\"-513.6101\" font-family=\"Helvetica,sans-Serif\" font-size=\"14.00\" fill=\"#000000\">True</text>\n",
       "</g>\n",
       "<!-- 3270 -->\n",
       "<g id=\"node17\" class=\"node\">\n",
       "<title>3270</title>\n",
       "<path fill=\"#e58139\" fill-opacity=\"0.235294\" stroke=\"#000000\" d=\"M336,-364.5C336,-364.5 204,-364.5 204,-364.5 198,-364.5 192,-358.5 192,-352.5 192,-352.5 192,-293.5 192,-293.5 192,-287.5 198,-281.5 204,-281.5 204,-281.5 336,-281.5 336,-281.5 342,-281.5 348,-287.5 348,-293.5 348,-293.5 348,-352.5 348,-352.5 348,-358.5 342,-364.5 336,-364.5\"/>\n",
       "<text text-anchor=\"start\" x=\"217.5\" y=\"-349.3\" font-family=\"Helvetica,sans-Serif\" font-size=\"14.00\" fill=\"#000000\">duration ≤ 6.718</text>\n",
       "<text text-anchor=\"start\" x=\"232\" y=\"-334.3\" font-family=\"Helvetica,sans-Serif\" font-size=\"14.00\" fill=\"#000000\">gini = 0.491</text>\n",
       "<text text-anchor=\"start\" x=\"214\" y=\"-319.3\" font-family=\"Helvetica,sans-Serif\" font-size=\"14.00\" fill=\"#000000\">samples = 11.7%</text>\n",
       "<text text-anchor=\"start\" x=\"200\" y=\"-304.3\" font-family=\"Helvetica,sans-Serif\" font-size=\"14.00\" fill=\"#000000\">value = [0.567, 0.433]</text>\n",
       "<text text-anchor=\"start\" x=\"236.5\" y=\"-289.3\" font-family=\"Helvetica,sans-Serif\" font-size=\"14.00\" fill=\"#000000\">class = no</text>\n",
       "</g>\n",
       "<!-- 0&#45;&gt;3270 -->\n",
       "<g id=\"edge16\" class=\"edge\">\n",
       "<title>0&#45;&gt;3270</title>\n",
       "<path fill=\"none\" stroke=\"#000000\" d=\"M130.9731,-432.3389C155.2114,-413.2765 184.0636,-390.5854 209.1851,-370.8284\"/>\n",
       "<polygon fill=\"#000000\" stroke=\"#000000\" points=\"211.5031,-373.4582 217.1998,-364.5252 207.1758,-367.9559 211.5031,-373.4582\"/>\n",
       "<text text-anchor=\"middle\" x=\"192.3765\" y=\"-357.858\" font-family=\"Helvetica,sans-Serif\" font-size=\"14.00\" fill=\"#000000\">False</text>\n",
       "</g>\n",
       "<!-- 2 -->\n",
       "<g id=\"node3\" class=\"node\">\n",
       "<title>2</title>\n",
       "<path fill=\"#e58139\" fill-opacity=\"0.929412\" stroke=\"#000000\" d=\"M528,-718.5C528,-718.5 396,-718.5 396,-718.5 390,-718.5 384,-712.5 384,-706.5 384,-706.5 384,-647.5 384,-647.5 384,-641.5 390,-635.5 396,-635.5 396,-635.5 528,-635.5 528,-635.5 534,-635.5 540,-641.5 540,-647.5 540,-647.5 540,-706.5 540,-706.5 540,-712.5 534,-718.5 528,-718.5\"/>\n",
       "<text text-anchor=\"start\" x=\"427.5\" y=\"-703.3\" font-family=\"Helvetica,sans-Serif\" font-size=\"14.00\" fill=\"#000000\">age ≤ 60.5</text>\n",
       "<text text-anchor=\"start\" x=\"424\" y=\"-688.3\" font-family=\"Helvetica,sans-Serif\" font-size=\"14.00\" fill=\"#000000\">gini = 0.121</text>\n",
       "<text text-anchor=\"start\" x=\"406\" y=\"-673.3\" font-family=\"Helvetica,sans-Serif\" font-size=\"14.00\" fill=\"#000000\">samples = 85.8%</text>\n",
       "<text text-anchor=\"start\" x=\"392\" y=\"-658.3\" font-family=\"Helvetica,sans-Serif\" font-size=\"14.00\" fill=\"#000000\">value = [0.936, 0.064]</text>\n",
       "<text text-anchor=\"start\" x=\"428.5\" y=\"-643.3\" font-family=\"Helvetica,sans-Serif\" font-size=\"14.00\" fill=\"#000000\">class = no</text>\n",
       "</g>\n",
       "<!-- 1&#45;&gt;2 -->\n",
       "<g id=\"edge2\" class=\"edge\">\n",
       "<title>1&#45;&gt;2</title>\n",
       "<path fill=\"none\" stroke=\"#000000\" d=\"M322.9731,-567.6611C347.2114,-586.7235 376.0636,-609.4146 401.1851,-629.1716\"/>\n",
       "<polygon fill=\"#000000\" stroke=\"#000000\" points=\"399.1758,-632.0441 409.1998,-635.4748 403.5031,-626.5418 399.1758,-632.0441\"/>\n",
       "</g>\n",
       "<!-- 2961 -->\n",
       "<g id=\"node10\" class=\"node\">\n",
       "<title>2961</title>\n",
       "<path fill=\"#e58139\" fill-opacity=\"0.266667\" stroke=\"#000000\" d=\"M528,-567.5C528,-567.5 396,-567.5 396,-567.5 390,-567.5 384,-561.5 384,-555.5 384,-555.5 384,-496.5 384,-496.5 384,-490.5 390,-484.5 396,-484.5 396,-484.5 528,-484.5 528,-484.5 534,-484.5 540,-490.5 540,-496.5 540,-496.5 540,-555.5 540,-555.5 540,-561.5 534,-567.5 528,-567.5\"/>\n",
       "<text text-anchor=\"start\" x=\"409.5\" y=\"-552.3\" font-family=\"Helvetica,sans-Serif\" font-size=\"14.00\" fill=\"#000000\">duration ≤ 4.916</text>\n",
       "<text text-anchor=\"start\" x=\"424\" y=\"-537.3\" font-family=\"Helvetica,sans-Serif\" font-size=\"14.00\" fill=\"#000000\">gini = 0.488</text>\n",
       "<text text-anchor=\"start\" x=\"410\" y=\"-522.3\" font-family=\"Helvetica,sans-Serif\" font-size=\"14.00\" fill=\"#000000\">samples = 2.5%</text>\n",
       "<text text-anchor=\"start\" x=\"392\" y=\"-507.3\" font-family=\"Helvetica,sans-Serif\" font-size=\"14.00\" fill=\"#000000\">value = [0.577, 0.423]</text>\n",
       "<text text-anchor=\"start\" x=\"428.5\" y=\"-492.3\" font-family=\"Helvetica,sans-Serif\" font-size=\"14.00\" fill=\"#000000\">class = no</text>\n",
       "</g>\n",
       "<!-- 1&#45;&gt;2961 -->\n",
       "<g id=\"edge9\" class=\"edge\">\n",
       "<title>1&#45;&gt;2961</title>\n",
       "<path fill=\"none\" stroke=\"#000000\" d=\"M348.0938,-526C356.6006,-526 365.3019,-526 373.9175,-526\"/>\n",
       "<polygon fill=\"#000000\" stroke=\"#000000\" points=\"373.9755,-529.5001 383.9755,-526 373.9754,-522.5001 373.9755,-529.5001\"/>\n",
       "</g>\n",
       "<!-- 3 -->\n",
       "<g id=\"node4\" class=\"node\">\n",
       "<title>3</title>\n",
       "<path fill=\"#e58139\" fill-opacity=\"0.937255\" stroke=\"#000000\" d=\"M720,-819.5C720,-819.5 588,-819.5 588,-819.5 582,-819.5 576,-813.5 576,-807.5 576,-807.5 576,-748.5 576,-748.5 576,-742.5 582,-736.5 588,-736.5 588,-736.5 720,-736.5 720,-736.5 726,-736.5 732,-742.5 732,-748.5 732,-748.5 732,-807.5 732,-807.5 732,-813.5 726,-819.5 720,-819.5\"/>\n",
       "<text text-anchor=\"start\" x=\"612\" y=\"-804.3\" font-family=\"Helvetica,sans-Serif\" font-size=\"14.00\" fill=\"#000000\">pdays ≤ 12.5</text>\n",
       "<text text-anchor=\"start\" x=\"616\" y=\"-789.3\" font-family=\"Helvetica,sans-Serif\" font-size=\"14.00\" fill=\"#000000\">gini = 0.109</text>\n",
       "<text text-anchor=\"start\" x=\"598\" y=\"-774.3\" font-family=\"Helvetica,sans-Serif\" font-size=\"14.00\" fill=\"#000000\">samples = 84.2%</text>\n",
       "<text text-anchor=\"start\" x=\"584\" y=\"-759.3\" font-family=\"Helvetica,sans-Serif\" font-size=\"14.00\" fill=\"#000000\">value = [0.942, 0.058]</text>\n",
       "<text text-anchor=\"start\" x=\"620.5\" y=\"-744.3\" font-family=\"Helvetica,sans-Serif\" font-size=\"14.00\" fill=\"#000000\">class = no</text>\n",
       "</g>\n",
       "<!-- 2&#45;&gt;3 -->\n",
       "<g id=\"edge3\" class=\"edge\">\n",
       "<title>2&#45;&gt;3</title>\n",
       "<path fill=\"none\" stroke=\"#000000\" d=\"M540.0938,-718.0806C548.9704,-722.7501 558.0589,-727.531 567.0408,-732.2558\"/>\n",
       "<polygon fill=\"#000000\" stroke=\"#000000\" points=\"565.4958,-735.3978 575.9755,-736.9558 568.7547,-729.2027 565.4958,-735.3978\"/>\n",
       "</g>\n",
       "<!-- 2720 -->\n",
       "<g id=\"node7\" class=\"node\">\n",
       "<title>2720</title>\n",
       "<path fill=\"#e58139\" fill-opacity=\"0.352941\" stroke=\"#000000\" d=\"M720,-718.5C720,-718.5 588,-718.5 588,-718.5 582,-718.5 576,-712.5 576,-706.5 576,-706.5 576,-647.5 576,-647.5 576,-641.5 582,-635.5 588,-635.5 588,-635.5 720,-635.5 720,-635.5 726,-635.5 732,-641.5 732,-647.5 732,-647.5 732,-706.5 732,-706.5 732,-712.5 726,-718.5 720,-718.5\"/>\n",
       "<text text-anchor=\"start\" x=\"605.5\" y=\"-703.3\" font-family=\"Helvetica,sans-Serif\" font-size=\"14.00\" fill=\"#000000\">duration ≤ 5.33</text>\n",
       "<text text-anchor=\"start\" x=\"616\" y=\"-688.3\" font-family=\"Helvetica,sans-Serif\" font-size=\"14.00\" fill=\"#000000\">gini = 0.477</text>\n",
       "<text text-anchor=\"start\" x=\"602\" y=\"-673.3\" font-family=\"Helvetica,sans-Serif\" font-size=\"14.00\" fill=\"#000000\">samples = 1.7%</text>\n",
       "<text text-anchor=\"start\" x=\"584\" y=\"-658.3\" font-family=\"Helvetica,sans-Serif\" font-size=\"14.00\" fill=\"#000000\">value = [0.608, 0.392]</text>\n",
       "<text text-anchor=\"start\" x=\"620.5\" y=\"-643.3\" font-family=\"Helvetica,sans-Serif\" font-size=\"14.00\" fill=\"#000000\">class = no</text>\n",
       "</g>\n",
       "<!-- 2&#45;&gt;2720 -->\n",
       "<g id=\"edge6\" class=\"edge\">\n",
       "<title>2&#45;&gt;2720</title>\n",
       "<path fill=\"none\" stroke=\"#000000\" d=\"M540.0938,-677C548.6006,-677 557.3019,-677 565.9175,-677\"/>\n",
       "<polygon fill=\"#000000\" stroke=\"#000000\" points=\"565.9755,-680.5001 575.9755,-677 565.9754,-673.5001 565.9755,-680.5001\"/>\n",
       "</g>\n",
       "<!-- 4 -->\n",
       "<g id=\"node5\" class=\"node\">\n",
       "<title>4</title>\n",
       "<path fill=\"#c0c0c0\" stroke=\"#000000\" d=\"M810,-848C810,-848 780,-848 780,-848 774,-848 768,-842 768,-836 768,-836 768,-824 768,-824 768,-818 774,-812 780,-812 780,-812 810,-812 810,-812 816,-812 822,-818 822,-824 822,-824 822,-836 822,-836 822,-842 816,-848 810,-848\"/>\n",
       "<text text-anchor=\"middle\" x=\"795\" y=\"-826.3\" font-family=\"Helvetica,sans-Serif\" font-size=\"14.00\" fill=\"#000000\">(...)</text>\n",
       "</g>\n",
       "<!-- 3&#45;&gt;4 -->\n",
       "<g id=\"edge4\" class=\"edge\">\n",
       "<title>3&#45;&gt;4</title>\n",
       "<path fill=\"none\" stroke=\"#000000\" d=\"M732.3342,-806.8892C741.4372,-810.2463 750.3637,-813.5384 758.4966,-816.5378\"/>\n",
       "<polygon fill=\"#000000\" stroke=\"#000000\" points=\"757.3885,-819.8595 767.9819,-820.0359 759.8107,-813.2919 757.3885,-819.8595\"/>\n",
       "</g>\n",
       "<!-- 1939 -->\n",
       "<g id=\"node6\" class=\"node\">\n",
       "<title>1939</title>\n",
       "<path fill=\"#c0c0c0\" stroke=\"#000000\" d=\"M810,-794C810,-794 780,-794 780,-794 774,-794 768,-788 768,-782 768,-782 768,-770 768,-770 768,-764 774,-758 780,-758 780,-758 810,-758 810,-758 816,-758 822,-764 822,-770 822,-770 822,-782 822,-782 822,-788 816,-794 810,-794\"/>\n",
       "<text text-anchor=\"middle\" x=\"795\" y=\"-772.3\" font-family=\"Helvetica,sans-Serif\" font-size=\"14.00\" fill=\"#000000\">(...)</text>\n",
       "</g>\n",
       "<!-- 3&#45;&gt;1939 -->\n",
       "<g id=\"edge5\" class=\"edge\">\n",
       "<title>3&#45;&gt;1939</title>\n",
       "<path fill=\"none\" stroke=\"#000000\" d=\"M732.3342,-776.8889C741.2371,-776.7626 749.9712,-776.6387 757.9592,-776.5254\"/>\n",
       "<polygon fill=\"#000000\" stroke=\"#000000\" points=\"758.0326,-780.0248 767.9819,-776.3832 757.9332,-773.0255 758.0326,-780.0248\"/>\n",
       "</g>\n",
       "<!-- 2721 -->\n",
       "<g id=\"node8\" class=\"node\">\n",
       "<title>2721</title>\n",
       "<path fill=\"#c0c0c0\" stroke=\"#000000\" d=\"M810,-740C810,-740 780,-740 780,-740 774,-740 768,-734 768,-728 768,-728 768,-716 768,-716 768,-710 774,-704 780,-704 780,-704 810,-704 810,-704 816,-704 822,-710 822,-716 822,-716 822,-728 822,-728 822,-734 816,-740 810,-740\"/>\n",
       "<text text-anchor=\"middle\" x=\"795\" y=\"-718.3\" font-family=\"Helvetica,sans-Serif\" font-size=\"14.00\" fill=\"#000000\">(...)</text>\n",
       "</g>\n",
       "<!-- 2720&#45;&gt;2721 -->\n",
       "<g id=\"edge7\" class=\"edge\">\n",
       "<title>2720&#45;&gt;2721</title>\n",
       "<path fill=\"none\" stroke=\"#000000\" d=\"M732.3342,-702.0003C741.3371,-704.8736 750.1675,-707.6917 758.2282,-710.2643\"/>\n",
       "<polygon fill=\"#000000\" stroke=\"#000000\" points=\"757.3912,-713.671 767.9819,-713.3772 759.5195,-707.0024 757.3912,-713.671\"/>\n",
       "</g>\n",
       "<!-- 2818 -->\n",
       "<g id=\"node9\" class=\"node\">\n",
       "<title>2818</title>\n",
       "<path fill=\"#c0c0c0\" stroke=\"#000000\" d=\"M810,-686C810,-686 780,-686 780,-686 774,-686 768,-680 768,-674 768,-674 768,-662 768,-662 768,-656 774,-650 780,-650 780,-650 810,-650 810,-650 816,-650 822,-656 822,-662 822,-662 822,-674 822,-674 822,-680 816,-686 810,-686\"/>\n",
       "<text text-anchor=\"middle\" x=\"795\" y=\"-664.3\" font-family=\"Helvetica,sans-Serif\" font-size=\"14.00\" fill=\"#000000\">(...)</text>\n",
       "</g>\n",
       "<!-- 2720&#45;&gt;2818 -->\n",
       "<g id=\"edge8\" class=\"edge\">\n",
       "<title>2720&#45;&gt;2818</title>\n",
       "<path fill=\"none\" stroke=\"#000000\" d=\"M732.3342,-671.9999C741.2371,-671.4317 749.9712,-670.8742 757.9592,-670.3643\"/>\n",
       "<polygon fill=\"#000000\" stroke=\"#000000\" points=\"758.2252,-673.8545 767.9819,-669.7246 757.7792,-666.8688 758.2252,-673.8545\"/>\n",
       "</g>\n",
       "<!-- 2962 -->\n",
       "<g id=\"node11\" class=\"node\">\n",
       "<title>2962</title>\n",
       "<path fill=\"#e58139\" fill-opacity=\"0.862745\" stroke=\"#000000\" d=\"M720,-617.5C720,-617.5 588,-617.5 588,-617.5 582,-617.5 576,-611.5 576,-605.5 576,-605.5 576,-546.5 576,-546.5 576,-540.5 582,-534.5 588,-534.5 588,-534.5 720,-534.5 720,-534.5 726,-534.5 732,-540.5 732,-546.5 732,-546.5 732,-605.5 732,-605.5 732,-611.5 726,-617.5 720,-617.5\"/>\n",
       "<text text-anchor=\"start\" x=\"614.5\" y=\"-602.3\" font-family=\"Helvetica,sans-Serif\" font-size=\"14.00\" fill=\"#000000\">marital ≤ 0.5</text>\n",
       "<text text-anchor=\"start\" x=\"616\" y=\"-587.3\" font-family=\"Helvetica,sans-Serif\" font-size=\"14.00\" fill=\"#000000\">gini = 0.212</text>\n",
       "<text text-anchor=\"start\" x=\"602\" y=\"-572.3\" font-family=\"Helvetica,sans-Serif\" font-size=\"14.00\" fill=\"#000000\">samples = 0.8%</text>\n",
       "<text text-anchor=\"start\" x=\"584\" y=\"-557.3\" font-family=\"Helvetica,sans-Serif\" font-size=\"14.00\" fill=\"#000000\">value = [0.879, 0.121]</text>\n",
       "<text text-anchor=\"start\" x=\"620.5\" y=\"-542.3\" font-family=\"Helvetica,sans-Serif\" font-size=\"14.00\" fill=\"#000000\">class = no</text>\n",
       "</g>\n",
       "<!-- 2961&#45;&gt;2962 -->\n",
       "<g id=\"edge10\" class=\"edge\">\n",
       "<title>2961&#45;&gt;2962</title>\n",
       "<path fill=\"none\" stroke=\"#000000\" d=\"M540.0938,-546.3369C548.693,-548.5763 557.491,-550.8675 566.1984,-553.135\"/>\n",
       "<polygon fill=\"#000000\" stroke=\"#000000\" points=\"565.4161,-556.548 575.9755,-555.6811 567.1803,-549.7739 565.4161,-556.548\"/>\n",
       "</g>\n",
       "<!-- 3021 -->\n",
       "<g id=\"node14\" class=\"node\">\n",
       "<title>3021</title>\n",
       "<path fill=\"#399de5\" fill-opacity=\"0.223529\" stroke=\"#000000\" d=\"M720,-516.5C720,-516.5 588,-516.5 588,-516.5 582,-516.5 576,-510.5 576,-504.5 576,-504.5 576,-445.5 576,-445.5 576,-439.5 582,-433.5 588,-433.5 588,-433.5 720,-433.5 720,-433.5 726,-433.5 732,-439.5 732,-445.5 732,-445.5 732,-504.5 732,-504.5 732,-510.5 726,-516.5 720,-516.5\"/>\n",
       "<text text-anchor=\"start\" x=\"620\" y=\"-501.3\" font-family=\"Helvetica,sans-Serif\" font-size=\"14.00\" fill=\"#000000\">day ≤ 15.5</text>\n",
       "<text text-anchor=\"start\" x=\"616\" y=\"-486.3\" font-family=\"Helvetica,sans-Serif\" font-size=\"14.00\" fill=\"#000000\">gini = 0.492</text>\n",
       "<text text-anchor=\"start\" x=\"602\" y=\"-471.3\" font-family=\"Helvetica,sans-Serif\" font-size=\"14.00\" fill=\"#000000\">samples = 1.7%</text>\n",
       "<text text-anchor=\"start\" x=\"584\" y=\"-456.3\" font-family=\"Helvetica,sans-Serif\" font-size=\"14.00\" fill=\"#000000\">value = [0.437, 0.563]</text>\n",
       "<text text-anchor=\"start\" x=\"617.5\" y=\"-441.3\" font-family=\"Helvetica,sans-Serif\" font-size=\"14.00\" fill=\"#000000\">class = yes</text>\n",
       "</g>\n",
       "<!-- 2961&#45;&gt;3021 -->\n",
       "<g id=\"edge13\" class=\"edge\">\n",
       "<title>2961&#45;&gt;3021</title>\n",
       "<path fill=\"none\" stroke=\"#000000\" d=\"M540.0938,-505.2563C548.693,-502.9722 557.491,-500.6352 566.1984,-498.3223\"/>\n",
       "<polygon fill=\"#000000\" stroke=\"#000000\" points=\"567.2092,-501.6753 575.9755,-495.7253 565.4121,-494.9099 567.2092,-501.6753\"/>\n",
       "</g>\n",
       "<!-- 2963 -->\n",
       "<g id=\"node12\" class=\"node\">\n",
       "<title>2963</title>\n",
       "<path fill=\"#c0c0c0\" stroke=\"#000000\" d=\"M810,-632C810,-632 780,-632 780,-632 774,-632 768,-626 768,-620 768,-620 768,-608 768,-608 768,-602 774,-596 780,-596 780,-596 810,-596 810,-596 816,-596 822,-602 822,-608 822,-608 822,-620 822,-620 822,-626 816,-632 810,-632\"/>\n",
       "<text text-anchor=\"middle\" x=\"795\" y=\"-610.3\" font-family=\"Helvetica,sans-Serif\" font-size=\"14.00\" fill=\"#000000\">(...)</text>\n",
       "</g>\n",
       "<!-- 2962&#45;&gt;2963 -->\n",
       "<g id=\"edge11\" class=\"edge\">\n",
       "<title>2962&#45;&gt;2963</title>\n",
       "<path fill=\"none\" stroke=\"#000000\" d=\"M732.3342,-597.1114C741.3371,-599.5377 750.1675,-601.9175 758.2282,-604.0899\"/>\n",
       "<polygon fill=\"#000000\" stroke=\"#000000\" points=\"757.4156,-607.4957 767.9819,-606.7185 759.2372,-600.7368 757.4156,-607.4957\"/>\n",
       "</g>\n",
       "<!-- 2974 -->\n",
       "<g id=\"node13\" class=\"node\">\n",
       "<title>2974</title>\n",
       "<path fill=\"#c0c0c0\" stroke=\"#000000\" d=\"M810,-578C810,-578 780,-578 780,-578 774,-578 768,-572 768,-566 768,-566 768,-554 768,-554 768,-548 774,-542 780,-542 780,-542 810,-542 810,-542 816,-542 822,-548 822,-554 822,-554 822,-566 822,-566 822,-572 816,-578 810,-578\"/>\n",
       "<text text-anchor=\"middle\" x=\"795\" y=\"-556.3\" font-family=\"Helvetica,sans-Serif\" font-size=\"14.00\" fill=\"#000000\">(...)</text>\n",
       "</g>\n",
       "<!-- 2962&#45;&gt;2974 -->\n",
       "<g id=\"edge12\" class=\"edge\">\n",
       "<title>2962&#45;&gt;2974</title>\n",
       "<path fill=\"none\" stroke=\"#000000\" d=\"M732.3342,-567.111C741.2371,-566.1008 749.9712,-565.1096 757.9592,-564.2032\"/>\n",
       "<polygon fill=\"#000000\" stroke=\"#000000\" points=\"758.4403,-567.6712 767.9819,-563.0659 757.651,-560.7158 758.4403,-567.6712\"/>\n",
       "</g>\n",
       "<!-- 3022 -->\n",
       "<g id=\"node15\" class=\"node\">\n",
       "<title>3022</title>\n",
       "<path fill=\"#c0c0c0\" stroke=\"#000000\" d=\"M810,-524C810,-524 780,-524 780,-524 774,-524 768,-518 768,-512 768,-512 768,-500 768,-500 768,-494 774,-488 780,-488 780,-488 810,-488 810,-488 816,-488 822,-494 822,-500 822,-500 822,-512 822,-512 822,-518 816,-524 810,-524\"/>\n",
       "<text text-anchor=\"middle\" x=\"795\" y=\"-502.3\" font-family=\"Helvetica,sans-Serif\" font-size=\"14.00\" fill=\"#000000\">(...)</text>\n",
       "</g>\n",
       "<!-- 3021&#45;&gt;3022 -->\n",
       "<g id=\"edge14\" class=\"edge\">\n",
       "<title>3021&#45;&gt;3022</title>\n",
       "<path fill=\"none\" stroke=\"#000000\" d=\"M732.3342,-492.2224C741.2371,-494.1798 749.9712,-496.1001 757.9592,-497.8563\"/>\n",
       "<polygon fill=\"#000000\" stroke=\"#000000\" points=\"757.4636,-501.3308 767.9819,-500.0599 758.9668,-494.4941 757.4636,-501.3308\"/>\n",
       "</g>\n",
       "<!-- 3143 -->\n",
       "<g id=\"node16\" class=\"node\">\n",
       "<title>3143</title>\n",
       "<path fill=\"#c0c0c0\" stroke=\"#000000\" d=\"M810,-470C810,-470 780,-470 780,-470 774,-470 768,-464 768,-458 768,-458 768,-446 768,-446 768,-440 774,-434 780,-434 780,-434 810,-434 810,-434 816,-434 822,-440 822,-446 822,-446 822,-458 822,-458 822,-464 816,-470 810,-470\"/>\n",
       "<text text-anchor=\"middle\" x=\"795\" y=\"-448.3\" font-family=\"Helvetica,sans-Serif\" font-size=\"14.00\" fill=\"#000000\">(...)</text>\n",
       "</g>\n",
       "<!-- 3021&#45;&gt;3143 -->\n",
       "<g id=\"edge15\" class=\"edge\">\n",
       "<title>3021&#45;&gt;3143</title>\n",
       "<path fill=\"none\" stroke=\"#000000\" d=\"M732.3342,-462.2221C741.2371,-460.7698 749.9712,-459.3451 757.9592,-458.0421\"/>\n",
       "<polygon fill=\"#000000\" stroke=\"#000000\" points=\"758.6759,-461.4716 767.9819,-456.4072 757.5489,-454.5629 758.6759,-461.4716\"/>\n",
       "</g>\n",
       "<!-- 3271 -->\n",
       "<g id=\"node18\" class=\"node\">\n",
       "<title>3271</title>\n",
       "<path fill=\"#e58139\" fill-opacity=\"0.447059\" stroke=\"#000000\" d=\"M528,-364.5C528,-364.5 396,-364.5 396,-364.5 390,-364.5 384,-358.5 384,-352.5 384,-352.5 384,-293.5 384,-293.5 384,-287.5 390,-281.5 396,-281.5 396,-281.5 528,-281.5 528,-281.5 534,-281.5 540,-287.5 540,-293.5 540,-293.5 540,-352.5 540,-352.5 540,-358.5 534,-364.5 528,-364.5\"/>\n",
       "<text text-anchor=\"start\" x=\"420.5\" y=\"-349.3\" font-family=\"Helvetica,sans-Serif\" font-size=\"14.00\" fill=\"#000000\">contact ≤ 1.5</text>\n",
       "<text text-anchor=\"start\" x=\"424\" y=\"-334.3\" font-family=\"Helvetica,sans-Serif\" font-size=\"14.00\" fill=\"#000000\">gini = 0.459</text>\n",
       "<text text-anchor=\"start\" x=\"410\" y=\"-319.3\" font-family=\"Helvetica,sans-Serif\" font-size=\"14.00\" fill=\"#000000\">samples = 7.8%</text>\n",
       "<text text-anchor=\"start\" x=\"392\" y=\"-304.3\" font-family=\"Helvetica,sans-Serif\" font-size=\"14.00\" fill=\"#000000\">value = [0.644, 0.356]</text>\n",
       "<text text-anchor=\"start\" x=\"428.5\" y=\"-289.3\" font-family=\"Helvetica,sans-Serif\" font-size=\"14.00\" fill=\"#000000\">class = no</text>\n",
       "</g>\n",
       "<!-- 3270&#45;&gt;3271 -->\n",
       "<g id=\"edge17\" class=\"edge\">\n",
       "<title>3270&#45;&gt;3271</title>\n",
       "<path fill=\"none\" stroke=\"#000000\" d=\"M348.0938,-323C356.6006,-323 365.3019,-323 373.9175,-323\"/>\n",
       "<polygon fill=\"#000000\" stroke=\"#000000\" points=\"373.9755,-326.5001 383.9755,-323 373.9754,-319.5001 373.9755,-326.5001\"/>\n",
       "</g>\n",
       "<!-- 4396 -->\n",
       "<g id=\"node25\" class=\"node\">\n",
       "<title>4396</title>\n",
       "<path fill=\"#399de5\" fill-opacity=\"0.298039\" stroke=\"#000000\" d=\"M528,-213.5C528,-213.5 396,-213.5 396,-213.5 390,-213.5 384,-207.5 384,-201.5 384,-201.5 384,-142.5 384,-142.5 384,-136.5 390,-130.5 396,-130.5 396,-130.5 528,-130.5 528,-130.5 534,-130.5 540,-136.5 540,-142.5 540,-142.5 540,-201.5 540,-201.5 540,-207.5 534,-213.5 528,-213.5\"/>\n",
       "<text text-anchor=\"start\" x=\"420.5\" y=\"-198.3\" font-family=\"Helvetica,sans-Serif\" font-size=\"14.00\" fill=\"#000000\">contact ≤ 0.5</text>\n",
       "<text text-anchor=\"start\" x=\"424\" y=\"-183.3\" font-family=\"Helvetica,sans-Serif\" font-size=\"14.00\" fill=\"#000000\">gini = 0.485</text>\n",
       "<text text-anchor=\"start\" x=\"410\" y=\"-168.3\" font-family=\"Helvetica,sans-Serif\" font-size=\"14.00\" fill=\"#000000\">samples = 3.9%</text>\n",
       "<text text-anchor=\"start\" x=\"392\" y=\"-153.3\" font-family=\"Helvetica,sans-Serif\" font-size=\"14.00\" fill=\"#000000\">value = [0.412, 0.588]</text>\n",
       "<text text-anchor=\"start\" x=\"425.5\" y=\"-138.3\" font-family=\"Helvetica,sans-Serif\" font-size=\"14.00\" fill=\"#000000\">class = yes</text>\n",
       "</g>\n",
       "<!-- 3270&#45;&gt;4396 -->\n",
       "<g id=\"edge24\" class=\"edge\">\n",
       "<title>3270&#45;&gt;4396</title>\n",
       "<path fill=\"none\" stroke=\"#000000\" d=\"M322.9731,-281.3389C347.2114,-262.2765 376.0636,-239.5854 401.1851,-219.8284\"/>\n",
       "<polygon fill=\"#000000\" stroke=\"#000000\" points=\"403.5031,-222.4582 409.1998,-213.5252 399.1758,-216.9559 403.5031,-222.4582\"/>\n",
       "</g>\n",
       "<!-- 3272 -->\n",
       "<g id=\"node19\" class=\"node\">\n",
       "<title>3272</title>\n",
       "<path fill=\"#e58139\" fill-opacity=\"0.313725\" stroke=\"#000000\" d=\"M720,-415.5C720,-415.5 588,-415.5 588,-415.5 582,-415.5 576,-409.5 576,-403.5 576,-403.5 576,-344.5 576,-344.5 576,-338.5 582,-332.5 588,-332.5 588,-332.5 720,-332.5 720,-332.5 726,-332.5 732,-338.5 732,-344.5 732,-344.5 732,-403.5 732,-403.5 732,-409.5 726,-415.5 720,-415.5\"/>\n",
       "<text text-anchor=\"start\" x=\"601.5\" y=\"-400.3\" font-family=\"Helvetica,sans-Serif\" font-size=\"14.00\" fill=\"#000000\">duration ≤ 6.454</text>\n",
       "<text text-anchor=\"start\" x=\"616\" y=\"-385.3\" font-family=\"Helvetica,sans-Serif\" font-size=\"14.00\" fill=\"#000000\">gini = 0.483</text>\n",
       "<text text-anchor=\"start\" x=\"602\" y=\"-370.3\" font-family=\"Helvetica,sans-Serif\" font-size=\"14.00\" fill=\"#000000\">samples = 5.7%</text>\n",
       "<text text-anchor=\"start\" x=\"584\" y=\"-355.3\" font-family=\"Helvetica,sans-Serif\" font-size=\"14.00\" fill=\"#000000\">value = [0.593, 0.407]</text>\n",
       "<text text-anchor=\"start\" x=\"620.5\" y=\"-340.3\" font-family=\"Helvetica,sans-Serif\" font-size=\"14.00\" fill=\"#000000\">class = no</text>\n",
       "</g>\n",
       "<!-- 3271&#45;&gt;3272 -->\n",
       "<g id=\"edge18\" class=\"edge\">\n",
       "<title>3271&#45;&gt;3272</title>\n",
       "<path fill=\"none\" stroke=\"#000000\" d=\"M540.0938,-343.7437C548.693,-346.0278 557.491,-348.3648 566.1984,-350.6777\"/>\n",
       "<polygon fill=\"#000000\" stroke=\"#000000\" points=\"565.4121,-354.0901 575.9755,-353.2747 567.2092,-347.3247 565.4121,-354.0901\"/>\n",
       "</g>\n",
       "<!-- 4105 -->\n",
       "<g id=\"node22\" class=\"node\">\n",
       "<title>4105</title>\n",
       "<path fill=\"#e58139\" fill-opacity=\"0.721569\" stroke=\"#000000\" d=\"M720,-314.5C720,-314.5 588,-314.5 588,-314.5 582,-314.5 576,-308.5 576,-302.5 576,-302.5 576,-243.5 576,-243.5 576,-237.5 582,-231.5 588,-231.5 588,-231.5 720,-231.5 720,-231.5 726,-231.5 732,-237.5 732,-243.5 732,-243.5 732,-302.5 732,-302.5 732,-308.5 726,-314.5 720,-314.5\"/>\n",
       "<text text-anchor=\"start\" x=\"601.5\" y=\"-299.3\" font-family=\"Helvetica,sans-Serif\" font-size=\"14.00\" fill=\"#000000\">duration ≤ 6.507</text>\n",
       "<text text-anchor=\"start\" x=\"620.5\" y=\"-284.3\" font-family=\"Helvetica,sans-Serif\" font-size=\"14.00\" fill=\"#000000\">gini = 0.34</text>\n",
       "<text text-anchor=\"start\" x=\"602\" y=\"-269.3\" font-family=\"Helvetica,sans-Serif\" font-size=\"14.00\" fill=\"#000000\">samples = 2.1%</text>\n",
       "<text text-anchor=\"start\" x=\"584\" y=\"-254.3\" font-family=\"Helvetica,sans-Serif\" font-size=\"14.00\" fill=\"#000000\">value = [0.783, 0.217]</text>\n",
       "<text text-anchor=\"start\" x=\"620.5\" y=\"-239.3\" font-family=\"Helvetica,sans-Serif\" font-size=\"14.00\" fill=\"#000000\">class = no</text>\n",
       "</g>\n",
       "<!-- 3271&#45;&gt;4105 -->\n",
       "<g id=\"edge21\" class=\"edge\">\n",
       "<title>3271&#45;&gt;4105</title>\n",
       "<path fill=\"none\" stroke=\"#000000\" d=\"M540.0938,-302.6631C548.693,-300.4237 557.491,-298.1325 566.1984,-295.865\"/>\n",
       "<polygon fill=\"#000000\" stroke=\"#000000\" points=\"567.1803,-299.2261 575.9755,-293.3189 565.4161,-292.452 567.1803,-299.2261\"/>\n",
       "</g>\n",
       "<!-- 3273 -->\n",
       "<g id=\"node20\" class=\"node\">\n",
       "<title>3273</title>\n",
       "<path fill=\"#c0c0c0\" stroke=\"#000000\" d=\"M810,-416C810,-416 780,-416 780,-416 774,-416 768,-410 768,-404 768,-404 768,-392 768,-392 768,-386 774,-380 780,-380 780,-380 810,-380 810,-380 816,-380 822,-386 822,-392 822,-392 822,-404 822,-404 822,-410 816,-416 810,-416\"/>\n",
       "<text text-anchor=\"middle\" x=\"795\" y=\"-394.3\" font-family=\"Helvetica,sans-Serif\" font-size=\"14.00\" fill=\"#000000\">(...)</text>\n",
       "</g>\n",
       "<!-- 3272&#45;&gt;3273 -->\n",
       "<g id=\"edge19\" class=\"edge\">\n",
       "<title>3272&#45;&gt;3273</title>\n",
       "<path fill=\"none\" stroke=\"#000000\" d=\"M732.3342,-387.3335C741.2371,-388.8489 749.9712,-390.3355 757.9592,-391.6952\"/>\n",
       "<polygon fill=\"#000000\" stroke=\"#000000\" points=\"757.5364,-395.1735 767.9819,-393.4012 758.711,-388.2727 757.5364,-395.1735\"/>\n",
       "</g>\n",
       "<!-- 3734 -->\n",
       "<g id=\"node21\" class=\"node\">\n",
       "<title>3734</title>\n",
       "<path fill=\"#c0c0c0\" stroke=\"#000000\" d=\"M810,-362C810,-362 780,-362 780,-362 774,-362 768,-356 768,-350 768,-350 768,-338 768,-338 768,-332 774,-326 780,-326 780,-326 810,-326 810,-326 816,-326 822,-332 822,-338 822,-338 822,-350 822,-350 822,-356 816,-362 810,-362\"/>\n",
       "<text text-anchor=\"middle\" x=\"795\" y=\"-340.3\" font-family=\"Helvetica,sans-Serif\" font-size=\"14.00\" fill=\"#000000\">(...)</text>\n",
       "</g>\n",
       "<!-- 3272&#45;&gt;3734 -->\n",
       "<g id=\"edge20\" class=\"edge\">\n",
       "<title>3272&#45;&gt;3734</title>\n",
       "<path fill=\"none\" stroke=\"#000000\" d=\"M732.3342,-357.3331C741.2371,-355.4389 749.9712,-353.5806 757.9592,-351.881\"/>\n",
       "<polygon fill=\"#000000\" stroke=\"#000000\" points=\"758.9293,-355.2531 767.9819,-349.7485 757.4725,-348.4063 758.9293,-355.2531\"/>\n",
       "</g>\n",
       "<!-- 4106 -->\n",
       "<g id=\"node23\" class=\"node\">\n",
       "<title>4106</title>\n",
       "<path fill=\"#c0c0c0\" stroke=\"#000000\" d=\"M810,-308C810,-308 780,-308 780,-308 774,-308 768,-302 768,-296 768,-296 768,-284 768,-284 768,-278 774,-272 780,-272 780,-272 810,-272 810,-272 816,-272 822,-278 822,-284 822,-284 822,-296 822,-296 822,-302 816,-308 810,-308\"/>\n",
       "<text text-anchor=\"middle\" x=\"795\" y=\"-286.3\" font-family=\"Helvetica,sans-Serif\" font-size=\"14.00\" fill=\"#000000\">(...)</text>\n",
       "</g>\n",
       "<!-- 4105&#45;&gt;4106 -->\n",
       "<g id=\"edge22\" class=\"edge\">\n",
       "<title>4105&#45;&gt;4106</title>\n",
       "<path fill=\"none\" stroke=\"#000000\" d=\"M732.3342,-282.4446C741.2371,-283.5179 749.9712,-284.571 757.9592,-285.5341\"/>\n",
       "<polygon fill=\"#000000\" stroke=\"#000000\" points=\"757.6348,-289.0202 767.9819,-286.7425 758.4728,-282.0706 757.6348,-289.0202\"/>\n",
       "</g>\n",
       "<!-- 4285 -->\n",
       "<g id=\"node24\" class=\"node\">\n",
       "<title>4285</title>\n",
       "<path fill=\"#c0c0c0\" stroke=\"#000000\" d=\"M810,-254C810,-254 780,-254 780,-254 774,-254 768,-248 768,-242 768,-242 768,-230 768,-230 768,-224 774,-218 780,-218 780,-218 810,-218 810,-218 816,-218 822,-224 822,-230 822,-230 822,-242 822,-242 822,-248 816,-254 810,-254\"/>\n",
       "<text text-anchor=\"middle\" x=\"795\" y=\"-232.3\" font-family=\"Helvetica,sans-Serif\" font-size=\"14.00\" fill=\"#000000\">(...)</text>\n",
       "</g>\n",
       "<!-- 4105&#45;&gt;4285 -->\n",
       "<g id=\"edge23\" class=\"edge\">\n",
       "<title>4105&#45;&gt;4285</title>\n",
       "<path fill=\"none\" stroke=\"#000000\" d=\"M732.3342,-252.4442C741.3371,-250.0817 750.1675,-247.7646 758.2282,-245.6493\"/>\n",
       "<polygon fill=\"#000000\" stroke=\"#000000\" points=\"759.1978,-249.0135 767.9819,-243.0899 757.421,-242.2427 759.1978,-249.0135\"/>\n",
       "</g>\n",
       "<!-- 4397 -->\n",
       "<g id=\"node26\" class=\"node\">\n",
       "<title>4397</title>\n",
       "<path fill=\"#399de5\" fill-opacity=\"0.400000\" stroke=\"#000000\" d=\"M720,-213.5C720,-213.5 588,-213.5 588,-213.5 582,-213.5 576,-207.5 576,-201.5 576,-201.5 576,-142.5 576,-142.5 576,-136.5 582,-130.5 588,-130.5 588,-130.5 720,-130.5 720,-130.5 726,-130.5 732,-136.5 732,-142.5 732,-142.5 732,-201.5 732,-201.5 732,-207.5 726,-213.5 720,-213.5\"/>\n",
       "<text text-anchor=\"start\" x=\"614.5\" y=\"-198.3\" font-family=\"Helvetica,sans-Serif\" font-size=\"14.00\" fill=\"#000000\">marital ≤ 1.5</text>\n",
       "<text text-anchor=\"start\" x=\"616\" y=\"-183.3\" font-family=\"Helvetica,sans-Serif\" font-size=\"14.00\" fill=\"#000000\">gini = 0.469</text>\n",
       "<text text-anchor=\"start\" x=\"602\" y=\"-168.3\" font-family=\"Helvetica,sans-Serif\" font-size=\"14.00\" fill=\"#000000\">samples = 2.6%</text>\n",
       "<text text-anchor=\"start\" x=\"584\" y=\"-153.3\" font-family=\"Helvetica,sans-Serif\" font-size=\"14.00\" fill=\"#000000\">value = [0.375, 0.625]</text>\n",
       "<text text-anchor=\"start\" x=\"617.5\" y=\"-138.3\" font-family=\"Helvetica,sans-Serif\" font-size=\"14.00\" fill=\"#000000\">class = yes</text>\n",
       "</g>\n",
       "<!-- 4396&#45;&gt;4397 -->\n",
       "<g id=\"edge25\" class=\"edge\">\n",
       "<title>4396&#45;&gt;4397</title>\n",
       "<path fill=\"none\" stroke=\"#000000\" d=\"M540.0938,-172C548.6006,-172 557.3019,-172 565.9175,-172\"/>\n",
       "<polygon fill=\"#000000\" stroke=\"#000000\" points=\"565.9755,-175.5001 575.9755,-172 565.9754,-168.5001 565.9755,-175.5001\"/>\n",
       "</g>\n",
       "<!-- 4828 -->\n",
       "<g id=\"node29\" class=\"node\">\n",
       "<title>4828</title>\n",
       "<path fill=\"#399de5\" fill-opacity=\"0.047059\" stroke=\"#000000\" d=\"M720,-112.5C720,-112.5 588,-112.5 588,-112.5 582,-112.5 576,-106.5 576,-100.5 576,-100.5 576,-41.5 576,-41.5 576,-35.5 582,-29.5 588,-29.5 588,-29.5 720,-29.5 720,-29.5 726,-29.5 732,-35.5 732,-41.5 732,-41.5 732,-100.5 732,-100.5 732,-106.5 726,-112.5 720,-112.5\"/>\n",
       "<text text-anchor=\"start\" x=\"601.5\" y=\"-97.3\" font-family=\"Helvetica,sans-Serif\" font-size=\"14.00\" fill=\"#000000\">duration ≤ 7.128</text>\n",
       "<text text-anchor=\"start\" x=\"624.5\" y=\"-82.3\" font-family=\"Helvetica,sans-Serif\" font-size=\"14.00\" fill=\"#000000\">gini = 0.5</text>\n",
       "<text text-anchor=\"start\" x=\"602\" y=\"-67.3\" font-family=\"Helvetica,sans-Serif\" font-size=\"14.00\" fill=\"#000000\">samples = 1.3%</text>\n",
       "<text text-anchor=\"start\" x=\"584\" y=\"-52.3\" font-family=\"Helvetica,sans-Serif\" font-size=\"14.00\" fill=\"#000000\">value = [0.488, 0.512]</text>\n",
       "<text text-anchor=\"start\" x=\"617.5\" y=\"-37.3\" font-family=\"Helvetica,sans-Serif\" font-size=\"14.00\" fill=\"#000000\">class = yes</text>\n",
       "</g>\n",
       "<!-- 4396&#45;&gt;4828 -->\n",
       "<g id=\"edge28\" class=\"edge\">\n",
       "<title>4396&#45;&gt;4828</title>\n",
       "<path fill=\"none\" stroke=\"#000000\" d=\"M540.0938,-130.9194C548.9704,-126.2499 558.0589,-121.469 567.0408,-116.7442\"/>\n",
       "<polygon fill=\"#000000\" stroke=\"#000000\" points=\"568.7547,-119.7973 575.9755,-112.0442 565.4958,-113.6022 568.7547,-119.7973\"/>\n",
       "</g>\n",
       "<!-- 4398 -->\n",
       "<g id=\"node27\" class=\"node\">\n",
       "<title>4398</title>\n",
       "<path fill=\"#c0c0c0\" stroke=\"#000000\" d=\"M810,-199C810,-199 780,-199 780,-199 774,-199 768,-193 768,-187 768,-187 768,-175 768,-175 768,-169 774,-163 780,-163 780,-163 810,-163 810,-163 816,-163 822,-169 822,-175 822,-175 822,-187 822,-187 822,-193 816,-199 810,-199\"/>\n",
       "<text text-anchor=\"middle\" x=\"795\" y=\"-177.3\" font-family=\"Helvetica,sans-Serif\" font-size=\"14.00\" fill=\"#000000\">(...)</text>\n",
       "</g>\n",
       "<!-- 4397&#45;&gt;4398 -->\n",
       "<g id=\"edge26\" class=\"edge\">\n",
       "<title>4397&#45;&gt;4398</title>\n",
       "<path fill=\"none\" stroke=\"#000000\" d=\"M732.3342,-177.0001C741.2371,-177.5683 749.9712,-178.1258 757.9592,-178.6357\"/>\n",
       "<polygon fill=\"#000000\" stroke=\"#000000\" points=\"757.7792,-182.1312 767.9819,-179.2754 758.2252,-175.1455 757.7792,-182.1312\"/>\n",
       "</g>\n",
       "<!-- 4699 -->\n",
       "<g id=\"node28\" class=\"node\">\n",
       "<title>4699</title>\n",
       "<path fill=\"#c0c0c0\" stroke=\"#000000\" d=\"M810,-145C810,-145 780,-145 780,-145 774,-145 768,-139 768,-133 768,-133 768,-121 768,-121 768,-115 774,-109 780,-109 780,-109 810,-109 810,-109 816,-109 822,-115 822,-121 822,-121 822,-133 822,-133 822,-139 816,-145 810,-145\"/>\n",
       "<text text-anchor=\"middle\" x=\"795\" y=\"-123.3\" font-family=\"Helvetica,sans-Serif\" font-size=\"14.00\" fill=\"#000000\">(...)</text>\n",
       "</g>\n",
       "<!-- 4397&#45;&gt;4699 -->\n",
       "<g id=\"edge27\" class=\"edge\">\n",
       "<title>4397&#45;&gt;4699</title>\n",
       "<path fill=\"none\" stroke=\"#000000\" d=\"M732.3342,-146.9997C741.3371,-144.1264 750.1675,-141.3083 758.2282,-138.7357\"/>\n",
       "<polygon fill=\"#000000\" stroke=\"#000000\" points=\"759.5195,-141.9976 767.9819,-135.6228 757.3912,-135.329 759.5195,-141.9976\"/>\n",
       "</g>\n",
       "<!-- 4829 -->\n",
       "<g id=\"node30\" class=\"node\">\n",
       "<title>4829</title>\n",
       "<path fill=\"#c0c0c0\" stroke=\"#000000\" d=\"M810,-90C810,-90 780,-90 780,-90 774,-90 768,-84 768,-78 768,-78 768,-66 768,-66 768,-60 774,-54 780,-54 780,-54 810,-54 810,-54 816,-54 822,-60 822,-66 822,-66 822,-78 822,-78 822,-84 816,-90 810,-90\"/>\n",
       "<text text-anchor=\"middle\" x=\"795\" y=\"-68.3\" font-family=\"Helvetica,sans-Serif\" font-size=\"14.00\" fill=\"#000000\">(...)</text>\n",
       "</g>\n",
       "<!-- 4828&#45;&gt;4829 -->\n",
       "<g id=\"edge29\" class=\"edge\">\n",
       "<title>4828&#45;&gt;4829</title>\n",
       "<path fill=\"none\" stroke=\"#000000\" d=\"M732.3342,-71.5556C741.2371,-71.6187 749.9712,-71.6806 757.9592,-71.7373\"/>\n",
       "<polygon fill=\"#000000\" stroke=\"#000000\" points=\"757.9573,-75.2373 767.9819,-71.8084 758.007,-68.2375 757.9573,-75.2373\"/>\n",
       "</g>\n",
       "<!-- 4968 -->\n",
       "<g id=\"node31\" class=\"node\">\n",
       "<title>4968</title>\n",
       "<path fill=\"#c0c0c0\" stroke=\"#000000\" d=\"M810,-36C810,-36 780,-36 780,-36 774,-36 768,-30 768,-24 768,-24 768,-12 768,-12 768,-6 774,0 780,0 780,0 810,0 810,0 816,0 822,-6 822,-12 822,-12 822,-24 822,-24 822,-30 816,-36 810,-36\"/>\n",
       "<text text-anchor=\"middle\" x=\"795\" y=\"-14.3\" font-family=\"Helvetica,sans-Serif\" font-size=\"14.00\" fill=\"#000000\">(...)</text>\n",
       "</g>\n",
       "<!-- 4828&#45;&gt;4968 -->\n",
       "<g id=\"edge30\" class=\"edge\">\n",
       "<title>4828&#45;&gt;4968</title>\n",
       "<path fill=\"none\" stroke=\"#000000\" d=\"M732.3342,-41.5552C741.4372,-38.1336 750.3637,-34.7782 758.4966,-31.7211\"/>\n",
       "<polygon fill=\"#000000\" stroke=\"#000000\" points=\"759.8528,-34.9505 767.9819,-28.1557 757.3898,-28.3981 759.8528,-34.9505\"/>\n",
       "</g>\n",
       "</g>\n",
       "</svg>\n"
      ],
      "text/plain": [
       "<graphviz.files.Source at 0x7f4e92402240>"
      ]
     },
     "execution_count": 19,
     "metadata": {},
     "output_type": "execute_result"
    }
   ],
   "source": [
    "dot_data = export_graphviz(model_tree, out_file=None, \n",
    "                         feature_names=deposit.columns[:-1],  \n",
    "                         class_names=['no', 'yes'],  \n",
    "                         filled=True, rounded=True,  \n",
    "                         special_characters=True, \n",
    "                         rotate=True,\n",
    "                         proportion=True,\n",
    "                         max_depth=3)  \n",
    "graph = graphviz.Source(dot_data)  \n",
    "graph "
   ]
  },
  {
   "cell_type": "code",
   "execution_count": 20,
   "metadata": {},
   "outputs": [
    {
     "data": {
      "text/html": [
       "<div>\n",
       "<style scoped>\n",
       "    .dataframe tbody tr th:only-of-type {\n",
       "        vertical-align: middle;\n",
       "    }\n",
       "\n",
       "    .dataframe tbody tr th {\n",
       "        vertical-align: top;\n",
       "    }\n",
       "\n",
       "    .dataframe thead th {\n",
       "        text-align: right;\n",
       "    }\n",
       "</style>\n",
       "<table border=\"1\" class=\"dataframe\">\n",
       "  <thead>\n",
       "    <tr style=\"text-align: right;\">\n",
       "      <th>Predicted</th>\n",
       "      <th>no</th>\n",
       "      <th>yes</th>\n",
       "    </tr>\n",
       "    <tr>\n",
       "      <th>Actual</th>\n",
       "      <th></th>\n",
       "      <th></th>\n",
       "    </tr>\n",
       "  </thead>\n",
       "  <tbody>\n",
       "    <tr>\n",
       "      <th>no</th>\n",
       "      <td>12216</td>\n",
       "      <td>1073</td>\n",
       "    </tr>\n",
       "    <tr>\n",
       "      <th>yes</th>\n",
       "      <td>943</td>\n",
       "      <td>839</td>\n",
       "    </tr>\n",
       "  </tbody>\n",
       "</table>\n",
       "</div>"
      ],
      "text/plain": [
       "Predicted     no   yes\n",
       "Actual                \n",
       "no         12216  1073\n",
       "yes          943   839"
      ]
     },
     "execution_count": 20,
     "metadata": {},
     "output_type": "execute_result"
    }
   ],
   "source": [
    "pred = model_tree.predict(test.loc[:,:'poutcome'])\n",
    "\n",
    "confusion(test.subscribe,pred,['no','yes'])\n"
   ]
  },
  {
   "cell_type": "markdown",
   "metadata": {},
   "source": [
    "prediction error"
   ]
  },
  {
   "cell_type": "code",
   "execution_count": 21,
   "metadata": {},
   "outputs": [
    {
     "data": {
      "text/plain": [
       "13.376683697166747"
      ]
     },
     "execution_count": 21,
     "metadata": {},
     "output_type": "execute_result"
    }
   ],
   "source": [
    "(1-accuracy_score(test.subscribe,pred))*100"
   ]
  },
  {
   "cell_type": "markdown",
   "metadata": {},
   "source": [
    "F1 score"
   ]
  },
  {
   "cell_type": "code",
   "execution_count": 22,
   "metadata": {},
   "outputs": [
    {
     "data": {
      "text/plain": [
       "0.45425013535462916"
      ]
     },
     "execution_count": 22,
     "metadata": {},
     "output_type": "execute_result"
    }
   ],
   "source": [
    "f1_score(test.subscribe,pred)"
   ]
  },
  {
   "cell_type": "markdown",
   "metadata": {},
   "source": [
    "From the detailed report we can see that the classification for the class `yes` is not very good"
   ]
  },
  {
   "cell_type": "code",
   "execution_count": 23,
   "metadata": {},
   "outputs": [
    {
     "name": "stdout",
     "output_type": "stream",
     "text": [
      "             precision    recall  f1-score   support\n",
      "\n",
      "         no       0.93      0.92      0.92     13289\n",
      "        yes       0.44      0.47      0.45      1782\n",
      "\n",
      "avg / total       0.87      0.87      0.87     15071\n",
      "\n"
     ]
    }
   ],
   "source": [
    "print(classification_report(test.subscribe,\n",
    "                            pred,\n",
    "                            target_names=['no', 'yes'],))"
   ]
  },
  {
   "cell_type": "markdown",
   "metadata": {},
   "source": [
    "***"
   ]
  },
  {
   "cell_type": "markdown",
   "metadata": {},
   "source": [
    " Now a random Forest"
   ]
  },
  {
   "cell_type": "code",
   "execution_count": 24,
   "metadata": {},
   "outputs": [
    {
     "name": "stderr",
     "output_type": "stream",
     "text": [
      "/home/bejar/.local/lib/python3.6/site-packages/sklearn/ensemble/forest.py:453: UserWarning: Some inputs do not have OOB scores. This probably means too few trees were used to compute any reliable oob estimates.\n",
      "  warn(\"Some inputs do not have OOB scores. \"\n",
      "/home/bejar/.local/lib/python3.6/site-packages/sklearn/ensemble/forest.py:458: RuntimeWarning: invalid value encountered in true_divide\n",
      "  predictions[k].sum(axis=1)[:, np.newaxis])\n"
     ]
    },
    {
     "data": {
      "text/html": [
       "<div>\n",
       "<style scoped>\n",
       "    .dataframe tbody tr th:only-of-type {\n",
       "        vertical-align: middle;\n",
       "    }\n",
       "\n",
       "    .dataframe tbody tr th {\n",
       "        vertical-align: top;\n",
       "    }\n",
       "\n",
       "    .dataframe thead th {\n",
       "        text-align: right;\n",
       "    }\n",
       "</style>\n",
       "<table border=\"1\" class=\"dataframe\">\n",
       "  <thead>\n",
       "    <tr style=\"text-align: right;\">\n",
       "      <th>Predicted</th>\n",
       "      <th>no</th>\n",
       "      <th>yes</th>\n",
       "    </tr>\n",
       "    <tr>\n",
       "      <th>Actual</th>\n",
       "      <th></th>\n",
       "      <th></th>\n",
       "    </tr>\n",
       "  </thead>\n",
       "  <tbody>\n",
       "    <tr>\n",
       "      <th>no</th>\n",
       "      <td>26628</td>\n",
       "      <td>5</td>\n",
       "    </tr>\n",
       "    <tr>\n",
       "      <th>yes</th>\n",
       "      <td>247</td>\n",
       "      <td>3260</td>\n",
       "    </tr>\n",
       "  </tbody>\n",
       "</table>\n",
       "</div>"
      ],
      "text/plain": [
       "Predicted     no   yes\n",
       "Actual                \n",
       "no         26628     5\n",
       "yes          247  3260"
      ]
     },
     "execution_count": 24,
     "metadata": {},
     "output_type": "execute_result"
    },
    {
     "name": "stdout",
     "output_type": "stream",
     "text": [
      "             precision    recall  f1-score   support\n",
      "\n",
      "         no       0.99      1.00      1.00     26633\n",
      "        yes       1.00      0.93      0.96      3507\n",
      "\n",
      "avg / total       0.99      0.99      0.99     30140\n",
      "\n",
      "OOB error= 0.10776376907763774\n"
     ]
    }
   ],
   "source": [
    "model_rf1 = RandomForestClassifier(oob_score=True).fit(train.loc[:,:'poutcome'],\n",
    "                                                       train.subscribe)\n",
    "\n",
    "pred = model_rf1.predict(train.loc[:,:'poutcome'])\n",
    "\n",
    "confusion(train.subscribe,pred, ['no','yes'])\n",
    "\n",
    "print(classification_report(train.subscribe,\n",
    "                            pred,\n",
    "                            target_names=['no', 'yes'],))\n",
    "\n",
    "print('OOB error=', 1-model_rf1.oob_score_)"
   ]
  },
  {
   "cell_type": "markdown",
   "metadata": {},
   "source": [
    "We get now a better estimated test error (OOB)\n",
    "\n",
    "let's compute the real test error:"
   ]
  },
  {
   "cell_type": "code",
   "execution_count": 25,
   "metadata": {},
   "outputs": [
    {
     "data": {
      "text/html": [
       "<div>\n",
       "<style scoped>\n",
       "    .dataframe tbody tr th:only-of-type {\n",
       "        vertical-align: middle;\n",
       "    }\n",
       "\n",
       "    .dataframe tbody tr th {\n",
       "        vertical-align: top;\n",
       "    }\n",
       "\n",
       "    .dataframe thead th {\n",
       "        text-align: right;\n",
       "    }\n",
       "</style>\n",
       "<table border=\"1\" class=\"dataframe\">\n",
       "  <thead>\n",
       "    <tr style=\"text-align: right;\">\n",
       "      <th>Predicted</th>\n",
       "      <th>no</th>\n",
       "      <th>yes</th>\n",
       "    </tr>\n",
       "    <tr>\n",
       "      <th>Actual</th>\n",
       "      <th></th>\n",
       "      <th></th>\n",
       "    </tr>\n",
       "  </thead>\n",
       "  <tbody>\n",
       "    <tr>\n",
       "      <th>no</th>\n",
       "      <td>12890</td>\n",
       "      <td>399</td>\n",
       "    </tr>\n",
       "    <tr>\n",
       "      <th>yes</th>\n",
       "      <td>1095</td>\n",
       "      <td>687</td>\n",
       "    </tr>\n",
       "  </tbody>\n",
       "</table>\n",
       "</div>"
      ],
      "text/plain": [
       "Predicted     no  yes\n",
       "Actual               \n",
       "no         12890  399\n",
       "yes         1095  687"
      ]
     },
     "execution_count": 25,
     "metadata": {},
     "output_type": "execute_result"
    }
   ],
   "source": [
    "pred = model_rf1.predict(test.loc[:,:'poutcome'])\n",
    "\n",
    "confusion(test.subscribe,pred, ['no','yes'])"
   ]
  },
  {
   "cell_type": "markdown",
   "metadata": {},
   "source": [
    "Error"
   ]
  },
  {
   "cell_type": "code",
   "execution_count": 26,
   "metadata": {},
   "outputs": [
    {
     "data": {
      "text/plain": [
       "9.9130780970075"
      ]
     },
     "execution_count": 26,
     "metadata": {},
     "output_type": "execute_result"
    }
   ],
   "source": [
    "(1-accuracy_score(test.subscribe,pred))*100"
   ]
  },
  {
   "cell_type": "markdown",
   "metadata": {},
   "source": [
    "F1 score"
   ]
  },
  {
   "cell_type": "code",
   "execution_count": 27,
   "metadata": {},
   "outputs": [
    {
     "data": {
      "text/plain": [
       "0.4790794979079498"
      ]
     },
     "execution_count": 27,
     "metadata": {},
     "output_type": "execute_result"
    }
   ],
   "source": [
    "f1_score(test.subscribe,pred)"
   ]
  },
  {
   "cell_type": "code",
   "execution_count": 28,
   "metadata": {},
   "outputs": [
    {
     "name": "stdout",
     "output_type": "stream",
     "text": [
      "             precision    recall  f1-score   support\n",
      "\n",
      "         no       0.92      0.97      0.95     13289\n",
      "        yes       0.63      0.39      0.48      1782\n",
      "\n",
      "avg / total       0.89      0.90      0.89     15071\n",
      "\n"
     ]
    }
   ],
   "source": [
    "print(classification_report(test.subscribe,\n",
    "                            pred,\n",
    "                            target_names=['no', 'yes'],))"
   ]
  },
  {
   "cell_type": "markdown",
   "metadata": {},
   "source": [
    "So OOB really works in estimating prediction error and the RF is better than a single tree; \n",
    " however, there is a big issue in unbalanced classes\n",
    "\n",
    " one way to deal with this is to include class weights"
   ]
  },
  {
   "cell_type": "code",
   "execution_count": 29,
   "metadata": {},
   "outputs": [
    {
     "data": {
      "text/html": [
       "<div>\n",
       "<style scoped>\n",
       "    .dataframe tbody tr th:only-of-type {\n",
       "        vertical-align: middle;\n",
       "    }\n",
       "\n",
       "    .dataframe tbody tr th {\n",
       "        vertical-align: top;\n",
       "    }\n",
       "\n",
       "    .dataframe thead th {\n",
       "        text-align: right;\n",
       "    }\n",
       "</style>\n",
       "<table border=\"1\" class=\"dataframe\">\n",
       "  <thead>\n",
       "    <tr style=\"text-align: right;\">\n",
       "      <th>Predicted</th>\n",
       "      <th>no</th>\n",
       "      <th>yes</th>\n",
       "    </tr>\n",
       "    <tr>\n",
       "      <th>Actual</th>\n",
       "      <th></th>\n",
       "      <th></th>\n",
       "    </tr>\n",
       "  </thead>\n",
       "  <tbody>\n",
       "    <tr>\n",
       "      <th>no</th>\n",
       "      <td>26633</td>\n",
       "      <td>0</td>\n",
       "    </tr>\n",
       "    <tr>\n",
       "      <th>yes</th>\n",
       "      <td>1</td>\n",
       "      <td>3506</td>\n",
       "    </tr>\n",
       "  </tbody>\n",
       "</table>\n",
       "</div>"
      ],
      "text/plain": [
       "Predicted     no   yes\n",
       "Actual                \n",
       "no         26633     0\n",
       "yes            1  3506"
      ]
     },
     "execution_count": 29,
     "metadata": {},
     "output_type": "execute_result"
    },
    {
     "name": "stdout",
     "output_type": "stream",
     "text": [
      "             precision    recall  f1-score   support\n",
      "\n",
      "         no       1.00      1.00      1.00     26633\n",
      "        yes       1.00      1.00      1.00      3507\n",
      "\n",
      "avg / total       1.00      1.00      1.00     30140\n",
      "\n",
      "OOB error= 0.10066357000663573\n"
     ]
    }
   ],
   "source": [
    "model_rf2 = RandomForestClassifier(n_estimators=100, \n",
    "                                   oob_score=True, \n",
    "                                   class_weight={0:1,1:10}).fit(train.loc[:,:'poutcome'],\n",
    "                                                                train.subscribe)\n",
    "\n",
    "\n",
    "pred = model_rf2.predict(train.loc[:,:'poutcome'])\n",
    "\n",
    "confusion(train.subscribe,pred, ['no','yes'])\n",
    "\n",
    "print(classification_report(train.subscribe,pred,target_names=['no', 'yes'],))\n",
    "\n",
    "print('OOB error=', 1- model_rf2.oob_score_)"
   ]
  },
  {
   "cell_type": "markdown",
   "metadata": {},
   "source": [
    "which helps a little bit, but not much:  with a better balance; let's compute the real test error:"
   ]
  },
  {
   "cell_type": "code",
   "execution_count": 30,
   "metadata": {},
   "outputs": [
    {
     "data": {
      "text/html": [
       "<div>\n",
       "<style scoped>\n",
       "    .dataframe tbody tr th:only-of-type {\n",
       "        vertical-align: middle;\n",
       "    }\n",
       "\n",
       "    .dataframe tbody tr th {\n",
       "        vertical-align: top;\n",
       "    }\n",
       "\n",
       "    .dataframe thead th {\n",
       "        text-align: right;\n",
       "    }\n",
       "</style>\n",
       "<table border=\"1\" class=\"dataframe\">\n",
       "  <thead>\n",
       "    <tr style=\"text-align: right;\">\n",
       "      <th>Predicted</th>\n",
       "      <th>no</th>\n",
       "      <th>yes</th>\n",
       "    </tr>\n",
       "    <tr>\n",
       "      <th>Actual</th>\n",
       "      <th></th>\n",
       "      <th></th>\n",
       "    </tr>\n",
       "  </thead>\n",
       "  <tbody>\n",
       "    <tr>\n",
       "      <th>no</th>\n",
       "      <td>12996</td>\n",
       "      <td>293</td>\n",
       "    </tr>\n",
       "    <tr>\n",
       "      <th>yes</th>\n",
       "      <td>1178</td>\n",
       "      <td>604</td>\n",
       "    </tr>\n",
       "  </tbody>\n",
       "</table>\n",
       "</div>"
      ],
      "text/plain": [
       "Predicted     no  yes\n",
       "Actual               \n",
       "no         12996  293\n",
       "yes         1178  604"
      ]
     },
     "execution_count": 30,
     "metadata": {},
     "output_type": "execute_result"
    }
   ],
   "source": [
    "pred = model_rf2.predict(test.loc[:,:'poutcome'])\n",
    "\n",
    "confusion(test.subscribe,pred,['no','yes'])"
   ]
  },
  {
   "cell_type": "code",
   "execution_count": 31,
   "metadata": {},
   "outputs": [
    {
     "data": {
      "text/plain": [
       "9.760467122287842"
      ]
     },
     "execution_count": 31,
     "metadata": {},
     "output_type": "execute_result"
    }
   ],
   "source": [
    "(1-accuracy_score(test.subscribe,pred))*100"
   ]
  },
  {
   "cell_type": "code",
   "execution_count": 32,
   "metadata": {},
   "outputs": [
    {
     "data": {
      "text/plain": [
       "0.4509145203434118"
      ]
     },
     "execution_count": 32,
     "metadata": {},
     "output_type": "execute_result"
    }
   ],
   "source": [
    "f1_score(test.subscribe,pred)"
   ]
  },
  {
   "cell_type": "code",
   "execution_count": 33,
   "metadata": {},
   "outputs": [
    {
     "name": "stdout",
     "output_type": "stream",
     "text": [
      "             precision    recall  f1-score   support\n",
      "\n",
      "         no       0.92      0.98      0.95     13289\n",
      "        yes       0.67      0.34      0.45      1782\n",
      "\n",
      "avg / total       0.89      0.90      0.89     15071\n",
      "\n"
     ]
    }
   ],
   "source": [
    "print(classification_report(test.subscribe,\n",
    "                            pred,\n",
    "                            target_names=['no', 'yes'],))"
   ]
  },
  {
   "cell_type": "markdown",
   "metadata": {},
   "source": [
    " another way is to balance the sampling in the boostrap resamples\n",
    "\n",
    " 'no' is the more represented class, so we down sample it\n",
    " \n",
    "scikit-learn does not provide resample algorithms, but we can use the imbalanced-learn library that provides many strategies for kind of problem."
   ]
  },
  {
   "cell_type": "markdown",
   "metadata": {},
   "source": [
    "We resample the training so the number of `yes` examples equals the number of `no` examples"
   ]
  },
  {
   "cell_type": "code",
   "execution_count": 34,
   "metadata": {},
   "outputs": [
    {
     "data": {
      "text/plain": [
       "(7014, 16)"
      ]
     },
     "execution_count": 34,
     "metadata": {},
     "output_type": "execute_result"
    }
   ],
   "source": [
    "rus = RandomUnderSampler()\n",
    "X_resampled, y_resampled = rus.fit_sample(train.loc[:,:'poutcome'], \n",
    "                                          train.subscribe)\n",
    "X_resampled.shape"
   ]
  },
  {
   "cell_type": "code",
   "execution_count": 35,
   "metadata": {},
   "outputs": [
    {
     "data": {
      "text/html": [
       "<div>\n",
       "<style scoped>\n",
       "    .dataframe tbody tr th:only-of-type {\n",
       "        vertical-align: middle;\n",
       "    }\n",
       "\n",
       "    .dataframe tbody tr th {\n",
       "        vertical-align: top;\n",
       "    }\n",
       "\n",
       "    .dataframe thead th {\n",
       "        text-align: right;\n",
       "    }\n",
       "</style>\n",
       "<table border=\"1\" class=\"dataframe\">\n",
       "  <thead>\n",
       "    <tr style=\"text-align: right;\">\n",
       "      <th>Predicted</th>\n",
       "      <th>no</th>\n",
       "      <th>yes</th>\n",
       "    </tr>\n",
       "    <tr>\n",
       "      <th>Actual</th>\n",
       "      <th></th>\n",
       "      <th></th>\n",
       "    </tr>\n",
       "  </thead>\n",
       "  <tbody>\n",
       "    <tr>\n",
       "      <th>no</th>\n",
       "      <td>22574</td>\n",
       "      <td>4059</td>\n",
       "    </tr>\n",
       "    <tr>\n",
       "      <th>yes</th>\n",
       "      <td>0</td>\n",
       "      <td>3507</td>\n",
       "    </tr>\n",
       "  </tbody>\n",
       "</table>\n",
       "</div>"
      ],
      "text/plain": [
       "Predicted     no   yes\n",
       "Actual                \n",
       "no         22574  4059\n",
       "yes            0  3507"
      ]
     },
     "execution_count": 35,
     "metadata": {},
     "output_type": "execute_result"
    },
    {
     "name": "stdout",
     "output_type": "stream",
     "text": [
      "             precision    recall  f1-score   support\n",
      "\n",
      "         no       1.00      0.85      0.92     26633\n",
      "        yes       0.46      1.00      0.63      3507\n",
      "\n",
      "avg / total       0.94      0.87      0.88     30140\n",
      "\n",
      "OOB error= 0.14556601083547194\n"
     ]
    }
   ],
   "source": [
    "model_rf3 = RandomForestClassifier(n_estimators=100, \n",
    "                                   oob_score=True).fit(X_resampled, \n",
    "                                                       y_resampled)\n",
    "\n",
    "pred = model_rf3.predict(train.loc[:,:'poutcome'])\n",
    "\n",
    "confusion(train.subscribe,pred, ['no','yes'])\n",
    "\n",
    "print(classification_report(train.subscribe,\n",
    "                            pred,\n",
    "                            target_names=['no', 'yes'],))\n",
    "\n",
    "print('OOB error=', 1- model_rf3.oob_score_)"
   ]
  },
  {
   "cell_type": "markdown",
   "metadata": {},
   "source": [
    "which seems to help much more for balancing the `yes` class\n",
    "\n",
    " let's compute the real test error:"
   ]
  },
  {
   "cell_type": "code",
   "execution_count": 36,
   "metadata": {},
   "outputs": [
    {
     "data": {
      "text/html": [
       "<div>\n",
       "<style scoped>\n",
       "    .dataframe tbody tr th:only-of-type {\n",
       "        vertical-align: middle;\n",
       "    }\n",
       "\n",
       "    .dataframe tbody tr th {\n",
       "        vertical-align: top;\n",
       "    }\n",
       "\n",
       "    .dataframe thead th {\n",
       "        text-align: right;\n",
       "    }\n",
       "</style>\n",
       "<table border=\"1\" class=\"dataframe\">\n",
       "  <thead>\n",
       "    <tr style=\"text-align: right;\">\n",
       "      <th>Predicted</th>\n",
       "      <th>no</th>\n",
       "      <th>yes</th>\n",
       "    </tr>\n",
       "    <tr>\n",
       "      <th>Actual</th>\n",
       "      <th></th>\n",
       "      <th></th>\n",
       "    </tr>\n",
       "  </thead>\n",
       "  <tbody>\n",
       "    <tr>\n",
       "      <th>no</th>\n",
       "      <td>10921</td>\n",
       "      <td>2368</td>\n",
       "    </tr>\n",
       "    <tr>\n",
       "      <th>yes</th>\n",
       "      <td>200</td>\n",
       "      <td>1582</td>\n",
       "    </tr>\n",
       "  </tbody>\n",
       "</table>\n",
       "</div>"
      ],
      "text/plain": [
       "Predicted     no   yes\n",
       "Actual                \n",
       "no         10921  2368\n",
       "yes          200  1582"
      ]
     },
     "execution_count": 36,
     "metadata": {},
     "output_type": "execute_result"
    }
   ],
   "source": [
    "pred = model_rf3.predict(test.loc[:,:'poutcome'])\n",
    "\n",
    "confusion(test.subscribe,pred, ['no','yes'])"
   ]
  },
  {
   "cell_type": "code",
   "execution_count": 37,
   "metadata": {},
   "outputs": [
    {
     "data": {
      "text/plain": [
       "17.039347090438596"
      ]
     },
     "execution_count": 37,
     "metadata": {},
     "output_type": "execute_result"
    }
   ],
   "source": [
    "(1-accuracy_score(test.subscribe,pred))*100"
   ]
  },
  {
   "cell_type": "code",
   "execution_count": 38,
   "metadata": {},
   "outputs": [
    {
     "data": {
      "text/plain": [
       "0.5519888346127005"
      ]
     },
     "execution_count": 38,
     "metadata": {},
     "output_type": "execute_result"
    }
   ],
   "source": [
    "f1_score(test.subscribe,pred)"
   ]
  },
  {
   "cell_type": "code",
   "execution_count": 39,
   "metadata": {},
   "outputs": [
    {
     "name": "stdout",
     "output_type": "stream",
     "text": [
      "             precision    recall  f1-score   support\n",
      "\n",
      "         no       0.98      0.82      0.89     13289\n",
      "        yes       0.40      0.89      0.55      1782\n",
      "\n",
      "avg / total       0.91      0.83      0.85     15071\n",
      "\n"
     ]
    }
   ],
   "source": [
    "print(classification_report(test.subscribe,\n",
    "                            pred,\n",
    "                            target_names=['no', 'yes'],))"
   ]
  },
  {
   "cell_type": "markdown",
   "metadata": {},
   "source": [
    " Now we can try to optimize the number of trees, guided by OOB:"
   ]
  },
  {
   "cell_type": "code",
   "execution_count": 40,
   "metadata": {},
   "outputs": [
    {
     "data": {
      "text/plain": [
       "array([  10,   16,   25,   40,   63,  100,  158,  251,  398,  631, 1000])"
      ]
     },
     "execution_count": 40,
     "metadata": {},
     "output_type": "execute_result"
    }
   ],
   "source": [
    "ntrees = np.array(np.round(10**np.arange(1,3.1,0.2)),dtype=int)\n",
    "ntrees"
   ]
  },
  {
   "cell_type": "code",
   "execution_count": 41,
   "metadata": {},
   "outputs": [
    {
     "name": "stderr",
     "output_type": "stream",
     "text": [
      "/home/bejar/.local/lib/python3.6/site-packages/sklearn/ensemble/forest.py:453: UserWarning: Some inputs do not have OOB scores. This probably means too few trees were used to compute any reliable oob estimates.\n",
      "  warn(\"Some inputs do not have OOB scores. \"\n",
      "/home/bejar/.local/lib/python3.6/site-packages/sklearn/ensemble/forest.py:458: RuntimeWarning: invalid value encountered in true_divide\n",
      "  predictions[k].sum(axis=1)[:, np.newaxis])\n",
      "/home/bejar/.local/lib/python3.6/site-packages/sklearn/ensemble/forest.py:453: UserWarning: Some inputs do not have OOB scores. This probably means too few trees were used to compute any reliable oob estimates.\n",
      "  warn(\"Some inputs do not have OOB scores. \"\n",
      "/home/bejar/.local/lib/python3.6/site-packages/sklearn/ensemble/forest.py:458: RuntimeWarning: invalid value encountered in true_divide\n",
      "  predictions[k].sum(axis=1)[:, np.newaxis])\n"
     ]
    }
   ],
   "source": [
    "rf_results= []\n",
    "for nt in ntrees:\n",
    "    model_rf = RandomForestClassifier(n_estimators=nt, \n",
    "                                      oob_score=True).fit(X_resampled, y_resampled)\n",
    "    rf_results.append(1-model_rf.oob_score_)\n",
    "\n",
    "rf_results = pd.DataFrame({'ntrees':ntrees, 'OOB':rf_results})"
   ]
  },
  {
   "cell_type": "code",
   "execution_count": 42,
   "metadata": {},
   "outputs": [
    {
     "data": {
      "text/html": [
       "<div>\n",
       "<style scoped>\n",
       "    .dataframe tbody tr th:only-of-type {\n",
       "        vertical-align: middle;\n",
       "    }\n",
       "\n",
       "    .dataframe tbody tr th {\n",
       "        vertical-align: top;\n",
       "    }\n",
       "\n",
       "    .dataframe thead th {\n",
       "        text-align: right;\n",
       "    }\n",
       "</style>\n",
       "<table border=\"1\" class=\"dataframe\">\n",
       "  <thead>\n",
       "    <tr style=\"text-align: right;\">\n",
       "      <th></th>\n",
       "      <th>ntrees</th>\n",
       "      <th>OOB</th>\n",
       "    </tr>\n",
       "  </thead>\n",
       "  <tbody>\n",
       "    <tr>\n",
       "      <th>0</th>\n",
       "      <td>10</td>\n",
       "      <td>0.210</td>\n",
       "    </tr>\n",
       "    <tr>\n",
       "      <th>1</th>\n",
       "      <td>16</td>\n",
       "      <td>0.175</td>\n",
       "    </tr>\n",
       "    <tr>\n",
       "      <th>2</th>\n",
       "      <td>25</td>\n",
       "      <td>0.172</td>\n",
       "    </tr>\n",
       "    <tr>\n",
       "      <th>3</th>\n",
       "      <td>40</td>\n",
       "      <td>0.157</td>\n",
       "    </tr>\n",
       "    <tr>\n",
       "      <th>4</th>\n",
       "      <td>63</td>\n",
       "      <td>0.150</td>\n",
       "    </tr>\n",
       "    <tr>\n",
       "      <th>5</th>\n",
       "      <td>100</td>\n",
       "      <td>0.150</td>\n",
       "    </tr>\n",
       "    <tr>\n",
       "      <th>6</th>\n",
       "      <td>158</td>\n",
       "      <td>0.148</td>\n",
       "    </tr>\n",
       "    <tr>\n",
       "      <th>7</th>\n",
       "      <td>251</td>\n",
       "      <td>0.147</td>\n",
       "    </tr>\n",
       "    <tr>\n",
       "      <th>8</th>\n",
       "      <td>398</td>\n",
       "      <td>0.146</td>\n",
       "    </tr>\n",
       "    <tr>\n",
       "      <th>9</th>\n",
       "      <td>631</td>\n",
       "      <td>0.145</td>\n",
       "    </tr>\n",
       "    <tr>\n",
       "      <th>10</th>\n",
       "      <td>1000</td>\n",
       "      <td>0.145</td>\n",
       "    </tr>\n",
       "  </tbody>\n",
       "</table>\n",
       "</div>"
      ],
      "text/plain": [
       "    ntrees    OOB\n",
       "0       10  0.210\n",
       "1       16  0.175\n",
       "2       25  0.172\n",
       "3       40  0.157\n",
       "4       63  0.150\n",
       "5      100  0.150\n",
       "6      158  0.148\n",
       "7      251  0.147\n",
       "8      398  0.146\n",
       "9      631  0.145\n",
       "10    1000  0.145"
      ]
     },
     "execution_count": 42,
     "metadata": {},
     "output_type": "execute_result"
    }
   ],
   "source": [
    "rf_results"
   ]
  },
  {
   "cell_type": "markdown",
   "metadata": {},
   "source": [
    " choose best value of 'ntrees'"
   ]
  },
  {
   "cell_type": "code",
   "execution_count": 43,
   "metadata": {},
   "outputs": [
    {
     "data": {
      "text/plain": [
       "ntrees    631.000\n",
       "OOB         0.145\n",
       "Name: 9, dtype: float64"
      ]
     },
     "execution_count": 43,
     "metadata": {},
     "output_type": "execute_result"
    }
   ],
   "source": [
    "rf_results.loc[rf_results.OOB.idxmin]"
   ]
  },
  {
   "cell_type": "markdown",
   "metadata": {},
   "source": [
    "we could also try to optimize the number of variables in the same way, though the default values work quite well in general\n",
    "\n",
    "Now refit the RF with the best value of 'ntrees'"
   ]
  },
  {
   "cell_type": "code",
   "execution_count": 44,
   "metadata": {},
   "outputs": [],
   "source": [
    "model_rf = RandomForestClassifier(n_estimators=rf_results.ntrees.loc[rf_results.OOB.idxmin], \n",
    "                                  oob_score=True).fit(X_resampled, \n",
    "                                                      y_resampled)"
   ]
  },
  {
   "cell_type": "markdown",
   "metadata": {},
   "source": [
    " let's compute the real test error:"
   ]
  },
  {
   "cell_type": "code",
   "execution_count": 45,
   "metadata": {},
   "outputs": [
    {
     "data": {
      "text/html": [
       "<div>\n",
       "<style scoped>\n",
       "    .dataframe tbody tr th:only-of-type {\n",
       "        vertical-align: middle;\n",
       "    }\n",
       "\n",
       "    .dataframe tbody tr th {\n",
       "        vertical-align: top;\n",
       "    }\n",
       "\n",
       "    .dataframe thead th {\n",
       "        text-align: right;\n",
       "    }\n",
       "</style>\n",
       "<table border=\"1\" class=\"dataframe\">\n",
       "  <thead>\n",
       "    <tr style=\"text-align: right;\">\n",
       "      <th>Predicted</th>\n",
       "      <th>no</th>\n",
       "      <th>yes</th>\n",
       "    </tr>\n",
       "    <tr>\n",
       "      <th>Actual</th>\n",
       "      <th></th>\n",
       "      <th></th>\n",
       "    </tr>\n",
       "  </thead>\n",
       "  <tbody>\n",
       "    <tr>\n",
       "      <th>no</th>\n",
       "      <td>10883</td>\n",
       "      <td>2406</td>\n",
       "    </tr>\n",
       "    <tr>\n",
       "      <th>yes</th>\n",
       "      <td>198</td>\n",
       "      <td>1584</td>\n",
       "    </tr>\n",
       "  </tbody>\n",
       "</table>\n",
       "</div>"
      ],
      "text/plain": [
       "Predicted     no   yes\n",
       "Actual                \n",
       "no         10883  2406\n",
       "yes          198  1584"
      ]
     },
     "execution_count": 45,
     "metadata": {},
     "output_type": "execute_result"
    }
   ],
   "source": [
    "pred = model_rf.predict(test.loc[:,:'poutcome'])\n",
    "\n",
    "confusion(test.subscribe,pred, ['no','yes'])"
   ]
  },
  {
   "cell_type": "code",
   "execution_count": 46,
   "metadata": {},
   "outputs": [
    {
     "data": {
      "text/plain": [
       "17.27821644217371"
      ]
     },
     "execution_count": 46,
     "metadata": {},
     "output_type": "execute_result"
    }
   ],
   "source": [
    "(1-accuracy_score(test.subscribe,pred))*100"
   ]
  },
  {
   "cell_type": "code",
   "execution_count": 47,
   "metadata": {},
   "outputs": [
    {
     "data": {
      "text/plain": [
       "0.5488565488565488"
      ]
     },
     "execution_count": 47,
     "metadata": {},
     "output_type": "execute_result"
    }
   ],
   "source": [
    "f1_score(test.subscribe,pred)"
   ]
  },
  {
   "cell_type": "code",
   "execution_count": 48,
   "metadata": {},
   "outputs": [
    {
     "name": "stdout",
     "output_type": "stream",
     "text": [
      "             precision    recall  f1-score   support\n",
      "\n",
      "         no       0.98      0.82      0.89     13289\n",
      "        yes       0.40      0.89      0.55      1782\n",
      "\n",
      "avg / total       0.91      0.83      0.85     15071\n",
      "\n"
     ]
    }
   ],
   "source": [
    "print(classification_report(test.subscribe,\n",
    "                            pred,\n",
    "                            target_names=['no', 'yes']))"
   ]
  },
  {
   "cell_type": "markdown",
   "metadata": {},
   "source": [
    " The importance of variables"
   ]
  },
  {
   "cell_type": "code",
   "execution_count": 49,
   "metadata": {},
   "outputs": [],
   "source": [
    "var_imp = pd.DataFrame({'importance': model_rf.feature_importances_},\n",
    "                       index=deposit.columns[:-1])"
   ]
  },
  {
   "cell_type": "code",
   "execution_count": 50,
   "metadata": {},
   "outputs": [
    {
     "data": {
      "image/png": "[encoded data removed]",
      "text/plain": [
       "<Figure size 576x576 with 1 Axes>"
      ]
     },
     "metadata": {
      "needs_background": "light"
     },
     "output_type": "display_data"
    }
   ],
   "source": [
    "var_imp.sort_values(by='importance').plot.barh(figsize=(8,8),\n",
    "                                               legend=False);"
   ]
  },
  {
   "cell_type": "markdown",
   "metadata": {},
   "source": [
    " 'duration' is the most important variable\n",
    "\n",
    " plot error rate: black = out of bag (OOB), red = label 1 ('no'), green  = label 2 ('yes')\n",
    " as a function of the number of trees used"
   ]
  },
  {
   "cell_type": "code",
   "execution_count": 51,
   "metadata": {},
   "outputs": [
    {
     "data": {
      "image/png": "[encoded data removed]",
      "text/plain": [
       "<Figure size 576x576 with 1 Axes>"
      ]
     },
     "metadata": {
      "needs_background": "light"
     },
     "output_type": "display_data"
    }
   ],
   "source": [
    "rf_results.plot(x='ntrees',y='OOB',figsize=(8,8));"
   ]
  }
 ],
 "metadata": {
  "kernelspec": {
   "display_name": "Python 3",
   "language": "python",
   "name": "python3"
  },
  "language_info": {
   "codemirror_mode": {
    "name": "ipython",
    "version": 3
   },
   "file_extension": ".py",
   "mimetype": "text/x-python",
   "name": "python",
   "nbconvert_exporter": "python",
   "pygments_lexer": "ipython3",
   "version": "3.6.6"
  },
  "latex_envs": {
   "LaTeX_envs_menu_present": true,
   "autoclose": false,
   "autocomplete": true,
   "bibliofile": "biblio.bib",
   "cite_by": "apalike",
   "current_citInitial": 1,
   "eqLabelWithNumbers": true,
   "eqNumInitial": 1,
   "hotkeys": {
    "equation": "Ctrl-E",
    "itemize": "Ctrl-I"
   },
   "labels_anchors": false,
   "latex_user_defs": false,
   "report_style_numbering": false,
   "user_envs_cfg": false
  },
  "toc": {
   "base_numbering": 1,
   "nav_menu": {},
   "number_sections": true,
   "sideBar": true,
   "skip_h1_title": false,
   "title_cell": "Table of Contents",
   "title_sidebar": "Contents",
   "toc_cell": false,
   "toc_position": {},
   "toc_section_display": true,
   "toc_window_display": true
  }
 },
 "nbformat": 4,
 "nbformat_minor": 2
}
