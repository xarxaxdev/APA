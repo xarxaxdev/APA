{
 "cells": [
  {
   "cell_type": "markdown",
   "metadata": {},
   "source": [
    "# APA Laboratori 6 - MLP and the RBF "
   ]
  },
  {
   "cell_type": "code",
   "execution_count": 1,
   "metadata": {},
   "outputs": [],
   "source": [
    "# Uncomment to upgrade packages\n",
    "# !pip install pandas --upgrade \n",
    "# !pip install numpy --upgrade\n",
    "# !pip install scipy --upgrade\n",
    "# !pip install statsmodels --upgrade\n",
    "# !pip install scikit-learn --upgrade\n",
    "%load_ext autoreload"
   ]
  },
  {
   "cell_type": "code",
   "execution_count": 2,
   "metadata": {},
   "outputs": [],
   "source": [
    "#%matplotlib notebook\n",
    "import numpy as np\n",
    "import matplotlib.pyplot as plt\n",
    "import seaborn as sn\n",
    "import pandas as pd\n",
    "from IPython.core.interactiveshell import InteractiveShell\n",
    "pd.set_option('precision', 3)\n",
    "InteractiveShell.ast_node_interactivity = \"all\""
   ]
  },
  {
   "cell_type": "code",
   "execution_count": 3,
   "metadata": {},
   "outputs": [],
   "source": [
    "# Extra imports\n",
    "from sklearn.metrics import confusion_matrix,\\\n",
    "                classification_report, accuracy_score\n",
    "from pandas import read_csv\n",
    "from sklearn.model_selection import train_test_split\n",
    "from statsmodels.genmod.generalized_linear_model import GLM\n",
    "from statsmodels.genmod.families.family import Binomial\n",
    "from statsmodels.tools.tools import add_constant\n",
    "from sklearn.preprocessing import StandardScaler\n",
    "from sklearn.neural_network import MLPClassifier\n",
    "from graphviz import Digraph\n",
    "from sklearn.model_selection import GridSearchCV\n",
    "from numpy.random import normal\n",
    "from scipy.special import expit as logistic\n",
    "from numpy.random import uniform\n",
    "from sklearn.cluster import KMeans\n",
    "from sklearn.linear_model import RidgeCV, Ridge"
   ]
  },
  {
   "cell_type": "code",
   "execution_count": 4,
   "metadata": {},
   "outputs": [],
   "source": [
    "def confusion(true, pred, classes):\n",
    "    \"\"\"\n",
    "    Function for pretty printing confusion matrices\n",
    "    \"\"\"\n",
    "    cm =pd.DataFrame(confusion_matrix(true, pred), index=classes,\n",
    "                 columns=classes)\n",
    "    cm.index.name = 'Actual'\n",
    "    cm.columns.name = 'Predicted'\n",
    "    return cm\n",
    "\n",
    "def graphMLP(vars,layers,intercepts):\n",
    "    \"\"\"\n",
    "    Function for plotting the weights of a mlp\n",
    "    \"\"\"\n",
    "    f = Digraph('')\n",
    "    f.attr(rankdir='LR')\n",
    "    for i,l in enumerate(layers):\n",
    "        if i==0:\n",
    "            for j in range(l.shape[1]):\n",
    "                for k, v in enumerate(vars):\n",
    "                    f.edge(v, 'L%dN%d'%(i,j), label=str(l[k,j]))\n",
    "            f.node('ILI', shape='doublecircle')                    \n",
    "            for k in range(intercepts[i].shape[0]): \n",
    "                f.edge('ILI', \n",
    "                       'L%dN%d'%(i,k), \n",
    "                       label=str(intercepts[i][k]))\n",
    "        else:\n",
    "            for j in range(l.shape[1]):\n",
    "                for k in range(layers[i-1].shape[1]):\n",
    "                    f.edge('L%dN%d'%(i-1,k), \n",
    "                           'L%dN%d'%(i,j), \n",
    "                           label=str(l[k,j]))\n",
    "            f.node('L%dI'%(i-1), shape='doublecircle')                  \n",
    "            for k in range(intercepts[i].shape[0]):\n",
    "                f.edge('L%dI'%(i-1), \n",
    "                       'L%dN%d'%(i,k), \n",
    "                       label=str(intercepts[i][k]))    \n",
    "                \n",
    "    return f\n"
   ]
  },
  {
   "cell_type": "code",
   "execution_count": 5,
   "metadata": {},
   "outputs": [],
   "source": [
    "np.random.seed(4567)"
   ]
  },
  {
   "cell_type": "markdown",
   "metadata": {},
   "source": [
    "Suppose we are interested in how variables, such as \n",
    "\n",
    "GRE (Graduate Record Exam scores)\n",
    "\n",
    "GPA (Grade Point Average) and \n",
    "\n",
    "rank (prestige of the undergraduate institution)\n",
    "\n",
    "affect admission into a graduate school.\n",
    "\n",
    " The target variable, admit/don't admit, is a binary variable, which we want to characterize\n",
    "and, if possible, to predict (a model)"
   ]
  },
  {
   "cell_type": "code",
   "execution_count": 6,
   "metadata": {},
   "outputs": [],
   "source": [
    "Admis = read_csv(\"Admissions.csv\", delimiter=',')"
   ]
  },
  {
   "cell_type": "markdown",
   "metadata": {},
   "source": [
    " view the first few rows of the data"
   ]
  },
  {
   "cell_type": "code",
   "execution_count": 7,
   "metadata": {},
   "outputs": [
    {
     "data": {
      "text/html": [
       "<div>\n",
       "<style scoped>\n",
       "    .dataframe tbody tr th:only-of-type {\n",
       "        vertical-align: middle;\n",
       "    }\n",
       "\n",
       "    .dataframe tbody tr th {\n",
       "        vertical-align: top;\n",
       "    }\n",
       "\n",
       "    .dataframe thead th {\n",
       "        text-align: right;\n",
       "    }\n",
       "</style>\n",
       "<table border=\"1\" class=\"dataframe\">\n",
       "  <thead>\n",
       "    <tr style=\"text-align: right;\">\n",
       "      <th></th>\n",
       "      <th>admit</th>\n",
       "      <th>gre</th>\n",
       "      <th>gpa</th>\n",
       "      <th>rank</th>\n",
       "    </tr>\n",
       "  </thead>\n",
       "  <tbody>\n",
       "    <tr>\n",
       "      <th>0</th>\n",
       "      <td>0</td>\n",
       "      <td>380</td>\n",
       "      <td>3.61</td>\n",
       "      <td>3</td>\n",
       "    </tr>\n",
       "    <tr>\n",
       "      <th>1</th>\n",
       "      <td>1</td>\n",
       "      <td>660</td>\n",
       "      <td>3.67</td>\n",
       "      <td>3</td>\n",
       "    </tr>\n",
       "    <tr>\n",
       "      <th>2</th>\n",
       "      <td>1</td>\n",
       "      <td>800</td>\n",
       "      <td>4.00</td>\n",
       "      <td>1</td>\n",
       "    </tr>\n",
       "    <tr>\n",
       "      <th>3</th>\n",
       "      <td>1</td>\n",
       "      <td>640</td>\n",
       "      <td>3.19</td>\n",
       "      <td>4</td>\n",
       "    </tr>\n",
       "    <tr>\n",
       "      <th>4</th>\n",
       "      <td>0</td>\n",
       "      <td>520</td>\n",
       "      <td>2.93</td>\n",
       "      <td>4</td>\n",
       "    </tr>\n",
       "  </tbody>\n",
       "</table>\n",
       "</div>"
      ],
      "text/plain": [
       "   admit  gre   gpa  rank\n",
       "0      0  380  3.61     3\n",
       "1      1  660  3.67     3\n",
       "2      1  800  4.00     1\n",
       "3      1  640  3.19     4\n",
       "4      0  520  2.93     4"
      ]
     },
     "execution_count": 7,
     "metadata": {},
     "output_type": "execute_result"
    }
   ],
   "source": [
    "Admis.head()"
   ]
  },
  {
   "cell_type": "markdown",
   "metadata": {},
   "source": [
    " We will treat all the variables gre and gpa as continuous. \n",
    "\n",
    "The variable rank takes on the values 1 through 4, so we can fairly treat it as numerical\n",
    "(although, in rigour, it is ordinal)"
   ]
  },
  {
   "cell_type": "code",
   "execution_count": 8,
   "metadata": {},
   "outputs": [
    {
     "data": {
      "text/html": [
       "<div>\n",
       "<style scoped>\n",
       "    .dataframe tbody tr th:only-of-type {\n",
       "        vertical-align: middle;\n",
       "    }\n",
       "\n",
       "    .dataframe tbody tr th {\n",
       "        vertical-align: top;\n",
       "    }\n",
       "\n",
       "    .dataframe thead th {\n",
       "        text-align: right;\n",
       "    }\n",
       "</style>\n",
       "<table border=\"1\" class=\"dataframe\">\n",
       "  <thead>\n",
       "    <tr style=\"text-align: right;\">\n",
       "      <th></th>\n",
       "      <th>admit</th>\n",
       "      <th>gre</th>\n",
       "      <th>gpa</th>\n",
       "      <th>rank</th>\n",
       "    </tr>\n",
       "  </thead>\n",
       "  <tbody>\n",
       "    <tr>\n",
       "      <th>count</th>\n",
       "      <td>400.000</td>\n",
       "      <td>400.000</td>\n",
       "      <td>400.000</td>\n",
       "      <td>400.000</td>\n",
       "    </tr>\n",
       "    <tr>\n",
       "      <th>mean</th>\n",
       "      <td>0.318</td>\n",
       "      <td>587.700</td>\n",
       "      <td>3.390</td>\n",
       "      <td>2.485</td>\n",
       "    </tr>\n",
       "    <tr>\n",
       "      <th>std</th>\n",
       "      <td>0.466</td>\n",
       "      <td>115.517</td>\n",
       "      <td>0.381</td>\n",
       "      <td>0.944</td>\n",
       "    </tr>\n",
       "    <tr>\n",
       "      <th>min</th>\n",
       "      <td>0.000</td>\n",
       "      <td>220.000</td>\n",
       "      <td>2.260</td>\n",
       "      <td>1.000</td>\n",
       "    </tr>\n",
       "    <tr>\n",
       "      <th>25%</th>\n",
       "      <td>0.000</td>\n",
       "      <td>520.000</td>\n",
       "      <td>3.130</td>\n",
       "      <td>2.000</td>\n",
       "    </tr>\n",
       "    <tr>\n",
       "      <th>50%</th>\n",
       "      <td>0.000</td>\n",
       "      <td>580.000</td>\n",
       "      <td>3.395</td>\n",
       "      <td>2.000</td>\n",
       "    </tr>\n",
       "    <tr>\n",
       "      <th>75%</th>\n",
       "      <td>1.000</td>\n",
       "      <td>660.000</td>\n",
       "      <td>3.670</td>\n",
       "      <td>3.000</td>\n",
       "    </tr>\n",
       "    <tr>\n",
       "      <th>max</th>\n",
       "      <td>1.000</td>\n",
       "      <td>800.000</td>\n",
       "      <td>4.000</td>\n",
       "      <td>4.000</td>\n",
       "    </tr>\n",
       "  </tbody>\n",
       "</table>\n",
       "</div>"
      ],
      "text/plain": [
       "         admit      gre      gpa     rank\n",
       "count  400.000  400.000  400.000  400.000\n",
       "mean     0.318  587.700    3.390    2.485\n",
       "std      0.466  115.517    0.381    0.944\n",
       "min      0.000  220.000    2.260    1.000\n",
       "25%      0.000  520.000    3.130    2.000\n",
       "50%      0.000  580.000    3.395    2.000\n",
       "75%      1.000  660.000    3.670    3.000\n",
       "max      1.000  800.000    4.000    4.000"
      ]
     },
     "execution_count": 8,
     "metadata": {},
     "output_type": "execute_result"
    }
   ],
   "source": [
    "Admis.describe()\n",
    "\n",
    "N = Admis.shape[0]"
   ]
  },
  {
   "cell_type": "markdown",
   "metadata": {},
   "source": [
    " We first split the available data into learning and test sets, selecting randomly 2/3 and 1/3 of the data\n",
    " We do this for a honest estimation of prediction performance"
   ]
  },
  {
   "cell_type": "code",
   "execution_count": 9,
   "metadata": {},
   "outputs": [],
   "source": [
    "np.random.seed(63)\n",
    "X_train, X_test, y_train, y_test =\\\n",
    "        train_test_split(Admis.loc[:,'gre':], Admis.admit, test_size=0.33)"
   ]
  },
  {
   "cell_type": "markdown",
   "metadata": {},
   "source": [
    "We start using logistic regression (a linear classifier)"
   ]
  },
  {
   "cell_type": "code",
   "execution_count": 10,
   "metadata": {},
   "outputs": [
    {
     "data": {
      "text/html": [
       "<table class=\"simpletable\">\n",
       "<caption>Generalized Linear Model Regression Results</caption>\n",
       "<tr>\n",
       "  <th>Dep. Variable:</th>        <td>admit</td>      <th>  No. Observations:  </th>  <td>   268</td>  \n",
       "</tr>\n",
       "<tr>\n",
       "  <th>Model:</th>                 <td>GLM</td>       <th>  Df Residuals:      </th>  <td>   264</td>  \n",
       "</tr>\n",
       "<tr>\n",
       "  <th>Model Family:</th>       <td>Binomial</td>     <th>  Df Model:          </th>  <td>     3</td>  \n",
       "</tr>\n",
       "<tr>\n",
       "  <th>Link Function:</th>        <td>logit</td>      <th>  Scale:             </th> <td>  1.0000</td> \n",
       "</tr>\n",
       "<tr>\n",
       "  <th>Method:</th>               <td>IRLS</td>       <th>  Log-Likelihood:    </th> <td> -151.65</td> \n",
       "</tr>\n",
       "<tr>\n",
       "  <th>Date:</th>           <td>Thu, 06 Sep 2018</td> <th>  Deviance:          </th> <td>  303.30</td> \n",
       "</tr>\n",
       "<tr>\n",
       "  <th>Time:</th>               <td>14:52:50</td>     <th>  Pearson chi2:      </th>  <td>  265.</td>  \n",
       "</tr>\n",
       "<tr>\n",
       "  <th>No. Iterations:</th>         <td>4</td>        <th>  Covariance Type:   </th> <td>nonrobust</td>\n",
       "</tr>\n",
       "</table>\n",
       "<table class=\"simpletable\">\n",
       "<tr>\n",
       "    <td></td>       <th>coef</th>     <th>std err</th>      <th>z</th>      <th>P>|z|</th>  <th>[0.025</th>    <th>0.975]</th>  \n",
       "</tr>\n",
       "<tr>\n",
       "  <th>const</th> <td>   -3.3285</td> <td>    1.441</td> <td>   -2.309</td> <td> 0.021</td> <td>   -6.153</td> <td>   -0.503</td>\n",
       "</tr>\n",
       "<tr>\n",
       "  <th>gre</th>   <td>    0.0025</td> <td>    0.001</td> <td>    1.842</td> <td> 0.066</td> <td>   -0.000</td> <td>    0.005</td>\n",
       "</tr>\n",
       "<tr>\n",
       "  <th>gpa</th>   <td>    0.7622</td> <td>    0.420</td> <td>    1.815</td> <td> 0.069</td> <td>   -0.061</td> <td>    1.585</td>\n",
       "</tr>\n",
       "<tr>\n",
       "  <th>rank</th>  <td>   -0.6534</td> <td>    0.157</td> <td>   -4.168</td> <td> 0.000</td> <td>   -0.961</td> <td>   -0.346</td>\n",
       "</tr>\n",
       "</table>"
      ],
      "text/plain": [
       "<class 'statsmodels.iolib.summary.Summary'>\n",
       "\"\"\"\n",
       "                 Generalized Linear Model Regression Results                  \n",
       "==============================================================================\n",
       "Dep. Variable:                  admit   No. Observations:                  268\n",
       "Model:                            GLM   Df Residuals:                      264\n",
       "Model Family:                Binomial   Df Model:                            3\n",
       "Link Function:                  logit   Scale:                          1.0000\n",
       "Method:                          IRLS   Log-Likelihood:                -151.65\n",
       "Date:                Thu, 06 Sep 2018   Deviance:                       303.30\n",
       "Time:                        14:52:50   Pearson chi2:                     265.\n",
       "No. Iterations:                     4   Covariance Type:             nonrobust\n",
       "==============================================================================\n",
       "                 coef    std err          z      P>|z|      [0.025      0.975]\n",
       "------------------------------------------------------------------------------\n",
       "const         -3.3285      1.441     -2.309      0.021      -6.153      -0.503\n",
       "gre            0.0025      0.001      1.842      0.066      -0.000       0.005\n",
       "gpa            0.7622      0.420      1.815      0.069      -0.061       1.585\n",
       "rank          -0.6534      0.157     -4.168      0.000      -0.961      -0.346\n",
       "==============================================================================\n",
       "\"\"\""
      ]
     },
     "execution_count": 10,
     "metadata": {},
     "output_type": "execute_result"
    },
    {
     "name": "stdout",
     "output_type": "stream",
     "text": [
      "AIC= 311.2952954945122\n"
     ]
    }
   ],
   "source": [
    "model = GLM(y_train, add_constant(X_train), family=Binomial())\n",
    "result = model.fit()\n",
    "result.summary()\n",
    "print('AIC=', result.aic)"
   ]
  },
  {
   "cell_type": "markdown",
   "metadata": {},
   "source": [
    "As we can see `gre` has a very low weight, so we can test if eliminating that variable we can obtain an equivalent model"
   ]
  },
  {
   "cell_type": "code",
   "execution_count": 11,
   "metadata": {},
   "outputs": [
    {
     "data": {
      "text/html": [
       "<table class=\"simpletable\">\n",
       "<caption>Generalized Linear Model Regression Results</caption>\n",
       "<tr>\n",
       "  <th>Dep. Variable:</th>        <td>admit</td>      <th>  No. Observations:  </th>  <td>   268</td>  \n",
       "</tr>\n",
       "<tr>\n",
       "  <th>Model:</th>                 <td>GLM</td>       <th>  Df Residuals:      </th>  <td>   265</td>  \n",
       "</tr>\n",
       "<tr>\n",
       "  <th>Model Family:</th>       <td>Binomial</td>     <th>  Df Model:          </th>  <td>     2</td>  \n",
       "</tr>\n",
       "<tr>\n",
       "  <th>Link Function:</th>        <td>logit</td>      <th>  Scale:             </th> <td>  1.0000</td> \n",
       "</tr>\n",
       "<tr>\n",
       "  <th>Method:</th>               <td>IRLS</td>       <th>  Log-Likelihood:    </th> <td> -153.38</td> \n",
       "</tr>\n",
       "<tr>\n",
       "  <th>Date:</th>           <td>Thu, 06 Sep 2018</td> <th>  Deviance:          </th> <td>  306.75</td> \n",
       "</tr>\n",
       "<tr>\n",
       "  <th>Time:</th>               <td>14:52:50</td>     <th>  Pearson chi2:      </th>  <td>  271.</td>  \n",
       "</tr>\n",
       "<tr>\n",
       "  <th>No. Iterations:</th>         <td>4</td>        <th>  Covariance Type:   </th> <td>nonrobust</td>\n",
       "</tr>\n",
       "</table>\n",
       "<table class=\"simpletable\">\n",
       "<tr>\n",
       "    <td></td>       <th>coef</th>     <th>std err</th>      <th>z</th>      <th>P>|z|</th>  <th>[0.025</th>    <th>0.975]</th>  \n",
       "</tr>\n",
       "<tr>\n",
       "  <th>const</th> <td>   -2.8166</td> <td>    1.400</td> <td>   -2.012</td> <td> 0.044</td> <td>   -5.560</td> <td>   -0.073</td>\n",
       "</tr>\n",
       "<tr>\n",
       "  <th>gpa</th>   <td>    1.0625</td> <td>    0.389</td> <td>    2.735</td> <td> 0.006</td> <td>    0.301</td> <td>    1.824</td>\n",
       "</tr>\n",
       "<tr>\n",
       "  <th>rank</th>  <td>   -0.6703</td> <td>    0.156</td> <td>   -4.308</td> <td> 0.000</td> <td>   -0.975</td> <td>   -0.365</td>\n",
       "</tr>\n",
       "</table>"
      ],
      "text/plain": [
       "<class 'statsmodels.iolib.summary.Summary'>\n",
       "\"\"\"\n",
       "                 Generalized Linear Model Regression Results                  \n",
       "==============================================================================\n",
       "Dep. Variable:                  admit   No. Observations:                  268\n",
       "Model:                            GLM   Df Residuals:                      265\n",
       "Model Family:                Binomial   Df Model:                            2\n",
       "Link Function:                  logit   Scale:                          1.0000\n",
       "Method:                          IRLS   Log-Likelihood:                -153.38\n",
       "Date:                Thu, 06 Sep 2018   Deviance:                       306.75\n",
       "Time:                        14:52:50   Pearson chi2:                     271.\n",
       "No. Iterations:                     4   Covariance Type:             nonrobust\n",
       "==============================================================================\n",
       "                 coef    std err          z      P>|z|      [0.025      0.975]\n",
       "------------------------------------------------------------------------------\n",
       "const         -2.8166      1.400     -2.012      0.044      -5.560      -0.073\n",
       "gpa            1.0625      0.389      2.735      0.006       0.301       1.824\n",
       "rank          -0.6703      0.156     -4.308      0.000      -0.975      -0.365\n",
       "==============================================================================\n",
       "\"\"\""
      ]
     },
     "execution_count": 11,
     "metadata": {},
     "output_type": "execute_result"
    },
    {
     "name": "stdout",
     "output_type": "stream",
     "text": [
      "AIC= 312.7544764268358\n"
     ]
    }
   ],
   "source": [
    "model = GLM(y_train, add_constant(X_train.loc[:,'gpa':]), family=Binomial())\n",
    "result = model.fit()\n",
    "result.summary()\n",
    "print('AIC=', result.aic)"
   ]
  },
  {
   "cell_type": "markdown",
   "metadata": {},
   "source": [
    " The new model has one variable less and the error (residual deviance) is virtually the same (311.2 vs 312.7)\n",
    "\n",
    " Interpretation of the coefficients"
   ]
  },
  {
   "cell_type": "code",
   "execution_count": 12,
   "metadata": {},
   "outputs": [
    {
     "data": {
      "text/plain": [
       "const   -2.817\n",
       "gpa      1.062\n",
       "rank    -0.670\n",
       "dtype: float64"
      ]
     },
     "execution_count": 12,
     "metadata": {},
     "output_type": "execute_result"
    }
   ],
   "source": [
    "result.params"
   ]
  },
  {
   "cell_type": "markdown",
   "metadata": {},
   "source": [
    "Calculation of apparent error in the training"
   ]
  },
  {
   "cell_type": "code",
   "execution_count": 13,
   "metadata": {},
   "outputs": [
    {
     "data": {
      "text/html": [
       "<div>\n",
       "<style scoped>\n",
       "    .dataframe tbody tr th:only-of-type {\n",
       "        vertical-align: middle;\n",
       "    }\n",
       "\n",
       "    .dataframe tbody tr th {\n",
       "        vertical-align: top;\n",
       "    }\n",
       "\n",
       "    .dataframe thead th {\n",
       "        text-align: right;\n",
       "    }\n",
       "</style>\n",
       "<table border=\"1\" class=\"dataframe\">\n",
       "  <thead>\n",
       "    <tr style=\"text-align: right;\">\n",
       "      <th>Predicted</th>\n",
       "      <th>noadmit</th>\n",
       "      <th>admit</th>\n",
       "    </tr>\n",
       "    <tr>\n",
       "      <th>Actual</th>\n",
       "      <th></th>\n",
       "      <th></th>\n",
       "    </tr>\n",
       "  </thead>\n",
       "  <tbody>\n",
       "    <tr>\n",
       "      <th>noadmit</th>\n",
       "      <td>168</td>\n",
       "      <td>13</td>\n",
       "    </tr>\n",
       "    <tr>\n",
       "      <th>admit</th>\n",
       "      <td>60</td>\n",
       "      <td>27</td>\n",
       "    </tr>\n",
       "  </tbody>\n",
       "</table>\n",
       "</div>"
      ],
      "text/plain": [
       "Predicted  noadmit  admit\n",
       "Actual                   \n",
       "noadmit        168     13\n",
       "admit           60     27"
      ]
     },
     "execution_count": 13,
     "metadata": {},
     "output_type": "execute_result"
    },
    {
     "data": {
      "text/plain": [
       "27.23880597014925"
      ]
     },
     "execution_count": 13,
     "metadata": {},
     "output_type": "execute_result"
    }
   ],
   "source": [
    "P=0.5\n",
    "\n",
    "pred = result.predict(add_constant(X_train.loc[:,'gpa':]))\n",
    "lab_tr = [1 if i>=P else 0 for i in pred]\n",
    "confusion(y_train,lab_tr, ['noadmit','admit'])\n",
    "\n",
    "(1-accuracy_score(y_train,lab_tr))*100"
   ]
  },
  {
   "cell_type": "markdown",
   "metadata": {},
   "source": [
    " we get a learning error which is quite high (~27%)\n",
    "\n",
    " Estimation of prediction error using the test set"
   ]
  },
  {
   "cell_type": "code",
   "execution_count": 14,
   "metadata": {},
   "outputs": [
    {
     "data": {
      "text/html": [
       "<div>\n",
       "<style scoped>\n",
       "    .dataframe tbody tr th:only-of-type {\n",
       "        vertical-align: middle;\n",
       "    }\n",
       "\n",
       "    .dataframe tbody tr th {\n",
       "        vertical-align: top;\n",
       "    }\n",
       "\n",
       "    .dataframe thead th {\n",
       "        text-align: right;\n",
       "    }\n",
       "</style>\n",
       "<table border=\"1\" class=\"dataframe\">\n",
       "  <thead>\n",
       "    <tr style=\"text-align: right;\">\n",
       "      <th>Predicted</th>\n",
       "      <th>noadmit</th>\n",
       "      <th>admit</th>\n",
       "    </tr>\n",
       "    <tr>\n",
       "      <th>Actual</th>\n",
       "      <th></th>\n",
       "      <th></th>\n",
       "    </tr>\n",
       "  </thead>\n",
       "  <tbody>\n",
       "    <tr>\n",
       "      <th>noadmit</th>\n",
       "      <td>85</td>\n",
       "      <td>7</td>\n",
       "    </tr>\n",
       "    <tr>\n",
       "      <th>admit</th>\n",
       "      <td>33</td>\n",
       "      <td>7</td>\n",
       "    </tr>\n",
       "  </tbody>\n",
       "</table>\n",
       "</div>"
      ],
      "text/plain": [
       "Predicted  noadmit  admit\n",
       "Actual                   \n",
       "noadmit         85      7\n",
       "admit           33      7"
      ]
     },
     "execution_count": 14,
     "metadata": {},
     "output_type": "execute_result"
    },
    {
     "data": {
      "text/plain": [
       "30.303030303030297"
      ]
     },
     "execution_count": 14,
     "metadata": {},
     "output_type": "execute_result"
    }
   ],
   "source": [
    "pred = result.predict(add_constant(X_test.loc[:,'gpa':]))\n",
    "lab_tr = [1 if i>=P else 0 for i in pred]\n",
    "confusion(y_test,lab_tr, ['noadmit','admit'])\n",
    "(1-accuracy_score(y_test,lab_tr))*100"
   ]
  },
  {
   "cell_type": "markdown",
   "metadata": {},
   "source": [
    " we get a prediction error of ~30%\n",
    "\n",
    " Now we switch to non-linear modelling with a MLP\n",
    "\n",
    "In contrast to the nnet package from the R version, the MLP implementation from scikit learn is fully capable and has more features but we will restrict the model to only one hidden later"
   ]
  },
  {
   "cell_type": "markdown",
   "metadata": {},
   "source": [
    "The basic parameters are 'hidden_layer_sizes' and 'alpha' (the regularization constant, lambda)\n",
    "\n",
    "It buils a MLP with one output neuron (just two classes), with the logistic function\n",
    "and uses the cross-entropy as error function\n",
    "\n",
    " Let's start by standardizing of inputs, this is important to avoid network 'stagnation' (premature convergence)"
   ]
  },
  {
   "cell_type": "code",
   "execution_count": 15,
   "metadata": {},
   "outputs": [
    {
     "data": {
      "text/html": [
       "<div>\n",
       "<style scoped>\n",
       "    .dataframe tbody tr th:only-of-type {\n",
       "        vertical-align: middle;\n",
       "    }\n",
       "\n",
       "    .dataframe tbody tr th {\n",
       "        vertical-align: top;\n",
       "    }\n",
       "\n",
       "    .dataframe thead th {\n",
       "        text-align: right;\n",
       "    }\n",
       "</style>\n",
       "<table border=\"1\" class=\"dataframe\">\n",
       "  <thead>\n",
       "    <tr style=\"text-align: right;\">\n",
       "      <th></th>\n",
       "      <th>admit</th>\n",
       "      <th>gre</th>\n",
       "      <th>gpa</th>\n",
       "      <th>rank</th>\n",
       "    </tr>\n",
       "  </thead>\n",
       "  <tbody>\n",
       "    <tr>\n",
       "      <th>0</th>\n",
       "      <td>0</td>\n",
       "      <td>-1.800</td>\n",
       "      <td>0.579</td>\n",
       "      <td>0.546</td>\n",
       "    </tr>\n",
       "    <tr>\n",
       "      <th>1</th>\n",
       "      <td>1</td>\n",
       "      <td>0.627</td>\n",
       "      <td>0.737</td>\n",
       "      <td>0.546</td>\n",
       "    </tr>\n",
       "    <tr>\n",
       "      <th>2</th>\n",
       "      <td>1</td>\n",
       "      <td>1.840</td>\n",
       "      <td>1.605</td>\n",
       "      <td>-1.574</td>\n",
       "    </tr>\n",
       "    <tr>\n",
       "      <th>3</th>\n",
       "      <td>1</td>\n",
       "      <td>0.453</td>\n",
       "      <td>-0.526</td>\n",
       "      <td>1.606</td>\n",
       "    </tr>\n",
       "    <tr>\n",
       "      <th>4</th>\n",
       "      <td>0</td>\n",
       "      <td>-0.587</td>\n",
       "      <td>-1.210</td>\n",
       "      <td>1.606</td>\n",
       "    </tr>\n",
       "  </tbody>\n",
       "</table>\n",
       "</div>"
      ],
      "text/plain": [
       "   admit    gre    gpa   rank\n",
       "0      0 -1.800  0.579  0.546\n",
       "1      1  0.627  0.737  0.546\n",
       "2      1  1.840  1.605 -1.574\n",
       "3      1  0.453 -0.526  1.606\n",
       "4      0 -0.587 -1.210  1.606"
      ]
     },
     "execution_count": 15,
     "metadata": {},
     "output_type": "execute_result"
    }
   ],
   "source": [
    "Admis.loc[:,'gre':] = StandardScaler().fit_transform(Admis.loc[:,'gre':])\n",
    "Admis.head()\n",
    "X_train, X_test, y_train, y_test =\\\n",
    "      train_test_split(Admis.loc[:,'gre':], Admis.admit, test_size=0.33)"
   ]
  },
  {
   "cell_type": "markdown",
   "metadata": {},
   "source": [
    "To illustrate the first results, we just fit a MLP with 2 hidden neurons"
   ]
  },
  {
   "cell_type": "code",
   "execution_count": 16,
   "metadata": {},
   "outputs": [],
   "source": [
    "model_nnet = MLPClassifier(hidden_layer_sizes=[2],\n",
    "                           alpha=0,\n",
    "                           activation='logistic',\n",
    "                           max_iter=200,\n",
    "                           solver='lbfgs')\n",
    "model_nnet.fit(X_train,y_train);\n"
   ]
  },
  {
   "cell_type": "markdown",
   "metadata": {},
   "source": [
    " This is the final value of the error function (also known as fitting criterion)"
   ]
  },
  {
   "cell_type": "code",
   "execution_count": 17,
   "metadata": {},
   "outputs": [
    {
     "data": {
      "text/plain": [
       "0.5616482088928606"
      ]
     },
     "execution_count": 17,
     "metadata": {},
     "output_type": "execute_result"
    }
   ],
   "source": [
    "model_nnet.loss_"
   ]
  },
  {
   "cell_type": "markdown",
   "metadata": {},
   "source": [
    " Now look at the weights"
   ]
  },
  {
   "cell_type": "code",
   "execution_count": 18,
   "metadata": {},
   "outputs": [
    {
     "data": {
      "text/plain": [
       "[array([[-3.53307172e-04,  2.55064240e+02],\n",
       "        [ 5.29902080e-04,  6.83904509e+02],\n",
       "        [ 9.63081116e-03,  3.53279630e+02]]), array([[-262.12867837],\n",
       "        [   1.87302542]])]"
      ]
     },
     "execution_count": 18,
     "metadata": {},
     "output_type": "execute_result"
    },
    {
     "data": {
      "text/plain": [
       "[array([1.70795511e-01, 6.09927490e+02]), array([139.87471973])]"
      ]
     },
     "execution_count": 18,
     "metadata": {},
     "output_type": "execute_result"
    }
   ],
   "source": [
    "model_nnet.coefs_\n",
    "model_nnet.intercepts_"
   ]
  },
  {
   "cell_type": "markdown",
   "metadata": {},
   "source": [
    "It is a bit clearer if we draw the network"
   ]
  },
  {
   "cell_type": "code",
   "execution_count": 19,
   "metadata": {},
   "outputs": [
    {
     "data": {
      "image/svg+xml": [
       "<?xml version=\"1.0\" encoding=\"UTF-8\" standalone=\"no\"?>\n",
       "<!DOCTYPE svg PUBLIC \"-//W3C//DTD SVG 1.1//EN\"\n",
       " \"http://www.w3.org/Graphics/SVG/1.1/DTD/svg11.dtd\">\n",
       "<!-- Generated by graphviz version 2.40.1 (20161225.0304)\n",
       " -->\n",
       "<!-- Title: %3 Pages: 1 -->\n",
       "<svg width=\"562pt\" height=\"309pt\"\n",
       " viewBox=\"0.00 0.00 562.18 309.02\" xmlns=\"http://www.w3.org/2000/svg\" xmlns:xlink=\"http://www.w3.org/1999/xlink\">\n",
       "<g id=\"graph0\" class=\"graph\" transform=\"scale(1 1) rotate(0) translate(4 305.0162)\">\n",
       "<title>%3</title>\n",
       "<polygon fill=\"#ffffff\" stroke=\"transparent\" points=\"-4,4 -4,-305.0162 558.1834,-305.0162 558.1834,4 -4,4\"/>\n",
       "<!-- gre -->\n",
       "<g id=\"node1\" class=\"node\">\n",
       "<title>gre</title>\n",
       "<ellipse fill=\"none\" stroke=\"#000000\" cx=\"27.2976\" cy=\"-265.0162\" rx=\"27\" ry=\"18\"/>\n",
       "<text text-anchor=\"middle\" x=\"27.2976\" y=\"-261.3162\" font-family=\"Times,serif\" font-size=\"14.00\" fill=\"#000000\">gre</text>\n",
       "</g>\n",
       "<!-- L0N0 -->\n",
       "<g id=\"node2\" class=\"node\">\n",
       "<title>L0N0</title>\n",
       "<ellipse fill=\"none\" stroke=\"#000000\" cx=\"282.7422\" cy=\"-98.0162\" rx=\"33.2948\" ry=\"18\"/>\n",
       "<text text-anchor=\"middle\" x=\"282.7422\" y=\"-94.3162\" font-family=\"Times,serif\" font-size=\"14.00\" fill=\"#000000\">L0N0</text>\n",
       "</g>\n",
       "<!-- gre&#45;&gt;L0N0 -->\n",
       "<g id=\"edge1\" class=\"edge\">\n",
       "<title>gre&#45;&gt;L0N0</title>\n",
       "<path fill=\"none\" stroke=\"#000000\" d=\"M50.0437,-254.9901C57.165,-252.1202 65.1181,-249.1854 72.5952,-247.0162 141.6609,-226.9792 179.1141,-266.1822 231.5952,-217.0162 255.038,-195.0541 236.4021,-176.3051 249.5952,-147.0162 253.2939,-138.8048 258.3479,-130.4697 263.3946,-123.059\"/>\n",
       "<polygon fill=\"#000000\" stroke=\"#000000\" points=\"266.2913,-125.025 269.2341,-114.847 260.5866,-120.9683 266.2913,-125.025\"/>\n",
       "<text text-anchor=\"middle\" x=\"152.0952\" y=\"-250.8162\" font-family=\"Times,serif\" font-size=\"14.00\" fill=\"#000000\">&#45;0.0003533071723643491</text>\n",
       "</g>\n",
       "<!-- L0N1 -->\n",
       "<g id=\"node5\" class=\"node\">\n",
       "<title>L0N1</title>\n",
       "<ellipse fill=\"none\" stroke=\"#000000\" cx=\"282.7422\" cy=\"-174.0162\" rx=\"33.2948\" ry=\"18\"/>\n",
       "<text text-anchor=\"middle\" x=\"282.7422\" y=\"-170.3162\" font-family=\"Times,serif\" font-size=\"14.00\" fill=\"#000000\">L0N1</text>\n",
       "</g>\n",
       "<!-- gre&#45;&gt;L0N1 -->\n",
       "<g id=\"edge4\" class=\"edge\">\n",
       "<title>gre&#45;&gt;L0N1</title>\n",
       "<path fill=\"none\" stroke=\"#000000\" d=\"M52.014,-272.702C92.6502,-283.78 174.7309,-299.4639 231.5952,-266.0162 254.984,-252.2588 268.4479,-223.5098 275.6316,-201.7883\"/>\n",
       "<polygon fill=\"#000000\" stroke=\"#000000\" points=\"279.0217,-202.6702 278.5866,-192.0843 272.3253,-200.631 279.0217,-202.6702\"/>\n",
       "<text text-anchor=\"middle\" x=\"152.0952\" y=\"-289.8162\" font-family=\"Times,serif\" font-size=\"14.00\" fill=\"#000000\">255.0642404256357</text>\n",
       "</g>\n",
       "<!-- L1N0 -->\n",
       "<g id=\"node7\" class=\"node\">\n",
       "<title>L1N0</title>\n",
       "<ellipse fill=\"none\" stroke=\"#000000\" cx=\"521.0363\" cy=\"-98.0162\" rx=\"33.2948\" ry=\"18\"/>\n",
       "<text text-anchor=\"middle\" x=\"521.0363\" y=\"-94.3162\" font-family=\"Times,serif\" font-size=\"14.00\" fill=\"#000000\">L1N0</text>\n",
       "</g>\n",
       "<!-- L0N0&#45;&gt;L1N0 -->\n",
       "<g id=\"edge9\" class=\"edge\">\n",
       "<title>L0N0&#45;&gt;L1N0</title>\n",
       "<path fill=\"none\" stroke=\"#000000\" d=\"M316.1269,-98.0162C358.4015,-98.0162 431.3188,-98.0162 477.8078,-98.0162\"/>\n",
       "<polygon fill=\"#000000\" stroke=\"#000000\" points=\"477.8776,-101.5163 487.8776,-98.0162 477.8776,-94.5163 477.8776,-101.5163\"/>\n",
       "<text text-anchor=\"middle\" x=\"401.8893\" y=\"-101.8162\" font-family=\"Times,serif\" font-size=\"14.00\" fill=\"#000000\">&#45;262.12867836791924</text>\n",
       "</g>\n",
       "<!-- gpa -->\n",
       "<g id=\"node3\" class=\"node\">\n",
       "<title>gpa</title>\n",
       "<ellipse fill=\"none\" stroke=\"#000000\" cx=\"27.2976\" cy=\"-43.0162\" rx=\"27\" ry=\"18\"/>\n",
       "<text text-anchor=\"middle\" x=\"27.2976\" y=\"-39.3162\" font-family=\"Times,serif\" font-size=\"14.00\" fill=\"#000000\">gpa</text>\n",
       "</g>\n",
       "<!-- gpa&#45;&gt;L0N0 -->\n",
       "<g id=\"edge2\" class=\"edge\">\n",
       "<title>gpa&#45;&gt;L0N0</title>\n",
       "<path fill=\"none\" stroke=\"#000000\" d=\"M47.8296,-31.2054C55.3668,-27.4956 64.1304,-23.8829 72.5952,-22.0162 141.6037,-6.7979 173.6481,18.4303 231.5952,-22.0162 250.6198,-35.2952 236.1215,-52.1288 249.5952,-71.0162 251.0661,-73.0781 252.7339,-75.0701 254.5199,-76.9741\"/>\n",
       "<polygon fill=\"#000000\" stroke=\"#000000\" points=\"252.1445,-79.5449 261.8279,-83.844 256.939,-74.4445 252.1445,-79.5449\"/>\n",
       "<text text-anchor=\"middle\" x=\"152.0952\" y=\"-25.8162\" font-family=\"Times,serif\" font-size=\"14.00\" fill=\"#000000\">0.0005299020798989509</text>\n",
       "</g>\n",
       "<!-- gpa&#45;&gt;L0N1 -->\n",
       "<g id=\"edge5\" class=\"edge\">\n",
       "<title>gpa&#45;&gt;L0N1</title>\n",
       "<path fill=\"none\" stroke=\"#000000\" d=\"M35.9886,-60.1011C45.9372,-78.9472 62.1952,-107.4826 72.5952,-114.0162 132.859,-151.8759 165.9699,-105.4768 231.5952,-133.0162 241.6693,-137.2438 251.3804,-144.0663 259.5841,-150.943\"/>\n",
       "<polygon fill=\"#000000\" stroke=\"#000000\" points=\"257.4414,-153.7211 267.2429,-157.7438 262.0893,-148.4868 257.4414,-153.7211\"/>\n",
       "<text text-anchor=\"middle\" x=\"152.0952\" y=\"-136.8162\" font-family=\"Times,serif\" font-size=\"14.00\" fill=\"#000000\">683.9045087305113</text>\n",
       "</g>\n",
       "<!-- rank -->\n",
       "<g id=\"node4\" class=\"node\">\n",
       "<title>rank</title>\n",
       "<ellipse fill=\"none\" stroke=\"#000000\" cx=\"27.2976\" cy=\"-121.0162\" rx=\"27.0966\" ry=\"18\"/>\n",
       "<text text-anchor=\"middle\" x=\"27.2976\" y=\"-117.3162\" font-family=\"Times,serif\" font-size=\"14.00\" fill=\"#000000\">rank</text>\n",
       "</g>\n",
       "<!-- rank&#45;&gt;L0N0 -->\n",
       "<g id=\"edge3\" class=\"edge\">\n",
       "<title>rank&#45;&gt;L0N0</title>\n",
       "<path fill=\"none\" stroke=\"#000000\" d=\"M35.0041,-103.4492C42.3638,-89.0983 54.9535,-69.8021 72.5952,-61.0162 135.8513,-29.5132 164.3647,-39.2481 231.5952,-61.0162 237.1192,-62.8048 246.833,-69.4516 256.3217,-76.6285\"/>\n",
       "<polygon fill=\"#000000\" stroke=\"#000000\" points=\"254.444,-79.6015 264.4913,-82.9632 258.7333,-74.0696 254.444,-79.6015\"/>\n",
       "<text text-anchor=\"middle\" x=\"152.0952\" y=\"-64.8162\" font-family=\"Times,serif\" font-size=\"14.00\" fill=\"#000000\">0.009630811157502297</text>\n",
       "</g>\n",
       "<!-- rank&#45;&gt;L0N1 -->\n",
       "<g id=\"edge6\" class=\"edge\">\n",
       "<title>rank&#45;&gt;L0N1</title>\n",
       "<path fill=\"none\" stroke=\"#000000\" d=\"M44.2355,-135.5896C52.3006,-141.711 62.3986,-148.2683 72.5952,-152.0162 87.8296,-157.6157 182.441,-165.9879 239.3942,-170.6227\"/>\n",
       "<polygon fill=\"#000000\" stroke=\"#000000\" points=\"239.3137,-174.1275 249.5628,-171.4431 239.8767,-167.1501 239.3137,-174.1275\"/>\n",
       "<text text-anchor=\"middle\" x=\"152.0952\" y=\"-172.8162\" font-family=\"Times,serif\" font-size=\"14.00\" fill=\"#000000\">353.2796302741849</text>\n",
       "</g>\n",
       "<!-- L0N1&#45;&gt;L1N0 -->\n",
       "<g id=\"edge10\" class=\"edge\">\n",
       "<title>L0N1&#45;&gt;L1N0</title>\n",
       "<path fill=\"none\" stroke=\"#000000\" d=\"M312.4133,-165.5764C349.4663,-154.9002 414.702,-135.6522 469.8893,-117.0162 474.5253,-115.4507 479.3728,-113.7433 484.1579,-112.0151\"/>\n",
       "<polygon fill=\"#000000\" stroke=\"#000000\" points=\"485.6207,-115.2067 493.8041,-108.4773 483.2104,-108.6347 485.6207,-115.2067\"/>\n",
       "<text text-anchor=\"middle\" x=\"401.8893\" y=\"-161.8162\" font-family=\"Times,serif\" font-size=\"14.00\" fill=\"#000000\">1.8730254232067773</text>\n",
       "</g>\n",
       "<!-- ILI -->\n",
       "<g id=\"node6\" class=\"node\">\n",
       "<title>ILI</title>\n",
       "<ellipse fill=\"none\" stroke=\"#000000\" cx=\"27.2976\" cy=\"-196.0162\" rx=\"22.9609\" ry=\"22.9609\"/>\n",
       "<ellipse fill=\"none\" stroke=\"#000000\" cx=\"27.2976\" cy=\"-196.0162\" rx=\"26.9983\" ry=\"26.9983\"/>\n",
       "<text text-anchor=\"middle\" x=\"27.2976\" y=\"-192.3162\" font-family=\"Times,serif\" font-size=\"14.00\" fill=\"#000000\">ILI</text>\n",
       "</g>\n",
       "<!-- ILI&#45;&gt;L0N0 -->\n",
       "<g id=\"edge7\" class=\"edge\">\n",
       "<title>ILI&#45;&gt;L0N0</title>\n",
       "<path fill=\"none\" stroke=\"#000000\" d=\"M41.4174,-172.9862C45.9131,-165.2009 50.7205,-156.364 54.5952,-148.0162 64.363,-126.9719 53.6021,-112.3404 72.5952,-99.0162 98.6359,-80.7477 186.7028,-86.9025 240.2153,-92.6846\"/>\n",
       "<polygon fill=\"#000000\" stroke=\"#000000\" points=\"240.1009,-96.1936 250.4285,-93.8287 240.8803,-89.2371 240.1009,-96.1936\"/>\n",
       "<text text-anchor=\"middle\" x=\"152.0952\" y=\"-102.8162\" font-family=\"Times,serif\" font-size=\"14.00\" fill=\"#000000\">0.17079551139648425</text>\n",
       "</g>\n",
       "<!-- ILI&#45;&gt;L0N1 -->\n",
       "<g id=\"edge8\" class=\"edge\">\n",
       "<title>ILI&#45;&gt;L0N1</title>\n",
       "<path fill=\"none\" stroke=\"#000000\" d=\"M54.2968,-197.553C93.6123,-199.2662 168.7804,-200.5577 231.5952,-190.0162 236.1042,-189.2595 240.7667,-188.2037 245.3577,-186.9916\"/>\n",
       "<polygon fill=\"#000000\" stroke=\"#000000\" points=\"246.5724,-190.2839 255.2066,-184.1438 244.6279,-183.5593 246.5724,-190.2839\"/>\n",
       "<text text-anchor=\"middle\" x=\"152.0952\" y=\"-201.8162\" font-family=\"Times,serif\" font-size=\"14.00\" fill=\"#000000\">609.9274900026963</text>\n",
       "</g>\n",
       "<!-- L0I -->\n",
       "<g id=\"node8\" class=\"node\">\n",
       "<title>L0I</title>\n",
       "<ellipse fill=\"none\" stroke=\"#000000\" cx=\"282.7422\" cy=\"-33.0162\" rx=\"24.8692\" ry=\"24.8692\"/>\n",
       "<ellipse fill=\"none\" stroke=\"#000000\" cx=\"282.7422\" cy=\"-33.0162\" rx=\"28.897\" ry=\"28.897\"/>\n",
       "<text text-anchor=\"middle\" x=\"282.7422\" y=\"-29.3162\" font-family=\"Times,serif\" font-size=\"14.00\" fill=\"#000000\">L0I</text>\n",
       "</g>\n",
       "<!-- L0I&#45;&gt;L1N0 -->\n",
       "<g id=\"edge11\" class=\"edge\">\n",
       "<title>L0I&#45;&gt;L1N0</title>\n",
       "<path fill=\"none\" stroke=\"#000000\" d=\"M310.9178,-38.8843C347.7845,-46.8027 414.2444,-61.9038 469.8893,-79.0162 474.62,-80.471 479.5504,-82.1235 484.4017,-83.8323\"/>\n",
       "<polygon fill=\"#000000\" stroke=\"#000000\" points=\"483.5654,-87.2521 494.1595,-87.3737 485.9536,-80.6721 483.5654,-87.2521\"/>\n",
       "<text text-anchor=\"middle\" x=\"401.8893\" y=\"-82.8162\" font-family=\"Times,serif\" font-size=\"14.00\" fill=\"#000000\">139.87471973050322</text>\n",
       "</g>\n",
       "</g>\n",
       "</svg>\n"
      ],
      "text/plain": [
       "<graphviz.dot.Digraph at 0x7f882d818fd0>"
      ]
     },
     "execution_count": 19,
     "metadata": {},
     "output_type": "execute_result"
    }
   ],
   "source": [
    "graphMLP(Admis.columns[1:], model_nnet.coefs_, model_nnet.intercepts_)"
   ]
  },
  {
   "cell_type": "markdown",
   "metadata": {},
   "source": [
    " i1,i2,i3 are the 3 inputs, h1, h2 are the two hidden neurons, b is the bias (offset)\n",
    "\n",
    " As you can see, some weights are large (two orders of magnitude larger then others)\n",
    "This is no good, since it makes the model unstable (i.e., small changes in some inputs may\n",
    " entail significant changes in the network, because of the large weights)\n",
    "\n",
    " One way to avoid this is by regularizing the learning process:"
   ]
  },
  {
   "cell_type": "code",
   "execution_count": 20,
   "metadata": {},
   "outputs": [],
   "source": [
    "model_nnet = MLPClassifier(hidden_layer_sizes=[2],\n",
    "                           alpha=0.01,\n",
    "                           activation='logistic',\n",
    "                           max_iter=200,\n",
    "                           solver='lbfgs')\n",
    "\n",
    "model_nnet.fit(X_train,y_train);"
   ]
  },
  {
   "cell_type": "markdown",
   "metadata": {},
   "source": [
    " notice the big difference"
   ]
  },
  {
   "cell_type": "code",
   "execution_count": 21,
   "metadata": {},
   "outputs": [
    {
     "data": {
      "text/plain": [
       "[array([[-0.09763042,  5.25803336],\n",
       "        [-0.04545433, 11.37823499],\n",
       "        [ 1.43319544,  5.10250072]]), array([[-2.08999617],\n",
       "        [ 1.67653835]])]"
      ]
     },
     "execution_count": 21,
     "metadata": {},
     "output_type": "execute_result"
    },
    {
     "data": {
      "text/plain": [
       "[array([-0.04645938, 10.29491785]), array([-1.16194603])]"
      ]
     },
     "execution_count": 21,
     "metadata": {},
     "output_type": "execute_result"
    }
   ],
   "source": [
    "model_nnet.coefs_\n",
    "model_nnet.intercepts_"
   ]
  },
  {
   "cell_type": "code",
   "execution_count": 22,
   "metadata": {},
   "outputs": [
    {
     "data": {
      "image/svg+xml": [
       "<?xml version=\"1.0\" encoding=\"UTF-8\" standalone=\"no\"?>\n",
       "<!DOCTYPE svg PUBLIC \"-//W3C//DTD SVG 1.1//EN\"\n",
       " \"http://www.w3.org/Graphics/SVG/1.1/DTD/svg11.dtd\">\n",
       "<!-- Generated by graphviz version 2.40.1 (20161225.0304)\n",
       " -->\n",
       "<!-- Title: %3 Pages: 1 -->\n",
       "<svg width=\"554pt\" height=\"304pt\"\n",
       " viewBox=\"0.00 0.00 554.18 303.70\" xmlns=\"http://www.w3.org/2000/svg\" xmlns:xlink=\"http://www.w3.org/1999/xlink\">\n",
       "<g id=\"graph0\" class=\"graph\" transform=\"scale(1 1) rotate(0) translate(4 299.6978)\">\n",
       "<title>%3</title>\n",
       "<polygon fill=\"#ffffff\" stroke=\"transparent\" points=\"-4,4 -4,-299.6978 550.1834,-299.6978 550.1834,4 -4,4\"/>\n",
       "<!-- gre -->\n",
       "<g id=\"node1\" class=\"node\">\n",
       "<title>gre</title>\n",
       "<ellipse fill=\"none\" stroke=\"#000000\" cx=\"27.2976\" cy=\"-260.6978\" rx=\"27\" ry=\"18\"/>\n",
       "<text text-anchor=\"middle\" x=\"27.2976\" y=\"-256.9978\" font-family=\"Times,serif\" font-size=\"14.00\" fill=\"#000000\">gre</text>\n",
       "</g>\n",
       "<!-- L0N0 -->\n",
       "<g id=\"node2\" class=\"node\">\n",
       "<title>L0N0</title>\n",
       "<ellipse fill=\"none\" stroke=\"#000000\" cx=\"274.7422\" cy=\"-93.6978\" rx=\"33.2948\" ry=\"18\"/>\n",
       "<text text-anchor=\"middle\" x=\"274.7422\" y=\"-89.9978\" font-family=\"Times,serif\" font-size=\"14.00\" fill=\"#000000\">L0N0</text>\n",
       "</g>\n",
       "<!-- gre&#45;&gt;L0N0 -->\n",
       "<g id=\"edge1\" class=\"edge\">\n",
       "<title>gre&#45;&gt;L0N0</title>\n",
       "<path fill=\"none\" stroke=\"#000000\" d=\"M50.0566,-250.7161C57.1785,-247.8479 65.1287,-244.903 72.5952,-242.6978 138.2158,-223.3171 173.8875,-259.7173 223.5952,-212.6978 246.932,-190.6231 228.4021,-171.9868 241.5952,-142.6978 245.2939,-134.4864 250.3479,-126.1513 255.3946,-118.7407\"/>\n",
       "<polygon fill=\"#000000\" stroke=\"#000000\" points=\"258.2913,-120.7066 261.2341,-110.5287 252.5866,-116.65 258.2913,-120.7066\"/>\n",
       "<text text-anchor=\"middle\" x=\"148.0952\" y=\"-246.4978\" font-family=\"Times,serif\" font-size=\"14.00\" fill=\"#000000\">&#45;0.09763042240166327</text>\n",
       "</g>\n",
       "<!-- L0N1 -->\n",
       "<g id=\"node5\" class=\"node\">\n",
       "<title>L0N1</title>\n",
       "<ellipse fill=\"none\" stroke=\"#000000\" cx=\"274.7422\" cy=\"-169.6978\" rx=\"33.2948\" ry=\"18\"/>\n",
       "<text text-anchor=\"middle\" x=\"274.7422\" y=\"-165.9978\" font-family=\"Times,serif\" font-size=\"14.00\" fill=\"#000000\">L0N1</text>\n",
       "</g>\n",
       "<!-- gre&#45;&gt;L0N1 -->\n",
       "<g id=\"edge4\" class=\"edge\">\n",
       "<title>gre&#45;&gt;L0N1</title>\n",
       "<path fill=\"none\" stroke=\"#000000\" d=\"M51.9985,-268.3485C91.3616,-278.9857 169.3982,-293.5766 223.5952,-261.6978 246.984,-247.9404 260.4479,-219.1915 267.6316,-197.4699\"/>\n",
       "<polygon fill=\"#000000\" stroke=\"#000000\" points=\"271.0217,-198.3518 270.5866,-187.7659 264.3253,-196.3126 271.0217,-198.3518\"/>\n",
       "<text text-anchor=\"middle\" x=\"148.0952\" y=\"-284.4978\" font-family=\"Times,serif\" font-size=\"14.00\" fill=\"#000000\">5.258033362057259</text>\n",
       "</g>\n",
       "<!-- L1N0 -->\n",
       "<g id=\"node7\" class=\"node\">\n",
       "<title>L1N0</title>\n",
       "<ellipse fill=\"none\" stroke=\"#000000\" cx=\"513.0363\" cy=\"-93.6978\" rx=\"33.2948\" ry=\"18\"/>\n",
       "<text text-anchor=\"middle\" x=\"513.0363\" y=\"-89.9978\" font-family=\"Times,serif\" font-size=\"14.00\" fill=\"#000000\">L1N0</text>\n",
       "</g>\n",
       "<!-- L0N0&#45;&gt;L1N0 -->\n",
       "<g id=\"edge9\" class=\"edge\">\n",
       "<title>L0N0&#45;&gt;L1N0</title>\n",
       "<path fill=\"none\" stroke=\"#000000\" d=\"M308.1269,-93.6978C350.4015,-93.6978 423.3188,-93.6978 469.8078,-93.6978\"/>\n",
       "<polygon fill=\"#000000\" stroke=\"#000000\" points=\"469.8776,-97.1979 479.8776,-93.6978 469.8776,-90.1979 469.8776,-97.1979\"/>\n",
       "<text text-anchor=\"middle\" x=\"393.8893\" y=\"-97.4978\" font-family=\"Times,serif\" font-size=\"14.00\" fill=\"#000000\">&#45;2.089996166906187</text>\n",
       "</g>\n",
       "<!-- gpa -->\n",
       "<g id=\"node3\" class=\"node\">\n",
       "<title>gpa</title>\n",
       "<ellipse fill=\"none\" stroke=\"#000000\" cx=\"27.2976\" cy=\"-38.6978\" rx=\"27\" ry=\"18\"/>\n",
       "<text text-anchor=\"middle\" x=\"27.2976\" y=\"-34.9978\" font-family=\"Times,serif\" font-size=\"14.00\" fill=\"#000000\">gpa</text>\n",
       "</g>\n",
       "<!-- gpa&#45;&gt;L0N0 -->\n",
       "<g id=\"edge2\" class=\"edge\">\n",
       "<title>gpa&#45;&gt;L0N0</title>\n",
       "<path fill=\"none\" stroke=\"#000000\" d=\"M49.0449,-28.0028C87.8823,-10.599 170.0992,18.3749 223.5952,-18.6978 242.3219,-31.6755 228.3011,-48.1943 241.5952,-66.6978 243.073,-68.7548 244.7459,-70.7431 246.5355,-72.6446\"/>\n",
       "<polygon fill=\"#000000\" stroke=\"#000000\" points=\"244.1637,-75.2186 253.8509,-79.5092 248.9536,-70.1141 244.1637,-75.2186\"/>\n",
       "<text text-anchor=\"middle\" x=\"148.0952\" y=\"-22.4978\" font-family=\"Times,serif\" font-size=\"14.00\" fill=\"#000000\">&#45;0.045454332631543026</text>\n",
       "</g>\n",
       "<!-- gpa&#45;&gt;L0N1 -->\n",
       "<g id=\"edge5\" class=\"edge\">\n",
       "<title>gpa&#45;&gt;L0N1</title>\n",
       "<path fill=\"none\" stroke=\"#000000\" d=\"M35.9959,-55.7713C45.9512,-74.6065 62.2156,-103.1318 72.5952,-109.6978 129.7582,-145.8586 161.3061,-102.3297 223.5952,-128.6978 233.6561,-132.9568 243.3639,-139.7872 251.5686,-146.6615\"/>\n",
       "<polygon fill=\"#000000\" stroke=\"#000000\" points=\"249.426,-149.4394 259.2296,-153.4568 254.071,-144.2026 249.426,-149.4394\"/>\n",
       "<text text-anchor=\"middle\" x=\"148.0952\" y=\"-132.4978\" font-family=\"Times,serif\" font-size=\"14.00\" fill=\"#000000\">11.378234987757027</text>\n",
       "</g>\n",
       "<!-- rank -->\n",
       "<g id=\"node4\" class=\"node\">\n",
       "<title>rank</title>\n",
       "<ellipse fill=\"none\" stroke=\"#000000\" cx=\"27.2976\" cy=\"-116.6978\" rx=\"27.0966\" ry=\"18\"/>\n",
       "<text text-anchor=\"middle\" x=\"27.2976\" y=\"-112.9978\" font-family=\"Times,serif\" font-size=\"14.00\" fill=\"#000000\">rank</text>\n",
       "</g>\n",
       "<!-- rank&#45;&gt;L0N0 -->\n",
       "<g id=\"edge3\" class=\"edge\">\n",
       "<title>rank&#45;&gt;L0N0</title>\n",
       "<path fill=\"none\" stroke=\"#000000\" d=\"M35.0041,-99.1308C42.3638,-84.78 54.9535,-65.4837 72.5952,-56.6978 132.6686,-26.7799 159.7474,-36.025 223.5952,-56.6978 229.1192,-58.4864 238.833,-65.1333 248.3217,-72.3102\"/>\n",
       "<polygon fill=\"#000000\" stroke=\"#000000\" points=\"246.444,-75.2831 256.4913,-78.6448 250.7333,-69.7512 246.444,-75.2831\"/>\n",
       "<text text-anchor=\"middle\" x=\"148.0952\" y=\"-60.4978\" font-family=\"Times,serif\" font-size=\"14.00\" fill=\"#000000\">1.4331954422554447</text>\n",
       "</g>\n",
       "<!-- rank&#45;&gt;L0N1 -->\n",
       "<g id=\"edge6\" class=\"edge\">\n",
       "<title>rank&#45;&gt;L0N1</title>\n",
       "<path fill=\"none\" stroke=\"#000000\" d=\"M44.2427,-131.252C52.3092,-137.3695 62.4062,-143.9291 72.5952,-147.6978 87.0979,-153.0622 176.4372,-161.3888 231.3826,-166.1102\"/>\n",
       "<polygon fill=\"#000000\" stroke=\"#000000\" points=\"231.2872,-169.6146 241.5483,-166.9763 231.8816,-162.6399 231.2872,-169.6146\"/>\n",
       "<text text-anchor=\"middle\" x=\"148.0952\" y=\"-168.4978\" font-family=\"Times,serif\" font-size=\"14.00\" fill=\"#000000\">5.102500717517656</text>\n",
       "</g>\n",
       "<!-- L0N1&#45;&gt;L1N0 -->\n",
       "<g id=\"edge10\" class=\"edge\">\n",
       "<title>L0N1&#45;&gt;L1N0</title>\n",
       "<path fill=\"none\" stroke=\"#000000\" d=\"M304.4133,-161.2581C341.4663,-150.5818 406.702,-131.3338 461.8893,-112.6978 466.5253,-111.1323 471.3728,-109.425 476.1579,-107.6968\"/>\n",
       "<polygon fill=\"#000000\" stroke=\"#000000\" points=\"477.6207,-110.8883 485.8041,-104.159 475.2104,-104.3164 477.6207,-110.8883\"/>\n",
       "<text text-anchor=\"middle\" x=\"393.8893\" y=\"-157.4978\" font-family=\"Times,serif\" font-size=\"14.00\" fill=\"#000000\">1.6765383536266507</text>\n",
       "</g>\n",
       "<!-- ILI -->\n",
       "<g id=\"node6\" class=\"node\">\n",
       "<title>ILI</title>\n",
       "<ellipse fill=\"none\" stroke=\"#000000\" cx=\"27.2976\" cy=\"-191.6978\" rx=\"22.9609\" ry=\"22.9609\"/>\n",
       "<ellipse fill=\"none\" stroke=\"#000000\" cx=\"27.2976\" cy=\"-191.6978\" rx=\"26.9983\" ry=\"26.9983\"/>\n",
       "<text text-anchor=\"middle\" x=\"27.2976\" y=\"-187.9978\" font-family=\"Times,serif\" font-size=\"14.00\" fill=\"#000000\">ILI</text>\n",
       "</g>\n",
       "<!-- ILI&#45;&gt;L0N0 -->\n",
       "<g id=\"edge7\" class=\"edge\">\n",
       "<title>ILI&#45;&gt;L0N0</title>\n",
       "<path fill=\"none\" stroke=\"#000000\" d=\"M41.4174,-168.6679C45.9131,-160.8825 50.7205,-152.0456 54.5952,-143.6978 64.363,-122.6536 53.6034,-108.0239 72.5952,-94.6978 97.3892,-77.3005 180.6475,-82.9089 232.2591,-88.4088\"/>\n",
       "<polygon fill=\"#000000\" stroke=\"#000000\" points=\"232.1217,-91.9149 242.4461,-89.5364 232.8919,-84.9574 232.1217,-91.9149\"/>\n",
       "<text text-anchor=\"middle\" x=\"148.0952\" y=\"-98.4978\" font-family=\"Times,serif\" font-size=\"14.00\" fill=\"#000000\">&#45;0.04645937524412595</text>\n",
       "</g>\n",
       "<!-- ILI&#45;&gt;L0N1 -->\n",
       "<g id=\"edge8\" class=\"edge\">\n",
       "<title>ILI&#45;&gt;L0N1</title>\n",
       "<path fill=\"none\" stroke=\"#000000\" d=\"M54.1948,-193.1736C92.2241,-194.7412 163.7484,-195.778 223.5952,-185.6978 228.1037,-184.9384 232.766,-183.881 237.3569,-182.668\"/>\n",
       "<polygon fill=\"#000000\" stroke=\"#000000\" points=\"238.5719,-185.9601 247.2056,-179.8192 236.6268,-179.2357 238.5719,-185.9601\"/>\n",
       "<text text-anchor=\"middle\" x=\"148.0952\" y=\"-197.4978\" font-family=\"Times,serif\" font-size=\"14.00\" fill=\"#000000\">10.294917852238113</text>\n",
       "</g>\n",
       "<!-- L0I -->\n",
       "<g id=\"node8\" class=\"node\">\n",
       "<title>L0I</title>\n",
       "<ellipse fill=\"none\" stroke=\"#000000\" cx=\"274.7422\" cy=\"-28.6978\" rx=\"24.8692\" ry=\"24.8692\"/>\n",
       "<ellipse fill=\"none\" stroke=\"#000000\" cx=\"274.7422\" cy=\"-28.6978\" rx=\"28.897\" ry=\"28.897\"/>\n",
       "<text text-anchor=\"middle\" x=\"274.7422\" y=\"-24.9978\" font-family=\"Times,serif\" font-size=\"14.00\" fill=\"#000000\">L0I</text>\n",
       "</g>\n",
       "<!-- L0I&#45;&gt;L1N0 -->\n",
       "<g id=\"edge11\" class=\"edge\">\n",
       "<title>L0I&#45;&gt;L1N0</title>\n",
       "<path fill=\"none\" stroke=\"#000000\" d=\"M302.9178,-34.5659C339.7845,-42.4844 406.2444,-57.5855 461.8893,-74.6978 466.62,-76.1527 471.5504,-77.8051 476.4017,-79.5139\"/>\n",
       "<polygon fill=\"#000000\" stroke=\"#000000\" points=\"475.5654,-82.9337 486.1595,-83.0554 477.9536,-76.3537 475.5654,-82.9337\"/>\n",
       "<text text-anchor=\"middle\" x=\"393.8893\" y=\"-78.4978\" font-family=\"Times,serif\" font-size=\"14.00\" fill=\"#000000\">&#45;1.1619460288942263</text>\n",
       "</g>\n",
       "</g>\n",
       "</svg>\n"
      ],
      "text/plain": [
       "<graphviz.dot.Digraph at 0x7f882d818c18>"
      ]
     },
     "execution_count": 22,
     "metadata": {},
     "output_type": "execute_result"
    }
   ],
   "source": [
    "graphMLP(Admis.columns[1:], model_nnet.coefs_, model_nnet.intercepts_)"
   ]
  },
  {
   "cell_type": "markdown",
   "metadata": {},
   "source": [
    "Now let's compute the training error"
   ]
  },
  {
   "cell_type": "code",
   "execution_count": 23,
   "metadata": {},
   "outputs": [
    {
     "data": {
      "text/plain": [
       "30.22388059701493"
      ]
     },
     "execution_count": 23,
     "metadata": {},
     "output_type": "execute_result"
    }
   ],
   "source": [
    "pred = model_nnet.predict(X_train)\n",
    "(1-accuracy_score(y_train,pred))*100"
   ]
  },
  {
   "cell_type": "markdown",
   "metadata": {},
   "source": [
    " And the corresponding test error"
   ]
  },
  {
   "cell_type": "code",
   "execution_count": 24,
   "metadata": {},
   "outputs": [
    {
     "data": {
      "text/plain": [
       "24.242424242424242"
      ]
     },
     "execution_count": 24,
     "metadata": {},
     "output_type": "execute_result"
    }
   ],
   "source": [
    "pred = model_nnet.predict(X_test)\n",
    "(1-accuracy_score(y_test,pred))*100"
   ]
  },
  {
   "cell_type": "markdown",
   "metadata": {},
   "source": [
    " We get 24.24%, so it seems that the MLP helps a little bit; however, we need to work harder\n",
    "\n",
    " We are going to do the modelling in a principled way now. Using 10x10 CV to select the best\n",
    " combination of 'size' and 'decay'\n",
    "\n",
    " Just by curiosity, let me show you that we can fit any dataset (in the sense of reducing the training error):"
   ]
  },
  {
   "cell_type": "code",
   "execution_count": 25,
   "metadata": {},
   "outputs": [],
   "source": [
    "model_nnet = MLPClassifier(hidden_layer_sizes=[30],\n",
    "                           alpha=0,\n",
    "                           activation='logistic',\n",
    "                           max_iter=500,\n",
    "                           solver='lbfgs')\n",
    "model_nnet.fit(X_train,y_train);"
   ]
  },
  {
   "cell_type": "code",
   "execution_count": 26,
   "metadata": {},
   "outputs": [
    {
     "data": {
      "text/html": [
       "<div>\n",
       "<style scoped>\n",
       "    .dataframe tbody tr th:only-of-type {\n",
       "        vertical-align: middle;\n",
       "    }\n",
       "\n",
       "    .dataframe tbody tr th {\n",
       "        vertical-align: top;\n",
       "    }\n",
       "\n",
       "    .dataframe thead th {\n",
       "        text-align: right;\n",
       "    }\n",
       "</style>\n",
       "<table border=\"1\" class=\"dataframe\">\n",
       "  <thead>\n",
       "    <tr style=\"text-align: right;\">\n",
       "      <th>Predicted</th>\n",
       "      <th>noadmit</th>\n",
       "      <th>admit</th>\n",
       "    </tr>\n",
       "    <tr>\n",
       "      <th>Actual</th>\n",
       "      <th></th>\n",
       "      <th></th>\n",
       "    </tr>\n",
       "  </thead>\n",
       "  <tbody>\n",
       "    <tr>\n",
       "      <th>noadmit</th>\n",
       "      <td>180</td>\n",
       "      <td>3</td>\n",
       "    </tr>\n",
       "    <tr>\n",
       "      <th>admit</th>\n",
       "      <td>4</td>\n",
       "      <td>81</td>\n",
       "    </tr>\n",
       "  </tbody>\n",
       "</table>\n",
       "</div>"
      ],
      "text/plain": [
       "Predicted  noadmit  admit\n",
       "Actual                   \n",
       "noadmit        180      3\n",
       "admit            4     81"
      ]
     },
     "execution_count": 26,
     "metadata": {},
     "output_type": "execute_result"
    },
    {
     "data": {
      "text/plain": [
       "2.6119402985074647"
      ]
     },
     "execution_count": 26,
     "metadata": {},
     "output_type": "execute_result"
    }
   ],
   "source": [
    "pred = model_nnet.predict(X_train)\n",
    "\n",
    "confusion(y_train,pred, ['noadmit','admit'])\n",
    "(1-accuracy_score(y_train,pred))*100"
   ]
  },
  {
   "cell_type": "markdown",
   "metadata": {},
   "source": [
    "And the corresponding test error"
   ]
  },
  {
   "cell_type": "code",
   "execution_count": 27,
   "metadata": {},
   "outputs": [
    {
     "data": {
      "text/html": [
       "<div>\n",
       "<style scoped>\n",
       "    .dataframe tbody tr th:only-of-type {\n",
       "        vertical-align: middle;\n",
       "    }\n",
       "\n",
       "    .dataframe tbody tr th {\n",
       "        vertical-align: top;\n",
       "    }\n",
       "\n",
       "    .dataframe thead th {\n",
       "        text-align: right;\n",
       "    }\n",
       "</style>\n",
       "<table border=\"1\" class=\"dataframe\">\n",
       "  <thead>\n",
       "    <tr style=\"text-align: right;\">\n",
       "      <th>Predicted</th>\n",
       "      <th>noadmit</th>\n",
       "      <th>admit</th>\n",
       "    </tr>\n",
       "    <tr>\n",
       "      <th>Actual</th>\n",
       "      <th></th>\n",
       "      <th></th>\n",
       "    </tr>\n",
       "  </thead>\n",
       "  <tbody>\n",
       "    <tr>\n",
       "      <th>noadmit</th>\n",
       "      <td>60</td>\n",
       "      <td>30</td>\n",
       "    </tr>\n",
       "    <tr>\n",
       "      <th>admit</th>\n",
       "      <td>28</td>\n",
       "      <td>14</td>\n",
       "    </tr>\n",
       "  </tbody>\n",
       "</table>\n",
       "</div>"
      ],
      "text/plain": [
       "Predicted  noadmit  admit\n",
       "Actual                   \n",
       "noadmit         60     30\n",
       "admit           28     14"
      ]
     },
     "execution_count": 27,
     "metadata": {},
     "output_type": "execute_result"
    },
    {
     "data": {
      "text/plain": [
       "43.939393939393945"
      ]
     },
     "execution_count": 27,
     "metadata": {},
     "output_type": "execute_result"
    }
   ],
   "source": [
    "pred = model_nnet.predict(X_test)\n",
    "confusion(y_test,pred, ['noadmit','admit'])\n",
    "(1-accuracy_score(y_test,pred))*100"
   ]
  },
  {
   "cell_type": "markdown",
   "metadata": {},
   "source": [
    "that's it: we got a training error around 2%, but it is \n",
    "illusory ... the test error is larger than before (around 40%); \n",
    " The relevant comparison is between 2% and 40%, this large gap is an indication of overfitting\n",
    "\n"
   ]
  },
  {
   "cell_type": "markdown",
   "metadata": {},
   "source": [
    "Scikit learn has specific functions for parameter search so we can tune the parameters of a model.\n",
    "\n",
    " We are going to use a grid search that will use a cross validation strategy to evaluate the results for each combination of parameters. At the end the best model will be returned\n",
    "\n",
    " In order to find the best network architecture, we are going to explore two methods:\n",
    "\n",
    "1. Explore different numbers of hidden units in one hidden layer, with no regularization\n",
    "2. Fix a large number of hidden units in one hidden layer, and explore different regularization values (recommended)\n",
    "\n",
    "doing both (explore different numbers of hidden units AND regularization values) is usually a waste of computing \n",
    "resources (but notice that it would admit it)\n",
    "\n",
    "Let's start with 1.\n",
    "\n",
    "set desired sizes"
   ]
  },
  {
   "cell_type": "code",
   "execution_count": 28,
   "metadata": {},
   "outputs": [
    {
     "data": {
      "text/plain": [
       "[2, 4, 6, 8, 10, 12, 14, 16, 18, 20]"
      ]
     },
     "execution_count": 28,
     "metadata": {},
     "output_type": "execute_result"
    }
   ],
   "source": [
    "sizes = [2*i for i in range(1,11)]\n",
    "sizes"
   ]
  },
  {
   "cell_type": "code",
   "execution_count": 29,
   "metadata": {},
   "outputs": [
    {
     "data": {
      "text/plain": [
       "0.6716417910447762"
      ]
     },
     "execution_count": 29,
     "metadata": {},
     "output_type": "execute_result"
    }
   ],
   "source": [
    "model_nnet = MLPClassifier(alpha=0,\n",
    "                           activation='logistic',\n",
    "                           max_iter=500,\n",
    "                           solver='lbfgs')\n",
    "trc = GridSearchCV(estimator=model_nnet, \n",
    "                   param_grid ={'hidden_layer_sizes':sizes},\n",
    "                   cv=10,\n",
    "                   return_train_score=True)\n",
    "model_10CV = trc.fit(X_train,y_train)\n",
    "model_10CV.best_score_\n"
   ]
  },
  {
   "cell_type": "code",
   "execution_count": 30,
   "metadata": {},
   "outputs": [
    {
     "data": {
      "text/html": [
       "<div>\n",
       "<style scoped>\n",
       "    .dataframe tbody tr th:only-of-type {\n",
       "        vertical-align: middle;\n",
       "    }\n",
       "\n",
       "    .dataframe tbody tr th {\n",
       "        vertical-align: top;\n",
       "    }\n",
       "\n",
       "    .dataframe thead th {\n",
       "        text-align: right;\n",
       "    }\n",
       "</style>\n",
       "<table border=\"1\" class=\"dataframe\">\n",
       "  <thead>\n",
       "    <tr style=\"text-align: right;\">\n",
       "      <th></th>\n",
       "      <th>param_hidden_layer_sizes</th>\n",
       "      <th>mean_test_score</th>\n",
       "      <th>std_test_score</th>\n",
       "      <th>rank_test_score</th>\n",
       "    </tr>\n",
       "  </thead>\n",
       "  <tbody>\n",
       "    <tr>\n",
       "      <th>0</th>\n",
       "      <td>2</td>\n",
       "      <td>0.657</td>\n",
       "      <td>0.049</td>\n",
       "      <td>2</td>\n",
       "    </tr>\n",
       "    <tr>\n",
       "      <th>1</th>\n",
       "      <td>4</td>\n",
       "      <td>0.623</td>\n",
       "      <td>0.081</td>\n",
       "      <td>6</td>\n",
       "    </tr>\n",
       "    <tr>\n",
       "      <th>2</th>\n",
       "      <td>6</td>\n",
       "      <td>0.631</td>\n",
       "      <td>0.064</td>\n",
       "      <td>4</td>\n",
       "    </tr>\n",
       "    <tr>\n",
       "      <th>3</th>\n",
       "      <td>8</td>\n",
       "      <td>0.672</td>\n",
       "      <td>0.057</td>\n",
       "      <td>1</td>\n",
       "    </tr>\n",
       "    <tr>\n",
       "      <th>4</th>\n",
       "      <td>10</td>\n",
       "      <td>0.631</td>\n",
       "      <td>0.072</td>\n",
       "      <td>4</td>\n",
       "    </tr>\n",
       "    <tr>\n",
       "      <th>5</th>\n",
       "      <td>12</td>\n",
       "      <td>0.646</td>\n",
       "      <td>0.115</td>\n",
       "      <td>3</td>\n",
       "    </tr>\n",
       "    <tr>\n",
       "      <th>6</th>\n",
       "      <td>14</td>\n",
       "      <td>0.593</td>\n",
       "      <td>0.087</td>\n",
       "      <td>8</td>\n",
       "    </tr>\n",
       "    <tr>\n",
       "      <th>7</th>\n",
       "      <td>16</td>\n",
       "      <td>0.552</td>\n",
       "      <td>0.086</td>\n",
       "      <td>10</td>\n",
       "    </tr>\n",
       "    <tr>\n",
       "      <th>8</th>\n",
       "      <td>18</td>\n",
       "      <td>0.604</td>\n",
       "      <td>0.070</td>\n",
       "      <td>7</td>\n",
       "    </tr>\n",
       "    <tr>\n",
       "      <th>9</th>\n",
       "      <td>20</td>\n",
       "      <td>0.582</td>\n",
       "      <td>0.066</td>\n",
       "      <td>9</td>\n",
       "    </tr>\n",
       "  </tbody>\n",
       "</table>\n",
       "</div>"
      ],
      "text/plain": [
       "  param_hidden_layer_sizes  mean_test_score  std_test_score  rank_test_score\n",
       "0                        2            0.657           0.049                2\n",
       "1                        4            0.623           0.081                6\n",
       "2                        6            0.631           0.064                4\n",
       "3                        8            0.672           0.057                1\n",
       "4                       10            0.631           0.072                4\n",
       "5                       12            0.646           0.115                3\n",
       "6                       14            0.593           0.087                8\n",
       "7                       16            0.552           0.086               10\n",
       "8                       18            0.604           0.070                7\n",
       "9                       20            0.582           0.066                9"
      ]
     },
     "execution_count": 30,
     "metadata": {},
     "output_type": "execute_result"
    }
   ],
   "source": [
    "pd.DataFrame(model_10CV.cv_results_).\\\n",
    "        loc[:,['param_hidden_layer_sizes','mean_test_score',\n",
    "               'std_test_score','rank_test_score' ]]"
   ]
  },
  {
   "cell_type": "markdown",
   "metadata": {},
   "source": [
    "and the best model found"
   ]
  },
  {
   "cell_type": "code",
   "execution_count": 31,
   "metadata": {},
   "outputs": [
    {
     "data": {
      "text/plain": [
       "{'hidden_layer_sizes': 8}"
      ]
     },
     "execution_count": 31,
     "metadata": {},
     "output_type": "execute_result"
    }
   ],
   "source": [
    "model_10CV.best_params_"
   ]
  },
  {
   "cell_type": "markdown",
   "metadata": {},
   "source": [
    " The results are quite disappointing ...\n",
    "\n",
    " Now method 2."
   ]
  },
  {
   "cell_type": "code",
   "execution_count": 32,
   "metadata": {},
   "outputs": [
    {
     "data": {
      "text/plain": [
       "[0.001,\n",
       " 0.0012589254117941675,\n",
       " 0.001584893192461114,\n",
       " 0.0019952623149688807,\n",
       " 0.002511886431509582,\n",
       " 0.0031622776601683824,\n",
       " 0.003981071705534978,\n",
       " 0.00501187233627273,\n",
       " 0.006309573444801942,\n",
       " 0.00794328234724283,\n",
       " 0.010000000000000021,\n",
       " 0.012589254117941701,\n",
       " 0.015848931924611172,\n",
       " 0.01995262314968885,\n",
       " 0.025118864315095874,\n",
       " 0.03162277660168389,\n",
       " 0.03981071705534985,\n",
       " 0.0501187233627274,\n",
       " 0.06309573444801955,\n",
       " 0.07943282347242846,\n",
       " 0.10000000000000041,\n",
       " 0.12589254117941726,\n",
       " 0.15848931924611206,\n",
       " 0.1995262314968889,\n",
       " 0.25118864315095923,\n",
       " 0.31622776601683955,\n",
       " 0.39810717055349937,\n",
       " 0.501187233627275,\n",
       " 0.6309573444801969,\n",
       " 0.7943282347242863]"
      ]
     },
     "execution_count": 32,
     "metadata": {},
     "output_type": "execute_result"
    }
   ],
   "source": [
    "decays = [10**i for i in np.arange(-3,0,0.1)]\n",
    "decays"
   ]
  },
  {
   "cell_type": "markdown",
   "metadata": {},
   "source": [
    " WARNING: this takes a few minutes"
   ]
  },
  {
   "cell_type": "code",
   "execution_count": 33,
   "metadata": {},
   "outputs": [
    {
     "data": {
      "text/plain": [
       "0.6791044776119403"
      ]
     },
     "execution_count": 33,
     "metadata": {},
     "output_type": "execute_result"
    }
   ],
   "source": [
    "model_nnet = MLPClassifier(alpha=0,\n",
    "                           activation='logistic',\n",
    "                           hidden_layer_sizes=20,\n",
    "                           max_iter=500,\n",
    "                           solver='lbfgs')\n",
    "trc = GridSearchCV(estimator=model_nnet, \n",
    "                   param_grid ={'alpha':decays},\n",
    "                   cv=10,\n",
    "                   return_train_score=True)\n",
    "model_10CV = trc.fit(X_train,y_train)\n",
    "model_10CV.best_score_\n"
   ]
  },
  {
   "cell_type": "code",
   "execution_count": 34,
   "metadata": {},
   "outputs": [
    {
     "data": {
      "text/html": [
       "<div>\n",
       "<style scoped>\n",
       "    .dataframe tbody tr th:only-of-type {\n",
       "        vertical-align: middle;\n",
       "    }\n",
       "\n",
       "    .dataframe tbody tr th {\n",
       "        vertical-align: top;\n",
       "    }\n",
       "\n",
       "    .dataframe thead th {\n",
       "        text-align: right;\n",
       "    }\n",
       "</style>\n",
       "<table border=\"1\" class=\"dataframe\">\n",
       "  <thead>\n",
       "    <tr style=\"text-align: right;\">\n",
       "      <th></th>\n",
       "      <th>param_alpha</th>\n",
       "      <th>mean_test_score</th>\n",
       "      <th>std_test_score</th>\n",
       "      <th>rank_test_score</th>\n",
       "    </tr>\n",
       "  </thead>\n",
       "  <tbody>\n",
       "    <tr>\n",
       "      <th>0</th>\n",
       "      <td>0.001</td>\n",
       "      <td>0.582</td>\n",
       "      <td>0.093</td>\n",
       "      <td>23</td>\n",
       "    </tr>\n",
       "    <tr>\n",
       "      <th>1</th>\n",
       "      <td>0.00126</td>\n",
       "      <td>0.608</td>\n",
       "      <td>0.037</td>\n",
       "      <td>13</td>\n",
       "    </tr>\n",
       "    <tr>\n",
       "      <th>2</th>\n",
       "      <td>0.00158</td>\n",
       "      <td>0.597</td>\n",
       "      <td>0.055</td>\n",
       "      <td>19</td>\n",
       "    </tr>\n",
       "    <tr>\n",
       "      <th>3</th>\n",
       "      <td>0.002</td>\n",
       "      <td>0.582</td>\n",
       "      <td>0.095</td>\n",
       "      <td>23</td>\n",
       "    </tr>\n",
       "    <tr>\n",
       "      <th>4</th>\n",
       "      <td>0.00251</td>\n",
       "      <td>0.593</td>\n",
       "      <td>0.071</td>\n",
       "      <td>21</td>\n",
       "    </tr>\n",
       "    <tr>\n",
       "      <th>5</th>\n",
       "      <td>0.00316</td>\n",
       "      <td>0.575</td>\n",
       "      <td>0.092</td>\n",
       "      <td>27</td>\n",
       "    </tr>\n",
       "    <tr>\n",
       "      <th>6</th>\n",
       "      <td>0.00398</td>\n",
       "      <td>0.556</td>\n",
       "      <td>0.064</td>\n",
       "      <td>29</td>\n",
       "    </tr>\n",
       "    <tr>\n",
       "      <th>7</th>\n",
       "      <td>0.00501</td>\n",
       "      <td>0.582</td>\n",
       "      <td>0.068</td>\n",
       "      <td>23</td>\n",
       "    </tr>\n",
       "    <tr>\n",
       "      <th>8</th>\n",
       "      <td>0.00631</td>\n",
       "      <td>0.608</td>\n",
       "      <td>0.085</td>\n",
       "      <td>13</td>\n",
       "    </tr>\n",
       "    <tr>\n",
       "      <th>9</th>\n",
       "      <td>0.00794</td>\n",
       "      <td>0.601</td>\n",
       "      <td>0.108</td>\n",
       "      <td>17</td>\n",
       "    </tr>\n",
       "    <tr>\n",
       "      <th>10</th>\n",
       "      <td>0.01</td>\n",
       "      <td>0.578</td>\n",
       "      <td>0.084</td>\n",
       "      <td>26</td>\n",
       "    </tr>\n",
       "    <tr>\n",
       "      <th>11</th>\n",
       "      <td>0.0126</td>\n",
       "      <td>0.590</td>\n",
       "      <td>0.091</td>\n",
       "      <td>22</td>\n",
       "    </tr>\n",
       "    <tr>\n",
       "      <th>12</th>\n",
       "      <td>0.0158</td>\n",
       "      <td>0.545</td>\n",
       "      <td>0.059</td>\n",
       "      <td>30</td>\n",
       "    </tr>\n",
       "    <tr>\n",
       "      <th>13</th>\n",
       "      <td>0.02</td>\n",
       "      <td>0.601</td>\n",
       "      <td>0.099</td>\n",
       "      <td>17</td>\n",
       "    </tr>\n",
       "    <tr>\n",
       "      <th>14</th>\n",
       "      <td>0.0251</td>\n",
       "      <td>0.597</td>\n",
       "      <td>0.097</td>\n",
       "      <td>19</td>\n",
       "    </tr>\n",
       "    <tr>\n",
       "      <th>15</th>\n",
       "      <td>0.0316</td>\n",
       "      <td>0.608</td>\n",
       "      <td>0.084</td>\n",
       "      <td>13</td>\n",
       "    </tr>\n",
       "    <tr>\n",
       "      <th>16</th>\n",
       "      <td>0.0398</td>\n",
       "      <td>0.575</td>\n",
       "      <td>0.106</td>\n",
       "      <td>27</td>\n",
       "    </tr>\n",
       "    <tr>\n",
       "      <th>17</th>\n",
       "      <td>0.0501</td>\n",
       "      <td>0.608</td>\n",
       "      <td>0.093</td>\n",
       "      <td>13</td>\n",
       "    </tr>\n",
       "    <tr>\n",
       "      <th>18</th>\n",
       "      <td>0.0631</td>\n",
       "      <td>0.646</td>\n",
       "      <td>0.086</td>\n",
       "      <td>11</td>\n",
       "    </tr>\n",
       "    <tr>\n",
       "      <th>19</th>\n",
       "      <td>0.0794</td>\n",
       "      <td>0.675</td>\n",
       "      <td>0.068</td>\n",
       "      <td>2</td>\n",
       "    </tr>\n",
       "    <tr>\n",
       "      <th>20</th>\n",
       "      <td>0.1</td>\n",
       "      <td>0.664</td>\n",
       "      <td>0.090</td>\n",
       "      <td>7</td>\n",
       "    </tr>\n",
       "    <tr>\n",
       "      <th>21</th>\n",
       "      <td>0.126</td>\n",
       "      <td>0.638</td>\n",
       "      <td>0.090</td>\n",
       "      <td>12</td>\n",
       "    </tr>\n",
       "    <tr>\n",
       "      <th>22</th>\n",
       "      <td>0.158</td>\n",
       "      <td>0.660</td>\n",
       "      <td>0.087</td>\n",
       "      <td>8</td>\n",
       "    </tr>\n",
       "    <tr>\n",
       "      <th>23</th>\n",
       "      <td>0.2</td>\n",
       "      <td>0.675</td>\n",
       "      <td>0.054</td>\n",
       "      <td>2</td>\n",
       "    </tr>\n",
       "    <tr>\n",
       "      <th>24</th>\n",
       "      <td>0.251</td>\n",
       "      <td>0.675</td>\n",
       "      <td>0.055</td>\n",
       "      <td>2</td>\n",
       "    </tr>\n",
       "    <tr>\n",
       "      <th>25</th>\n",
       "      <td>0.316</td>\n",
       "      <td>0.679</td>\n",
       "      <td>0.056</td>\n",
       "      <td>1</td>\n",
       "    </tr>\n",
       "    <tr>\n",
       "      <th>26</th>\n",
       "      <td>0.398</td>\n",
       "      <td>0.660</td>\n",
       "      <td>0.039</td>\n",
       "      <td>8</td>\n",
       "    </tr>\n",
       "    <tr>\n",
       "      <th>27</th>\n",
       "      <td>0.501</td>\n",
       "      <td>0.675</td>\n",
       "      <td>0.047</td>\n",
       "      <td>2</td>\n",
       "    </tr>\n",
       "    <tr>\n",
       "      <th>28</th>\n",
       "      <td>0.631</td>\n",
       "      <td>0.668</td>\n",
       "      <td>0.039</td>\n",
       "      <td>6</td>\n",
       "    </tr>\n",
       "    <tr>\n",
       "      <th>29</th>\n",
       "      <td>0.794</td>\n",
       "      <td>0.660</td>\n",
       "      <td>0.041</td>\n",
       "      <td>8</td>\n",
       "    </tr>\n",
       "  </tbody>\n",
       "</table>\n",
       "</div>"
      ],
      "text/plain": [
       "   param_alpha  mean_test_score  std_test_score  rank_test_score\n",
       "0        0.001            0.582           0.093               23\n",
       "1      0.00126            0.608           0.037               13\n",
       "2      0.00158            0.597           0.055               19\n",
       "3        0.002            0.582           0.095               23\n",
       "4      0.00251            0.593           0.071               21\n",
       "5      0.00316            0.575           0.092               27\n",
       "6      0.00398            0.556           0.064               29\n",
       "7      0.00501            0.582           0.068               23\n",
       "8      0.00631            0.608           0.085               13\n",
       "9      0.00794            0.601           0.108               17\n",
       "10        0.01            0.578           0.084               26\n",
       "11      0.0126            0.590           0.091               22\n",
       "12      0.0158            0.545           0.059               30\n",
       "13        0.02            0.601           0.099               17\n",
       "14      0.0251            0.597           0.097               19\n",
       "15      0.0316            0.608           0.084               13\n",
       "16      0.0398            0.575           0.106               27\n",
       "17      0.0501            0.608           0.093               13\n",
       "18      0.0631            0.646           0.086               11\n",
       "19      0.0794            0.675           0.068                2\n",
       "20         0.1            0.664           0.090                7\n",
       "21       0.126            0.638           0.090               12\n",
       "22       0.158            0.660           0.087                8\n",
       "23         0.2            0.675           0.054                2\n",
       "24       0.251            0.675           0.055                2\n",
       "25       0.316            0.679           0.056                1\n",
       "26       0.398            0.660           0.039                8\n",
       "27       0.501            0.675           0.047                2\n",
       "28       0.631            0.668           0.039                6\n",
       "29       0.794            0.660           0.041                8"
      ]
     },
     "execution_count": 34,
     "metadata": {},
     "output_type": "execute_result"
    }
   ],
   "source": [
    "pd.DataFrame(model_10CV.cv_results_).\\\n",
    "        loc[:,['param_alpha','mean_test_score', 'std_test_score','rank_test_score' ]]"
   ]
  },
  {
   "cell_type": "code",
   "execution_count": 35,
   "metadata": {},
   "outputs": [
    {
     "data": {
      "text/plain": [
       "{'alpha': 0.31622776601683955}"
      ]
     },
     "execution_count": 35,
     "metadata": {},
     "output_type": "execute_result"
    }
   ],
   "source": [
    "model_10CV.best_params_"
   ]
  },
  {
   "cell_type": "markdown",
   "metadata": {},
   "source": [
    " The results are a bit better; we should choose the model with the lowest 10x10CV error overall,\n",
    " in this case it corresponds to 20 hidden neurons, with a decay of 0.3162278\n",
    "\n",
    " So what remains is to predict the test set with our final model"
   ]
  },
  {
   "cell_type": "code",
   "execution_count": 36,
   "metadata": {},
   "outputs": [
    {
     "data": {
      "text/plain": [
       "32.57575757575758"
      ]
     },
     "execution_count": 36,
     "metadata": {},
     "output_type": "execute_result"
    }
   ],
   "source": [
    "pred = model_10CV.predict(X_test)\n",
    "\n",
    "(1-accuracy_score(y_test,pred))*100"
   ]
  },
  {
   "cell_type": "markdown",
   "metadata": {},
   "source": [
    " We get ~32% after all this work; it seems that the information in this dataset is not enough\n",
    " to accurately predict admittance. Note that ...\n",
    "\n",
    " ... upon looking at the confusion matrix for the predictions ..."
   ]
  },
  {
   "cell_type": "code",
   "execution_count": 37,
   "metadata": {},
   "outputs": [
    {
     "data": {
      "text/html": [
       "<div>\n",
       "<style scoped>\n",
       "    .dataframe tbody tr th:only-of-type {\n",
       "        vertical-align: middle;\n",
       "    }\n",
       "\n",
       "    .dataframe tbody tr th {\n",
       "        vertical-align: top;\n",
       "    }\n",
       "\n",
       "    .dataframe thead th {\n",
       "        text-align: right;\n",
       "    }\n",
       "</style>\n",
       "<table border=\"1\" class=\"dataframe\">\n",
       "  <thead>\n",
       "    <tr style=\"text-align: right;\">\n",
       "      <th>Predicted</th>\n",
       "      <th>noadmit</th>\n",
       "      <th>admit</th>\n",
       "    </tr>\n",
       "    <tr>\n",
       "      <th>Actual</th>\n",
       "      <th></th>\n",
       "      <th></th>\n",
       "    </tr>\n",
       "  </thead>\n",
       "  <tbody>\n",
       "    <tr>\n",
       "      <th>noadmit</th>\n",
       "      <td>84</td>\n",
       "      <td>6</td>\n",
       "    </tr>\n",
       "    <tr>\n",
       "      <th>admit</th>\n",
       "      <td>37</td>\n",
       "      <td>5</td>\n",
       "    </tr>\n",
       "  </tbody>\n",
       "</table>\n",
       "</div>"
      ],
      "text/plain": [
       "Predicted  noadmit  admit\n",
       "Actual                   \n",
       "noadmit         84      6\n",
       "admit           37      5"
      ]
     },
     "execution_count": 37,
     "metadata": {},
     "output_type": "execute_result"
    }
   ],
   "source": [
    "confusion(y_test,pred, ['noadmit','admit'])"
   ]
  },
  {
   "cell_type": "markdown",
   "metadata": {},
   "source": [
    " it clearly suggests that quite a lot of people is getting accepted when they should not, given their gre, gpa and rank\n",
    " It is very likely that other (subjective?) factors are being taken into account, that are not in the dataset"
   ]
  },
  {
   "cell_type": "markdown",
   "metadata": {},
   "source": [
    "***"
   ]
  },
  {
   "cell_type": "markdown",
   "metadata": {},
   "source": [
    "## Multilayer Perceptron Example 2: circular artificial 2D data"
   ]
  },
  {
   "cell_type": "code",
   "execution_count": 38,
   "metadata": {},
   "outputs": [
    {
     "data": {
      "image/png": "[encoded data removed]",
      "text/plain": [
       "<Figure size 576x576 with 1 Axes>"
      ]
     },
     "metadata": {
      "needs_background": "light"
     },
     "output_type": "display_data"
    }
   ],
   "source": [
    "np.random.seed(3)\n",
    "p = 2\n",
    "N = 200\n",
    "\n",
    "x = normal(size=N*p).reshape(-1,2)\n",
    "y = (x[:,0]**2+x[:,1]**2 > 1.4).astype('int')\n",
    "\n",
    "mydata = pd.DataFrame({'x1':x[:,0],'x2':x[:,1],'y':y})\n",
    "mydata\n",
    "\n",
    "mydata.plot.scatter(x='x1',y='x2',c='y', \n",
    "                    colormap='plasma',\n",
    "                    figsize=(8,8),\n",
    "                    colorbar=False,\n",
    "                    xlim=[-3,3],\n",
    "                    ylim=[-3,3]);"
   ]
  },
  {
   "cell_type": "markdown",
   "metadata": {},
   "source": [
    " Let's use one hidden layer, 3 hidden units, no regularization and the error function \"cross-entropy\"\n",
    " In this case it is not necessary to standardize because they variables already are\n",
    " (they have been generated from a distribution with mean 0 and standard deviation 1)."
   ]
  },
  {
   "cell_type": "code",
   "execution_count": 39,
   "metadata": {},
   "outputs": [],
   "source": [
    "np.random.seed(30)\n",
    "nn1= MLPClassifier(alpha=0,\n",
    "                   activation='logistic',\n",
    "                   hidden_layer_sizes=3,\n",
    "                   max_iter=2000,\n",
    "                   solver='lbfgs')\n",
    "nn1.fit(mydata.loc[:,'x1':'x2'],mydata.y);\n",
    "mydata['yhat']=nn1.predict(mydata.loc[:,'x1':'x2']);\n",
    "\n"
   ]
  },
  {
   "cell_type": "code",
   "execution_count": 40,
   "metadata": {},
   "outputs": [
    {
     "data": {
      "image/png": "[encoded data removed]",
      "text/plain": [
       "<Figure size 1152x576 with 2 Axes>"
      ]
     },
     "metadata": {
      "needs_background": "light"
     },
     "output_type": "display_data"
    }
   ],
   "source": [
    "fig, (ax1,ax2) = plt.subplots(1,2,figsize=(16,8))\n",
    "mydata.plot.scatter(x='x1',y='x2',c='y', \n",
    "                    colormap='plasma',\n",
    "                    colorbar=False,xlim=[-3,3],\n",
    "                    ylim=[-3,3],\n",
    "                    ax=ax1,\n",
    "                    title='Actual labels')\n",
    "mydata.plot.scatter(x='x1',y='x2',c='yhat', \n",
    "                    colormap='plasma',\n",
    "                    colorbar=False,\n",
    "                    xlim=[-3,3],\n",
    "                    ylim=[-3,3],\n",
    "                    ax=ax2,\n",
    "                    title='Predicted labels');"
   ]
  },
  {
   "cell_type": "code",
   "execution_count": 41,
   "metadata": {},
   "outputs": [
    {
     "data": {
      "text/html": [
       "<div>\n",
       "<style scoped>\n",
       "    .dataframe tbody tr th:only-of-type {\n",
       "        vertical-align: middle;\n",
       "    }\n",
       "\n",
       "    .dataframe tbody tr th {\n",
       "        vertical-align: top;\n",
       "    }\n",
       "\n",
       "    .dataframe thead th {\n",
       "        text-align: right;\n",
       "    }\n",
       "</style>\n",
       "<table border=\"1\" class=\"dataframe\">\n",
       "  <thead>\n",
       "    <tr style=\"text-align: right;\">\n",
       "      <th>Predicted</th>\n",
       "      <th>0</th>\n",
       "      <th>1</th>\n",
       "    </tr>\n",
       "    <tr>\n",
       "      <th>Actual</th>\n",
       "      <th></th>\n",
       "      <th></th>\n",
       "    </tr>\n",
       "  </thead>\n",
       "  <tbody>\n",
       "    <tr>\n",
       "      <th>0</th>\n",
       "      <td>96</td>\n",
       "      <td>0</td>\n",
       "    </tr>\n",
       "    <tr>\n",
       "      <th>1</th>\n",
       "      <td>0</td>\n",
       "      <td>104</td>\n",
       "    </tr>\n",
       "  </tbody>\n",
       "</table>\n",
       "</div>"
      ],
      "text/plain": [
       "Predicted   0    1\n",
       "Actual            \n",
       "0          96    0\n",
       "1           0  104"
      ]
     },
     "execution_count": 41,
     "metadata": {},
     "output_type": "execute_result"
    }
   ],
   "source": [
    "confusion(mydata.y,mydata.yhat,[0,1])\n"
   ]
  },
  {
   "cell_type": "markdown",
   "metadata": {},
   "source": [
    "Excellent, indeed\n",
    "\n",
    " Let's execute it again, this time wth a different random seed"
   ]
  },
  {
   "cell_type": "code",
   "execution_count": 42,
   "metadata": {},
   "outputs": [
    {
     "data": {
      "image/png": "[encoded data removed]",
      "text/plain": [
       "<Figure size 1152x576 with 2 Axes>"
      ]
     },
     "metadata": {
      "needs_background": "light"
     },
     "output_type": "display_data"
    }
   ],
   "source": [
    "np.random.seed(3)\n",
    "nn1= MLPClassifier(alpha=0,\n",
    "                   activation='logistic',\n",
    "                   hidden_layer_sizes=3,\n",
    "                   max_iter=2000,\n",
    "                   solver='lbfgs')\n",
    "nn1.fit(mydata.loc[:,'x1':'x2'],mydata.y);\n",
    "mydata['yhat']=nn1.predict(mydata.loc[:,'x1':'x2']);\n",
    "fig, (ax1,ax2) = plt.subplots(1,2,figsize=(16,8))\n",
    "mydata.plot.scatter(x='x1',y='x2',c='y', \n",
    "                    colormap='plasma',\n",
    "                    colorbar=False,\n",
    "                    xlim=[-3,3],\n",
    "                    ylim=[-3,3],\n",
    "                    ax=ax1,\n",
    "                    title='Actual labels')\n",
    "mydata.plot.scatter(x='x1',y='x2',c='yhat', \n",
    "                    colormap='plasma',\n",
    "                    colorbar=False,\n",
    "                    xlim=[-3,3],\n",
    "                    ylim=[-3,3],\n",
    "                    ax=ax2,\n",
    "                    title='Predicted labels');"
   ]
  },
  {
   "cell_type": "code",
   "execution_count": 43,
   "metadata": {},
   "outputs": [
    {
     "data": {
      "text/html": [
       "<div>\n",
       "<style scoped>\n",
       "    .dataframe tbody tr th:only-of-type {\n",
       "        vertical-align: middle;\n",
       "    }\n",
       "\n",
       "    .dataframe tbody tr th {\n",
       "        vertical-align: top;\n",
       "    }\n",
       "\n",
       "    .dataframe thead th {\n",
       "        text-align: right;\n",
       "    }\n",
       "</style>\n",
       "<table border=\"1\" class=\"dataframe\">\n",
       "  <thead>\n",
       "    <tr style=\"text-align: right;\">\n",
       "      <th>Predicted</th>\n",
       "      <th>0</th>\n",
       "      <th>1</th>\n",
       "    </tr>\n",
       "    <tr>\n",
       "      <th>Actual</th>\n",
       "      <th></th>\n",
       "      <th></th>\n",
       "    </tr>\n",
       "  </thead>\n",
       "  <tbody>\n",
       "    <tr>\n",
       "      <th>0</th>\n",
       "      <td>93</td>\n",
       "      <td>3</td>\n",
       "    </tr>\n",
       "    <tr>\n",
       "      <th>1</th>\n",
       "      <td>5</td>\n",
       "      <td>99</td>\n",
       "    </tr>\n",
       "  </tbody>\n",
       "</table>\n",
       "</div>"
      ],
      "text/plain": [
       "Predicted   0   1\n",
       "Actual           \n",
       "0          93   3\n",
       "1           5  99"
      ]
     },
     "execution_count": 43,
     "metadata": {},
     "output_type": "execute_result"
    }
   ],
   "source": [
    "confusion(mydata.y,mydata.yhat, [0,1])"
   ]
  },
  {
   "cell_type": "markdown",
   "metadata": {},
   "source": [
    " we see that the optimizer does not always find a good solution, even with the right number of neurons\n",
    "\n",
    " How many hidden units do we need?"
   ]
  },
  {
   "cell_type": "code",
   "execution_count": 44,
   "metadata": {},
   "outputs": [
    {
     "data": {
      "image/png": "[encoded data removed]",
      "text/plain": [
       "<Figure size 1152x1152 with 4 Axes>"
      ]
     },
     "metadata": {
      "needs_background": "light"
     },
     "output_type": "display_data"
    }
   ],
   "source": [
    "fig, ax = plt.subplots(2,2,figsize=(16,16))\n",
    "for i,a in zip(range(1,5),ax.ravel()):\n",
    "    np.random.seed(3)\n",
    "    nn1= MLPClassifier(alpha=0,\n",
    "                       activation='logistic',\n",
    "                       hidden_layer_sizes=i,\n",
    "                       max_iter=2000,\n",
    "                       solver='lbfgs')\n",
    "    nn1.fit(mydata.loc[:,'x1':'x2'],mydata.y);\n",
    "    mydata['yhat']=nn1.predict(mydata.loc[:,'x1':'x2']);\n",
    "    mydata.plot.scatter(x='x1',y='x2',c='yhat', \n",
    "                        colormap='plasma',\n",
    "                        colorbar=False,\n",
    "                        xlim=[-3,3],\n",
    "                        ylim=[-3,3],\n",
    "                        ax=a,\n",
    "                        title='%d Hidden unit(s))'%i)\n",
    "0;"
   ]
  },
  {
   "cell_type": "markdown",
   "metadata": {},
   "source": [
    " Let's find out which function has been learned exactly, with 3 units"
   ]
  },
  {
   "cell_type": "code",
   "execution_count": 45,
   "metadata": {},
   "outputs": [],
   "source": [
    "np.random.seed(3)\n",
    "nn1= MLPClassifier(alpha=0.01,activation='logistic',\n",
    "                   hidden_layer_sizes=3,\n",
    "                   max_iter=3000,solver='lbfgs')\n",
    "nn1.fit(mydata.loc[:,'x1':'x2'],mydata.y);"
   ]
  },
  {
   "cell_type": "code",
   "execution_count": 46,
   "metadata": {},
   "outputs": [],
   "source": [
    "x1grid = np.linspace(-3.0, 3.0, 200)\n",
    "x2grid = np.linspace(-3.0, 3.0, 200)\n",
    "X,Y = np.meshgrid(x1grid, x2grid)\n",
    "Ones = np.ones((200,200))"
   ]
  },
  {
   "cell_type": "code",
   "execution_count": 47,
   "metadata": {},
   "outputs": [],
   "source": [
    "v1 = (X*nn1.coefs_[0][0,0] + Y * nn1.coefs_[0][1,0] + Ones * nn1.intercepts_[0][0])\n",
    "v2 = (X*nn1.coefs_[0][0,1] + Y * nn1.coefs_[0][1,1] + Ones * nn1.intercepts_[0][1])\n",
    "v3 = (X*nn1.coefs_[0][0,2] + Y * nn1.coefs_[0][1,2] + Ones * nn1.intercepts_[0][2])"
   ]
  },
  {
   "cell_type": "code",
   "execution_count": 48,
   "metadata": {},
   "outputs": [
    {
     "data": {
      "image/png": "[encoded data removed]",
      "text/plain": [
       "<Figure size 576x576 with 1 Axes>"
      ]
     },
     "metadata": {
      "needs_background": "light"
     },
     "output_type": "display_data"
    }
   ],
   "source": [
    "fig, ax = plt.subplots(figsize=(8,8))\n",
    "CS = ax.contour(X, Y, v1,levels=0)\n",
    "plt.clabel(CS, inline=1, fontsize=10)\n",
    "CS = ax.contour(X, Y, v2,levels=0)\n",
    "plt.clabel(CS, inline=1, fontsize=10)\n",
    "CS = ax.contour(X, Y, v3,levels=0)\n",
    "plt.clabel(CS, inline=1, fontsize=10)\n",
    "plt.title('net input = 0\\n in the hidden units');"
   ]
  },
  {
   "cell_type": "markdown",
   "metadata": {},
   "source": [
    " this is the logistic function, used by nnet() for the hidden neurons, and \n",
    " for the output neurons in two-class classification problems"
   ]
  },
  {
   "cell_type": "code",
   "execution_count": 49,
   "metadata": {},
   "outputs": [
    {
     "data": {
      "image/png": "[encoded data removed]",
      "text/plain": [
       "<Figure size 576x576 with 1 Axes>"
      ]
     },
     "metadata": {
      "needs_background": "light"
     },
     "output_type": "display_data"
    }
   ],
   "source": [
    "z = nn1.intercepts_[1][0] + nn1.coefs_[1][0] * logistic(v1) +\\\n",
    "    nn1.coefs_[1][1] * logistic(v2) + nn1.coefs_[1][2] * logistic(v3) \n",
    "fig, ax = plt.subplots(figsize=(8,8))\n",
    "\n",
    "CS = ax.contour(X, Y, z)\n",
    "plt.clabel(CS, fontsize=10)\n",
    "plt.title('hidden outputs = tanh of the net inputs\\n and their weighted sum');"
   ]
  },
  {
   "cell_type": "code",
   "execution_count": 50,
   "metadata": {},
   "outputs": [
    {
     "data": {
      "image/png": "[encoded data removed]",
      "text/plain": [
       "<Figure size 576x576 with 1 Axes>"
      ]
     },
     "metadata": {
      "needs_background": "light"
     },
     "output_type": "display_data"
    }
   ],
   "source": [
    "fig, ax = plt.subplots(figsize=(8,8))\n",
    "CS = ax.contour(X, Y, logistic(z),levels=0.5)\n",
    "plt.clabel(CS, fontsize=10)\n",
    "plt.title('logistic of the previous sum = 0.5');"
   ]
  },
  {
   "cell_type": "code",
   "execution_count": 51,
   "metadata": {},
   "outputs": [
    {
     "data": {
      "image/png": "[encoded data removed]",
      "text/plain": [
       "<Figure size 576x576 with 1 Axes>"
      ]
     },
     "metadata": {
      "needs_background": "light"
     },
     "output_type": "display_data"
    }
   ],
   "source": [
    "ax =mydata.plot.scatter(x='x1',y='x2',c='y', \n",
    "                        colormap='plasma',figsize=(8,8),\n",
    "                        colorbar=False,\n",
    "                        xlim=[-3,3],ylim=[-3,3],\n",
    "                        title='same with training data points')\n",
    "CS = ax.contour(X, Y, logistic(z),levels=0.5)"
   ]
  },
  {
   "cell_type": "markdown",
   "metadata": {},
   "source": [
    " If you prefer a more visual demo of how ANN work, you can play with the Google's tensorflow playground http://playground.tensorflow.org"
   ]
  },
  {
   "cell_type": "markdown",
   "metadata": {},
   "source": [
    "***"
   ]
  },
  {
   "cell_type": "markdown",
   "metadata": {},
   "source": [
    "## Radial Basis Function Network Example: regression of a 1D function"
   ]
  },
  {
   "cell_type": "markdown",
   "metadata": {},
   "source": [
    " We are going to do all the computations \"by hand\"\n",
    "\n",
    "Let us depart from the following function in the (a,b) interval"
   ]
  },
  {
   "cell_type": "code",
   "execution_count": 52,
   "metadata": {},
   "outputs": [],
   "source": [
    "def myf(x): return (1 + x - 2*x**2) * np.exp(-x**2)"
   ]
  },
  {
   "cell_type": "markdown",
   "metadata": {},
   "source": [
    "We are going to model this function in the interval (-5,5)"
   ]
  },
  {
   "cell_type": "code",
   "execution_count": 53,
   "metadata": {},
   "outputs": [
    {
     "data": {
      "text/html": [
       "<div>\n",
       "<style scoped>\n",
       "    .dataframe tbody tr th:only-of-type {\n",
       "        vertical-align: middle;\n",
       "    }\n",
       "\n",
       "    .dataframe tbody tr th {\n",
       "        vertical-align: top;\n",
       "    }\n",
       "\n",
       "    .dataframe thead th {\n",
       "        text-align: right;\n",
       "    }\n",
       "</style>\n",
       "<table border=\"1\" class=\"dataframe\">\n",
       "  <thead>\n",
       "    <tr style=\"text-align: right;\">\n",
       "      <th></th>\n",
       "      <th>x</th>\n",
       "      <th>t</th>\n",
       "    </tr>\n",
       "  </thead>\n",
       "  <tbody>\n",
       "    <tr>\n",
       "      <th>count</th>\n",
       "      <td>200.000</td>\n",
       "      <td>200.000</td>\n",
       "    </tr>\n",
       "    <tr>\n",
       "      <th>mean</th>\n",
       "      <td>-0.020</td>\n",
       "      <td>0.031</td>\n",
       "    </tr>\n",
       "    <tr>\n",
       "      <th>std</th>\n",
       "      <td>2.837</td>\n",
       "      <td>0.407</td>\n",
       "    </tr>\n",
       "    <tr>\n",
       "      <th>min</th>\n",
       "      <td>-4.760</td>\n",
       "      <td>-1.023</td>\n",
       "    </tr>\n",
       "    <tr>\n",
       "      <th>25%</th>\n",
       "      <td>-2.449</td>\n",
       "      <td>-0.207</td>\n",
       "    </tr>\n",
       "    <tr>\n",
       "      <th>50%</th>\n",
       "      <td>-0.170</td>\n",
       "      <td>-0.015</td>\n",
       "    </tr>\n",
       "    <tr>\n",
       "      <th>75%</th>\n",
       "      <td>2.280</td>\n",
       "      <td>0.188</td>\n",
       "    </tr>\n",
       "    <tr>\n",
       "      <th>max</th>\n",
       "      <td>4.780</td>\n",
       "      <td>1.284</td>\n",
       "    </tr>\n",
       "  </tbody>\n",
       "</table>\n",
       "</div>"
      ],
      "text/plain": [
       "             x        t\n",
       "count  200.000  200.000\n",
       "mean    -0.020    0.031\n",
       "std      2.837    0.407\n",
       "min     -4.760   -1.023\n",
       "25%     -2.449   -0.207\n",
       "50%     -0.170   -0.015\n",
       "75%      2.280    0.188\n",
       "max      4.780    1.284"
      ]
     },
     "execution_count": 53,
     "metadata": {},
     "output_type": "execute_result"
    }
   ],
   "source": [
    "np.random.seed(3)\n",
    "\n",
    "N = 200\n",
    "a=-5\n",
    "b=5\n",
    "\n",
    "def myf_data(N,a,b):\n",
    "    x = uniform(a,b,N)\n",
    "    return pd.DataFrame({'x':x, \n",
    "                         't': myf(x) + normal(scale=0.2,size=N)})\n",
    "d = myf_data(N,a,b)\n",
    "\n",
    "d.describe()"
   ]
  },
  {
   "cell_type": "markdown",
   "metadata": {},
   "source": [
    "The black points are the data, the blue line is the true underlying function"
   ]
  },
  {
   "cell_type": "code",
   "execution_count": 54,
   "metadata": {},
   "outputs": [
    {
     "data": {
      "image/png": "[encoded data removed]",
      "text/plain": [
       "<Figure size 576x576 with 1 Axes>"
      ]
     },
     "metadata": {
      "needs_background": "light"
     },
     "output_type": "display_data"
    }
   ],
   "source": [
    "ax = d.plot.scatter(x='x',y='t',figsize=(8,8),c='black');\n",
    "ax.plot(np.linspace(-5,5), myf(np.linspace(-5,5)));"
   ]
  },
  {
   "cell_type": "markdown",
   "metadata": {},
   "source": [
    " Create a large test data too for future use; notice that the generation mechanism is the same"
   ]
  },
  {
   "cell_type": "code",
   "execution_count": 55,
   "metadata": {},
   "outputs": [],
   "source": [
    "N_test=2000\n",
    "d_test = myf_data(N_test,a,b)\n"
   ]
  },
  {
   "cell_type": "markdown",
   "metadata": {},
   "source": [
    "Function to compute a PHI (N x M) design matrix, without the Phi_0(x) = 1 column;\n",
    " m.i, h.i are the centers and variances (sigmas) of the neurons, respectively"
   ]
  },
  {
   "cell_type": "code",
   "execution_count": 56,
   "metadata": {},
   "outputs": [],
   "source": [
    "def PHI(x,m_i,h_i):\n",
    "  N = x.shape[0]\n",
    "  M = m_i.shape[0]\n",
    "  phis = np.zeros((M,N))\n",
    "  for i in range(M):\n",
    "    phis[i:] = np.exp(-(x - m_i[i])**2/(2*h_i[i]))\n",
    "  return phis.T\n"
   ]
  },
  {
   "cell_type": "markdown",
   "metadata": {},
   "source": [
    " We find the centers and variances for each neuron using k-means; since this clustering algorithm is non-deterministic (because the initial centers are random), we do it 'NumKmeans' times"
   ]
  },
  {
   "cell_type": "code",
   "execution_count": 57,
   "metadata": {},
   "outputs": [],
   "source": [
    "NumKmeans = 10"
   ]
  },
  {
   "cell_type": "markdown",
   "metadata": {},
   "source": [
    "We set a rather large number of hidden units (= basis functions) M as a function of data size (the sqrt is just a heuristic!) because we are going to try different regularizers"
   ]
  },
  {
   "cell_type": "code",
   "execution_count": 58,
   "metadata": {},
   "outputs": [],
   "source": [
    "M = int(np.floor(np.sqrt(N)))\n"
   ]
  },
  {
   "cell_type": "code",
   "execution_count": 59,
   "metadata": {},
   "outputs": [],
   "source": [
    "m = []\n",
    "h = []\n",
    "data_Kmeans=np.array(d.x).reshape(-1, 1)\n",
    "\n",
    "for j in range(1,NumKmeans+1):\n",
    "    # Find the centers m.i with k-means\n",
    "    km = KMeans(n_clusters=M)\n",
    "    km.fit(data_Kmeans)\n",
    "    m.append(km.cluster_centers_[:,0])\n",
    "\n",
    "    # Obtain the variances h_i as a function of the m_i\n",
    "    th = np.zeros(M)\n",
    "    for i in range(M):\n",
    "        nind = data_Kmeans[km.labels_==i].shape[0]\n",
    "        th[i] = np.sum(np.abs(data_Kmeans[km.labels_==i]-m[j-1][i]))/nind\n",
    "        if th[i]==0:\n",
    "            th[i]=1\n",
    "    h.append(th)\n",
    "0;"
   ]
  },
  {
   "cell_type": "markdown",
   "metadata": {},
   "source": [
    " Now for each k-means we get the hidden-to-output weights by solving a regularized\n",
    " least-squares problem (standard ridge regression), very much as we did in previous labs\n",
    "\n",
    "The difference is that now we perform ridge regression on the PHI matrix (that is, on the new regressors given by the hidden neurons), not on the original inputs ...\n",
    "\n",
    " ... and find the best lambda with using GCV across all choices of basis functions (the NumKmeans clusterings)"
   ]
  },
  {
   "cell_type": "code",
   "execution_count": 60,
   "metadata": {},
   "outputs": [],
   "source": [
    "lambdes = 10**np.arange(-3,1.5,0.1)\n",
    "\n",
    "errors = []\n",
    "bestLambdes = []\n",
    "\n",
    "for num in range(1,NumKmeans+1):\n",
    "    m_i = m[num-1]\n",
    "    h_i = h[num-1]\n",
    "    myPHI = PHI(d.x,m_i,h_i)\n",
    "    ridgecv = RidgeCV(alphas=lambdes,normalize=True)\n",
    "    ridgecv.fit(myPHI,d.t)\n",
    "    ridge=Ridge(alpha=ridgecv.alpha_,normalize=True).fit(myPHI,d.t)\n",
    "    errors.append(ridge.score(myPHI,d.t))\n",
    "    bestLambdes.append(ridgecv.alpha_)\n",
    "                                                          \n",
    "0;"
   ]
  },
  {
   "cell_type": "markdown",
   "metadata": {},
   "source": [
    " Now we obtain the best model among the tested ones"
   ]
  },
  {
   "cell_type": "code",
   "execution_count": 61,
   "metadata": {},
   "outputs": [],
   "source": [
    "bestIndex = np.argmin(errors)\n",
    "bestLambda =bestLambdes[bestIndex]\n",
    "m_i = m[bestIndex]\n",
    "h_i = h[bestIndex]"
   ]
  },
  {
   "cell_type": "markdown",
   "metadata": {},
   "source": [
    " we see that this problem needs a lot of regularization! This makes sense if you take a look at how the data is generated (the previous plot): the noise level is very high relative to the signal\n",
    "\n",
    " We also see that the best lambda fluctuates (since the data changes  due to the clustering, but the order of magnitude is quite stable"
   ]
  },
  {
   "cell_type": "code",
   "execution_count": 62,
   "metadata": {},
   "outputs": [
    {
     "data": {
      "text/plain": [
       "[0.0031622776601683824,\n",
       " 0.00794328234724283,\n",
       " 0.01995262314968885,\n",
       " 0.01995262314968885,\n",
       " 0.015848931924611172,\n",
       " 0.01995262314968885,\n",
       " 0.00501187233627273,\n",
       " 0.01995262314968885,\n",
       " 0.00794328234724283,\n",
       " 0.01995262314968885]"
      ]
     },
     "execution_count": 62,
     "metadata": {},
     "output_type": "execute_result"
    }
   ],
   "source": [
    "bestLambdes"
   ]
  },
  {
   "cell_type": "markdown",
   "metadata": {},
   "source": [
    " We now create the final model:"
   ]
  },
  {
   "cell_type": "code",
   "execution_count": 63,
   "metadata": {},
   "outputs": [],
   "source": [
    "myRBF=Ridge(alpha=bestLambda,normalize=True).fit(PHI (d.x,m_i,h_i),d.t)"
   ]
  },
  {
   "cell_type": "markdown",
   "metadata": {},
   "source": [
    "these are the final hidden-to-output weights: note how small they are (here is where we regularize)"
   ]
  },
  {
   "cell_type": "code",
   "execution_count": 64,
   "metadata": {},
   "outputs": [
    {
     "data": {
      "text/html": [
       "<div>\n",
       "<style scoped>\n",
       "    .dataframe tbody tr th:only-of-type {\n",
       "        vertical-align: middle;\n",
       "    }\n",
       "\n",
       "    .dataframe tbody tr th {\n",
       "        vertical-align: top;\n",
       "    }\n",
       "\n",
       "    .dataframe thead th {\n",
       "        text-align: right;\n",
       "    }\n",
       "</style>\n",
       "<table border=\"1\" class=\"dataframe\">\n",
       "  <thead>\n",
       "    <tr style=\"text-align: right;\">\n",
       "      <th></th>\n",
       "      <th>0</th>\n",
       "    </tr>\n",
       "  </thead>\n",
       "  <tbody>\n",
       "    <tr>\n",
       "      <th>w_0</th>\n",
       "      <td>-0.113</td>\n",
       "    </tr>\n",
       "    <tr>\n",
       "      <th>w_1</th>\n",
       "      <td>0.200</td>\n",
       "    </tr>\n",
       "    <tr>\n",
       "      <th>w_2</th>\n",
       "      <td>0.131</td>\n",
       "    </tr>\n",
       "    <tr>\n",
       "      <th>w_3</th>\n",
       "      <td>0.102</td>\n",
       "    </tr>\n",
       "    <tr>\n",
       "      <th>w_4</th>\n",
       "      <td>-0.376</td>\n",
       "    </tr>\n",
       "    <tr>\n",
       "      <th>w_5</th>\n",
       "      <td>0.062</td>\n",
       "    </tr>\n",
       "    <tr>\n",
       "      <th>w_6</th>\n",
       "      <td>0.880</td>\n",
       "    </tr>\n",
       "    <tr>\n",
       "      <th>w_7</th>\n",
       "      <td>0.074</td>\n",
       "    </tr>\n",
       "    <tr>\n",
       "      <th>w_8</th>\n",
       "      <td>0.136</td>\n",
       "    </tr>\n",
       "    <tr>\n",
       "      <th>w_9</th>\n",
       "      <td>0.768</td>\n",
       "    </tr>\n",
       "    <tr>\n",
       "      <th>w_10</th>\n",
       "      <td>0.050</td>\n",
       "    </tr>\n",
       "    <tr>\n",
       "      <th>w_11</th>\n",
       "      <td>0.075</td>\n",
       "    </tr>\n",
       "    <tr>\n",
       "      <th>w_12</th>\n",
       "      <td>-0.075</td>\n",
       "    </tr>\n",
       "    <tr>\n",
       "      <th>w_13</th>\n",
       "      <td>-0.489</td>\n",
       "    </tr>\n",
       "    <tr>\n",
       "      <th>w_14</th>\n",
       "      <td>-0.148</td>\n",
       "    </tr>\n",
       "  </tbody>\n",
       "</table>\n",
       "</div>"
      ],
      "text/plain": [
       "          0\n",
       "w_0  -0.113\n",
       "w_1   0.200\n",
       "w_2   0.131\n",
       "w_3   0.102\n",
       "w_4  -0.376\n",
       "w_5   0.062\n",
       "w_6   0.880\n",
       "w_7   0.074\n",
       "w_8   0.136\n",
       "w_9   0.768\n",
       "w_10  0.050\n",
       "w_11  0.075\n",
       "w_12 -0.075\n",
       "w_13 -0.489\n",
       "w_14 -0.148"
      ]
     },
     "execution_count": 64,
     "metadata": {},
     "output_type": "execute_result"
    }
   ],
   "source": [
    "weights = np.hstack((np.array(myRBF.intercept_), myRBF.coef_))\n",
    "pd.DataFrame(weights, index=['w_%d'%i for i in range(weights.shape[0])])"
   ]
  },
  {
   "cell_type": "markdown",
   "metadata": {},
   "source": [
    " It remains to calculate the prediction on the test data"
   ]
  },
  {
   "cell_type": "code",
   "execution_count": 65,
   "metadata": {},
   "outputs": [],
   "source": [
    "test_PHI = np.hstack((np.ones(N_test).reshape(-1,1),PHI(d_test.x,m_i,h_i)))\n",
    "y = test_PHI @ weights\n"
   ]
  },
  {
   "cell_type": "markdown",
   "metadata": {},
   "source": [
    " And now the normalized error of this prediction"
   ]
  },
  {
   "cell_type": "code",
   "execution_count": 66,
   "metadata": {},
   "outputs": [
    {
     "data": {
      "text/plain": [
       "0.5234342003825635"
      ]
     },
     "execution_count": 66,
     "metadata": {},
     "output_type": "execute_result"
    }
   ],
   "source": [
    "errorsTest = np.sqrt(np.sum((d_test.t - y)**2)/((N_test-1)*np.var(d_test.t)))\n",
    "errorsTest"
   ]
  },
  {
   "cell_type": "markdown",
   "metadata": {},
   "source": [
    "Much better if we plot everything\n",
    "\n",
    " Test data in black,  Red data are the predictions  and the blue line is the underlying function"
   ]
  },
  {
   "cell_type": "code",
   "execution_count": 67,
   "metadata": {},
   "outputs": [
    {
     "data": {
      "image/png": "[encoded data removed]",
      "text/plain": [
       "<Figure size 576x576 with 1 Axes>"
      ]
     },
     "metadata": {
      "needs_background": "light"
     },
     "output_type": "display_data"
    }
   ],
   "source": [
    "ax = d_test.plot.scatter(x='x',y='t',figsize=(8,8),c='black');\n",
    "ax.plot(np.linspace(-5,5), myf(np.linspace(-5,5)),'b-',linewidth=3);\n",
    "\n",
    "ax.plot(d_test.x,y,'ro');"
   ]
  },
  {
   "cell_type": "markdown",
   "metadata": {},
   "source": [
    "Currently we are in the era of neural networks applications and there are very good neural network libraries for python (and other languages) like Tensorflow/Keras (from Google), pytorch (from Facebook) or MxNet (from Amazon) amonng others.\n",
    "\n",
    "They are more complex but are prepared for large quantities of data using GPU training and are used for many applications in artificial intelligence like computer vision and natural language understanding"
   ]
  }
 ],
 "metadata": {
  "kernelspec": {
   "display_name": "Python 3",
   "language": "python",
   "name": "python3"
  },
  "language_info": {
   "codemirror_mode": {
    "name": "ipython",
    "version": 3
   },
   "file_extension": ".py",
   "mimetype": "text/x-python",
   "name": "python",
   "nbconvert_exporter": "python",
   "pygments_lexer": "ipython3",
   "version": "3.6.6"
  },
  "latex_envs": {
   "LaTeX_envs_menu_present": true,
   "autoclose": false,
   "autocomplete": true,
   "bibliofile": "biblio.bib",
   "cite_by": "apalike",
   "current_citInitial": 1,
   "eqLabelWithNumbers": true,
   "eqNumInitial": 1,
   "hotkeys": {
    "equation": "Ctrl-E",
    "itemize": "Ctrl-I"
   },
   "labels_anchors": false,
   "latex_user_defs": false,
   "report_style_numbering": false,
   "user_envs_cfg": false
  },
  "toc": {
   "base_numbering": 1,
   "nav_menu": {},
   "number_sections": true,
   "sideBar": true,
   "skip_h1_title": false,
   "title_cell": "Table of Contents",
   "title_sidebar": "Contents",
   "toc_cell": false,
   "toc_position": {},
   "toc_section_display": true,
   "toc_window_display": true
  }
 },
 "nbformat": 4,
 "nbformat_minor": 2
}
