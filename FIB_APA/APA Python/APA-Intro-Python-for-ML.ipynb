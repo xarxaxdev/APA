{
 "cells": [
  {
   "cell_type": "markdown",
   "metadata": {},
   "source": [
    "# Python for Machine Learning"
   ]
  },
  {
   "cell_type": "markdown",
   "metadata": {},
   "source": [
    "This notebook does not have code, it just has links to resources and other notebooks that show the basics of the python libraries used for Machine Learning.\n",
    "\n",
    "As you will notice the APA course is oriented to R, so these notebooks are for people interested in going a little beyond. My intention is to open to you the possibility to know the other most used language in Machine Learning and Data Science."
   ]
  },
  {
   "cell_type": "markdown",
   "metadata": {},
   "source": [
    "## Why Python?"
   ]
  },
  {
   "cell_type": "markdown",
   "metadata": {},
   "source": [
    "Python is one of the preferred languages in the Machine Learning community and it has gained a lot of popularity because it has been chosen as one of their preferred languages by the main internet companies in the current AI revolution (Google, Facebook, Amazon, Microsoft, ...)\n",
    "\n",
    "It has several advantages \n",
    "\n",
    "+ It easy to learn\n",
    "+ It is a general purpose programing language and it is used for almost evertyhing\n",
    "+ It has libraries/tools for anything that can be needed in a ML project (from gathering data, preprocessing, prototyping, modeling and deployment)\n",
    "+ There are only a few basic libraries for ML well designed with common interfaces and usually compatible among them\n",
    "+ A large community of ML users that improve and add new tools/libraries constantly\n",
    "+ First language in job demand according to the IEEE Spectrum 2018 programming languages ranking \n",
    "\n"
   ]
  },
  {
   "cell_type": "markdown",
   "metadata": {},
   "source": [
    "## What about R?"
   ]
  },
  {
   "cell_type": "markdown",
   "metadata": {},
   "source": [
    "The discussion about if python is better than R for Machine Learning/Data Science or viceversa is at the same level of windows vs linux,  PC vs Mac or vi vs emacs. Mostly is a matter of taste, you like R or you don't, the same goes for python. \n",
    "\n",
    "Full disclosure, I am a python fan, so I may be biased ;-)\n",
    "\n",
    "More computer science oriented people hate R with all their soul because it has not been really designed as a programming language, its syntax is a little odd and it takes time to get used to it and despite there are a lot of packages they have been designed by different people without really a plan using different interfaces/parameters and sometimes is difficult to do something without having to use many libraries together. \n",
    "\n",
    "More data analysis/statistics oriented people love R because they are used to it, it has been there forever and it is similar to other statistical tools or languages like minitab, SAS or SPSS. The python fans would say that R fans do not now any better.\n",
    "\n",
    "R is ok for most of the tasks for ML, it is older than python and it is very oriented to statistical analysis so it has more specialized libraries for that and if you have to develop a ML proyect in a specialized area more statistics oriented probably you will have R libraries that will solve your problem. Although, once you have your model you will have to resort to other language for deployment.\n",
    "\n",
    "The advantage of this hate/love relationship is that both languages are taking the good things of the other, putting some order in the libraries/tools and allowing to use one language from the other so both communities have access to all tools. See for example the collection of R packages in the Tidyverse (https://www.tidyverse.org/).\n",
    "\n",
    "In the end, the funny thing is that the core of R and python is the well optimized matrix operations/linear algebra/optimization libraries that were implemented in Fortran/C decades ago.\n",
    "\n",
    "\n"
   ]
  },
  {
   "cell_type": "markdown",
   "metadata": {},
   "source": [
    "## Why jupyter notebooks?"
   ]
  },
  {
   "cell_type": "markdown",
   "metadata": {},
   "source": [
    "Jupyter notebooks are the best way to experiment with data and document the results, they have several advantages:\n",
    "    \n",
    "+ You can use the different free on-line platforms for running notebooks ([Microsoft Azure](https://notebooks.azure.com/), [IBM cognitive class lab](https://labs.cognitiveclass.ai/), [Google colaboratory](https://colab.research.google.com))\n",
    "+ If you use a python distribution like [anaconda](https://anaconda.org/anaconda) all that you need is pre installed or easy to install, if you are using the standard python distribution everything it is also easy to install (just use pip)\n",
    "+ If you do not want to bother installing anything, there is a docker image [data scientist worbench](https://hub.docker.com/r/jupyter/datascience-notebook/) that has everything installed (but you have to install docker)\n",
    "+ They are interactive, not oly on the sense that they embbed an interpreter of the language you use, but also you can integrate interactive graphics (via libraries using javascript)\n",
    "+ They allow to use different languages, for example python and R, but also https://github.com/jupyter/jupyter/wiki/Jupyter-kernels\n",
    "+ They can be integrated with big data processing frameworks like Hadoop and Spark\n",
    "+ They can be shared on line\n",
    "+ They can be exported to multiple formats for creating documentation (html, markdown, latex, pdf)\n",
    "+ They are sexy and all the cool kids are using it ;-)"
   ]
  },
  {
   "cell_type": "markdown",
   "metadata": {},
   "source": [
    "## Basic Python"
   ]
  },
  {
   "cell_type": "markdown",
   "metadata": {},
   "source": [
    "If you have taken the Programming Languages course you already have the basics."
   ]
  },
  {
   "cell_type": "markdown",
   "metadata": {},
   "source": [
    "If not, you have:\n",
    "\n",
    " + these [slides](http://www.cs.upc.edu/~bejar/ecsdi/Laboratorio/Python.pdf) explaining the basics \n",
    " + the python official [tutorial](https://docs.python.org/3.6/tutorial/)\n",
    " + some [notebooks](http://www.cs.upc.edu/~bejar/ecsdi/Notebooks.html) of basic python \n",
    " + Another [notebook](https://github.com/jrjohansson/scientific-python-lectures/blob/master/Lecture-1-Introduction-to-Python-Programming.ipynb)\n",
    " "
   ]
  },
  {
   "cell_type": "markdown",
   "metadata": {},
   "source": [
    "The material that you have in the notebooks works for python 3 and probably it will work also for python 2, but be aware the end of life of python 2 is january 2020"
   ]
  },
  {
   "cell_type": "markdown",
   "metadata": {},
   "source": [
    "## ML libraries"
   ]
  },
  {
   "cell_type": "markdown",
   "metadata": {},
   "source": [
    "The notebooks use 4 mainly libraries for ML tasks\n",
    "\n",
    "   + Pandas for data manipulation\n",
    "   + numpy/scipy for matrix operations and linear algebra\n",
    "   + scikit-learn for most of the ML algorithms\n",
    "   + stats-model for some regression algorithms\n",
    "      \n",
    "Visualization is an important thing in data analysis and ML and like in R there are basic plotting libraries and more advanced ones. \n",
    "\n",
    "For plotting, the main library is matplotlib, but there are other libraries based on it that make more easy to create some plots like seaborn. Pandas uses matplotlib under the hood for plotting and most of the basic plots can be obtained directly as method from Pandas DataFrames. \n",
    "\n",
    "If you are used to R's ggplot2, there are python implemetations like ggplot or plotnine.\n",
    "\n",
    "There are also other python plotting libraries that allow interactivity and are based on javascript and the bowser like plotly and bokeh "
   ]
  },
  {
   "cell_type": "markdown",
   "metadata": {},
   "source": [
    "### Pandas"
   ]
  },
  {
   "cell_type": "markdown",
   "metadata": {},
   "source": [
    "Pandas (http://pandas.pydata.org/) is the port to python of R's dataframes.\n",
    "\n",
    "The library is very efficient, it is more easy to use for more CS oriented people. It has all the functionality of R dataframes in a more understandable manner (more pythonic and OO).\n",
    "\n",
    "The [full documentation](http://pandas.pydata.org/pandas-docs/stable/) is long and very good, but for a basic preview you can read the [10 minutes to Pandas](http://pandas.pydata.org/pandas-docs/stable/10min.html) summary.\n",
    "\n",
    "You can also have a look to this [notebook](https://github.com/justmarkham/pandas-videos/blob/master/pandas.ipynb)"
   ]
  },
  {
   "cell_type": "markdown",
   "metadata": {},
   "source": [
    "### Numpy/Scipy"
   ]
  },
  {
   "cell_type": "markdown",
   "metadata": {},
   "source": [
    "Numpy/Scipy (http://www.numpy.org/, https://www.scipy.org/) are the scientific libraries for python. They are very efficient implementation of data array/matrices for python.\n",
    "\n",
    "These libraries have all the matrix operations, linear algebra algorithms and statistical tools that you will need for ML.\n",
    "\n",
    "The numpy official tutorial is [here](https://docs.scipy.org/doc/numpy/user/quickstart.html)\n",
    "\n",
    "You can learn the basics of numpy with this [notebook](https://github.com/jrjohansson/scientific-python-lectures/blob/master/Lecture-2-Numpy.ipynb)"
   ]
  },
  {
   "cell_type": "markdown",
   "metadata": {},
   "source": [
    "### Scikit-learn"
   ]
  },
  {
   "cell_type": "markdown",
   "metadata": {},
   "source": [
    "Scikit-learn (http://scikit-learn.org/stable/) is the main library for ML in python and it has set the standard for the implementation of other libraries. Other complementary libraries and extensions follow verbatim their classes signatures and implementation style. This makes for a very large ecosystem of ML methods implementations completely compatible with each other.\n",
    "\n",
    "Basically all the algorithms are objects with a `fit` (train) and `predict` method.\n",
    "\n",
    "This is their [tutorial](http://scikit-learn.org/stable/tutorial/index.html), but their documentation is very extensive and comprehensible with lots of [examples](http://scikit-learn.org/stable/auto_examples/index.html).\n",
    "\n",
    "Most of the algorithms that we are going to use are from this library, but it has also all the tools for all the ML process, from loading and transforming data, preprocessing, dimensionality reduction, training  and model selection and evaluation.\n",
    "\n"
   ]
  },
  {
   "cell_type": "markdown",
   "metadata": {},
   "source": [
    "### Matplotlib"
   ]
  },
  {
   "cell_type": "markdown",
   "metadata": {},
   "source": [
    "Matplotlib (https://matplotlib.org/) is the basic library for plottin in python. It is low level as the R plotting functions are. It has all the basic plots, and the best way to learn how to use it is to go to the [examples section](https://matplotlib.org/gallery/index.html) of the documentation. This [notebook](http://nbviewer.jupyter.org/github/jrjohansson/scientific-python-lectures/blob/master/Lecture-4-Matplotlib.ipynb) shows all the basics.\n",
    "\n",
    "Most of the basic plots are also functions of Pandas (that uses matplotlib underneath) so if you have your data in a DataFrame is easier to plot this way. Also if you have a numpy array with results sometimes is easier to transform it into a Pandas DataFrame for plotting.\n",
    "\n",
    "Seaborn (https://seaborn.pydata.org/) is another plotting library based on matplotlib. It makes easy to create specific plots and is also Pandas compatible. The best way to lear how to use it is to look at its [gallery](https://seaborn.pydata.org/examples/index.html)\n",
    "\n",
    "For the people used to R ggplot2 (very brave people) there are ports of this library line ggplot(http://ggplot.yhathq.com/) or plotnine (https://plotnine.readthedocs.io/en/stable/) but they are still on development."
   ]
  },
  {
   "cell_type": "markdown",
   "metadata": {},
   "source": [
    "### Statsmodels"
   ]
  },
  {
   "cell_type": "markdown",
   "metadata": {},
   "source": [
    "Statsmodels (http://www.statsmodels.org/) is a statistical analysis python library. From this library we are only interested on the linear regression and logistic regression algorithms. Although, the scikit-learn library has already those algorithms and basically we are using it because it is very similar to the R package for regresion and its functions returns a report for the model that is also similar to the report from R functions.\n",
    "\n",
    "You can substitute these algorithms by the scikit-learn counterparts without problem if you are not interested in the fancy report for the model."
   ]
  },
  {
   "cell_type": "markdown",
   "metadata": {},
   "source": [
    "### Other libraries"
   ]
  },
  {
   "cell_type": "markdown",
   "metadata": {},
   "source": [
    "In the era of Deep Learning there are more advanced packages that can be used for machine learning, they are considered mostly neural network libraries by the common public, but they are actually linear algebra packages that are the basis for most of the ML algorithms, so many of the algorithms from the previous packages can be implemented from scratch using these libraries. Obviously these packages go beyond the methods that we will see during the course, they are at the bleeding edge of neural networks research but they are also focused on industrial applications. Their developement cicle is also very fast with a new version almost every month.\n",
    "\n",
    "The basic principle of all these libraries is that all ML algorithms are just functions that can be described by a graph and that can be optimized using clever optimization algorithms (basically advanced gradient descent) using automatic differentiation.\n",
    "\n",
    "This makes the implementation of algorithms uniform, you describe the graph and the optimization algorithm takes care or the rest. They are also oriented for real big data (millions of example) with distributed and GPU training \n",
    "\n",
    "These libraries were developed initially in academia by the leaders on neural networks/ML research, but now have been taken over literally by the big internet companies like Google, Facebook, Amazon and Microsoft (literally means that most of the big guns in ML research and their teams now work for these companies).\n",
    "\n",
    "The main libraries are:\n",
    "\n",
    "+ Google's Tensorflow (https://www.tensorflow.org) (with Keras if you do not want to get your hands dirty with low level nuisance)\n",
    "+ Facebook's Pytorch (https://pytorch.org/)\n",
    "+ Amazon/MS/intel/Baidu backed open source MXNet (https://mxnet.apache.org/) (with Gluon for avoiding going low level)\n",
    "+ Microsoft's CNTK (https://www.microsoft.com/en-us/cognitive-toolkit/)\n",
    "\n",
    "These libraries are hard stuff and complex to use for beginners so they are the next level if you are really interested on machine learning and AI applications in industry."
   ]
  },
  {
   "cell_type": "markdown",
   "metadata": {},
   "source": [
    "# Additional material"
   ]
  },
  {
   "cell_type": "markdown",
   "metadata": {},
   "source": [
    "There are plenty material about python for ML and data analysis using pandas/scikit-learn/numpy/matplotlib in the internet, some useful resurces are:\n",
    "\n",
    "+ [Notebooks from the Python Data Science Handbook](https://github.com/jakevdp/PythonDataScienceHandbook/tree/master/notebooks)\n",
    "+ [Notebooks from MS Azure - Python for DS 101](https://notebooks.azure.com/rheartpython/libraries/PythonDS101)\n",
    "\n",
    "+ [The Scipy Lectures](http://www.scipy-lectures.org/)"
   ]
  }
 ],
 "metadata": {
  "kernelspec": {
   "display_name": "Python 3",
   "language": "python",
   "name": "python3"
  },
  "language_info": {
   "codemirror_mode": {
    "name": "ipython",
    "version": 3
   },
   "file_extension": ".py",
   "mimetype": "text/x-python",
   "name": "python",
   "nbconvert_exporter": "python",
   "pygments_lexer": "ipython3",
   "version": "3.6.6"
  },
  "latex_envs": {
   "LaTeX_envs_menu_present": true,
   "autoclose": false,
   "autocomplete": true,
   "bibliofile": "biblio.bib",
   "cite_by": "apalike",
   "current_citInitial": 1,
   "eqLabelWithNumbers": true,
   "eqNumInitial": 1,
   "hotkeys": {
    "equation": "Ctrl-E",
    "itemize": "Ctrl-I"
   },
   "labels_anchors": false,
   "latex_user_defs": false,
   "report_style_numbering": false,
   "user_envs_cfg": false
  },
  "toc": {
   "base_numbering": 1,
   "nav_menu": {},
   "number_sections": true,
   "sideBar": true,
   "skip_h1_title": false,
   "title_cell": "Table of Contents",
   "title_sidebar": "Contents",
   "toc_cell": false,
   "toc_position": {},
   "toc_section_display": true,
   "toc_window_display": true
  }
 },
 "nbformat": 4,
 "nbformat_minor": 2
}
