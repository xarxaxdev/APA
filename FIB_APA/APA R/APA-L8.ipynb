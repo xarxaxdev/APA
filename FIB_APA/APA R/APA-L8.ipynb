{
 "cells": [
  {
   "cell_type": "markdown",
   "metadata": {},
   "source": [
    "# APA Laboratori 8 - Random Forests                  "
   ]
  },
  {
   "cell_type": "code",
   "execution_count": 1,
   "metadata": {},
   "outputs": [],
   "source": [
    "# uncomment to install missing libraries\n",
    "# install.packages(\"TunePareto\")\n",
    "#install.packages(\"tree\")\n",
    "#install.packages('randomForest')"
   ]
  },
  {
   "cell_type": "code",
   "execution_count": 2,
   "metadata": {},
   "outputs": [],
   "source": [
    "options(repr.plot.width=6, repr.plot.height=6)"
   ]
  },
  {
   "cell_type": "code",
   "execution_count": 3,
   "metadata": {},
   "outputs": [],
   "source": [
    "set.seed (6046)"
   ]
  },
  {
   "cell_type": "markdown",
   "metadata": {},
   "source": [
    "## Financial Example: classification model for deposit subscription"
   ]
  },
  {
   "cell_type": "markdown",
   "metadata": {},
   "source": [
    "Direct marketing campaigns (phone calls) of a Portuguese banking institution. \n",
    " The classification goal is to predict if the client will subscribe a term deposit"
   ]
  },
  {
   "cell_type": "code",
   "execution_count": 4,
   "metadata": {},
   "outputs": [
    {
     "data": {
      "text/html": [
       "<ol class=list-inline>\n",
       "\t<li>45211</li>\n",
       "\t<li>17</li>\n",
       "</ol>\n"
      ],
      "text/latex": [
       "\\begin{enumerate*}\n",
       "\\item 45211\n",
       "\\item 17\n",
       "\\end{enumerate*}\n"
      ],
      "text/markdown": [
       "1. 45211\n",
       "2. 17\n",
       "\n",
       "\n"
      ],
      "text/plain": [
       "[1] 45211    17"
      ]
     },
     "metadata": {},
     "output_type": "display_data"
    }
   ],
   "source": [
    "deposit <- read.table (\"bank-full.csv.gz\", \n",
    "                       header=TRUE, \n",
    "                       stringsAsFactors=TRUE, \n",
    "                       sep=\";\")\n",
    "\n",
    "dim(deposit)"
   ]
  },
  {
   "cell_type": "code",
   "execution_count": 5,
   "metadata": {},
   "outputs": [
    {
     "data": {
      "text/plain": [
       "      age                 job           marital          education    \n",
       " Min.   :18.00   blue-collar:9732   divorced: 5207   primary  : 6851  \n",
       " 1st Qu.:33.00   management :9458   married :27214   secondary:23202  \n",
       " Median :39.00   technician :7597   single  :12790   tertiary :13301  \n",
       " Mean   :40.94   admin.     :5171                    unknown  : 1857  \n",
       " 3rd Qu.:48.00   services   :4154                                     \n",
       " Max.   :95.00   retired    :2264                                     \n",
       "                 (Other)    :6835                                     \n",
       " default        balance       housing      loan            contact     \n",
       " no :44396   Min.   : -8019   no :20081   no :37967   cellular :29285  \n",
       " yes:  815   1st Qu.:    72   yes:25130   yes: 7244   telephone: 2906  \n",
       "             Median :   448                           unknown  :13020  \n",
       "             Mean   :  1362                                            \n",
       "             3rd Qu.:  1428                                            \n",
       "             Max.   :102127                                            \n",
       "                                                                       \n",
       "      day            month          duration         campaign     \n",
       " Min.   : 1.00   may    :13766   Min.   :   0.0   Min.   : 1.000  \n",
       " 1st Qu.: 8.00   jul    : 6895   1st Qu.: 103.0   1st Qu.: 1.000  \n",
       " Median :16.00   aug    : 6247   Median : 180.0   Median : 2.000  \n",
       " Mean   :15.81   jun    : 5341   Mean   : 258.2   Mean   : 2.764  \n",
       " 3rd Qu.:21.00   nov    : 3970   3rd Qu.: 319.0   3rd Qu.: 3.000  \n",
       " Max.   :31.00   apr    : 2932   Max.   :4918.0   Max.   :63.000  \n",
       "                 (Other): 6060                                    \n",
       "     pdays          previous           poutcome       y        \n",
       " Min.   : -1.0   Min.   :  0.0000   failure: 4901   no :39922  \n",
       " 1st Qu.: -1.0   1st Qu.:  0.0000   other  : 1840   yes: 5289  \n",
       " Median : -1.0   Median :  0.0000   success: 1511              \n",
       " Mean   : 40.2   Mean   :  0.5803   unknown:36959              \n",
       " 3rd Qu.: -1.0   3rd Qu.:  0.0000                              \n",
       " Max.   :871.0   Max.   :275.0000                              \n",
       "                                                               "
      ]
     },
     "metadata": {},
     "output_type": "display_data"
    }
   ],
   "source": [
    "summary(deposit)"
   ]
  },
  {
   "cell_type": "markdown",
   "metadata": {},
   "source": [
    " This dataset needs a lot of pre-processing ... also it displays a good mixture of categorical and numeric variables\n",
    "\n",
    " age seems OK\n",
    " job has 12 values, let's check their frequency\n",
    "\n",
    " seems OK"
   ]
  },
  {
   "cell_type": "code",
   "execution_count": 6,
   "metadata": {},
   "outputs": [
    {
     "data": {
      "text/plain": [
       "\n",
       "       admin.   blue-collar  entrepreneur     housemaid    management \n",
       "         5171          9732          1487          1240          9458 \n",
       "      retired self-employed      services       student    technician \n",
       "         2264          1579          4154           938          7597 \n",
       "   unemployed       unknown \n",
       "         1303           288 "
      ]
     },
     "metadata": {},
     "output_type": "display_data"
    }
   ],
   "source": [
    "table(deposit$job)"
   ]
  },
  {
   "cell_type": "markdown",
   "metadata": {},
   "source": [
    "education has 4 values, let's check their frequency\n",
    "\n",
    " seems OK"
   ]
  },
  {
   "cell_type": "code",
   "execution_count": 7,
   "metadata": {},
   "outputs": [
    {
     "data": {
      "text/plain": [
       "\n",
       "  primary secondary  tertiary   unknown \n",
       "     6851     23202     13301      1857 "
      ]
     },
     "metadata": {},
     "output_type": "display_data"
    }
   ],
   "source": [
    "table(deposit$education)"
   ]
  },
  {
   "cell_type": "markdown",
   "metadata": {},
   "source": [
    " month looks very suspicious ... but is OK"
   ]
  },
  {
   "cell_type": "code",
   "execution_count": 8,
   "metadata": {},
   "outputs": [
    {
     "data": {
      "text/plain": [
       "\n",
       "  apr   aug   dec   feb   jan   jul   jun   mar   may   nov   oct   sep \n",
       " 2932  6247   214  2649  1403  6895  5341   477 13766  3970   738   579 "
      ]
     },
     "metadata": {},
     "output_type": "display_data"
    }
   ],
   "source": [
    "table(deposit$month)"
   ]
  },
  {
   "cell_type": "markdown",
   "metadata": {},
   "source": [
    "Duration is highly skewed ..."
   ]
  },
  {
   "cell_type": "code",
   "execution_count": 9,
   "metadata": {},
   "outputs": [
    {
     "data": {
      "image/png": "[encoded data removed]",
      "text/plain": [
       "Plot with title “Histogram of deposit$duration”"
      ]
     },
     "metadata": {},
     "output_type": "display_data"
    }
   ],
   "source": [
    "options(repr.plot.width=4, repr.plot.height=4)\n",
    "hist(deposit$duration)"
   ]
  },
  {
   "cell_type": "code",
   "execution_count": 10,
   "metadata": {},
   "outputs": [
    {
     "data": {
      "image/png": "[encoded data removed]",
      "text/plain": [
       "Plot with title “Histogram of log(deposit$duration)”"
      ]
     },
     "metadata": {},
     "output_type": "display_data"
    }
   ],
   "source": [
    "hist(log(deposit$duration))"
   ]
  },
  {
   "cell_type": "code",
   "execution_count": 11,
   "metadata": {},
   "outputs": [],
   "source": [
    "deposit$duration <- log(deposit$duration+0.001)"
   ]
  },
  {
   "cell_type": "markdown",
   "metadata": {},
   "source": [
    " what to do with 'pdays' and 'previous'? it is not clear how to best pre-process them; we shall need\n",
    " some financial expertise... we leave them as they are\n",
    "\n",
    " The rest seem OK (but it would take a careful analysis, and a lot of domain knowledge)\n",
    "\n",
    "Let's rename the target ..."
   ]
  },
  {
   "cell_type": "code",
   "execution_count": 12,
   "metadata": {},
   "outputs": [
    {
     "data": {
      "text/html": [
       "<ol class=list-inline>\n",
       "\t<li>45211</li>\n",
       "\t<li>17</li>\n",
       "</ol>\n"
      ],
      "text/latex": [
       "\\begin{enumerate*}\n",
       "\\item 45211\n",
       "\\item 17\n",
       "\\end{enumerate*}\n"
      ],
      "text/markdown": [
       "1. 45211\n",
       "2. 17\n",
       "\n",
       "\n"
      ],
      "text/plain": [
       "[1] 45211    17"
      ]
     },
     "metadata": {},
     "output_type": "display_data"
    }
   ],
   "source": [
    "colnames(deposit)[ncol(deposit)] <- \"subscribed\"\n",
    "\n",
    "dim(deposit)"
   ]
  },
  {
   "cell_type": "code",
   "execution_count": 13,
   "metadata": {},
   "outputs": [
    {
     "data": {
      "text/plain": [
       "      age                 job           marital          education    \n",
       " Min.   :18.00   blue-collar:9732   divorced: 5207   primary  : 6851  \n",
       " 1st Qu.:33.00   management :9458   married :27214   secondary:23202  \n",
       " Median :39.00   technician :7597   single  :12790   tertiary :13301  \n",
       " Mean   :40.94   admin.     :5171                    unknown  : 1857  \n",
       " 3rd Qu.:48.00   services   :4154                                     \n",
       " Max.   :95.00   retired    :2264                                     \n",
       "                 (Other)    :6835                                     \n",
       " default        balance       housing      loan            contact     \n",
       " no :44396   Min.   : -8019   no :20081   no :37967   cellular :29285  \n",
       " yes:  815   1st Qu.:    72   yes:25130   yes: 7244   telephone: 2906  \n",
       "             Median :   448                           unknown  :13020  \n",
       "             Mean   :  1362                                            \n",
       "             3rd Qu.:  1428                                            \n",
       "             Max.   :102127                                            \n",
       "                                                                       \n",
       "      day            month          duration         campaign     \n",
       " Min.   : 1.00   may    :13766   Min.   :-6.908   Min.   : 1.000  \n",
       " 1st Qu.: 8.00   jul    : 6895   1st Qu.: 4.635   1st Qu.: 1.000  \n",
       " Median :16.00   aug    : 6247   Median : 5.193   Median : 2.000  \n",
       " Mean   :15.81   jun    : 5341   Mean   : 5.162   Mean   : 2.764  \n",
       " 3rd Qu.:21.00   nov    : 3970   3rd Qu.: 5.765   3rd Qu.: 3.000  \n",
       " Max.   :31.00   apr    : 2932   Max.   : 8.501   Max.   :63.000  \n",
       "                 (Other): 6060                                    \n",
       "     pdays          previous           poutcome     subscribed \n",
       " Min.   : -1.0   Min.   :  0.0000   failure: 4901   no :39922  \n",
       " 1st Qu.: -1.0   1st Qu.:  0.0000   other  : 1840   yes: 5289  \n",
       " Median : -1.0   Median :  0.0000   success: 1511              \n",
       " Mean   : 40.2   Mean   :  0.5803   unknown:36959              \n",
       " 3rd Qu.: -1.0   3rd Qu.:  0.0000                              \n",
       " Max.   :871.0   Max.   :275.0000                              \n",
       "                                                               "
      ]
     },
     "metadata": {},
     "output_type": "display_data"
    }
   ],
   "source": [
    "summary(deposit)"
   ]
  },
  {
   "cell_type": "markdown",
   "metadata": {},
   "source": [
    "Since we want to use different methods, we need CV and a separate test set:"
   ]
  },
  {
   "cell_type": "code",
   "execution_count": 14,
   "metadata": {},
   "outputs": [],
   "source": [
    "library(TunePareto)"
   ]
  },
  {
   "cell_type": "markdown",
   "metadata": {},
   "source": [
    "precalculate the TR/TE partition and the cross-validation partitions on the TR part"
   ]
  },
  {
   "cell_type": "code",
   "execution_count": 15,
   "metadata": {},
   "outputs": [],
   "source": [
    "N <- nrow(deposit)\n",
    "all.indexes <- 1:N\n",
    "\n",
    "learn.indexes <- sample(1:N, round(2*N/3))\n",
    "test.indexes <- all.indexes[-learn.indexes]\n",
    "\n",
    "learn.data <- deposit[learn.indexes,]\n",
    "\n",
    "nlearn <- length(learn.indexes)\n",
    "ntest <- N - nlearn"
   ]
  },
  {
   "cell_type": "markdown",
   "metadata": {},
   "source": [
    "First try a standard decision tree (CART)"
   ]
  },
  {
   "cell_type": "code",
   "execution_count": 16,
   "metadata": {},
   "outputs": [
    {
     "data": {
      "text/plain": [
       "\n",
       "Classification tree:\n",
       "tree(formula = subscribed ~ ., data = learn.data)\n",
       "Variables actually used in tree construction:\n",
       "[1] \"duration\" \"poutcome\" \"month\"    \"contact\" \n",
       "Number of terminal nodes:  10 \n",
       "Residual mean deviance:  0.4841 = 14590 / 30130 \n",
       "Misclassification error rate: 0.1072 = 3232 / 30141 "
      ]
     },
     "metadata": {},
     "output_type": "display_data"
    }
   ],
   "source": [
    "library(tree)\n",
    "\n",
    "model.tree <- tree (subscribed ~ ., data = learn.data)\n",
    "\n",
    "summary(model.tree)"
   ]
  },
  {
   "cell_type": "markdown",
   "metadata": {},
   "source": [
    " so training error rate is 10.72%"
   ]
  },
  {
   "cell_type": "code",
   "execution_count": 17,
   "metadata": {},
   "outputs": [
    {
     "data": {
      "text/plain": [
       "node), split, n, deviance, yval, (yprob)\n",
       "      * denotes terminal node\n",
       "\n",
       " 1) root 30141 21810.0 no ( 0.882519 0.117481 )  \n",
       "   2) duration < 5.90127 24030 11230.0 no ( 0.937578 0.062422 )  \n",
       "     4) poutcome: failure,other,unknown 23285  8590.0 no ( 0.954692 0.045308 )  \n",
       "       8) month: aug,jan,jul,jun,may,nov 19663  4527.0 no ( 0.975487 0.024513 )  \n",
       "        16) duration < 5.0402 10748   904.1 no ( 0.992929 0.007071 ) *\n",
       "        17) duration > 5.0402 8915  3302.0 no ( 0.954459 0.045541 )  \n",
       "          34) contact: unknown 3269   124.1 no ( 0.997247 0.002753 ) *\n",
       "          35) contact: cellular,telephone 5646  2873.0 no ( 0.929685 0.070315 )  \n",
       "            70) month: aug,jan,jul,may,nov 5456  2329.0 no ( 0.944831 0.055169 ) *\n",
       "            71) month: jun 190   263.4 yes ( 0.494737 0.505263 ) *\n",
       "       9) month: apr,dec,feb,mar,oct,sep 3622  3163.0 no ( 0.841800 0.158200 )  \n",
       "        18) month: apr,feb 2775  1824.0 no ( 0.898378 0.101622 ) *\n",
       "        19) month: dec,mar,oct,sep 847  1090.0 no ( 0.656434 0.343566 ) *\n",
       "     5) poutcome: success 745  1004.0 yes ( 0.402685 0.597315 ) *\n",
       "   3) duration > 5.90127 6111  7785.0 no ( 0.666012 0.333988 )  \n",
       "     6) duration < 6.47466 3953  4323.0 no ( 0.763724 0.236276 )  \n",
       "      12) poutcome: failure,other,unknown 3761  3853.0 no ( 0.791279 0.208721 ) *\n",
       "      13) poutcome: success 192   204.2 yes ( 0.223958 0.776042 ) *\n",
       "     7) duration > 6.47466 2158  2990.0 yes ( 0.487025 0.512975 ) *"
      ]
     },
     "metadata": {},
     "output_type": "display_data"
    }
   ],
   "source": [
    "model.tree"
   ]
  },
  {
   "cell_type": "code",
   "execution_count": 18,
   "metadata": {},
   "outputs": [
    {
     "data": {
      "image/png": "[encoded data removed]",
      "text/plain": [
       "plot without title"
      ]
     },
     "metadata": {},
     "output_type": "display_data"
    }
   ],
   "source": [
    "options(repr.plot.width=8, repr.plot.height=8)\n",
    "plot (model.tree)\n",
    "\n",
    "text (model.tree,pretty=0)"
   ]
  },
  {
   "cell_type": "code",
   "execution_count": 19,
   "metadata": {},
   "outputs": [
    {
     "data": {
      "text/plain": [
       "     Pred\n",
       "Truth    no   yes\n",
       "  no  12601   721\n",
       "  yes   897   851"
      ]
     },
     "metadata": {},
     "output_type": "display_data"
    }
   ],
   "source": [
    "pred.tree <- predict (model.tree, deposit[test.indexes,], type=\"class\")\n",
    "\n",
    "(ct <- table(Truth=deposit$subscribed[test.indexes], Pred=pred.tree))"
   ]
  },
  {
   "cell_type": "markdown",
   "metadata": {},
   "source": [
    " We define now a convenience function (the harmonic mean), to compute the F1 accuracy:"
   ]
  },
  {
   "cell_type": "code",
   "execution_count": 20,
   "metadata": {},
   "outputs": [],
   "source": [
    "harm <- function (a,b) { 2/(1/a+1/b) }"
   ]
  },
  {
   "cell_type": "markdown",
   "metadata": {},
   "source": [
    " percent by class"
   ]
  },
  {
   "cell_type": "code",
   "execution_count": 21,
   "metadata": {},
   "outputs": [
    {
     "data": {
      "text/plain": [
       "     Pred\n",
       "Truth        no       yes\n",
       "  no  0.9458790 0.0541210\n",
       "  yes 0.5131579 0.4868421"
      ]
     },
     "metadata": {},
     "output_type": "display_data"
    }
   ],
   "source": [
    "prop.table(ct, 1)"
   ]
  },
  {
   "cell_type": "markdown",
   "metadata": {},
   "source": [
    " total percent correct"
   ]
  },
  {
   "cell_type": "code",
   "execution_count": 22,
   "metadata": {},
   "outputs": [
    {
     "data": {
      "text/html": [
       "0.892634372926344"
      ],
      "text/latex": [
       "0.892634372926344"
      ],
      "text/markdown": [
       "0.892634372926344"
      ],
      "text/plain": [
       "[1] 0.8926344"
      ]
     },
     "metadata": {},
     "output_type": "display_data"
    }
   ],
   "source": [
    "sum(diag(ct))/sum(ct)"
   ]
  },
  {
   "cell_type": "markdown",
   "metadata": {},
   "source": [
    " test error is "
   ]
  },
  {
   "cell_type": "code",
   "execution_count": 23,
   "metadata": {},
   "outputs": [
    {
     "data": {
      "text/html": [
       "10.74"
      ],
      "text/latex": [
       "10.74"
      ],
      "text/markdown": [
       "10.74"
      ],
      "text/plain": [
       "[1] 10.74"
      ]
     },
     "metadata": {},
     "output_type": "display_data"
    }
   ],
   "source": [
    "round(100*(1-sum(diag(ct))/sum(ct)),2)"
   ]
  },
  {
   "cell_type": "markdown",
   "metadata": {},
   "source": [
    " not very good, because the 'yes' class is nearly ignored"
   ]
  },
  {
   "cell_type": "code",
   "execution_count": 24,
   "metadata": {},
   "outputs": [
    {
     "data": {
      "text/html": [
       "0.642823954390972"
      ],
      "text/latex": [
       "0.642823954390972"
      ],
      "text/markdown": [
       "0.642823954390972"
      ],
      "text/plain": [
       "[1] 0.642824"
      ]
     },
     "metadata": {},
     "output_type": "display_data"
    }
   ],
   "source": [
    "(F1 <- harm (prop.table(ct,1)[1,1], prop.table(ct,1)[2,2]))"
   ]
  },
  {
   "cell_type": "markdown",
   "metadata": {},
   "source": [
    " Now a random Forest"
   ]
  },
  {
   "cell_type": "code",
   "execution_count": 25,
   "metadata": {},
   "outputs": [
    {
     "name": "stderr",
     "output_type": "stream",
     "text": [
      "randomForest 4.6-14\n",
      "Type rfNews() to see new features/changes/bug fixes.\n"
     ]
    },
    {
     "data": {
      "text/plain": [
       "\n",
       "Call:\n",
       " randomForest(formula = subscribed ~ ., data = learn.data, ntree = 100,      proximity = FALSE) \n",
       "               Type of random forest: classification\n",
       "                     Number of trees: 100\n",
       "No. of variables tried at each split: 4\n",
       "\n",
       "        OOB estimate of  error rate: 9.46%\n",
       "Confusion matrix:\n",
       "       no  yes class.error\n",
       "no  25612  988  0.03714286\n",
       "yes  1864 1677  0.52640497"
      ]
     },
     "metadata": {},
     "output_type": "display_data"
    }
   ],
   "source": [
    "library(randomForest)\n",
    "\n",
    "model.rf1 <- randomForest(subscribed ~ ., data = learn.data, ntree=100, proximity=FALSE)\n",
    "\n",
    "model.rf1"
   ]
  },
  {
   "cell_type": "markdown",
   "metadata": {},
   "source": [
    "We get an estimated test error (OOB) of 9.3%, so better; let's compute the real test error:"
   ]
  },
  {
   "cell_type": "code",
   "execution_count": 26,
   "metadata": {},
   "outputs": [
    {
     "data": {
      "text/plain": [
       "     Pred\n",
       "Truth    no   yes\n",
       "  no  12813   509\n",
       "  yes   913   835"
      ]
     },
     "metadata": {},
     "output_type": "display_data"
    }
   ],
   "source": [
    "pred.rf1 <- predict (model.rf1, deposit[test.indexes,], type=\"class\")\n",
    "\n",
    "(ct <- table(Truth=deposit$subscribed[test.indexes], Pred=pred.rf1))"
   ]
  },
  {
   "cell_type": "markdown",
   "metadata": {},
   "source": [
    "percent by class"
   ]
  },
  {
   "cell_type": "code",
   "execution_count": 27,
   "metadata": {},
   "outputs": [
    {
     "data": {
      "text/plain": [
       "     Pred\n",
       "Truth         no        yes\n",
       "  no  0.96179252 0.03820748\n",
       "  yes 0.52231121 0.47768879"
      ]
     },
     "metadata": {},
     "output_type": "display_data"
    }
   ],
   "source": [
    "prop.table(ct, 1)"
   ]
  },
  {
   "cell_type": "markdown",
   "metadata": {},
   "source": [
    " total percent correct"
   ]
  },
  {
   "cell_type": "code",
   "execution_count": 28,
   "metadata": {},
   "outputs": [
    {
     "data": {
      "text/html": [
       "0.905640345056403"
      ],
      "text/latex": [
       "0.905640345056403"
      ],
      "text/markdown": [
       "0.905640345056403"
      ],
      "text/plain": [
       "[1] 0.9056403"
      ]
     },
     "metadata": {},
     "output_type": "display_data"
    }
   ],
   "source": [
    "sum(diag(ct))/sum(ct)"
   ]
  },
  {
   "cell_type": "markdown",
   "metadata": {},
   "source": [
    "real test error is "
   ]
  },
  {
   "cell_type": "code",
   "execution_count": 29,
   "metadata": {},
   "outputs": [
    {
     "data": {
      "text/html": [
       "9.44"
      ],
      "text/latex": [
       "9.44"
      ],
      "text/markdown": [
       "9.44"
      ],
      "text/plain": [
       "[1] 9.44"
      ]
     },
     "metadata": {},
     "output_type": "display_data"
    }
   ],
   "source": [
    "round(100*(1-sum(diag(ct))/sum(ct)),2)"
   ]
  },
  {
   "cell_type": "markdown",
   "metadata": {},
   "source": [
    "and The F1-score"
   ]
  },
  {
   "cell_type": "code",
   "execution_count": 30,
   "metadata": {},
   "outputs": [
    {
     "data": {
      "text/html": [
       "0.638337574357133"
      ],
      "text/latex": [
       "0.638337574357133"
      ],
      "text/markdown": [
       "0.638337574357133"
      ],
      "text/plain": [
       "[1] 0.6383376"
      ]
     },
     "metadata": {},
     "output_type": "display_data"
    }
   ],
   "source": [
    "(F1 <- harm (prop.table(ct,1)[1,1], prop.table(ct,1)[2,2]))"
   ]
  },
  {
   "cell_type": "markdown",
   "metadata": {},
   "source": [
    "So OOB really works in estimating prediction error and the RF is better than a single tree; \n",
    " however, there is a big issue in unbalanced classes\n",
    "\n",
    " one way to deal with this is to include class weights"
   ]
  },
  {
   "cell_type": "code",
   "execution_count": 31,
   "metadata": {},
   "outputs": [
    {
     "data": {
      "text/plain": [
       "\n",
       "Call:\n",
       " randomForest(formula = subscribed ~ ., data = learn.data, ntree = 100,      proximity = FALSE, classwt = c(1, 10)) \n",
       "               Type of random forest: classification\n",
       "                     Number of trees: 100\n",
       "No. of variables tried at each split: 4\n",
       "\n",
       "        OOB estimate of  error rate: 9.81%\n",
       "Confusion matrix:\n",
       "       no  yes class.error\n",
       "no  25727  873  0.03281955\n",
       "yes  2084 1457  0.58853431"
      ]
     },
     "metadata": {},
     "output_type": "display_data"
    }
   ],
   "source": [
    "model.rf2 <- randomForest(subscribed ~ ., \n",
    "                          data = learn.data, \n",
    "                          ntree=100, \n",
    "                          proximity=FALSE, \n",
    "                          classwt=c(1,10))\n",
    "\n",
    "model.rf2"
   ]
  },
  {
   "cell_type": "markdown",
   "metadata": {},
   "source": [
    "which helps a little bit, but not much: we get estimated test error (OOB) of 9.86% with a better balance; let's compute the real test error:"
   ]
  },
  {
   "cell_type": "code",
   "execution_count": 32,
   "metadata": {},
   "outputs": [
    {
     "data": {
      "text/plain": [
       "     Pred\n",
       "Truth    no   yes\n",
       "  no  12885   437\n",
       "  yes  1030   718"
      ]
     },
     "metadata": {},
     "output_type": "display_data"
    }
   ],
   "source": [
    "pred.rf2 <- predict (model.rf2, \n",
    "                     deposit[test.indexes,], \n",
    "                     type=\"class\")\n",
    "\n",
    "(ct <- table(Truth=deposit$subscribed[test.indexes], \n",
    "             Pred=pred.rf2))"
   ]
  },
  {
   "cell_type": "markdown",
   "metadata": {},
   "source": [
    "percent by class"
   ]
  },
  {
   "cell_type": "code",
   "execution_count": 33,
   "metadata": {},
   "outputs": [
    {
     "data": {
      "text/plain": [
       "     Pred\n",
       "Truth         no        yes\n",
       "  no  0.96719712 0.03280288\n",
       "  yes 0.58924485 0.41075515"
      ]
     },
     "metadata": {},
     "output_type": "display_data"
    }
   ],
   "source": [
    "prop.table(ct, 1)"
   ]
  },
  {
   "cell_type": "markdown",
   "metadata": {},
   "source": [
    " total percent correct"
   ]
  },
  {
   "cell_type": "code",
   "execution_count": 34,
   "metadata": {},
   "outputs": [
    {
     "data": {
      "text/html": [
       "0.902654280026543"
      ],
      "text/latex": [
       "0.902654280026543"
      ],
      "text/markdown": [
       "0.902654280026543"
      ],
      "text/plain": [
       "[1] 0.9026543"
      ]
     },
     "metadata": {},
     "output_type": "display_data"
    }
   ],
   "source": [
    "sum(diag(ct))/sum(ct)"
   ]
  },
  {
   "cell_type": "markdown",
   "metadata": {},
   "source": [
    "real test error is "
   ]
  },
  {
   "cell_type": "code",
   "execution_count": 35,
   "metadata": {},
   "outputs": [
    {
     "data": {
      "text/html": [
       "9.73"
      ],
      "text/latex": [
       "9.73"
      ],
      "text/markdown": [
       "9.73"
      ],
      "text/plain": [
       "[1] 9.73"
      ]
     },
     "metadata": {},
     "output_type": "display_data"
    }
   ],
   "source": [
    "round(100*(1-sum(diag(ct))/sum(ct)),2)"
   ]
  },
  {
   "cell_type": "markdown",
   "metadata": {},
   "source": [
    "and the F1-score"
   ]
  },
  {
   "cell_type": "code",
   "execution_count": 36,
   "metadata": {},
   "outputs": [
    {
     "data": {
      "text/html": [
       "0.57662548348027"
      ],
      "text/latex": [
       "0.57662548348027"
      ],
      "text/markdown": [
       "0.57662548348027"
      ],
      "text/plain": [
       "[1] 0.5766255"
      ]
     },
     "metadata": {},
     "output_type": "display_data"
    }
   ],
   "source": [
    "(F1 <- harm (prop.table(ct,1)[1,1], prop.table(ct,1)[2,2]))"
   ]
  },
  {
   "cell_type": "markdown",
   "metadata": {},
   "source": [
    " another way is to stratify the sampling in the boostrap resamples\n",
    "\n",
    " 'yes' is the less represented class, so we upsample it"
   ]
  },
  {
   "cell_type": "code",
   "execution_count": 37,
   "metadata": {},
   "outputs": [
    {
     "data": {
      "text/plain": [
       "\n",
       "Call:\n",
       " randomForest(formula = subscribed ~ ., data = learn.data, ntree = 100,      proximity = FALSE, sampsize = c(yes = 3000, no = 3000), strata = learn.data$subscribed) \n",
       "               Type of random forest: classification\n",
       "                     Number of trees: 100\n",
       "No. of variables tried at each split: 4\n",
       "\n",
       "        OOB estimate of  error rate: 14.52%\n",
       "Confusion matrix:\n",
       "       no  yes class.error\n",
       "no  22682 3918   0.1472932\n",
       "yes   459 3082   0.1296244"
      ]
     },
     "metadata": {},
     "output_type": "display_data"
    }
   ],
   "source": [
    "n.yes <- table(learn.data$subscribed)[\"yes\"]\n",
    "n.no <- table(learn.data$subscribed)[\"no\"]\n",
    "\n",
    "model.rf3 <- randomForest(subscribed ~ ., \n",
    "                          data = learn.data, \n",
    "                          ntree=100, \n",
    "                          proximity=FALSE, \n",
    "                          sampsize=c(yes=3000, no=3000), \n",
    "                          strata=learn.data$subscribed)\n",
    "\n",
    "model.rf3"
   ]
  },
  {
   "cell_type": "markdown",
   "metadata": {},
   "source": [
    "which seems to help much more: we get estimated test error (OOB) of 14.4% with a very good balance\n",
    " let's compute the real test error:"
   ]
  },
  {
   "cell_type": "code",
   "execution_count": 38,
   "metadata": {},
   "outputs": [
    {
     "data": {
      "text/plain": [
       "     Pred\n",
       "Truth    no   yes\n",
       "  no  11347  1975\n",
       "  yes   217  1531"
      ]
     },
     "metadata": {},
     "output_type": "display_data"
    }
   ],
   "source": [
    "pred.rf3 <- predict (model.rf3, deposit[test.indexes,], type=\"class\")\n",
    "\n",
    "(ct <- table(Truth=deposit$subscribed[test.indexes], Pred=pred.rf3))"
   ]
  },
  {
   "cell_type": "markdown",
   "metadata": {},
   "source": [
    " percent by class"
   ]
  },
  {
   "cell_type": "code",
   "execution_count": 39,
   "metadata": {},
   "outputs": [
    {
     "data": {
      "text/plain": [
       "     Pred\n",
       "Truth        no       yes\n",
       "  no  0.8517490 0.1482510\n",
       "  yes 0.1241419 0.8758581"
      ]
     },
     "metadata": {},
     "output_type": "display_data"
    }
   ],
   "source": [
    "prop.table(ct, 1)"
   ]
  },
  {
   "cell_type": "markdown",
   "metadata": {},
   "source": [
    " total percent correct"
   ]
  },
  {
   "cell_type": "code",
   "execution_count": 40,
   "metadata": {},
   "outputs": [
    {
     "data": {
      "text/html": [
       "0.854545454545454"
      ],
      "text/latex": [
       "0.854545454545454"
      ],
      "text/markdown": [
       "0.854545454545454"
      ],
      "text/plain": [
       "[1] 0.8545455"
      ]
     },
     "metadata": {},
     "output_type": "display_data"
    }
   ],
   "source": [
    "sum(diag(ct))/sum(ct)"
   ]
  },
  {
   "cell_type": "markdown",
   "metadata": {},
   "source": [
    "real test error is "
   ]
  },
  {
   "cell_type": "code",
   "execution_count": 41,
   "metadata": {},
   "outputs": [
    {
     "data": {
      "text/html": [
       "14.55"
      ],
      "text/latex": [
       "14.55"
      ],
      "text/markdown": [
       "14.55"
      ],
      "text/plain": [
       "[1] 14.55"
      ]
     },
     "metadata": {},
     "output_type": "display_data"
    }
   ],
   "source": [
    "round(100*(1-sum(diag(ct))/sum(ct)),2)"
   ]
  },
  {
   "cell_type": "markdown",
   "metadata": {},
   "source": [
    "and F1-score"
   ]
  },
  {
   "cell_type": "code",
   "execution_count": 42,
   "metadata": {},
   "outputs": [
    {
     "data": {
      "text/html": [
       "0.863635330951826"
      ],
      "text/latex": [
       "0.863635330951826"
      ],
      "text/markdown": [
       "0.863635330951826"
      ],
      "text/plain": [
       "[1] 0.8636353"
      ]
     },
     "metadata": {},
     "output_type": "display_data"
    }
   ],
   "source": [
    "(F1 <- harm (prop.table(ct,1)[1,1], \n",
    "             prop.table(ct,1)[2,2]))"
   ]
  },
  {
   "cell_type": "markdown",
   "metadata": {},
   "source": [
    " Now we can try to optimize the number of trees, guided by OOB:"
   ]
  },
  {
   "cell_type": "code",
   "execution_count": 43,
   "metadata": {},
   "outputs": [
    {
     "data": {
      "text/html": [
       "<ol class=list-inline>\n",
       "\t<li>10</li>\n",
       "\t<li>16</li>\n",
       "\t<li>25</li>\n",
       "\t<li>40</li>\n",
       "\t<li>63</li>\n",
       "\t<li>100</li>\n",
       "\t<li>158</li>\n",
       "\t<li>251</li>\n",
       "\t<li>398</li>\n",
       "\t<li>631</li>\n",
       "\t<li>1000</li>\n",
       "</ol>\n"
      ],
      "text/latex": [
       "\\begin{enumerate*}\n",
       "\\item 10\n",
       "\\item 16\n",
       "\\item 25\n",
       "\\item 40\n",
       "\\item 63\n",
       "\\item 100\n",
       "\\item 158\n",
       "\\item 251\n",
       "\\item 398\n",
       "\\item 631\n",
       "\\item 1000\n",
       "\\end{enumerate*}\n"
      ],
      "text/markdown": [
       "1. 10\n",
       "2. 16\n",
       "3. 25\n",
       "4. 40\n",
       "5. 63\n",
       "6. 100\n",
       "7. 158\n",
       "8. 251\n",
       "9. 398\n",
       "10. 631\n",
       "11. 1000\n",
       "\n",
       "\n"
      ],
      "text/plain": [
       " [1]   10   16   25   40   63  100  158  251  398  631 1000"
      ]
     },
     "metadata": {},
     "output_type": "display_data"
    }
   ],
   "source": [
    "(ntrees <- round(10^seq(1,3,by=0.2)))"
   ]
  },
  {
   "cell_type": "markdown",
   "metadata": {},
   "source": [
    "prepare the structure to store the partial results"
   ]
  },
  {
   "cell_type": "code",
   "execution_count": 44,
   "metadata": {},
   "outputs": [
    {
     "name": "stdout",
     "output_type": "stream",
     "text": [
      "[1] 10\n",
      "[1] 16\n",
      "[1] 25\n",
      "[1] 40\n",
      "[1] 63\n",
      "[1] 100\n",
      "[1] 158\n",
      "[1] 251\n",
      "[1] 398\n",
      "[1] 631\n",
      "[1] 1000\n"
     ]
    }
   ],
   "source": [
    "rf.results <- matrix (rep(0,2*length(ntrees)),\n",
    "                      nrow=length(ntrees))\n",
    "colnames (rf.results) <- c(\"ntrees\", \"OOB\")\n",
    "rf.results[,\"ntrees\"] <- ntrees\n",
    "rf.results[,\"OOB\"] <- 0\n",
    "\n",
    "ii <- 1\n",
    "\n",
    "for (nt in ntrees)\n",
    "{ \n",
    "  print(nt)\n",
    "\n",
    "  model.rf <- randomForest(subscribed ~ ., \n",
    "                           data = learn.data, \n",
    "                           ntree=nt, \n",
    "                           proximity=FALSE, \n",
    "                           sampsize=c(yes=3000, no=3000), \n",
    "                           strata=learn.data$subscribed)\n",
    "  \n",
    "  # get the OOB\n",
    "  rf.results[ii,\"OOB\"] <- model.rf$err.rate[nt,1]\n",
    "\n",
    "  ii <- ii+1\n",
    "}"
   ]
  },
  {
   "cell_type": "code",
   "execution_count": 45,
   "metadata": {},
   "outputs": [
    {
     "data": {
      "text/html": [
       "<table>\n",
       "<thead><tr><th scope=col>ntrees</th><th scope=col>OOB</th></tr></thead>\n",
       "<tbody>\n",
       "\t<tr><td>  10     </td><td>0.1561618</td></tr>\n",
       "\t<tr><td>  16     </td><td>0.1483743</td></tr>\n",
       "\t<tr><td>  25     </td><td>0.1507913</td></tr>\n",
       "\t<tr><td>  40     </td><td>0.1444212</td></tr>\n",
       "\t<tr><td>  63     </td><td>0.1442885</td></tr>\n",
       "\t<tr><td> 100     </td><td>0.1452175</td></tr>\n",
       "\t<tr><td> 158     </td><td>0.1441558</td></tr>\n",
       "\t<tr><td> 251     </td><td>0.1435586</td></tr>\n",
       "\t<tr><td> 398     </td><td>0.1443880</td></tr>\n",
       "\t<tr><td> 631     </td><td>0.1445208</td></tr>\n",
       "\t<tr><td>1000     </td><td>0.1449852</td></tr>\n",
       "</tbody>\n",
       "</table>\n"
      ],
      "text/latex": [
       "\\begin{tabular}{ll}\n",
       " ntrees & OOB\\\\\n",
       "\\hline\n",
       "\t   10      & 0.1561618\\\\\n",
       "\t   16      & 0.1483743\\\\\n",
       "\t   25      & 0.1507913\\\\\n",
       "\t   40      & 0.1444212\\\\\n",
       "\t   63      & 0.1442885\\\\\n",
       "\t  100      & 0.1452175\\\\\n",
       "\t  158      & 0.1441558\\\\\n",
       "\t  251      & 0.1435586\\\\\n",
       "\t  398      & 0.1443880\\\\\n",
       "\t  631      & 0.1445208\\\\\n",
       "\t 1000      & 0.1449852\\\\\n",
       "\\end{tabular}\n"
      ],
      "text/markdown": [
       "\n",
       "ntrees | OOB | \n",
       "|---|---|---|---|---|---|---|---|---|---|---|\n",
       "|   10      | 0.1561618 | \n",
       "|   16      | 0.1483743 | \n",
       "|   25      | 0.1507913 | \n",
       "|   40      | 0.1444212 | \n",
       "|   63      | 0.1442885 | \n",
       "|  100      | 0.1452175 | \n",
       "|  158      | 0.1441558 | \n",
       "|  251      | 0.1435586 | \n",
       "|  398      | 0.1443880 | \n",
       "|  631      | 0.1445208 | \n",
       "| 1000      | 0.1449852 | \n",
       "\n",
       "\n"
      ],
      "text/plain": [
       "      ntrees OOB      \n",
       " [1,]   10   0.1561618\n",
       " [2,]   16   0.1483743\n",
       " [3,]   25   0.1507913\n",
       " [4,]   40   0.1444212\n",
       " [5,]   63   0.1442885\n",
       " [6,]  100   0.1452175\n",
       " [7,]  158   0.1441558\n",
       " [8,]  251   0.1435586\n",
       " [9,]  398   0.1443880\n",
       "[10,]  631   0.1445208\n",
       "[11,] 1000   0.1449852"
      ]
     },
     "metadata": {},
     "output_type": "display_data"
    }
   ],
   "source": [
    "rf.results"
   ]
  },
  {
   "cell_type": "markdown",
   "metadata": {},
   "source": [
    " choose best value of 'ntrees'"
   ]
  },
  {
   "cell_type": "code",
   "execution_count": 46,
   "metadata": {},
   "outputs": [
    {
     "data": {
      "text/html": [
       "<strong>ntrees:</strong> 251"
      ],
      "text/latex": [
       "\\textbf{ntrees:} 251"
      ],
      "text/markdown": [
       "**ntrees:** 251"
      ],
      "text/plain": [
       "ntrees \n",
       "   251 "
      ]
     },
     "metadata": {},
     "output_type": "display_data"
    }
   ],
   "source": [
    "lowest.OOB.error <- as.integer(which.min(rf.results[,\"OOB\"]))\n",
    "(ntrees.best <- rf.results[lowest.OOB.error,\"ntrees\"])"
   ]
  },
  {
   "cell_type": "markdown",
   "metadata": {},
   "source": [
    "we could also try to optimize the number of variables in the same way, though the default values work quite well in general\n",
    "\n",
    "Now refit the RF with the best value of 'ntrees'"
   ]
  },
  {
   "cell_type": "code",
   "execution_count": 47,
   "metadata": {},
   "outputs": [],
   "source": [
    "model.rf <- randomForest(subscribed ~ ., \n",
    "                         data = learn.data, \n",
    "                         ntree=ntrees.best, \n",
    "                         proximity=FALSE, \n",
    "                         sampsize=c(yes=3000, no=3000), \n",
    "                         strata=learn.data$subscribed)"
   ]
  },
  {
   "cell_type": "markdown",
   "metadata": {},
   "source": [
    " let's compute the real test error:"
   ]
  },
  {
   "cell_type": "code",
   "execution_count": 48,
   "metadata": {},
   "outputs": [
    {
     "data": {
      "text/plain": [
       "     Pred\n",
       "Truth    no   yes\n",
       "  no  11354  1968\n",
       "  yes   206  1542"
      ]
     },
     "metadata": {},
     "output_type": "display_data"
    }
   ],
   "source": [
    "pred.rf.final <- predict (model.rf, \n",
    "                          deposit[test.indexes,], \n",
    "                          type=\"class\")\n",
    "\n",
    "(ct <- table(Truth=deposit$subscribed[test.indexes], \n",
    "             Pred=pred.rf.final))"
   ]
  },
  {
   "cell_type": "markdown",
   "metadata": {},
   "source": [
    "percent by class"
   ]
  },
  {
   "cell_type": "code",
   "execution_count": 49,
   "metadata": {},
   "outputs": [
    {
     "data": {
      "text/plain": [
       "     Pred\n",
       "Truth        no       yes\n",
       "  no  0.8522744 0.1477256\n",
       "  yes 0.1178490 0.8821510"
      ]
     },
     "metadata": {},
     "output_type": "display_data"
    }
   ],
   "source": [
    "prop.table(ct, 1)"
   ]
  },
  {
   "cell_type": "markdown",
   "metadata": {},
   "source": [
    " total percent correct"
   ]
  },
  {
   "cell_type": "code",
   "execution_count": 50,
   "metadata": {},
   "outputs": [
    {
     "data": {
      "text/html": [
       "0.855739880557399"
      ],
      "text/latex": [
       "0.855739880557399"
      ],
      "text/markdown": [
       "0.855739880557399"
      ],
      "text/plain": [
       "[1] 0.8557399"
      ]
     },
     "metadata": {},
     "output_type": "display_data"
    }
   ],
   "source": [
    "sum(diag(ct))/sum(ct)"
   ]
  },
  {
   "cell_type": "markdown",
   "metadata": {},
   "source": [
    " real test error is "
   ]
  },
  {
   "cell_type": "code",
   "execution_count": 51,
   "metadata": {},
   "outputs": [
    {
     "data": {
      "text/html": [
       "14.43"
      ],
      "text/latex": [
       "14.43"
      ],
      "text/markdown": [
       "14.43"
      ],
      "text/plain": [
       "[1] 14.43"
      ]
     },
     "metadata": {},
     "output_type": "display_data"
    }
   ],
   "source": [
    "round(100*(1-sum(diag(ct))/sum(ct)),2)"
   ]
  },
  {
   "cell_type": "markdown",
   "metadata": {},
   "source": [
    "and the F1-score"
   ]
  },
  {
   "cell_type": "code",
   "execution_count": 52,
   "metadata": {},
   "outputs": [
    {
     "data": {
      "text/html": [
       "0.866955409692999"
      ],
      "text/latex": [
       "0.866955409692999"
      ],
      "text/markdown": [
       "0.866955409692999"
      ],
      "text/plain": [
       "[1] 0.8669554"
      ]
     },
     "metadata": {},
     "output_type": "display_data"
    }
   ],
   "source": [
    "(F1 <- harm (prop.table(ct,1)[1,1], prop.table(ct,1)[2,2]))"
   ]
  },
  {
   "cell_type": "markdown",
   "metadata": {},
   "source": [
    "And this is the final model"
   ]
  },
  {
   "cell_type": "code",
   "execution_count": 53,
   "metadata": {},
   "outputs": [
    {
     "name": "stdout",
     "output_type": "stream",
     "text": [
      "\n",
      "Call:\n",
      " randomForest(formula = subscribed ~ ., data = learn.data, ntree = ntrees.best,      proximity = FALSE, sampsize = c(yes = 3000, no = 3000), strata = learn.data$subscribed) \n",
      "               Type of random forest: classification\n",
      "                     Number of trees: 251\n",
      "No. of variables tried at each split: 4\n",
      "\n",
      "        OOB estimate of  error rate: 14.39%\n",
      "Confusion matrix:\n",
      "       no  yes class.error\n",
      "no  22708 3892   0.1463158\n",
      "yes   445 3096   0.1256707\n"
     ]
    }
   ],
   "source": [
    "print(model.rf)"
   ]
  },
  {
   "cell_type": "markdown",
   "metadata": {},
   "source": [
    " The importance of variables"
   ]
  },
  {
   "cell_type": "code",
   "execution_count": 54,
   "metadata": {},
   "outputs": [
    {
     "data": {
      "text/html": [
       "<table>\n",
       "<thead><tr><th></th><th scope=col>MeanDecreaseGini</th></tr></thead>\n",
       "<tbody>\n",
       "\t<tr><th scope=row>age</th><td> 199.57025</td></tr>\n",
       "\t<tr><th scope=row>job</th><td> 164.54935</td></tr>\n",
       "\t<tr><th scope=row>marital</th><td>  46.93062</td></tr>\n",
       "\t<tr><th scope=row>education</th><td>  57.05297</td></tr>\n",
       "\t<tr><th scope=row>default</th><td>   3.43785</td></tr>\n",
       "\t<tr><th scope=row>balance</th><td> 213.05313</td></tr>\n",
       "\t<tr><th scope=row>housing</th><td>  75.90687</td></tr>\n",
       "\t<tr><th scope=row>loan</th><td>  25.63931</td></tr>\n",
       "\t<tr><th scope=row>contact</th><td> 116.96853</td></tr>\n",
       "\t<tr><th scope=row>day</th><td> 190.73564</td></tr>\n",
       "\t<tr><th scope=row>month</th><td> 363.12813</td></tr>\n",
       "\t<tr><th scope=row>duration</th><td>1089.08848</td></tr>\n",
       "\t<tr><th scope=row>campaign</th><td>  83.62327</td></tr>\n",
       "\t<tr><th scope=row>pdays</th><td> 102.66704</td></tr>\n",
       "\t<tr><th scope=row>previous</th><td>  66.19663</td></tr>\n",
       "\t<tr><th scope=row>poutcome</th><td> 156.71577</td></tr>\n",
       "</tbody>\n",
       "</table>\n"
      ],
      "text/latex": [
       "\\begin{tabular}{r|l}\n",
       "  & MeanDecreaseGini\\\\\n",
       "\\hline\n",
       "\tage &  199.57025\\\\\n",
       "\tjob &  164.54935\\\\\n",
       "\tmarital &   46.93062\\\\\n",
       "\teducation &   57.05297\\\\\n",
       "\tdefault &    3.43785\\\\\n",
       "\tbalance &  213.05313\\\\\n",
       "\thousing &   75.90687\\\\\n",
       "\tloan &   25.63931\\\\\n",
       "\tcontact &  116.96853\\\\\n",
       "\tday &  190.73564\\\\\n",
       "\tmonth &  363.12813\\\\\n",
       "\tduration & 1089.08848\\\\\n",
       "\tcampaign &   83.62327\\\\\n",
       "\tpdays &  102.66704\\\\\n",
       "\tprevious &   66.19663\\\\\n",
       "\tpoutcome &  156.71577\\\\\n",
       "\\end{tabular}\n"
      ],
      "text/markdown": [
       "\n",
       "| <!--/--> | MeanDecreaseGini | \n",
       "|---|---|---|---|---|---|---|---|---|---|---|---|---|---|---|---|\n",
       "| age |  199.57025 | \n",
       "| job |  164.54935 | \n",
       "| marital |   46.93062 | \n",
       "| education |   57.05297 | \n",
       "| default |    3.43785 | \n",
       "| balance |  213.05313 | \n",
       "| housing |   75.90687 | \n",
       "| loan |   25.63931 | \n",
       "| contact |  116.96853 | \n",
       "| day |  190.73564 | \n",
       "| month |  363.12813 | \n",
       "| duration | 1089.08848 | \n",
       "| campaign |   83.62327 | \n",
       "| pdays |  102.66704 | \n",
       "| previous |   66.19663 | \n",
       "| poutcome |  156.71577 | \n",
       "\n",
       "\n"
      ],
      "text/plain": [
       "          MeanDecreaseGini\n",
       "age        199.57025      \n",
       "job        164.54935      \n",
       "marital     46.93062      \n",
       "education   57.05297      \n",
       "default      3.43785      \n",
       "balance    213.05313      \n",
       "housing     75.90687      \n",
       "loan        25.63931      \n",
       "contact    116.96853      \n",
       "day        190.73564      \n",
       "month      363.12813      \n",
       "duration  1089.08848      \n",
       "campaign    83.62327      \n",
       "pdays      102.66704      \n",
       "previous    66.19663      \n",
       "poutcome   156.71577      "
      ]
     },
     "metadata": {},
     "output_type": "display_data"
    },
    {
     "data": {
      "image/png": "[encoded data removed]",
      "text/plain": [
       "Plot with title “model.rf”"
      ]
     },
     "metadata": {},
     "output_type": "display_data"
    }
   ],
   "source": [
    "importance(model.rf)\n",
    "options(repr.plot.width=6, repr.plot.height=4)\n",
    "varImpPlot(model.rf)"
   ]
  },
  {
   "cell_type": "markdown",
   "metadata": {},
   "source": [
    " 'duration' is the most important variable, then month, etc\n",
    "\n",
    " plot error rate: black = out of bag (OOB), red = label 1 ('no'), green  = label 2 ('yes')\n",
    " as a function of the number of trees used"
   ]
  },
  {
   "cell_type": "code",
   "execution_count": 55,
   "metadata": {},
   "outputs": [
    {
     "data": {
      "image/png": "[encoded data removed]",
      "text/plain": [
       "Plot with title “model.rf”"
      ]
     },
     "metadata": {},
     "output_type": "display_data"
    }
   ],
   "source": [
    "options(repr.plot.width=6, repr.plot.height=6)\n",
    "plot(model.rf)\n",
    "\n",
    "legend(\"topright\", legend=c(\"OOB\", \"no\", \"yes\"),    \n",
    "       pch=c(1,1), col=c(\"black\",\"red\",\"green\"))"
   ]
  },
  {
   "cell_type": "markdown",
   "metadata": {},
   "source": [
    " What variables are being used in the forest (their counts)"
   ]
  },
  {
   "cell_type": "code",
   "execution_count": 56,
   "metadata": {},
   "outputs": [
    {
     "data": {
      "text/html": [
       "<ol class=list-inline>\n",
       "\t<li>28586</li>\n",
       "\t<li>20921</li>\n",
       "\t<li>8893</li>\n",
       "\t<li>11181</li>\n",
       "\t<li>775</li>\n",
       "\t<li>31606</li>\n",
       "\t<li>4472</li>\n",
       "\t<li>4179</li>\n",
       "\t<li>4772</li>\n",
       "\t<li>27592</li>\n",
       "\t<li>19392</li>\n",
       "\t<li>35243</li>\n",
       "\t<li>16017</li>\n",
       "\t<li>8860</li>\n",
       "\t<li>5939</li>\n",
       "\t<li>3651</li>\n",
       "</ol>\n"
      ],
      "text/latex": [
       "\\begin{enumerate*}\n",
       "\\item 28586\n",
       "\\item 20921\n",
       "\\item 8893\n",
       "\\item 11181\n",
       "\\item 775\n",
       "\\item 31606\n",
       "\\item 4472\n",
       "\\item 4179\n",
       "\\item 4772\n",
       "\\item 27592\n",
       "\\item 19392\n",
       "\\item 35243\n",
       "\\item 16017\n",
       "\\item 8860\n",
       "\\item 5939\n",
       "\\item 3651\n",
       "\\end{enumerate*}\n"
      ],
      "text/markdown": [
       "1. 28586\n",
       "2. 20921\n",
       "3. 8893\n",
       "4. 11181\n",
       "5. 775\n",
       "6. 31606\n",
       "7. 4472\n",
       "8. 4179\n",
       "9. 4772\n",
       "10. 27592\n",
       "11. 19392\n",
       "12. 35243\n",
       "13. 16017\n",
       "14. 8860\n",
       "15. 5939\n",
       "16. 3651\n",
       "\n",
       "\n"
      ],
      "text/plain": [
       " [1] 28586 20921  8893 11181   775 31606  4472  4179  4772 27592 19392 35243\n",
       "[13] 16017  8860  5939  3651"
      ]
     },
     "metadata": {},
     "output_type": "display_data"
    }
   ],
   "source": [
    "varUsed(model.rf, by.tree=FALSE,count = TRUE)"
   ]
  }
 ],
 "metadata": {
  "kernelspec": {
   "display_name": "R",
   "language": "R",
   "name": "ir"
  },
  "language_info": {
   "codemirror_mode": "r",
   "file_extension": ".r",
   "mimetype": "text/x-r-source",
   "name": "R",
   "pygments_lexer": "r",
   "version": "3.5.0"
  },
  "latex_envs": {
   "LaTeX_envs_menu_present": true,
   "autoclose": false,
   "autocomplete": true,
   "bibliofile": "biblio.bib",
   "cite_by": "apalike",
   "current_citInitial": 1,
   "eqLabelWithNumbers": true,
   "eqNumInitial": 1,
   "hotkeys": {
    "equation": "Ctrl-E",
    "itemize": "Ctrl-I"
   },
   "labels_anchors": false,
   "latex_user_defs": false,
   "report_style_numbering": false,
   "user_envs_cfg": false
  },
  "toc": {
   "base_numbering": 1,
   "nav_menu": {
    "height": "64px",
    "width": "252px"
   },
   "number_sections": true,
   "sideBar": true,
   "skip_h1_title": false,
   "title_cell": "Table of Contents",
   "title_sidebar": "Contents",
   "toc_cell": false,
   "toc_position": {},
   "toc_section_display": "block",
   "toc_window_display": true
  }
 },
 "nbformat": 4,
 "nbformat_minor": 2
}
