{
 "cells": [
  {
   "cell_type": "markdown",
   "metadata": {},
   "source": [
    "# APA Laboratori 6 - MLP and the RBF                "
   ]
  },
  {
   "cell_type": "code",
   "execution_count": 1,
   "metadata": {},
   "outputs": [],
   "source": [
    "# uncomment to install missing libraries\n",
    "# install.packages('nnet')\n",
    "# install.packages('caret')\n",
    "# install.packages('cclust')"
   ]
  },
  {
   "cell_type": "code",
   "execution_count": 2,
   "metadata": {},
   "outputs": [],
   "source": [
    "options(repr.plot.width=6, repr.plot.height=6)"
   ]
  },
  {
   "cell_type": "code",
   "execution_count": 3,
   "metadata": {},
   "outputs": [],
   "source": [
    "library(MASS)\n",
    "library(nnet)\n",
    "set.seed (4567)"
   ]
  },
  {
   "cell_type": "markdown",
   "metadata": {},
   "source": [
    "## Multilayer Perceptron Example 1: Admission into graduate school data"
   ]
  },
  {
   "cell_type": "markdown",
   "metadata": {},
   "source": [
    "Suppose we are interested in how variables, such as \n",
    "\n",
    "GRE (Graduate Record Exam scores)\n",
    "\n",
    "GPA (Grade Point Average) and \n",
    "\n",
    "rank (prestige of the undergraduate institution)\n",
    "\n",
    "affect admission into a graduate school.\n",
    "\n",
    " The target variable, admit/don't admit, is a binary variable, which we want to characterize\n",
    "and, if possible, to predict (a model)"
   ]
  },
  {
   "cell_type": "code",
   "execution_count": 4,
   "metadata": {},
   "outputs": [],
   "source": [
    "Admis <- read.csv(\"Admissions.csv\")"
   ]
  },
  {
   "cell_type": "markdown",
   "metadata": {},
   "source": [
    " view the first few rows of the data"
   ]
  },
  {
   "cell_type": "code",
   "execution_count": 5,
   "metadata": {},
   "outputs": [
    {
     "data": {
      "text/html": [
       "<table>\n",
       "<thead><tr><th scope=col>admit</th><th scope=col>gre</th><th scope=col>gpa</th><th scope=col>rank</th></tr></thead>\n",
       "<tbody>\n",
       "\t<tr><td>0   </td><td>380 </td><td>3.61</td><td>3   </td></tr>\n",
       "\t<tr><td>1   </td><td>660 </td><td>3.67</td><td>3   </td></tr>\n",
       "\t<tr><td>1   </td><td>800 </td><td>4.00</td><td>1   </td></tr>\n",
       "\t<tr><td>1   </td><td>640 </td><td>3.19</td><td>4   </td></tr>\n",
       "\t<tr><td>0   </td><td>520 </td><td>2.93</td><td>4   </td></tr>\n",
       "\t<tr><td>1   </td><td>760 </td><td>3.00</td><td>2   </td></tr>\n",
       "</tbody>\n",
       "</table>\n"
      ],
      "text/latex": [
       "\\begin{tabular}{r|llll}\n",
       " admit & gre & gpa & rank\\\\\n",
       "\\hline\n",
       "\t 0    & 380  & 3.61 & 3   \\\\\n",
       "\t 1    & 660  & 3.67 & 3   \\\\\n",
       "\t 1    & 800  & 4.00 & 1   \\\\\n",
       "\t 1    & 640  & 3.19 & 4   \\\\\n",
       "\t 0    & 520  & 2.93 & 4   \\\\\n",
       "\t 1    & 760  & 3.00 & 2   \\\\\n",
       "\\end{tabular}\n"
      ],
      "text/markdown": [
       "\n",
       "admit | gre | gpa | rank | \n",
       "|---|---|---|---|---|---|\n",
       "| 0    | 380  | 3.61 | 3    | \n",
       "| 1    | 660  | 3.67 | 3    | \n",
       "| 1    | 800  | 4.00 | 1    | \n",
       "| 1    | 640  | 3.19 | 4    | \n",
       "| 0    | 520  | 2.93 | 4    | \n",
       "| 1    | 760  | 3.00 | 2    | \n",
       "\n",
       "\n"
      ],
      "text/plain": [
       "  admit gre gpa  rank\n",
       "1 0     380 3.61 3   \n",
       "2 1     660 3.67 3   \n",
       "3 1     800 4.00 1   \n",
       "4 1     640 3.19 4   \n",
       "5 0     520 2.93 4   \n",
       "6 1     760 3.00 2   "
      ]
     },
     "metadata": {},
     "output_type": "display_data"
    }
   ],
   "source": [
    "head(Admis)"
   ]
  },
  {
   "cell_type": "markdown",
   "metadata": {},
   "source": [
    " We will treat all the variables gre and gpa as continuous. \n",
    "\n",
    "The variable rank takes on the values 1 through 4, so we can fairly treat it as numerical\n",
    "(although, in rigour, it is ordinal)"
   ]
  },
  {
   "cell_type": "code",
   "execution_count": 6,
   "metadata": {},
   "outputs": [
    {
     "data": {
      "text/plain": [
       " admit          gre             gpa             rank      \n",
       " No :273   Min.   :220.0   Min.   :2.260   Min.   :1.000  \n",
       " Yes:127   1st Qu.:520.0   1st Qu.:3.130   1st Qu.:2.000  \n",
       "           Median :580.0   Median :3.395   Median :2.000  \n",
       "           Mean   :587.7   Mean   :3.390   Mean   :2.485  \n",
       "           3rd Qu.:660.0   3rd Qu.:3.670   3rd Qu.:3.000  \n",
       "           Max.   :800.0   Max.   :4.000   Max.   :4.000  "
      ]
     },
     "metadata": {},
     "output_type": "display_data"
    }
   ],
   "source": [
    "Admis$admit <- factor(Admis$admit, labels=c(\"No\",\"Yes\"))\n",
    "\n",
    "summary(Admis)\n",
    "\n",
    "N <- nrow(Admis)"
   ]
  },
  {
   "cell_type": "markdown",
   "metadata": {},
   "source": [
    " We first split the available data into learning and test sets, selecting randomly 2/3 and 1/3 of the data\n",
    " We do this for a honest estimation of prediction performance"
   ]
  },
  {
   "cell_type": "code",
   "execution_count": 7,
   "metadata": {},
   "outputs": [],
   "source": [
    "set.seed(43)\n",
    "\n",
    "learn <- sample(1:N, round(2*N/3))\n",
    "\n",
    "nlearn <- length(learn)\n",
    "ntest <- N - nlearn"
   ]
  },
  {
   "cell_type": "markdown",
   "metadata": {},
   "source": [
    "We start using logistic regression (a linear classifier)"
   ]
  },
  {
   "cell_type": "code",
   "execution_count": 8,
   "metadata": {},
   "outputs": [
    {
     "data": {
      "text/plain": [
       "\n",
       "Call:\n",
       "glm(formula = admit ~ ., family = binomial, data = Admis[learn, \n",
       "    ])\n",
       "\n",
       "Deviance Residuals: \n",
       "    Min       1Q   Median       3Q      Max  \n",
       "-1.6190  -0.9154  -0.6441   1.1249   2.1551  \n",
       "\n",
       "Coefficients:\n",
       "             Estimate Std. Error z value Pr(>|z|)    \n",
       "(Intercept) -3.879084   1.403346  -2.764 0.005707 ** \n",
       "gre          0.001468   0.001307   1.124 0.261161    \n",
       "gpa          1.074822   0.396957   2.708 0.006776 ** \n",
       "rank        -0.566394   0.152750  -3.708 0.000209 ***\n",
       "---\n",
       "Signif. codes:  0 ‘***’ 0.001 ‘**’ 0.01 ‘*’ 0.05 ‘.’ 0.1 ‘ ’ 1\n",
       "\n",
       "(Dispersion parameter for binomial family taken to be 1)\n",
       "\n",
       "    Null deviance: 341.27  on 266  degrees of freedom\n",
       "Residual deviance: 312.22  on 263  degrees of freedom\n",
       "AIC: 320.22\n",
       "\n",
       "Number of Fisher Scoring iterations: 3\n"
      ]
     },
     "metadata": {},
     "output_type": "display_data"
    }
   ],
   "source": [
    "model.logreg <- glm (admit~., data=Admis[learn,], family=binomial)\n",
    "\n",
    "summary(model.logreg)"
   ]
  },
  {
   "cell_type": "markdown",
   "metadata": {},
   "source": [
    "Simplify the model using the AIC"
   ]
  },
  {
   "cell_type": "code",
   "execution_count": 9,
   "metadata": {},
   "outputs": [
    {
     "name": "stdout",
     "output_type": "stream",
     "text": [
      "Start:  AIC=320.22\n",
      "admit ~ gre + gpa + rank\n",
      "\n",
      "       Df Deviance    AIC\n",
      "- gre   1   313.49 319.49\n",
      "<none>      312.22 320.22\n",
      "- gpa   1   319.91 325.91\n",
      "- rank  1   327.04 333.04\n",
      "\n",
      "Step:  AIC=319.49\n",
      "admit ~ gpa + rank\n",
      "\n",
      "       Df Deviance    AIC\n",
      "<none>      313.49 319.49\n",
      "- gpa   1   324.69 328.69\n",
      "- rank  1   329.40 333.40\n"
     ]
    }
   ],
   "source": [
    "model.logreg2 <- step(model.logreg)"
   ]
  },
  {
   "cell_type": "markdown",
   "metadata": {},
   "source": [
    " The new model has one variable less and the error (residual deviance) is virtually the same (313.5 vs 312.2)\n",
    "\n",
    " Interpretation of the coefficients"
   ]
  },
  {
   "cell_type": "code",
   "execution_count": 10,
   "metadata": {},
   "outputs": [
    {
     "data": {
      "text/html": [
       "<dl class=dl-horizontal>\n",
       "\t<dt>(Intercept)</dt>\n",
       "\t\t<dd>0.0315371431069108</dd>\n",
       "\t<dt>gpa</dt>\n",
       "\t\t<dd>3.38896809056484</dd>\n",
       "\t<dt>rank</dt>\n",
       "\t\t<dd>0.559018874202768</dd>\n",
       "</dl>\n"
      ],
      "text/latex": [
       "\\begin{description*}\n",
       "\\item[(Intercept)] 0.0315371431069108\n",
       "\\item[gpa] 3.38896809056484\n",
       "\\item[rank] 0.559018874202768\n",
       "\\end{description*}\n"
      ],
      "text/markdown": [
       "(Intercept)\n",
       ":   0.0315371431069108gpa\n",
       ":   3.38896809056484rank\n",
       ":   0.559018874202768\n",
       "\n"
      ],
      "text/plain": [
       "(Intercept)         gpa        rank \n",
       " 0.03153714  3.38896809  0.55901887 "
      ]
     },
     "metadata": {},
     "output_type": "display_data"
    }
   ],
   "source": [
    "exp(model.logreg2$coefficients)"
   ]
  },
  {
   "cell_type": "markdown",
   "metadata": {},
   "source": [
    "Calculation of apparent error in the training set (learn)"
   ]
  },
  {
   "cell_type": "code",
   "execution_count": 11,
   "metadata": {},
   "outputs": [
    {
     "data": {
      "text/plain": [
       "     glfpred\n",
       "        0   1\n",
       "  No  163  14\n",
       "  Yes  63  27"
      ]
     },
     "metadata": {},
     "output_type": "display_data"
    },
    {
     "data": {
      "text/html": [
       "28.8389513108614"
      ],
      "text/latex": [
       "28.8389513108614"
      ],
      "text/markdown": [
       "28.8389513108614"
      ],
      "text/plain": [
       "[1] 28.83895"
      ]
     },
     "metadata": {},
     "output_type": "display_data"
    }
   ],
   "source": [
    "glfpred=NULL\n",
    "glfpred[model.logreg2$fitted.values<0.5]=0\n",
    "glfpred[model.logreg2$fitted.values>=0.5]=1\n",
    "table(Admis$admit[learn],glfpred)\n",
    "error_rate.learn <- 100*(1-sum(diag(table(Admis$admit[learn],glfpred)))/nlearn)\n",
    "error_rate.learn"
   ]
  },
  {
   "cell_type": "markdown",
   "metadata": {},
   "source": [
    " we get a learning error which is quite high (28.84%)\n",
    "\n",
    " Estimation of prediction error using the test set"
   ]
  },
  {
   "cell_type": "code",
   "execution_count": 12,
   "metadata": {},
   "outputs": [
    {
     "data": {
      "text/plain": [
       "     glfpredt\n",
       "       0  1\n",
       "  No  87  9\n",
       "  Yes 27 10"
      ]
     },
     "metadata": {},
     "output_type": "display_data"
    },
    {
     "data": {
      "text/html": [
       "27.0676691729323"
      ],
      "text/latex": [
       "27.0676691729323"
      ],
      "text/markdown": [
       "27.0676691729323"
      ],
      "text/plain": [
       "[1] 27.06767"
      ]
     },
     "metadata": {},
     "output_type": "display_data"
    }
   ],
   "source": [
    "glft = predict(model.logreg2, newdata=Admis[-learn,]) \n",
    "pt = 1/(1+exp(-glft))\n",
    "glfpredt = NULL\n",
    "glfpredt[pt<0.5]=0\n",
    "glfpredt[pt>=0.5]=1\n",
    "table(Admis$admit[-learn],glfpredt)\n",
    "error_rate.test <- 100*(1-sum(diag(table(Admis$admit[-learn],glfpredt)))/ntest)\n",
    "error_rate.test"
   ]
  },
  {
   "cell_type": "markdown",
   "metadata": {},
   "source": [
    " we get a prediction error of 27.07%\n",
    "\n",
    " Now we switch to non-linear modelling with a MLP\n",
    "\n",
    " The nnet() function is quite powerful and very reliable from the optimization\n",
    " point fo view. From the computational point of view, it has two drawbacks:\n",
    "\n",
    "1. it does not have a built-in mechanism for multiple runs or cross-validation\n",
    "2. it only admits networks of one hidden layer (of size 'size')\n",
    "\n",
    "Please have a look at nnet before going any further"
   ]
  },
  {
   "cell_type": "code",
   "execution_count": 13,
   "metadata": {},
   "outputs": [],
   "source": [
    "?nnet"
   ]
  },
  {
   "cell_type": "markdown",
   "metadata": {},
   "source": [
    "The basic parameters are 'size' and 'decay' (the regularization constant, lambda)\n",
    " As usual, R detects it is a classification problem because 'admit' is a factor\n",
    " It buils a MLP with one output neuron (just two classes), with the logistic function\n",
    "and uses the cross-entropy as error function\n",
    "\n",
    " Let's start by scaling of inputs, this is important to avoid network 'stagnation' (premature convergence)"
   ]
  },
  {
   "cell_type": "code",
   "execution_count": 14,
   "metadata": {},
   "outputs": [
    {
     "data": {
      "text/html": [
       "<table>\n",
       "<thead><tr><th scope=col>admit</th><th scope=col>gre</th><th scope=col>gpa</th><th scope=col>rank</th></tr></thead>\n",
       "<tbody>\n",
       "\t<tr><td>No        </td><td>-1.7980110</td><td> 0.5783479</td><td> 0.5452850</td></tr>\n",
       "\t<tr><td>Yes       </td><td> 0.6258844</td><td> 0.7360075</td><td> 0.5452850</td></tr>\n",
       "\t<tr><td>Yes       </td><td> 1.8378321</td><td> 1.6031352</td><td>-1.5723268</td></tr>\n",
       "\t<tr><td>Yes       </td><td> 0.4527490</td><td>-0.5252692</td><td> 1.6040909</td></tr>\n",
       "\t<tr><td>No        </td><td>-0.5860633</td><td>-1.2084607</td><td> 1.6040909</td></tr>\n",
       "\t<tr><td>Yes       </td><td> 1.4915613</td><td>-1.0245245</td><td>-0.5135209</td></tr>\n",
       "</tbody>\n",
       "</table>\n"
      ],
      "text/latex": [
       "\\begin{tabular}{r|llll}\n",
       " admit & gre & gpa & rank\\\\\n",
       "\\hline\n",
       "\t No         & -1.7980110 &  0.5783479 &  0.5452850\\\\\n",
       "\t Yes        &  0.6258844 &  0.7360075 &  0.5452850\\\\\n",
       "\t Yes        &  1.8378321 &  1.6031352 & -1.5723268\\\\\n",
       "\t Yes        &  0.4527490 & -0.5252692 &  1.6040909\\\\\n",
       "\t No         & -0.5860633 & -1.2084607 &  1.6040909\\\\\n",
       "\t Yes        &  1.4915613 & -1.0245245 & -0.5135209\\\\\n",
       "\\end{tabular}\n"
      ],
      "text/markdown": [
       "\n",
       "admit | gre | gpa | rank | \n",
       "|---|---|---|---|---|---|\n",
       "| No         | -1.7980110 |  0.5783479 |  0.5452850 | \n",
       "| Yes        |  0.6258844 |  0.7360075 |  0.5452850 | \n",
       "| Yes        |  1.8378321 |  1.6031352 | -1.5723268 | \n",
       "| Yes        |  0.4527490 | -0.5252692 |  1.6040909 | \n",
       "| No         | -0.5860633 | -1.2084607 |  1.6040909 | \n",
       "| Yes        |  1.4915613 | -1.0245245 | -0.5135209 | \n",
       "\n",
       "\n"
      ],
      "text/plain": [
       "  admit gre        gpa        rank      \n",
       "1 No    -1.7980110  0.5783479  0.5452850\n",
       "2 Yes    0.6258844  0.7360075  0.5452850\n",
       "3 Yes    1.8378321  1.6031352 -1.5723268\n",
       "4 Yes    0.4527490 -0.5252692  1.6040909\n",
       "5 No    -0.5860633 -1.2084607  1.6040909\n",
       "6 Yes    1.4915613 -1.0245245 -0.5135209"
      ]
     },
     "metadata": {},
     "output_type": "display_data"
    }
   ],
   "source": [
    "Admis$gpa <- scale(Admis$gpa)\n",
    "Admis$gre <- scale(Admis$gre)\n",
    "Admis$rank <- scale(Admis$rank)\n",
    "head(Admis)"
   ]
  },
  {
   "cell_type": "markdown",
   "metadata": {},
   "source": [
    "To illustrate the first results, we just fit a MLP with 2 hidden neurons"
   ]
  },
  {
   "cell_type": "code",
   "execution_count": 15,
   "metadata": {},
   "outputs": [
    {
     "name": "stdout",
     "output_type": "stream",
     "text": [
      "# weights:  11\n",
      "initial  value 185.455554 \n",
      "iter  10 value 154.303985\n",
      "iter  20 value 151.180313\n",
      "iter  30 value 151.033446\n",
      "iter  40 value 150.080157\n",
      "iter  50 value 149.658535\n",
      "iter  60 value 149.551399\n",
      "iter  70 value 149.170569\n",
      "iter  80 value 149.010636\n",
      "iter  90 value 148.893029\n",
      "iter 100 value 148.692015\n",
      "iter 110 value 148.663268\n",
      "final  value 148.662975 \n",
      "converged\n"
     ]
    }
   ],
   "source": [
    "model.nnet <- nnet(admit ~., data = Admis, subset=learn, size=2, maxit=200, decay=0)"
   ]
  },
  {
   "cell_type": "markdown",
   "metadata": {},
   "source": [
    " Take your time to understand the output"
   ]
  },
  {
   "cell_type": "code",
   "execution_count": 16,
   "metadata": {},
   "outputs": [
    {
     "data": {
      "text/plain": [
       "a 3-2-1 network with 11 weights\n",
       "inputs: gre gpa rank \n",
       "output(s): admit \n",
       "options were - entropy fitting "
      ]
     },
     "metadata": {},
     "output_type": "display_data"
    }
   ],
   "source": [
    "model.nnet "
   ]
  },
  {
   "cell_type": "markdown",
   "metadata": {},
   "source": [
    " In particular, understand why the total number of weights is 11, what 'initial  value' and 'final  value' are\n",
    " and what does 'converged' mean\n",
    "\n",
    " This is the final value of the error function (also known as fitting criterion)"
   ]
  },
  {
   "cell_type": "code",
   "execution_count": 17,
   "metadata": {},
   "outputs": [
    {
     "data": {
      "text/html": [
       "148.66297495079"
      ],
      "text/latex": [
       "148.66297495079"
      ],
      "text/markdown": [
       "148.66297495079"
      ],
      "text/plain": [
       "[1] 148.663"
      ]
     },
     "metadata": {},
     "output_type": "display_data"
    }
   ],
   "source": [
    "model.nnet$value"
   ]
  },
  {
   "cell_type": "markdown",
   "metadata": {},
   "source": [
    "  fitted values for the training data"
   ]
  },
  {
   "cell_type": "code",
   "execution_count": 18,
   "metadata": {},
   "outputs": [
    {
     "data": {
      "text/html": [
       "<table>\n",
       "<tbody>\n",
       "\t<tr><th scope=row>195</th><td>0.35185339</td></tr>\n",
       "\t<tr><th scope=row>364</th><td>0.38732833</td></tr>\n",
       "\t<tr><th scope=row>23</th><td>0.29440536</td></tr>\n",
       "\t<tr><th scope=row>281</th><td>0.48609440</td></tr>\n",
       "\t<tr><th scope=row>125</th><td>0.31717859</td></tr>\n",
       "\t<tr><th scope=row>215</th><td>0.37013893</td></tr>\n",
       "\t<tr><th scope=row>268</th><td>0.31226305</td></tr>\n",
       "\t<tr><th scope=row>200</th><td>0.29968619</td></tr>\n",
       "\t<tr><th scope=row>72</th><td>0.04476478</td></tr>\n",
       "\t<tr><th scope=row>342</th><td>0.29523687</td></tr>\n",
       "\t<tr><th scope=row>153</th><td>0.50237884</td></tr>\n",
       "\t<tr><th scope=row>62</th><td>0.29569985</td></tr>\n",
       "\t<tr><th scope=row>253</th><td>0.68539131</td></tr>\n",
       "\t<tr><th scope=row>102</th><td>0.31006383</td></tr>\n",
       "\t<tr><th scope=row>184</th><td>0.52436669</td></tr>\n",
       "\t<tr><th scope=row>258</th><td>0.33656979</td></tr>\n",
       "\t<tr><th scope=row>95</th><td>0.33549133</td></tr>\n",
       "\t<tr><th scope=row>81</th><td>0.29435951</td></tr>\n",
       "\t<tr><th scope=row>11</th><td>0.29874178</td></tr>\n",
       "\t<tr><th scope=row>44</th><td>0.30422394</td></tr>\n",
       "\t<tr><th scope=row>367</th><td>0.04527828</td></tr>\n",
       "\t<tr><th scope=row>332</th><td>0.30645052</td></tr>\n",
       "\t<tr><th scope=row>64</th><td>0.31883737</td></tr>\n",
       "\t<tr><th scope=row>4</th><td>0.29489290</td></tr>\n",
       "\t<tr><th scope=row>137</th><td>0.29574790</td></tr>\n",
       "\t<tr><th scope=row>59</th><td>0.10881562</td></tr>\n",
       "\t<tr><th scope=row>324</th><td>0.04685942</td></tr>\n",
       "\t<tr><th scope=row>214</th><td>0.30127777</td></tr>\n",
       "\t<tr><th scope=row>266</th><td>0.04820393</td></tr>\n",
       "\t<tr><th scope=row>390</th><td>0.34957475</td></tr>\n",
       "\t<tr><th scope=row>⋮</th><td>⋮</td></tr>\n",
       "\t<tr><th scope=row>289</th><td>0.29447091</td></tr>\n",
       "\t<tr><th scope=row>34</th><td>0.31813217</td></tr>\n",
       "\t<tr><th scope=row>140</th><td>0.71413461</td></tr>\n",
       "\t<tr><th scope=row>52</th><td>0.04478516</td></tr>\n",
       "\t<tr><th scope=row>300</th><td>0.29966028</td></tr>\n",
       "\t<tr><th scope=row>379</th><td>0.29743140</td></tr>\n",
       "\t<tr><th scope=row>255</th><td>0.29552323</td></tr>\n",
       "\t<tr><th scope=row>208</th><td>0.71082617</td></tr>\n",
       "\t<tr><th scope=row>36</th><td>0.05224385</td></tr>\n",
       "\t<tr><th scope=row>182</th><td>0.30469275</td></tr>\n",
       "\t<tr><th scope=row>18</th><td>0.04487824</td></tr>\n",
       "\t<tr><th scope=row>307</th><td>0.45587175</td></tr>\n",
       "\t<tr><th scope=row>366</th><td>0.04495515</td></tr>\n",
       "\t<tr><th scope=row>50</th><td>0.04802087</td></tr>\n",
       "\t<tr><th scope=row>33</th><td>0.30301266</td></tr>\n",
       "\t<tr><th scope=row>30</th><td>0.54706116</td></tr>\n",
       "\t<tr><th scope=row>5</th><td>0.04475784</td></tr>\n",
       "\t<tr><th scope=row>288</th><td>0.29741840</td></tr>\n",
       "\t<tr><th scope=row>104</th><td>0.35100246</td></tr>\n",
       "\t<tr><th scope=row>354</th><td>0.33898154</td></tr>\n",
       "\t<tr><th scope=row>143</th><td>0.30198744</td></tr>\n",
       "\t<tr><th scope=row>171</th><td>0.05025795</td></tr>\n",
       "\t<tr><th scope=row>306</th><td>0.29633704</td></tr>\n",
       "\t<tr><th scope=row>257</th><td>0.34171353</td></tr>\n",
       "\t<tr><th scope=row>261</th><td>0.30834496</td></tr>\n",
       "\t<tr><th scope=row>352</th><td>0.30310243</td></tr>\n",
       "\t<tr><th scope=row>251</th><td>0.29514688</td></tr>\n",
       "\t<tr><th scope=row>131</th><td>0.31569691</td></tr>\n",
       "\t<tr><th scope=row>387</th><td>0.40202318</td></tr>\n",
       "\t<tr><th scope=row>273</th><td>0.37097162</td></tr>\n",
       "</tbody>\n",
       "</table>\n"
      ],
      "text/latex": [
       "\\begin{tabular}{r|l}\n",
       "\t195 & 0.35185339\\\\\n",
       "\t364 & 0.38732833\\\\\n",
       "\t23 & 0.29440536\\\\\n",
       "\t281 & 0.48609440\\\\\n",
       "\t125 & 0.31717859\\\\\n",
       "\t215 & 0.37013893\\\\\n",
       "\t268 & 0.31226305\\\\\n",
       "\t200 & 0.29968619\\\\\n",
       "\t72 & 0.04476478\\\\\n",
       "\t342 & 0.29523687\\\\\n",
       "\t153 & 0.50237884\\\\\n",
       "\t62 & 0.29569985\\\\\n",
       "\t253 & 0.68539131\\\\\n",
       "\t102 & 0.31006383\\\\\n",
       "\t184 & 0.52436669\\\\\n",
       "\t258 & 0.33656979\\\\\n",
       "\t95 & 0.33549133\\\\\n",
       "\t81 & 0.29435951\\\\\n",
       "\t11 & 0.29874178\\\\\n",
       "\t44 & 0.30422394\\\\\n",
       "\t367 & 0.04527828\\\\\n",
       "\t332 & 0.30645052\\\\\n",
       "\t64 & 0.31883737\\\\\n",
       "\t4 & 0.29489290\\\\\n",
       "\t137 & 0.29574790\\\\\n",
       "\t59 & 0.10881562\\\\\n",
       "\t324 & 0.04685942\\\\\n",
       "\t214 & 0.30127777\\\\\n",
       "\t266 & 0.04820393\\\\\n",
       "\t390 & 0.34957475\\\\\n",
       "\t⋮ & ⋮\\\\\n",
       "\t289 & 0.29447091\\\\\n",
       "\t34 & 0.31813217\\\\\n",
       "\t140 & 0.71413461\\\\\n",
       "\t52 & 0.04478516\\\\\n",
       "\t300 & 0.29966028\\\\\n",
       "\t379 & 0.29743140\\\\\n",
       "\t255 & 0.29552323\\\\\n",
       "\t208 & 0.71082617\\\\\n",
       "\t36 & 0.05224385\\\\\n",
       "\t182 & 0.30469275\\\\\n",
       "\t18 & 0.04487824\\\\\n",
       "\t307 & 0.45587175\\\\\n",
       "\t366 & 0.04495515\\\\\n",
       "\t50 & 0.04802087\\\\\n",
       "\t33 & 0.30301266\\\\\n",
       "\t30 & 0.54706116\\\\\n",
       "\t5 & 0.04475784\\\\\n",
       "\t288 & 0.29741840\\\\\n",
       "\t104 & 0.35100246\\\\\n",
       "\t354 & 0.33898154\\\\\n",
       "\t143 & 0.30198744\\\\\n",
       "\t171 & 0.05025795\\\\\n",
       "\t306 & 0.29633704\\\\\n",
       "\t257 & 0.34171353\\\\\n",
       "\t261 & 0.30834496\\\\\n",
       "\t352 & 0.30310243\\\\\n",
       "\t251 & 0.29514688\\\\\n",
       "\t131 & 0.31569691\\\\\n",
       "\t387 & 0.40202318\\\\\n",
       "\t273 & 0.37097162\\\\\n",
       "\\end{tabular}\n"
      ],
      "text/markdown": [
       "\n",
       "| 195 | 0.35185339 | \n",
       "| 364 | 0.38732833 | \n",
       "| 23 | 0.29440536 | \n",
       "| 281 | 0.48609440 | \n",
       "| 125 | 0.31717859 | \n",
       "| 215 | 0.37013893 | \n",
       "| 268 | 0.31226305 | \n",
       "| 200 | 0.29968619 | \n",
       "| 72 | 0.04476478 | \n",
       "| 342 | 0.29523687 | \n",
       "| 153 | 0.50237884 | \n",
       "| 62 | 0.29569985 | \n",
       "| 253 | 0.68539131 | \n",
       "| 102 | 0.31006383 | \n",
       "| 184 | 0.52436669 | \n",
       "| 258 | 0.33656979 | \n",
       "| 95 | 0.33549133 | \n",
       "| 81 | 0.29435951 | \n",
       "| 11 | 0.29874178 | \n",
       "| 44 | 0.30422394 | \n",
       "| 367 | 0.04527828 | \n",
       "| 332 | 0.30645052 | \n",
       "| 64 | 0.31883737 | \n",
       "| 4 | 0.29489290 | \n",
       "| 137 | 0.29574790 | \n",
       "| 59 | 0.10881562 | \n",
       "| 324 | 0.04685942 | \n",
       "| 214 | 0.30127777 | \n",
       "| 266 | 0.04820393 | \n",
       "| 390 | 0.34957475 | \n",
       "| ⋮ | ⋮ | \n",
       "| 289 | 0.29447091 | \n",
       "| 34 | 0.31813217 | \n",
       "| 140 | 0.71413461 | \n",
       "| 52 | 0.04478516 | \n",
       "| 300 | 0.29966028 | \n",
       "| 379 | 0.29743140 | \n",
       "| 255 | 0.29552323 | \n",
       "| 208 | 0.71082617 | \n",
       "| 36 | 0.05224385 | \n",
       "| 182 | 0.30469275 | \n",
       "| 18 | 0.04487824 | \n",
       "| 307 | 0.45587175 | \n",
       "| 366 | 0.04495515 | \n",
       "| 50 | 0.04802087 | \n",
       "| 33 | 0.30301266 | \n",
       "| 30 | 0.54706116 | \n",
       "| 5 | 0.04475784 | \n",
       "| 288 | 0.29741840 | \n",
       "| 104 | 0.35100246 | \n",
       "| 354 | 0.33898154 | \n",
       "| 143 | 0.30198744 | \n",
       "| 171 | 0.05025795 | \n",
       "| 306 | 0.29633704 | \n",
       "| 257 | 0.34171353 | \n",
       "| 261 | 0.30834496 | \n",
       "| 352 | 0.30310243 | \n",
       "| 251 | 0.29514688 | \n",
       "| 131 | 0.31569691 | \n",
       "| 387 | 0.40202318 | \n",
       "| 273 | 0.37097162 | \n",
       "\n",
       "\n"
      ],
      "text/plain": [
       "    [,1]      \n",
       "195 0.35185339\n",
       "364 0.38732833\n",
       "23  0.29440536\n",
       "281 0.48609440\n",
       "125 0.31717859\n",
       "215 0.37013893\n",
       "268 0.31226305\n",
       "200 0.29968619\n",
       "72  0.04476478\n",
       "342 0.29523687\n",
       "153 0.50237884\n",
       "62  0.29569985\n",
       "253 0.68539131\n",
       "102 0.31006383\n",
       "184 0.52436669\n",
       "258 0.33656979\n",
       "95  0.33549133\n",
       "81  0.29435951\n",
       "11  0.29874178\n",
       "44  0.30422394\n",
       "367 0.04527828\n",
       "332 0.30645052\n",
       "64  0.31883737\n",
       "4   0.29489290\n",
       "137 0.29574790\n",
       "59  0.10881562\n",
       "324 0.04685942\n",
       "214 0.30127777\n",
       "266 0.04820393\n",
       "390 0.34957475\n",
       "⋮   ⋮         \n",
       "289 0.29447091\n",
       "34  0.31813217\n",
       "140 0.71413461\n",
       "52  0.04478516\n",
       "300 0.29966028\n",
       "379 0.29743140\n",
       "255 0.29552323\n",
       "208 0.71082617\n",
       "36  0.05224385\n",
       "182 0.30469275\n",
       "18  0.04487824\n",
       "307 0.45587175\n",
       "366 0.04495515\n",
       "50  0.04802087\n",
       "33  0.30301266\n",
       "30  0.54706116\n",
       "5   0.04475784\n",
       "288 0.29741840\n",
       "104 0.35100246\n",
       "354 0.33898154\n",
       "143 0.30198744\n",
       "171 0.05025795\n",
       "306 0.29633704\n",
       "257 0.34171353\n",
       "261 0.30834496\n",
       "352 0.30310243\n",
       "251 0.29514688\n",
       "131 0.31569691\n",
       "387 0.40202318\n",
       "273 0.37097162"
      ]
     },
     "metadata": {},
     "output_type": "display_data"
    }
   ],
   "source": [
    "model.nnet$fitted.values"
   ]
  },
  {
   "cell_type": "markdown",
   "metadata": {},
   "source": [
    " and the residuals"
   ]
  },
  {
   "cell_type": "code",
   "execution_count": 19,
   "metadata": {},
   "outputs": [
    {
     "data": {
      "text/html": [
       "<table>\n",
       "<tbody>\n",
       "\t<tr><th scope=row>195</th><td> 0.64814661</td></tr>\n",
       "\t<tr><th scope=row>364</th><td>-0.38732833</td></tr>\n",
       "\t<tr><th scope=row>23</th><td>-0.29440536</td></tr>\n",
       "\t<tr><th scope=row>281</th><td>-0.48609440</td></tr>\n",
       "\t<tr><th scope=row>125</th><td>-0.31717859</td></tr>\n",
       "\t<tr><th scope=row>215</th><td> 0.62986107</td></tr>\n",
       "\t<tr><th scope=row>268</th><td> 0.68773695</td></tr>\n",
       "\t<tr><th scope=row>200</th><td>-0.29968619</td></tr>\n",
       "\t<tr><th scope=row>72</th><td>-0.04476478</td></tr>\n",
       "\t<tr><th scope=row>342</th><td> 0.70476313</td></tr>\n",
       "\t<tr><th scope=row>153</th><td> 0.49762116</td></tr>\n",
       "\t<tr><th scope=row>62</th><td>-0.29569985</td></tr>\n",
       "\t<tr><th scope=row>253</th><td> 0.31460869</td></tr>\n",
       "\t<tr><th scope=row>102</th><td>-0.31006383</td></tr>\n",
       "\t<tr><th scope=row>184</th><td> 0.47563331</td></tr>\n",
       "\t<tr><th scope=row>258</th><td> 0.66343021</td></tr>\n",
       "\t<tr><th scope=row>95</th><td> 0.66450867</td></tr>\n",
       "\t<tr><th scope=row>81</th><td>-0.29435951</td></tr>\n",
       "\t<tr><th scope=row>11</th><td>-0.29874178</td></tr>\n",
       "\t<tr><th scope=row>44</th><td>-0.30422394</td></tr>\n",
       "\t<tr><th scope=row>367</th><td>-0.04527828</td></tr>\n",
       "\t<tr><th scope=row>332</th><td>-0.30645052</td></tr>\n",
       "\t<tr><th scope=row>64</th><td> 0.68116263</td></tr>\n",
       "\t<tr><th scope=row>4</th><td> 0.70510710</td></tr>\n",
       "\t<tr><th scope=row>137</th><td>-0.29574790</td></tr>\n",
       "\t<tr><th scope=row>59</th><td>-0.10881562</td></tr>\n",
       "\t<tr><th scope=row>324</th><td>-0.04685942</td></tr>\n",
       "\t<tr><th scope=row>214</th><td>-0.30127777</td></tr>\n",
       "\t<tr><th scope=row>266</th><td>-0.04820393</td></tr>\n",
       "\t<tr><th scope=row>390</th><td>-0.34957475</td></tr>\n",
       "\t<tr><th scope=row>⋮</th><td>⋮</td></tr>\n",
       "\t<tr><th scope=row>289</th><td>-0.29447091</td></tr>\n",
       "\t<tr><th scope=row>34</th><td> 0.68186783</td></tr>\n",
       "\t<tr><th scope=row>140</th><td> 0.28586539</td></tr>\n",
       "\t<tr><th scope=row>52</th><td>-0.04478516</td></tr>\n",
       "\t<tr><th scope=row>300</th><td>-0.29966028</td></tr>\n",
       "\t<tr><th scope=row>379</th><td>-0.29743140</td></tr>\n",
       "\t<tr><th scope=row>255</th><td> 0.70447677</td></tr>\n",
       "\t<tr><th scope=row>208</th><td> 0.28917383</td></tr>\n",
       "\t<tr><th scope=row>36</th><td>-0.05224385</td></tr>\n",
       "\t<tr><th scope=row>182</th><td>-0.30469275</td></tr>\n",
       "\t<tr><th scope=row>18</th><td>-0.04487824</td></tr>\n",
       "\t<tr><th scope=row>307</th><td> 0.54412825</td></tr>\n",
       "\t<tr><th scope=row>366</th><td>-0.04495515</td></tr>\n",
       "\t<tr><th scope=row>50</th><td>-0.04802087</td></tr>\n",
       "\t<tr><th scope=row>33</th><td>-0.30301266</td></tr>\n",
       "\t<tr><th scope=row>30</th><td>-0.54706116</td></tr>\n",
       "\t<tr><th scope=row>5</th><td>-0.04475784</td></tr>\n",
       "\t<tr><th scope=row>288</th><td> 0.70258160</td></tr>\n",
       "\t<tr><th scope=row>104</th><td>-0.35100246</td></tr>\n",
       "\t<tr><th scope=row>354</th><td>-0.33898154</td></tr>\n",
       "\t<tr><th scope=row>143</th><td>-0.30198744</td></tr>\n",
       "\t<tr><th scope=row>171</th><td>-0.05025795</td></tr>\n",
       "\t<tr><th scope=row>306</th><td>-0.29633704</td></tr>\n",
       "\t<tr><th scope=row>257</th><td> 0.65828647</td></tr>\n",
       "\t<tr><th scope=row>261</th><td>-0.30834496</td></tr>\n",
       "\t<tr><th scope=row>352</th><td>-0.30310243</td></tr>\n",
       "\t<tr><th scope=row>251</th><td>-0.29514688</td></tr>\n",
       "\t<tr><th scope=row>131</th><td> 0.68430309</td></tr>\n",
       "\t<tr><th scope=row>387</th><td> 0.59797682</td></tr>\n",
       "\t<tr><th scope=row>273</th><td> 0.62902838</td></tr>\n",
       "</tbody>\n",
       "</table>\n"
      ],
      "text/latex": [
       "\\begin{tabular}{r|l}\n",
       "\t195 &  0.64814661\\\\\n",
       "\t364 & -0.38732833\\\\\n",
       "\t23 & -0.29440536\\\\\n",
       "\t281 & -0.48609440\\\\\n",
       "\t125 & -0.31717859\\\\\n",
       "\t215 &  0.62986107\\\\\n",
       "\t268 &  0.68773695\\\\\n",
       "\t200 & -0.29968619\\\\\n",
       "\t72 & -0.04476478\\\\\n",
       "\t342 &  0.70476313\\\\\n",
       "\t153 &  0.49762116\\\\\n",
       "\t62 & -0.29569985\\\\\n",
       "\t253 &  0.31460869\\\\\n",
       "\t102 & -0.31006383\\\\\n",
       "\t184 &  0.47563331\\\\\n",
       "\t258 &  0.66343021\\\\\n",
       "\t95 &  0.66450867\\\\\n",
       "\t81 & -0.29435951\\\\\n",
       "\t11 & -0.29874178\\\\\n",
       "\t44 & -0.30422394\\\\\n",
       "\t367 & -0.04527828\\\\\n",
       "\t332 & -0.30645052\\\\\n",
       "\t64 &  0.68116263\\\\\n",
       "\t4 &  0.70510710\\\\\n",
       "\t137 & -0.29574790\\\\\n",
       "\t59 & -0.10881562\\\\\n",
       "\t324 & -0.04685942\\\\\n",
       "\t214 & -0.30127777\\\\\n",
       "\t266 & -0.04820393\\\\\n",
       "\t390 & -0.34957475\\\\\n",
       "\t⋮ & ⋮\\\\\n",
       "\t289 & -0.29447091\\\\\n",
       "\t34 &  0.68186783\\\\\n",
       "\t140 &  0.28586539\\\\\n",
       "\t52 & -0.04478516\\\\\n",
       "\t300 & -0.29966028\\\\\n",
       "\t379 & -0.29743140\\\\\n",
       "\t255 &  0.70447677\\\\\n",
       "\t208 &  0.28917383\\\\\n",
       "\t36 & -0.05224385\\\\\n",
       "\t182 & -0.30469275\\\\\n",
       "\t18 & -0.04487824\\\\\n",
       "\t307 &  0.54412825\\\\\n",
       "\t366 & -0.04495515\\\\\n",
       "\t50 & -0.04802087\\\\\n",
       "\t33 & -0.30301266\\\\\n",
       "\t30 & -0.54706116\\\\\n",
       "\t5 & -0.04475784\\\\\n",
       "\t288 &  0.70258160\\\\\n",
       "\t104 & -0.35100246\\\\\n",
       "\t354 & -0.33898154\\\\\n",
       "\t143 & -0.30198744\\\\\n",
       "\t171 & -0.05025795\\\\\n",
       "\t306 & -0.29633704\\\\\n",
       "\t257 &  0.65828647\\\\\n",
       "\t261 & -0.30834496\\\\\n",
       "\t352 & -0.30310243\\\\\n",
       "\t251 & -0.29514688\\\\\n",
       "\t131 &  0.68430309\\\\\n",
       "\t387 &  0.59797682\\\\\n",
       "\t273 &  0.62902838\\\\\n",
       "\\end{tabular}\n"
      ],
      "text/markdown": [
       "\n",
       "| 195 |  0.64814661 | \n",
       "| 364 | -0.38732833 | \n",
       "| 23 | -0.29440536 | \n",
       "| 281 | -0.48609440 | \n",
       "| 125 | -0.31717859 | \n",
       "| 215 |  0.62986107 | \n",
       "| 268 |  0.68773695 | \n",
       "| 200 | -0.29968619 | \n",
       "| 72 | -0.04476478 | \n",
       "| 342 |  0.70476313 | \n",
       "| 153 |  0.49762116 | \n",
       "| 62 | -0.29569985 | \n",
       "| 253 |  0.31460869 | \n",
       "| 102 | -0.31006383 | \n",
       "| 184 |  0.47563331 | \n",
       "| 258 |  0.66343021 | \n",
       "| 95 |  0.66450867 | \n",
       "| 81 | -0.29435951 | \n",
       "| 11 | -0.29874178 | \n",
       "| 44 | -0.30422394 | \n",
       "| 367 | -0.04527828 | \n",
       "| 332 | -0.30645052 | \n",
       "| 64 |  0.68116263 | \n",
       "| 4 |  0.70510710 | \n",
       "| 137 | -0.29574790 | \n",
       "| 59 | -0.10881562 | \n",
       "| 324 | -0.04685942 | \n",
       "| 214 | -0.30127777 | \n",
       "| 266 | -0.04820393 | \n",
       "| 390 | -0.34957475 | \n",
       "| ⋮ | ⋮ | \n",
       "| 289 | -0.29447091 | \n",
       "| 34 |  0.68186783 | \n",
       "| 140 |  0.28586539 | \n",
       "| 52 | -0.04478516 | \n",
       "| 300 | -0.29966028 | \n",
       "| 379 | -0.29743140 | \n",
       "| 255 |  0.70447677 | \n",
       "| 208 |  0.28917383 | \n",
       "| 36 | -0.05224385 | \n",
       "| 182 | -0.30469275 | \n",
       "| 18 | -0.04487824 | \n",
       "| 307 |  0.54412825 | \n",
       "| 366 | -0.04495515 | \n",
       "| 50 | -0.04802087 | \n",
       "| 33 | -0.30301266 | \n",
       "| 30 | -0.54706116 | \n",
       "| 5 | -0.04475784 | \n",
       "| 288 |  0.70258160 | \n",
       "| 104 | -0.35100246 | \n",
       "| 354 | -0.33898154 | \n",
       "| 143 | -0.30198744 | \n",
       "| 171 | -0.05025795 | \n",
       "| 306 | -0.29633704 | \n",
       "| 257 |  0.65828647 | \n",
       "| 261 | -0.30834496 | \n",
       "| 352 | -0.30310243 | \n",
       "| 251 | -0.29514688 | \n",
       "| 131 |  0.68430309 | \n",
       "| 387 |  0.59797682 | \n",
       "| 273 |  0.62902838 | \n",
       "\n",
       "\n"
      ],
      "text/plain": [
       "    [,1]       \n",
       "195  0.64814661\n",
       "364 -0.38732833\n",
       "23  -0.29440536\n",
       "281 -0.48609440\n",
       "125 -0.31717859\n",
       "215  0.62986107\n",
       "268  0.68773695\n",
       "200 -0.29968619\n",
       "72  -0.04476478\n",
       "342  0.70476313\n",
       "153  0.49762116\n",
       "62  -0.29569985\n",
       "253  0.31460869\n",
       "102 -0.31006383\n",
       "184  0.47563331\n",
       "258  0.66343021\n",
       "95   0.66450867\n",
       "81  -0.29435951\n",
       "11  -0.29874178\n",
       "44  -0.30422394\n",
       "367 -0.04527828\n",
       "332 -0.30645052\n",
       "64   0.68116263\n",
       "4    0.70510710\n",
       "137 -0.29574790\n",
       "59  -0.10881562\n",
       "324 -0.04685942\n",
       "214 -0.30127777\n",
       "266 -0.04820393\n",
       "390 -0.34957475\n",
       "⋮   ⋮          \n",
       "289 -0.29447091\n",
       "34   0.68186783\n",
       "140  0.28586539\n",
       "52  -0.04478516\n",
       "300 -0.29966028\n",
       "379 -0.29743140\n",
       "255  0.70447677\n",
       "208  0.28917383\n",
       "36  -0.05224385\n",
       "182 -0.30469275\n",
       "18  -0.04487824\n",
       "307  0.54412825\n",
       "366 -0.04495515\n",
       "50  -0.04802087\n",
       "33  -0.30301266\n",
       "30  -0.54706116\n",
       "5   -0.04475784\n",
       "288  0.70258160\n",
       "104 -0.35100246\n",
       "354 -0.33898154\n",
       "143 -0.30198744\n",
       "171 -0.05025795\n",
       "306 -0.29633704\n",
       "257  0.65828647\n",
       "261 -0.30834496\n",
       "352 -0.30310243\n",
       "251 -0.29514688\n",
       "131  0.68430309\n",
       "387  0.59797682\n",
       "273  0.62902838"
      ]
     },
     "metadata": {},
     "output_type": "display_data"
    }
   ],
   "source": [
    "model.nnet$residuals"
   ]
  },
  {
   "cell_type": "markdown",
   "metadata": {},
   "source": [
    " Now look at the weights"
   ]
  },
  {
   "cell_type": "code",
   "execution_count": 20,
   "metadata": {},
   "outputs": [
    {
     "data": {
      "text/html": [
       "<ol class=list-inline>\n",
       "\t<li>-144.914377636294</li>\n",
       "\t<li>-115.574875427068</li>\n",
       "\t<li>-29.5397472905414</li>\n",
       "\t<li>29.8620638100509</li>\n",
       "\t<li>6.04841812135005</li>\n",
       "\t<li>0.450634574495237</li>\n",
       "\t<li>-1.11572636677264</li>\n",
       "\t<li>1.53595357722862</li>\n",
       "\t<li>41.6437693062623</li>\n",
       "\t<li>-2.19154009113553</li>\n",
       "\t<li>-42.5193847645286</li>\n",
       "</ol>\n"
      ],
      "text/latex": [
       "\\begin{enumerate*}\n",
       "\\item -144.914377636294\n",
       "\\item -115.574875427068\n",
       "\\item -29.5397472905414\n",
       "\\item 29.8620638100509\n",
       "\\item 6.04841812135005\n",
       "\\item 0.450634574495237\n",
       "\\item -1.11572636677264\n",
       "\\item 1.53595357722862\n",
       "\\item 41.6437693062623\n",
       "\\item -2.19154009113553\n",
       "\\item -42.5193847645286\n",
       "\\end{enumerate*}\n"
      ],
      "text/markdown": [
       "1. -144.914377636294\n",
       "2. -115.574875427068\n",
       "3. -29.5397472905414\n",
       "4. 29.8620638100509\n",
       "5. 6.04841812135005\n",
       "6. 0.450634574495237\n",
       "7. -1.11572636677264\n",
       "8. 1.53595357722862\n",
       "9. 41.6437693062623\n",
       "10. -2.19154009113553\n",
       "11. -42.5193847645286\n",
       "\n",
       "\n"
      ],
      "text/plain": [
       " [1] -144.9143776 -115.5748754  -29.5397473   29.8620638    6.0484181\n",
       " [6]    0.4506346   -1.1157264    1.5359536   41.6437693   -2.1915401\n",
       "[11]  -42.5193848"
      ]
     },
     "metadata": {},
     "output_type": "display_data"
    }
   ],
   "source": [
    "model.nnet$wts"
   ]
  },
  {
   "cell_type": "markdown",
   "metadata": {},
   "source": [
    "I think this way is clearer:"
   ]
  },
  {
   "cell_type": "code",
   "execution_count": 21,
   "metadata": {},
   "outputs": [
    {
     "data": {
      "text/plain": [
       "a 3-2-1 network with 11 weights\n",
       "options were - entropy fitting \n",
       "  b->h1  i1->h1  i2->h1  i3->h1 \n",
       "-144.91 -115.57  -29.54   29.86 \n",
       "  b->h2  i1->h2  i2->h2  i3->h2 \n",
       "   6.05    0.45   -1.12    1.54 \n",
       "   b->o   h1->o   h2->o \n",
       "  41.64   -2.19  -42.52 "
      ]
     },
     "metadata": {},
     "output_type": "display_data"
    }
   ],
   "source": [
    "summary(model.nnet)"
   ]
  },
  {
   "cell_type": "markdown",
   "metadata": {},
   "source": [
    " i1,i2,i3 are the 3 inputs, h1, h2 are the two hidden neurons, b is the bias (offset)\n",
    "\n",
    " As you can see, some weights are large (two orders of magnitude larger then others)\n",
    "This is no good, since it makes the model unstable (i.e., small changes in some inputs may\n",
    " entail significant changes in the network, because of the large weights)\n",
    "\n",
    " One way to avoid this is by regularizing the learning process:"
   ]
  },
  {
   "cell_type": "code",
   "execution_count": 22,
   "metadata": {},
   "outputs": [
    {
     "name": "stdout",
     "output_type": "stream",
     "text": [
      "# weights:  11\n",
      "initial  value 212.163281 \n",
      "iter  10 value 156.961946\n",
      "iter  20 value 153.125715\n",
      "iter  30 value 152.156794\n",
      "iter  40 value 152.087114\n",
      "iter  50 value 152.086597\n",
      "final  value 152.086580 \n",
      "converged\n"
     ]
    }
   ],
   "source": [
    "model.nnet <- nnet(admit ~., data = Admis, \n",
    "                   subset=learn, size=2, maxit=200, decay=0.01)"
   ]
  },
  {
   "cell_type": "markdown",
   "metadata": {},
   "source": [
    " notice the big difference"
   ]
  },
  {
   "cell_type": "code",
   "execution_count": 23,
   "metadata": {},
   "outputs": [
    {
     "data": {
      "text/html": [
       "<ol class=list-inline>\n",
       "\t<li>6.53419063936293</li>\n",
       "\t<li>0.543714592171317</li>\n",
       "\t<li>-2.74234950830059</li>\n",
       "\t<li>3.39359863471471</li>\n",
       "\t<li>-3.36715081295151</li>\n",
       "\t<li>-1.18039931310529</li>\n",
       "\t<li>-0.709407171560226</li>\n",
       "\t<li>0.829696661234554</li>\n",
       "\t<li>2.51020989996937</li>\n",
       "\t<li>-3.14715629970143</li>\n",
       "\t<li>-4.16929761475168</li>\n",
       "</ol>\n"
      ],
      "text/latex": [
       "\\begin{enumerate*}\n",
       "\\item 6.53419063936293\n",
       "\\item 0.543714592171317\n",
       "\\item -2.74234950830059\n",
       "\\item 3.39359863471471\n",
       "\\item -3.36715081295151\n",
       "\\item -1.18039931310529\n",
       "\\item -0.709407171560226\n",
       "\\item 0.829696661234554\n",
       "\\item 2.51020989996937\n",
       "\\item -3.14715629970143\n",
       "\\item -4.16929761475168\n",
       "\\end{enumerate*}\n"
      ],
      "text/markdown": [
       "1. 6.53419063936293\n",
       "2. 0.543714592171317\n",
       "3. -2.74234950830059\n",
       "4. 3.39359863471471\n",
       "5. -3.36715081295151\n",
       "6. -1.18039931310529\n",
       "7. -0.709407171560226\n",
       "8. 0.829696661234554\n",
       "9. 2.51020989996937\n",
       "10. -3.14715629970143\n",
       "11. -4.16929761475168\n",
       "\n",
       "\n"
      ],
      "text/plain": [
       " [1]  6.5341906  0.5437146 -2.7423495  3.3935986 -3.3671508 -1.1803993\n",
       " [7] -0.7094072  0.8296967  2.5102099 -3.1471563 -4.1692976"
      ]
     },
     "metadata": {},
     "output_type": "display_data"
    },
    {
     "data": {
      "text/plain": [
       "a 3-2-1 network with 11 weights\n",
       "options were - entropy fitting  decay=0.01\n",
       " b->h1 i1->h1 i2->h1 i3->h1 \n",
       "  6.53   0.54  -2.74   3.39 \n",
       " b->h2 i1->h2 i2->h2 i3->h2 \n",
       " -3.37  -1.18  -0.71   0.83 \n",
       " b->o h1->o h2->o \n",
       " 2.51 -3.15 -4.17 "
      ]
     },
     "metadata": {},
     "output_type": "display_data"
    }
   ],
   "source": [
    "model.nnet$wts\n",
    "\n",
    "summary(model.nnet)"
   ]
  },
  {
   "cell_type": "markdown",
   "metadata": {},
   "source": [
    "Now let's compute the training error"
   ]
  },
  {
   "cell_type": "code",
   "execution_count": 24,
   "metadata": {},
   "outputs": [
    {
     "data": {
      "text/html": [
       "28.0898876404494"
      ],
      "text/latex": [
       "28.0898876404494"
      ],
      "text/markdown": [
       "28.0898876404494"
      ],
      "text/plain": [
       "[1] 28.08989"
      ]
     },
     "metadata": {},
     "output_type": "display_data"
    }
   ],
   "source": [
    "p1 <- as.factor(predict (model.nnet, type=\"class\"))\n",
    "\n",
    "t1 <- table(p1,Admis$admit[learn])\n",
    "error_rate.learn <- 100*(1-sum(diag(t1))/nlearn)\n",
    "error_rate.learn"
   ]
  },
  {
   "cell_type": "markdown",
   "metadata": {},
   "source": [
    " And the corresponding test error"
   ]
  },
  {
   "cell_type": "code",
   "execution_count": 25,
   "metadata": {},
   "outputs": [
    {
     "data": {
      "text/html": [
       "26.3157894736842"
      ],
      "text/latex": [
       "26.3157894736842"
      ],
      "text/markdown": [
       "26.3157894736842"
      ],
      "text/plain": [
       "[1] 26.31579"
      ]
     },
     "metadata": {},
     "output_type": "display_data"
    }
   ],
   "source": [
    "p2 <- as.factor(predict (model.nnet, newdata=Admis[-learn,], type=\"class\"))\n",
    "\n",
    "t2 <- table(p2,Admis$admit[-learn])\n",
    "error_rate.test <- 100*(1-sum(diag(t2))/ntest)\n",
    "error_rate.test"
   ]
  },
  {
   "cell_type": "markdown",
   "metadata": {},
   "source": [
    " We get 26.32%, so it seems that the MLP helps a little bit; however, we need to work harder\n",
    "\n",
    " We are going to do the modelling in a principled way now. Using 10x10 CV to select the best\n",
    " combination of 'size' and 'decay'\n",
    "\n",
    " Just by curiosity, let me show you that we can fit any dataset (in the sense of reducing the training error):"
   ]
  },
  {
   "cell_type": "code",
   "execution_count": 26,
   "metadata": {},
   "outputs": [
    {
     "name": "stdout",
     "output_type": "stream",
     "text": [
      "# weights:  101\n",
      "initial  value 201.805819 \n",
      "iter  10 value 153.848554\n",
      "iter  20 value 138.333699\n",
      "iter  30 value 126.583519\n",
      "iter  40 value 118.200209\n",
      "iter  50 value 106.232510\n",
      "iter  60 value 94.855899\n",
      "iter  70 value 81.443226\n",
      "iter  80 value 72.072775\n",
      "iter  90 value 66.247734\n",
      "iter 100 value 63.543149\n",
      "iter 110 value 60.713822\n",
      "iter 120 value 57.034778\n",
      "iter 130 value 55.760224\n",
      "iter 140 value 54.653371\n",
      "iter 150 value 53.141961\n",
      "iter 160 value 51.878818\n",
      "iter 170 value 50.818868\n",
      "iter 180 value 48.734692\n",
      "iter 190 value 47.855112\n",
      "iter 200 value 47.016154\n",
      "final  value 47.016154 \n",
      "stopped after 200 iterations\n"
     ]
    }
   ],
   "source": [
    "model.nnet <- nnet(admit ~., data = Admis, \n",
    "                   subset=learn, size=20, maxit=200, trace=T)"
   ]
  },
  {
   "cell_type": "markdown",
   "metadata": {},
   "source": [
    " Now let's compute the training error"
   ]
  },
  {
   "cell_type": "code",
   "execution_count": 27,
   "metadata": {},
   "outputs": [
    {
     "data": {
      "text/plain": [
       "     \n",
       "p1     No Yes\n",
       "  No  172  12\n",
       "  Yes   5  78"
      ]
     },
     "metadata": {},
     "output_type": "display_data"
    },
    {
     "data": {
      "text/html": [
       "6.36704119850188"
      ],
      "text/latex": [
       "6.36704119850188"
      ],
      "text/markdown": [
       "6.36704119850188"
      ],
      "text/plain": [
       "[1] 6.367041"
      ]
     },
     "metadata": {},
     "output_type": "display_data"
    }
   ],
   "source": [
    "p1 <- as.factor(predict (model.nnet, type=\"class\"))\n",
    "\n",
    "(t1 <- table(p1,Admis$admit[learn]))\n",
    "error_rate.learn <- 100*(1-sum(diag(t1))/nlearn)\n",
    "error_rate.learn"
   ]
  },
  {
   "cell_type": "markdown",
   "metadata": {},
   "source": [
    "And the corresponding test error"
   ]
  },
  {
   "cell_type": "code",
   "execution_count": 28,
   "metadata": {},
   "outputs": [
    {
     "data": {
      "text/plain": [
       "     \n",
       "p2    No Yes\n",
       "  No  66  23\n",
       "  Yes 30  14"
      ]
     },
     "metadata": {},
     "output_type": "display_data"
    },
    {
     "data": {
      "text/html": [
       "39.8496240601504"
      ],
      "text/latex": [
       "39.8496240601504"
      ],
      "text/markdown": [
       "39.8496240601504"
      ],
      "text/plain": [
       "[1] 39.84962"
      ]
     },
     "metadata": {},
     "output_type": "display_data"
    }
   ],
   "source": [
    "p2 <- as.factor(predict (model.nnet, \n",
    "                         newdata=Admis[-learn,], type=\"class\"))\n",
    "\n",
    "(t2 <- table(p2,Admis$admit[-learn]))\n",
    "error_rate.test <- 100*(1-sum(diag(t2))/ntest)\n",
    "error_rate.test"
   ]
  },
  {
   "cell_type": "markdown",
   "metadata": {},
   "source": [
    "That's it: we got a training error around 6% (four times lower than the previous one), but it is \n",
    "illusory ... the test error is larger than before (around 40%); \n",
    " The relevant comparison is between 6% and 40%, this large gap is an indication of overfitting\n",
    "\n",
    "\n",
    "{caret} is an excellent package for training control, once you know what all these concepts are\n",
    "\n",
    " WARNING: if the package is not installed in your computer, installation needs some previous packages"
   ]
  },
  {
   "cell_type": "code",
   "execution_count": 29,
   "metadata": {},
   "outputs": [
    {
     "name": "stderr",
     "output_type": "stream",
     "text": [
      "Loading required package: lattice\n",
      "Loading required package: ggplot2\n"
     ]
    }
   ],
   "source": [
    "library(caret)"
   ]
  },
  {
   "cell_type": "markdown",
   "metadata": {},
   "source": [
    "For a specific model, in our case the neural network, the function train() in {caret} uses a \"grid\" of model parameters\n",
    " and trains using a given resampling method (in our case we will be using 10x10 CV). All combinations are evaluated, and \n",
    " the best one (according to 10x10 CV) is chosen and used to construct a final model, which is refit using the whole training set\n",
    "\n",
    " Thus train() returns the constructed model (exactly as a direct call to nnet() would)\n",
    "\n",
    " In order to find the best network architecture, we are going to explore two methods:\n",
    "\n",
    "1. Explore different numbers of hidden units in one hidden layer, with no regularization\n",
    "2. Fix a large number of hidden units in one hidden layer, and explore different regularization values (recommended)\n",
    "\n",
    "doing both (explore different numbers of hidden units AND regularization values) is usually a waste of computing \n",
    "resources (but notice that train() would admit it)\n",
    "\n",
    "Let's start with 1.\n",
    "\n",
    "set desired sizes"
   ]
  },
  {
   "cell_type": "code",
   "execution_count": 30,
   "metadata": {},
   "outputs": [
    {
     "data": {
      "text/html": [
       "<ol class=list-inline>\n",
       "\t<li>2</li>\n",
       "\t<li>4</li>\n",
       "\t<li>6</li>\n",
       "\t<li>8</li>\n",
       "\t<li>10</li>\n",
       "\t<li>12</li>\n",
       "\t<li>14</li>\n",
       "\t<li>16</li>\n",
       "\t<li>18</li>\n",
       "\t<li>20</li>\n",
       "</ol>\n"
      ],
      "text/latex": [
       "\\begin{enumerate*}\n",
       "\\item 2\n",
       "\\item 4\n",
       "\\item 6\n",
       "\\item 8\n",
       "\\item 10\n",
       "\\item 12\n",
       "\\item 14\n",
       "\\item 16\n",
       "\\item 18\n",
       "\\item 20\n",
       "\\end{enumerate*}\n"
      ],
      "text/markdown": [
       "1. 2\n",
       "2. 4\n",
       "3. 6\n",
       "4. 8\n",
       "5. 10\n",
       "6. 12\n",
       "7. 14\n",
       "8. 16\n",
       "9. 18\n",
       "10. 20\n",
       "\n",
       "\n"
      ],
      "text/plain": [
       " [1]  2  4  6  8 10 12 14 16 18 20"
      ]
     },
     "metadata": {},
     "output_type": "display_data"
    }
   ],
   "source": [
    "(sizes <- 2*seq(1,10,by=1))"
   ]
  },
  {
   "cell_type": "markdown",
   "metadata": {},
   "source": [
    " specify 10x10 CV"
   ]
  },
  {
   "cell_type": "code",
   "execution_count": 31,
   "metadata": {},
   "outputs": [],
   "source": [
    "trc <- trainControl (method=\"repeatedcv\", number=10, repeats=10)\n",
    "\n",
    "model.10x10CV <- train (admit ~., \n",
    "                        data = Admis, \n",
    "                        subset=learn, \n",
    "                        method='nnet', \n",
    "                        maxit = 500, \n",
    "                        trace = FALSE,\n",
    "                        tuneGrid = expand.grid(.size=sizes,.decay=0), \n",
    "                        trControl=trc)"
   ]
  },
  {
   "cell_type": "markdown",
   "metadata": {},
   "source": [
    " We can inspect the full results"
   ]
  },
  {
   "cell_type": "code",
   "execution_count": 32,
   "metadata": {},
   "outputs": [
    {
     "data": {
      "text/html": [
       "<table>\n",
       "<thead><tr><th scope=col>size</th><th scope=col>decay</th><th scope=col>Accuracy</th><th scope=col>Kappa</th><th scope=col>AccuracySD</th><th scope=col>KappaSD</th></tr></thead>\n",
       "<tbody>\n",
       "\t<tr><td> 2        </td><td>0         </td><td>0.6794302 </td><td>0.15838888</td><td>0.06555800</td><td>0.1590611 </td></tr>\n",
       "\t<tr><td> 4        </td><td>0         </td><td>0.6528063 </td><td>0.12692082</td><td>0.07015772</td><td>0.1571809 </td></tr>\n",
       "\t<tr><td> 6        </td><td>0         </td><td>0.6364245 </td><td>0.10645660</td><td>0.08609798</td><td>0.1904523 </td></tr>\n",
       "\t<tr><td> 8        </td><td>0         </td><td>0.6242023 </td><td>0.10665279</td><td>0.07449450</td><td>0.1566918 </td></tr>\n",
       "\t<tr><td>10        </td><td>0         </td><td>0.6084473 </td><td>0.09292062</td><td>0.08412655</td><td>0.1810415 </td></tr>\n",
       "\t<tr><td>12        </td><td>0         </td><td>0.6200997 </td><td>0.12755055</td><td>0.08120269</td><td>0.1805066 </td></tr>\n",
       "\t<tr><td>14        </td><td>0         </td><td>0.6071368 </td><td>0.10486461</td><td>0.08483468</td><td>0.1816216 </td></tr>\n",
       "\t<tr><td>16        </td><td>0         </td><td>0.6048291 </td><td>0.10629726</td><td>0.09154840</td><td>0.1882389 </td></tr>\n",
       "\t<tr><td>18        </td><td>0         </td><td>0.6144160 </td><td>0.13036946</td><td>0.09400006</td><td>0.1935479 </td></tr>\n",
       "\t<tr><td>20        </td><td>0         </td><td>0.6032906 </td><td>0.11403299</td><td>0.07941761</td><td>0.1685627 </td></tr>\n",
       "</tbody>\n",
       "</table>\n"
      ],
      "text/latex": [
       "\\begin{tabular}{r|llllll}\n",
       " size & decay & Accuracy & Kappa & AccuracySD & KappaSD\\\\\n",
       "\\hline\n",
       "\t  2         & 0          & 0.6794302  & 0.15838888 & 0.06555800 & 0.1590611 \\\\\n",
       "\t  4         & 0          & 0.6528063  & 0.12692082 & 0.07015772 & 0.1571809 \\\\\n",
       "\t  6         & 0          & 0.6364245  & 0.10645660 & 0.08609798 & 0.1904523 \\\\\n",
       "\t  8         & 0          & 0.6242023  & 0.10665279 & 0.07449450 & 0.1566918 \\\\\n",
       "\t 10         & 0          & 0.6084473  & 0.09292062 & 0.08412655 & 0.1810415 \\\\\n",
       "\t 12         & 0          & 0.6200997  & 0.12755055 & 0.08120269 & 0.1805066 \\\\\n",
       "\t 14         & 0          & 0.6071368  & 0.10486461 & 0.08483468 & 0.1816216 \\\\\n",
       "\t 16         & 0          & 0.6048291  & 0.10629726 & 0.09154840 & 0.1882389 \\\\\n",
       "\t 18         & 0          & 0.6144160  & 0.13036946 & 0.09400006 & 0.1935479 \\\\\n",
       "\t 20         & 0          & 0.6032906  & 0.11403299 & 0.07941761 & 0.1685627 \\\\\n",
       "\\end{tabular}\n"
      ],
      "text/markdown": [
       "\n",
       "size | decay | Accuracy | Kappa | AccuracySD | KappaSD | \n",
       "|---|---|---|---|---|---|---|---|---|---|\n",
       "|  2         | 0          | 0.6794302  | 0.15838888 | 0.06555800 | 0.1590611  | \n",
       "|  4         | 0          | 0.6528063  | 0.12692082 | 0.07015772 | 0.1571809  | \n",
       "|  6         | 0          | 0.6364245  | 0.10645660 | 0.08609798 | 0.1904523  | \n",
       "|  8         | 0          | 0.6242023  | 0.10665279 | 0.07449450 | 0.1566918  | \n",
       "| 10         | 0          | 0.6084473  | 0.09292062 | 0.08412655 | 0.1810415  | \n",
       "| 12         | 0          | 0.6200997  | 0.12755055 | 0.08120269 | 0.1805066  | \n",
       "| 14         | 0          | 0.6071368  | 0.10486461 | 0.08483468 | 0.1816216  | \n",
       "| 16         | 0          | 0.6048291  | 0.10629726 | 0.09154840 | 0.1882389  | \n",
       "| 18         | 0          | 0.6144160  | 0.13036946 | 0.09400006 | 0.1935479  | \n",
       "| 20         | 0          | 0.6032906  | 0.11403299 | 0.07941761 | 0.1685627  | \n",
       "\n",
       "\n"
      ],
      "text/plain": [
       "   size decay Accuracy  Kappa      AccuracySD KappaSD  \n",
       "1   2   0     0.6794302 0.15838888 0.06555800 0.1590611\n",
       "2   4   0     0.6528063 0.12692082 0.07015772 0.1571809\n",
       "3   6   0     0.6364245 0.10645660 0.08609798 0.1904523\n",
       "4   8   0     0.6242023 0.10665279 0.07449450 0.1566918\n",
       "5  10   0     0.6084473 0.09292062 0.08412655 0.1810415\n",
       "6  12   0     0.6200997 0.12755055 0.08120269 0.1805066\n",
       "7  14   0     0.6071368 0.10486461 0.08483468 0.1816216\n",
       "8  16   0     0.6048291 0.10629726 0.09154840 0.1882389\n",
       "9  18   0     0.6144160 0.13036946 0.09400006 0.1935479\n",
       "10 20   0     0.6032906 0.11403299 0.07941761 0.1685627"
      ]
     },
     "metadata": {},
     "output_type": "display_data"
    }
   ],
   "source": [
    "model.10x10CV$results"
   ]
  },
  {
   "cell_type": "markdown",
   "metadata": {},
   "source": [
    "and the best model found"
   ]
  },
  {
   "cell_type": "code",
   "execution_count": 33,
   "metadata": {},
   "outputs": [
    {
     "data": {
      "text/html": [
       "<table>\n",
       "<thead><tr><th scope=col>size</th><th scope=col>decay</th></tr></thead>\n",
       "<tbody>\n",
       "\t<tr><td>2</td><td>0</td></tr>\n",
       "</tbody>\n",
       "</table>\n"
      ],
      "text/latex": [
       "\\begin{tabular}{r|ll}\n",
       " size & decay\\\\\n",
       "\\hline\n",
       "\t 2 & 0\\\\\n",
       "\\end{tabular}\n"
      ],
      "text/markdown": [
       "\n",
       "size | decay | \n",
       "|---|\n",
       "| 2 | 0 | \n",
       "\n",
       "\n"
      ],
      "text/plain": [
       "  size decay\n",
       "1 2    0    "
      ]
     },
     "metadata": {},
     "output_type": "display_data"
    }
   ],
   "source": [
    "model.10x10CV$bestTune"
   ]
  },
  {
   "cell_type": "markdown",
   "metadata": {},
   "source": [
    " The results are quite disappointing ...\n",
    "\n",
    " Now method 2."
   ]
  },
  {
   "cell_type": "code",
   "execution_count": 34,
   "metadata": {},
   "outputs": [
    {
     "data": {
      "text/html": [
       "<ol class=list-inline>\n",
       "\t<li>0.001</li>\n",
       "\t<li>0.00125892541179417</li>\n",
       "\t<li>0.00158489319246111</li>\n",
       "\t<li>0.00199526231496888</li>\n",
       "\t<li>0.00251188643150958</li>\n",
       "\t<li>0.00316227766016838</li>\n",
       "\t<li>0.00398107170553497</li>\n",
       "\t<li>0.00501187233627272</li>\n",
       "\t<li>0.00630957344480193</li>\n",
       "\t<li>0.00794328234724281</li>\n",
       "\t<li>0.01</li>\n",
       "\t<li>0.0125892541179417</li>\n",
       "\t<li>0.0158489319246111</li>\n",
       "\t<li>0.0199526231496888</li>\n",
       "\t<li>0.0251188643150958</li>\n",
       "\t<li>0.0316227766016838</li>\n",
       "\t<li>0.0398107170553497</li>\n",
       "\t<li>0.0501187233627272</li>\n",
       "\t<li>0.0630957344480193</li>\n",
       "\t<li>0.0794328234724282</li>\n",
       "\t<li>0.1</li>\n",
       "\t<li>0.125892541179417</li>\n",
       "\t<li>0.158489319246111</li>\n",
       "\t<li>0.199526231496888</li>\n",
       "\t<li>0.251188643150958</li>\n",
       "\t<li>0.316227766016838</li>\n",
       "\t<li>0.398107170553497</li>\n",
       "\t<li>0.501187233627272</li>\n",
       "\t<li>0.630957344480194</li>\n",
       "\t<li>0.794328234724282</li>\n",
       "\t<li>1</li>\n",
       "</ol>\n"
      ],
      "text/latex": [
       "\\begin{enumerate*}\n",
       "\\item 0.001\n",
       "\\item 0.00125892541179417\n",
       "\\item 0.00158489319246111\n",
       "\\item 0.00199526231496888\n",
       "\\item 0.00251188643150958\n",
       "\\item 0.00316227766016838\n",
       "\\item 0.00398107170553497\n",
       "\\item 0.00501187233627272\n",
       "\\item 0.00630957344480193\n",
       "\\item 0.00794328234724281\n",
       "\\item 0.01\n",
       "\\item 0.0125892541179417\n",
       "\\item 0.0158489319246111\n",
       "\\item 0.0199526231496888\n",
       "\\item 0.0251188643150958\n",
       "\\item 0.0316227766016838\n",
       "\\item 0.0398107170553497\n",
       "\\item 0.0501187233627272\n",
       "\\item 0.0630957344480193\n",
       "\\item 0.0794328234724282\n",
       "\\item 0.1\n",
       "\\item 0.125892541179417\n",
       "\\item 0.158489319246111\n",
       "\\item 0.199526231496888\n",
       "\\item 0.251188643150958\n",
       "\\item 0.316227766016838\n",
       "\\item 0.398107170553497\n",
       "\\item 0.501187233627272\n",
       "\\item 0.630957344480194\n",
       "\\item 0.794328234724282\n",
       "\\item 1\n",
       "\\end{enumerate*}\n"
      ],
      "text/markdown": [
       "1. 0.001\n",
       "2. 0.00125892541179417\n",
       "3. 0.00158489319246111\n",
       "4. 0.00199526231496888\n",
       "5. 0.00251188643150958\n",
       "6. 0.00316227766016838\n",
       "7. 0.00398107170553497\n",
       "8. 0.00501187233627272\n",
       "9. 0.00630957344480193\n",
       "10. 0.00794328234724281\n",
       "11. 0.01\n",
       "12. 0.0125892541179417\n",
       "13. 0.0158489319246111\n",
       "14. 0.0199526231496888\n",
       "15. 0.0251188643150958\n",
       "16. 0.0316227766016838\n",
       "17. 0.0398107170553497\n",
       "18. 0.0501187233627272\n",
       "19. 0.0630957344480193\n",
       "20. 0.0794328234724282\n",
       "21. 0.1\n",
       "22. 0.125892541179417\n",
       "23. 0.158489319246111\n",
       "24. 0.199526231496888\n",
       "25. 0.251188643150958\n",
       "26. 0.316227766016838\n",
       "27. 0.398107170553497\n",
       "28. 0.501187233627272\n",
       "29. 0.630957344480194\n",
       "30. 0.794328234724282\n",
       "31. 1\n",
       "\n",
       "\n"
      ],
      "text/plain": [
       " [1] 0.001000000 0.001258925 0.001584893 0.001995262 0.002511886 0.003162278\n",
       " [7] 0.003981072 0.005011872 0.006309573 0.007943282 0.010000000 0.012589254\n",
       "[13] 0.015848932 0.019952623 0.025118864 0.031622777 0.039810717 0.050118723\n",
       "[19] 0.063095734 0.079432823 0.100000000 0.125892541 0.158489319 0.199526231\n",
       "[25] 0.251188643 0.316227766 0.398107171 0.501187234 0.630957344 0.794328235\n",
       "[31] 1.000000000"
      ]
     },
     "metadata": {},
     "output_type": "display_data"
    }
   ],
   "source": [
    "(decays <- 10^seq(-3,0,by=0.1))"
   ]
  },
  {
   "cell_type": "markdown",
   "metadata": {},
   "source": [
    " WARNING: this takes a few minutes"
   ]
  },
  {
   "cell_type": "code",
   "execution_count": 35,
   "metadata": {},
   "outputs": [],
   "source": [
    "model.10x10CV <- train (admit ~., \n",
    "                        data = Admis, \n",
    "                        subset=learn, \n",
    "                        method='nnet', \n",
    "                        maxit = 500, \n",
    "                        trace = FALSE,\n",
    "                        tuneGrid = expand.grid(.size=20,.decay=decays), \n",
    "                        trControl=trc)"
   ]
  },
  {
   "cell_type": "markdown",
   "metadata": {},
   "source": [
    "We can inspect the full results"
   ]
  },
  {
   "cell_type": "code",
   "execution_count": 36,
   "metadata": {},
   "outputs": [
    {
     "data": {
      "text/html": [
       "<table>\n",
       "<thead><tr><th scope=col>size</th><th scope=col>decay</th><th scope=col>Accuracy</th><th scope=col>Kappa</th><th scope=col>AccuracySD</th><th scope=col>KappaSD</th></tr></thead>\n",
       "<tbody>\n",
       "\t<tr><td>20         </td><td>0.001000000</td><td>0.6107835  </td><td>0.1259526  </td><td>0.09998091 </td><td>0.2119052  </td></tr>\n",
       "\t<tr><td>20         </td><td>0.001258925</td><td>0.6013960  </td><td>0.1134127  </td><td>0.09339224 </td><td>0.1969092  </td></tr>\n",
       "\t<tr><td>20         </td><td>0.001584893</td><td>0.6080484  </td><td>0.1263137  </td><td>0.10416937 </td><td>0.2231088  </td></tr>\n",
       "\t<tr><td>20         </td><td>0.001995262</td><td>0.6066952  </td><td>0.1225178  </td><td>0.09008144 </td><td>0.1928053  </td></tr>\n",
       "\t<tr><td>20         </td><td>0.002511886</td><td>0.6099573  </td><td>0.1153077  </td><td>0.09470323 </td><td>0.2109673  </td></tr>\n",
       "\t<tr><td>20         </td><td>0.003162278</td><td>0.6134473  </td><td>0.1333902  </td><td>0.08670615 </td><td>0.1955272  </td></tr>\n",
       "\t<tr><td>20         </td><td>0.003981072</td><td>0.6054701  </td><td>0.1080233  </td><td>0.08168971 </td><td>0.1821464  </td></tr>\n",
       "\t<tr><td>20         </td><td>0.005011872</td><td>0.6167094  </td><td>0.1306518  </td><td>0.09054663 </td><td>0.2045439  </td></tr>\n",
       "\t<tr><td>20         </td><td>0.006309573</td><td>0.6198291  </td><td>0.1394422  </td><td>0.09137005 </td><td>0.2030928  </td></tr>\n",
       "\t<tr><td>20         </td><td>0.007943282</td><td>0.6174786  </td><td>0.1337744  </td><td>0.08856300 </td><td>0.1877713  </td></tr>\n",
       "\t<tr><td>20         </td><td>0.010000000</td><td>0.6229202  </td><td>0.1382363  </td><td>0.08509643 </td><td>0.1941121  </td></tr>\n",
       "\t<tr><td>20         </td><td>0.012589254</td><td>0.6337179  </td><td>0.1558897  </td><td>0.08952936 </td><td>0.1982104  </td></tr>\n",
       "\t<tr><td>20         </td><td>0.015848932</td><td>0.6337464  </td><td>0.1445271  </td><td>0.07706627 </td><td>0.1737916  </td></tr>\n",
       "\t<tr><td>20         </td><td>0.019952623</td><td>0.6423504  </td><td>0.1560546  </td><td>0.08046036 </td><td>0.1868632  </td></tr>\n",
       "\t<tr><td>20         </td><td>0.025118864</td><td>0.6452137  </td><td>0.1584320  </td><td>0.08295725 </td><td>0.1906374  </td></tr>\n",
       "\t<tr><td>20         </td><td>0.031622777</td><td>0.6485613  </td><td>0.1620090  </td><td>0.09131440 </td><td>0.2108199  </td></tr>\n",
       "\t<tr><td>20         </td><td>0.039810717</td><td>0.6466667  </td><td>0.1419667  </td><td>0.07964091 </td><td>0.1829152  </td></tr>\n",
       "\t<tr><td>20         </td><td>0.050118723</td><td>0.6482764  </td><td>0.1327201  </td><td>0.07951758 </td><td>0.1845405  </td></tr>\n",
       "\t<tr><td>20         </td><td>0.063095734</td><td>0.6527208  </td><td>0.1368859  </td><td>0.07962402 </td><td>0.1852097  </td></tr>\n",
       "\t<tr><td>20         </td><td>0.079432823</td><td>0.6625071  </td><td>0.1467353  </td><td>0.07182677 </td><td>0.1759579  </td></tr>\n",
       "\t<tr><td>20         </td><td>0.100000000</td><td>0.6778632  </td><td>0.1772463  </td><td>0.07263787 </td><td>0.1820088  </td></tr>\n",
       "\t<tr><td>20         </td><td>0.125892541</td><td>0.6835328  </td><td>0.1818679  </td><td>0.07305955 </td><td>0.1887729  </td></tr>\n",
       "\t<tr><td>20         </td><td>0.158489319</td><td>0.6879772  </td><td>0.1916028  </td><td>0.06630907 </td><td>0.1715492  </td></tr>\n",
       "\t<tr><td>20         </td><td>0.199526231</td><td>0.6920798  </td><td>0.1992488  </td><td>0.06563574 </td><td>0.1692387  </td></tr>\n",
       "\t<tr><td>20         </td><td>0.251188643</td><td>0.6983903  </td><td>0.2154530  </td><td>0.06596567 </td><td>0.1743141  </td></tr>\n",
       "\t<tr><td>20         </td><td>0.316227766</td><td>0.6987607  </td><td>0.2100540  </td><td>0.06268639 </td><td>0.1680927  </td></tr>\n",
       "\t<tr><td>20         </td><td>0.398107171</td><td>0.6987749  </td><td>0.2074932  </td><td>0.06240388 </td><td>0.1702630  </td></tr>\n",
       "\t<tr><td>20         </td><td>0.501187234</td><td>0.6980484  </td><td>0.2026805  </td><td>0.05877363 </td><td>0.1616328  </td></tr>\n",
       "\t<tr><td>20         </td><td>0.630957344</td><td>0.6991738  </td><td>0.2006121  </td><td>0.05839574 </td><td>0.1638297  </td></tr>\n",
       "\t<tr><td>20         </td><td>0.794328235</td><td>0.6969231  </td><td>0.1891162  </td><td>0.05786888 </td><td>0.1619998  </td></tr>\n",
       "\t<tr><td>20         </td><td>1.000000000</td><td>0.6920513  </td><td>0.1685243  </td><td>0.05420725 </td><td>0.1507764  </td></tr>\n",
       "</tbody>\n",
       "</table>\n"
      ],
      "text/latex": [
       "\\begin{tabular}{r|llllll}\n",
       " size & decay & Accuracy & Kappa & AccuracySD & KappaSD\\\\\n",
       "\\hline\n",
       "\t 20          & 0.001000000 & 0.6107835   & 0.1259526   & 0.09998091  & 0.2119052  \\\\\n",
       "\t 20          & 0.001258925 & 0.6013960   & 0.1134127   & 0.09339224  & 0.1969092  \\\\\n",
       "\t 20          & 0.001584893 & 0.6080484   & 0.1263137   & 0.10416937  & 0.2231088  \\\\\n",
       "\t 20          & 0.001995262 & 0.6066952   & 0.1225178   & 0.09008144  & 0.1928053  \\\\\n",
       "\t 20          & 0.002511886 & 0.6099573   & 0.1153077   & 0.09470323  & 0.2109673  \\\\\n",
       "\t 20          & 0.003162278 & 0.6134473   & 0.1333902   & 0.08670615  & 0.1955272  \\\\\n",
       "\t 20          & 0.003981072 & 0.6054701   & 0.1080233   & 0.08168971  & 0.1821464  \\\\\n",
       "\t 20          & 0.005011872 & 0.6167094   & 0.1306518   & 0.09054663  & 0.2045439  \\\\\n",
       "\t 20          & 0.006309573 & 0.6198291   & 0.1394422   & 0.09137005  & 0.2030928  \\\\\n",
       "\t 20          & 0.007943282 & 0.6174786   & 0.1337744   & 0.08856300  & 0.1877713  \\\\\n",
       "\t 20          & 0.010000000 & 0.6229202   & 0.1382363   & 0.08509643  & 0.1941121  \\\\\n",
       "\t 20          & 0.012589254 & 0.6337179   & 0.1558897   & 0.08952936  & 0.1982104  \\\\\n",
       "\t 20          & 0.015848932 & 0.6337464   & 0.1445271   & 0.07706627  & 0.1737916  \\\\\n",
       "\t 20          & 0.019952623 & 0.6423504   & 0.1560546   & 0.08046036  & 0.1868632  \\\\\n",
       "\t 20          & 0.025118864 & 0.6452137   & 0.1584320   & 0.08295725  & 0.1906374  \\\\\n",
       "\t 20          & 0.031622777 & 0.6485613   & 0.1620090   & 0.09131440  & 0.2108199  \\\\\n",
       "\t 20          & 0.039810717 & 0.6466667   & 0.1419667   & 0.07964091  & 0.1829152  \\\\\n",
       "\t 20          & 0.050118723 & 0.6482764   & 0.1327201   & 0.07951758  & 0.1845405  \\\\\n",
       "\t 20          & 0.063095734 & 0.6527208   & 0.1368859   & 0.07962402  & 0.1852097  \\\\\n",
       "\t 20          & 0.079432823 & 0.6625071   & 0.1467353   & 0.07182677  & 0.1759579  \\\\\n",
       "\t 20          & 0.100000000 & 0.6778632   & 0.1772463   & 0.07263787  & 0.1820088  \\\\\n",
       "\t 20          & 0.125892541 & 0.6835328   & 0.1818679   & 0.07305955  & 0.1887729  \\\\\n",
       "\t 20          & 0.158489319 & 0.6879772   & 0.1916028   & 0.06630907  & 0.1715492  \\\\\n",
       "\t 20          & 0.199526231 & 0.6920798   & 0.1992488   & 0.06563574  & 0.1692387  \\\\\n",
       "\t 20          & 0.251188643 & 0.6983903   & 0.2154530   & 0.06596567  & 0.1743141  \\\\\n",
       "\t 20          & 0.316227766 & 0.6987607   & 0.2100540   & 0.06268639  & 0.1680927  \\\\\n",
       "\t 20          & 0.398107171 & 0.6987749   & 0.2074932   & 0.06240388  & 0.1702630  \\\\\n",
       "\t 20          & 0.501187234 & 0.6980484   & 0.2026805   & 0.05877363  & 0.1616328  \\\\\n",
       "\t 20          & 0.630957344 & 0.6991738   & 0.2006121   & 0.05839574  & 0.1638297  \\\\\n",
       "\t 20          & 0.794328235 & 0.6969231   & 0.1891162   & 0.05786888  & 0.1619998  \\\\\n",
       "\t 20          & 1.000000000 & 0.6920513   & 0.1685243   & 0.05420725  & 0.1507764  \\\\\n",
       "\\end{tabular}\n"
      ],
      "text/markdown": [
       "\n",
       "size | decay | Accuracy | Kappa | AccuracySD | KappaSD | \n",
       "|---|---|---|---|---|---|---|---|---|---|---|---|---|---|---|---|---|---|---|---|---|---|---|---|---|---|---|---|---|---|---|\n",
       "| 20          | 0.001000000 | 0.6107835   | 0.1259526   | 0.09998091  | 0.2119052   | \n",
       "| 20          | 0.001258925 | 0.6013960   | 0.1134127   | 0.09339224  | 0.1969092   | \n",
       "| 20          | 0.001584893 | 0.6080484   | 0.1263137   | 0.10416937  | 0.2231088   | \n",
       "| 20          | 0.001995262 | 0.6066952   | 0.1225178   | 0.09008144  | 0.1928053   | \n",
       "| 20          | 0.002511886 | 0.6099573   | 0.1153077   | 0.09470323  | 0.2109673   | \n",
       "| 20          | 0.003162278 | 0.6134473   | 0.1333902   | 0.08670615  | 0.1955272   | \n",
       "| 20          | 0.003981072 | 0.6054701   | 0.1080233   | 0.08168971  | 0.1821464   | \n",
       "| 20          | 0.005011872 | 0.6167094   | 0.1306518   | 0.09054663  | 0.2045439   | \n",
       "| 20          | 0.006309573 | 0.6198291   | 0.1394422   | 0.09137005  | 0.2030928   | \n",
       "| 20          | 0.007943282 | 0.6174786   | 0.1337744   | 0.08856300  | 0.1877713   | \n",
       "| 20          | 0.010000000 | 0.6229202   | 0.1382363   | 0.08509643  | 0.1941121   | \n",
       "| 20          | 0.012589254 | 0.6337179   | 0.1558897   | 0.08952936  | 0.1982104   | \n",
       "| 20          | 0.015848932 | 0.6337464   | 0.1445271   | 0.07706627  | 0.1737916   | \n",
       "| 20          | 0.019952623 | 0.6423504   | 0.1560546   | 0.08046036  | 0.1868632   | \n",
       "| 20          | 0.025118864 | 0.6452137   | 0.1584320   | 0.08295725  | 0.1906374   | \n",
       "| 20          | 0.031622777 | 0.6485613   | 0.1620090   | 0.09131440  | 0.2108199   | \n",
       "| 20          | 0.039810717 | 0.6466667   | 0.1419667   | 0.07964091  | 0.1829152   | \n",
       "| 20          | 0.050118723 | 0.6482764   | 0.1327201   | 0.07951758  | 0.1845405   | \n",
       "| 20          | 0.063095734 | 0.6527208   | 0.1368859   | 0.07962402  | 0.1852097   | \n",
       "| 20          | 0.079432823 | 0.6625071   | 0.1467353   | 0.07182677  | 0.1759579   | \n",
       "| 20          | 0.100000000 | 0.6778632   | 0.1772463   | 0.07263787  | 0.1820088   | \n",
       "| 20          | 0.125892541 | 0.6835328   | 0.1818679   | 0.07305955  | 0.1887729   | \n",
       "| 20          | 0.158489319 | 0.6879772   | 0.1916028   | 0.06630907  | 0.1715492   | \n",
       "| 20          | 0.199526231 | 0.6920798   | 0.1992488   | 0.06563574  | 0.1692387   | \n",
       "| 20          | 0.251188643 | 0.6983903   | 0.2154530   | 0.06596567  | 0.1743141   | \n",
       "| 20          | 0.316227766 | 0.6987607   | 0.2100540   | 0.06268639  | 0.1680927   | \n",
       "| 20          | 0.398107171 | 0.6987749   | 0.2074932   | 0.06240388  | 0.1702630   | \n",
       "| 20          | 0.501187234 | 0.6980484   | 0.2026805   | 0.05877363  | 0.1616328   | \n",
       "| 20          | 0.630957344 | 0.6991738   | 0.2006121   | 0.05839574  | 0.1638297   | \n",
       "| 20          | 0.794328235 | 0.6969231   | 0.1891162   | 0.05786888  | 0.1619998   | \n",
       "| 20          | 1.000000000 | 0.6920513   | 0.1685243   | 0.05420725  | 0.1507764   | \n",
       "\n",
       "\n"
      ],
      "text/plain": [
       "   size decay       Accuracy  Kappa     AccuracySD KappaSD  \n",
       "1  20   0.001000000 0.6107835 0.1259526 0.09998091 0.2119052\n",
       "2  20   0.001258925 0.6013960 0.1134127 0.09339224 0.1969092\n",
       "3  20   0.001584893 0.6080484 0.1263137 0.10416937 0.2231088\n",
       "4  20   0.001995262 0.6066952 0.1225178 0.09008144 0.1928053\n",
       "5  20   0.002511886 0.6099573 0.1153077 0.09470323 0.2109673\n",
       "6  20   0.003162278 0.6134473 0.1333902 0.08670615 0.1955272\n",
       "7  20   0.003981072 0.6054701 0.1080233 0.08168971 0.1821464\n",
       "8  20   0.005011872 0.6167094 0.1306518 0.09054663 0.2045439\n",
       "9  20   0.006309573 0.6198291 0.1394422 0.09137005 0.2030928\n",
       "10 20   0.007943282 0.6174786 0.1337744 0.08856300 0.1877713\n",
       "11 20   0.010000000 0.6229202 0.1382363 0.08509643 0.1941121\n",
       "12 20   0.012589254 0.6337179 0.1558897 0.08952936 0.1982104\n",
       "13 20   0.015848932 0.6337464 0.1445271 0.07706627 0.1737916\n",
       "14 20   0.019952623 0.6423504 0.1560546 0.08046036 0.1868632\n",
       "15 20   0.025118864 0.6452137 0.1584320 0.08295725 0.1906374\n",
       "16 20   0.031622777 0.6485613 0.1620090 0.09131440 0.2108199\n",
       "17 20   0.039810717 0.6466667 0.1419667 0.07964091 0.1829152\n",
       "18 20   0.050118723 0.6482764 0.1327201 0.07951758 0.1845405\n",
       "19 20   0.063095734 0.6527208 0.1368859 0.07962402 0.1852097\n",
       "20 20   0.079432823 0.6625071 0.1467353 0.07182677 0.1759579\n",
       "21 20   0.100000000 0.6778632 0.1772463 0.07263787 0.1820088\n",
       "22 20   0.125892541 0.6835328 0.1818679 0.07305955 0.1887729\n",
       "23 20   0.158489319 0.6879772 0.1916028 0.06630907 0.1715492\n",
       "24 20   0.199526231 0.6920798 0.1992488 0.06563574 0.1692387\n",
       "25 20   0.251188643 0.6983903 0.2154530 0.06596567 0.1743141\n",
       "26 20   0.316227766 0.6987607 0.2100540 0.06268639 0.1680927\n",
       "27 20   0.398107171 0.6987749 0.2074932 0.06240388 0.1702630\n",
       "28 20   0.501187234 0.6980484 0.2026805 0.05877363 0.1616328\n",
       "29 20   0.630957344 0.6991738 0.2006121 0.05839574 0.1638297\n",
       "30 20   0.794328235 0.6969231 0.1891162 0.05786888 0.1619998\n",
       "31 20   1.000000000 0.6920513 0.1685243 0.05420725 0.1507764"
      ]
     },
     "metadata": {},
     "output_type": "display_data"
    }
   ],
   "source": [
    "model.10x10CV$results"
   ]
  },
  {
   "cell_type": "markdown",
   "metadata": {},
   "source": [
    "and the best model found"
   ]
  },
  {
   "cell_type": "code",
   "execution_count": 37,
   "metadata": {},
   "outputs": [
    {
     "data": {
      "text/html": [
       "<table>\n",
       "<thead><tr><th></th><th scope=col>size</th><th scope=col>decay</th></tr></thead>\n",
       "<tbody>\n",
       "\t<tr><th scope=row>29</th><td>20       </td><td>0.6309573</td></tr>\n",
       "</tbody>\n",
       "</table>\n"
      ],
      "text/latex": [
       "\\begin{tabular}{r|ll}\n",
       "  & size & decay\\\\\n",
       "\\hline\n",
       "\t29 & 20        & 0.6309573\\\\\n",
       "\\end{tabular}\n"
      ],
      "text/markdown": [
       "\n",
       "| <!--/--> | size | decay | \n",
       "|---|\n",
       "| 29 | 20        | 0.6309573 | \n",
       "\n",
       "\n"
      ],
      "text/plain": [
       "   size decay    \n",
       "29 20   0.6309573"
      ]
     },
     "metadata": {},
     "output_type": "display_data"
    }
   ],
   "source": [
    "model.10x10CV$bestTune\n",
    "\n",
    "save(model.10x10CV, file = \"model.10x10CV.regul\")\n",
    "\n",
    "load (\"model.10x10CV.regul\")"
   ]
  },
  {
   "cell_type": "markdown",
   "metadata": {},
   "source": [
    " The results are a bit better; we should choose the model with the lowest 10x10CV error overall,\n",
    " in this case it corresponds to 20 hidden neurons, with a decay of 0.3162278\n",
    "\n",
    " So what remains is to predict the test set with our final model"
   ]
  },
  {
   "cell_type": "code",
   "execution_count": 38,
   "metadata": {},
   "outputs": [
    {
     "data": {
      "text/html": [
       "27.8195488721805"
      ],
      "text/latex": [
       "27.8195488721805"
      ],
      "text/markdown": [
       "27.8195488721805"
      ],
      "text/plain": [
       "[1] 27.81955"
      ]
     },
     "metadata": {},
     "output_type": "display_data"
    }
   ],
   "source": [
    "p2 <- as.factor(predict (model.10x10CV, \n",
    "                         newdata=Admis[-learn,], type=\"raw\"))\n",
    "\n",
    "t2 <- table(pred=p2,truth=Admis$admit[-learn])\n",
    "error_rate.test <- 100*(1-sum(diag(t2))/ntest)\n",
    "error_rate.test"
   ]
  },
  {
   "cell_type": "markdown",
   "metadata": {},
   "source": [
    " We get 27.82% after all this work; it seems that the information in this dataset is not enough\n",
    " to accurately predict admittance. Note that ...\n",
    "\n",
    " ... upon looking at the confusion matrix for the predictions ..."
   ]
  },
  {
   "cell_type": "code",
   "execution_count": 39,
   "metadata": {},
   "outputs": [
    {
     "data": {
      "text/plain": [
       "     truth\n",
       "pred  No Yes\n",
       "  No  87  28\n",
       "  Yes  9   9"
      ]
     },
     "metadata": {},
     "output_type": "display_data"
    }
   ],
   "source": [
    "t2"
   ]
  },
  {
   "cell_type": "markdown",
   "metadata": {},
   "source": [
    " it clearly suggests that quite a lot of people is getting accepted when they should not, given their gre, gpa and rank\n",
    " It is very likely that other (subjective?) factors are being taken into account, that are not in the dataset"
   ]
  },
  {
   "cell_type": "markdown",
   "metadata": {},
   "source": [
    "***"
   ]
  },
  {
   "cell_type": "markdown",
   "metadata": {},
   "source": [
    "## Multilayer Perceptron Example 2: circular artificial 2D data"
   ]
  },
  {
   "cell_type": "code",
   "execution_count": 40,
   "metadata": {},
   "outputs": [
    {
     "data": {
      "image/png": "[encoded data removed]",
      "text/plain": [
       "plot without title"
      ]
     },
     "metadata": {},
     "output_type": "display_data"
    }
   ],
   "source": [
    "options(repr.plot.width=4, repr.plot.height=4)\n",
    "\n",
    "set.seed(3)\n",
    "\n",
    "p <- 2\n",
    "N <- 200\n",
    "\n",
    "x <- matrix(rnorm(N*p),ncol=p)\n",
    "y <- as.numeric((x[,1]^2+x[,2]^2) > 1.4)\n",
    "mydata <- data.frame(x=x,y=y)\n",
    "plot(x,col=c('black','green')[y+1],pch=19,asp=1)"
   ]
  },
  {
   "cell_type": "markdown",
   "metadata": {},
   "source": [
    " Let's use one hidden layer, 3 hidden units, no regularization and the error function \"cross-entropy\"\n",
    " In this case it is not necessary to standardize because they variables already are\n",
    " (they have been generated from a distribution with mean 0 and standard deviation 1)."
   ]
  },
  {
   "cell_type": "code",
   "execution_count": 41,
   "metadata": {},
   "outputs": [],
   "source": [
    "nn1 <- nnet(y~x.1+x.2,\n",
    "            data=mydata,\n",
    "            entropy=T,\n",
    "            size=3,\n",
    "            decay=0,\n",
    "            maxit=2000,\n",
    "            trace=F)\n",
    "\n",
    "yhat <- as.numeric(predict(nn1,type='class'))"
   ]
  },
  {
   "cell_type": "code",
   "execution_count": 42,
   "metadata": {},
   "outputs": [
    {
     "data": {
      "image/png": "[encoded data removed]",
      "text/plain": [
       "Plot with title “predicted labels”"
      ]
     },
     "metadata": {},
     "output_type": "display_data"
    }
   ],
   "source": [
    "options(repr.plot.width=8, repr.plot.height=4)\n",
    "par(mfrow=c(1,2))\n",
    "plot(x,\n",
    "     pch=19,\n",
    "     col=c('red','blue')[y+1],\n",
    "     main='actual labels',asp=1)\n",
    "plot(x,col=c('red','blue')[(yhat>0.5)+1],\n",
    "     pch=19,\n",
    "     main='predicted labels',\n",
    "     asp=1)"
   ]
  },
  {
   "cell_type": "code",
   "execution_count": 43,
   "metadata": {},
   "outputs": [
    {
     "data": {
      "text/plain": [
       "      predicted\n",
       "actual   0   1\n",
       "     0 100   0\n",
       "     1   0 100"
      ]
     },
     "metadata": {},
     "output_type": "display_data"
    }
   ],
   "source": [
    "table(actual=y,predicted=predict(nn1,type='class'))"
   ]
  },
  {
   "cell_type": "markdown",
   "metadata": {},
   "source": [
    "Excellent, indeed\n",
    "\n",
    " Let's execute it again, this time wth a different random seed"
   ]
  },
  {
   "cell_type": "code",
   "execution_count": 44,
   "metadata": {},
   "outputs": [
    {
     "data": {
      "image/png": "[encoded data removed]",
      "text/plain": [
       "Plot with title “predicted labels”"
      ]
     },
     "metadata": {},
     "output_type": "display_data"
    }
   ],
   "source": [
    "options(repr.plot.width=8, repr.plot.height=4)\n",
    "set.seed(4)\n",
    "\n",
    "nn1 <- nnet(y~x.1+x.2,\n",
    "            data=mydata,\n",
    "            entropy=T,\n",
    "            size=3,\n",
    "            decay=0,\n",
    "            maxit=2000,\n",
    "            trace=F)\n",
    "yhat <- as.numeric(predict(nn1,type='class'))\n",
    "par(mfrow=c(1,2))\n",
    "plot(x,\n",
    "     pch=19,\n",
    "     col=c('red','blue')[y+1],\n",
    "     main='actual labels',asp=1)\n",
    "plot(x,\n",
    "     col=c('red','blue')[(yhat>0.5)+1],\n",
    "     pch=19,\n",
    "     main='predicted labels',asp=1)"
   ]
  },
  {
   "cell_type": "code",
   "execution_count": 45,
   "metadata": {},
   "outputs": [
    {
     "data": {
      "text/plain": [
       "      predicted\n",
       "actual  0  1\n",
       "     0 91  9\n",
       "     1  7 93"
      ]
     },
     "metadata": {},
     "output_type": "display_data"
    }
   ],
   "source": [
    "table(actual=y,predicted=predict(nn1,type='class'))"
   ]
  },
  {
   "cell_type": "markdown",
   "metadata": {},
   "source": [
    " we see that the optimizer does not always find a good solution, even with the right number of neurons\n",
    "\n",
    " How many hidden units do we need?"
   ]
  },
  {
   "cell_type": "code",
   "execution_count": 46,
   "metadata": {},
   "outputs": [
    {
     "data": {
      "image/png": "[encoded data removed]",
      "text/plain": [
       "Plot with title “4 hidden unit(s)”"
      ]
     },
     "metadata": {},
     "output_type": "display_data"
    }
   ],
   "source": [
    "options(repr.plot.width=8, repr.plot.height=8)\n",
    "par(mfrow=c(2,2))\n",
    "for (i in 1:4)\n",
    "{\n",
    "  set.seed(3)\n",
    "  nn1 <- nnet(y~x.1+x.2,\n",
    "              data=mydata,\n",
    "              entropy=T,\n",
    "              size=i,\n",
    "              decay=0,\n",
    "              maxit=2000,\n",
    "              trace=F)\n",
    "  yhat <- as.numeric(predict(nn1,type='class'))\n",
    "  plot(x,\n",
    "       pch=20,\n",
    "       col=c('black','green')[yhat+1],\n",
    "       main=paste(i,'hidden unit(s)'),\n",
    "       asp=1)\n",
    "title(main=paste(i,'hidden unit(s)'))\n",
    "}"
   ]
  },
  {
   "cell_type": "markdown",
   "metadata": {},
   "source": [
    " Let's find out which function has been learned exactly, with 3 units"
   ]
  },
  {
   "cell_type": "code",
   "execution_count": 47,
   "metadata": {},
   "outputs": [],
   "source": [
    "set.seed(3)\n",
    "nn1 <- nnet(y~x.1+x.2,\n",
    "            data=mydata,\n",
    "            entropy=T,\n",
    "            size=3,\n",
    "            decay=0,\n",
    "            maxit=2000,\n",
    "            trace=F)"
   ]
  },
  {
   "cell_type": "markdown",
   "metadata": {},
   "source": [
    "create a grid of values"
   ]
  },
  {
   "cell_type": "code",
   "execution_count": 48,
   "metadata": {},
   "outputs": [],
   "source": [
    "x1grid <- seq(-3,3,l=200)\n",
    "x2grid <- seq(-3,3,l=220)\n",
    "xg <- expand.grid(x1grid,x2grid)\n",
    "xg <- as.matrix(cbind(1,xg))"
   ]
  },
  {
   "cell_type": "markdown",
   "metadata": {},
   "source": [
    "input them to the hidden units, and get their outputs"
   ]
  },
  {
   "cell_type": "code",
   "execution_count": 49,
   "metadata": {},
   "outputs": [],
   "source": [
    "h1 <- xg%*%matrix(coef(nn1)[1:3],ncol=1)\n",
    "h2 <- xg%*%matrix(coef(nn1)[4:6],ncol=1)\n",
    "h3 <- xg%*%matrix(coef(nn1)[7:9],ncol=1)"
   ]
  },
  {
   "cell_type": "markdown",
   "metadata": {},
   "source": [
    "the hidden units compute the logistic() function, so we cut the output value at 0; we get a decision line"
   ]
  },
  {
   "cell_type": "code",
   "execution_count": 50,
   "metadata": {},
   "outputs": [
    {
     "data": {
      "image/png": "[encoded data removed]",
      "text/plain": [
       "Plot with title “net input = 0\n",
       " in the hidden units”"
      ]
     },
     "metadata": {},
     "output_type": "display_data"
    }
   ],
   "source": [
    "options(repr.plot.width=4, repr.plot.height=4)\n",
    "par(mfrow=c(1,1))\n",
    "contour(x1grid,x2grid,matrix(h1,200,220),levels=0)\n",
    "contour(x1grid,x2grid,matrix(h2,200,220),levels=0,add=T)\n",
    "contour(x1grid,x2grid,matrix(h3,200,220),levels=0,add=T)\n",
    "title(main='net input = 0\\n in the hidden units')"
   ]
  },
  {
   "cell_type": "markdown",
   "metadata": {},
   "source": [
    " this is the logistic function, used by nnet() for the hidden neurons, and \n",
    " for the output neurons in two-class classification problems"
   ]
  },
  {
   "cell_type": "code",
   "execution_count": 51,
   "metadata": {},
   "outputs": [
    {
     "data": {
      "image/png": "[encoded data removed]",
      "text/plain": [
       "Plot with title “hidden outputs = tanh of the net inputs\n",
       " and their weighted sum”"
      ]
     },
     "metadata": {},
     "output_type": "display_data"
    }
   ],
   "source": [
    "\n",
    "logistic <- function(x) {1/(1+exp(-x))}\n",
    "\n",
    "z <- coef(nn1)[10] + coef(nn1)[11]*logistic(h1) + \n",
    "       coef(nn1)[12]*logistic(h2) + coef(nn1)[13]*logistic(h3)\n",
    "\n",
    "contour(x1grid,x2grid,matrix(z,200,220))\n",
    "title('hidden outputs = tanh of the net inputs\\n and their weighted sum')"
   ]
  },
  {
   "cell_type": "code",
   "execution_count": 52,
   "metadata": {},
   "outputs": [
    {
     "data": {
      "image/png": "[encoded data removed]",
      "text/plain": [
       "Plot with title “logistic of the previous sum = 0.5”"
      ]
     },
     "metadata": {},
     "output_type": "display_data"
    }
   ],
   "source": [
    "\n",
    "contour(x1grid,x2grid,matrix(logistic(z),200,220),levels=0.5)\n",
    "title('logistic of the previous sum = 0.5')"
   ]
  },
  {
   "cell_type": "code",
   "execution_count": 53,
   "metadata": {},
   "outputs": [
    {
     "data": {
      "image/png": "[encoded data removed]",
      "text/plain": [
       "Plot with title “same with training data points”"
      ]
     },
     "metadata": {},
     "output_type": "display_data"
    }
   ],
   "source": [
    "\n",
    "contour(x1grid,x2grid,matrix(logistic(z),200,220),levels=0.5)\n",
    "points(x,pch=20,col=c('black','green')[y+1])\n",
    "title('same with training data points')"
   ]
  },
  {
   "cell_type": "markdown",
   "metadata": {},
   "source": [
    " If you prefer a more visual demo of how ANN work, you can play with the Google's tensorflow playground http://playground.tensorflow.org"
   ]
  },
  {
   "cell_type": "markdown",
   "metadata": {},
   "source": [
    "***"
   ]
  },
  {
   "cell_type": "markdown",
   "metadata": {},
   "source": [
    "## Radial Basis Function Network Example: regression of a 1D function"
   ]
  },
  {
   "cell_type": "code",
   "execution_count": 54,
   "metadata": {},
   "outputs": [],
   "source": [
    "set.seed (4)\n",
    "\n",
    "library (cclust)"
   ]
  },
  {
   "cell_type": "markdown",
   "metadata": {},
   "source": [
    " We are going to do all the computations \"by hand\"\n",
    "\n",
    "Let us depart from the following function in the (a,b) interval"
   ]
  },
  {
   "cell_type": "code",
   "execution_count": 55,
   "metadata": {},
   "outputs": [],
   "source": [
    "myf <- function (x) { (1 + x - 2*x^2) * exp(-x^2) }"
   ]
  },
  {
   "cell_type": "markdown",
   "metadata": {},
   "source": [
    "We are going to model this function in the interval (-5,5)"
   ]
  },
  {
   "cell_type": "code",
   "execution_count": 56,
   "metadata": {},
   "outputs": [
    {
     "data": {
      "text/plain": [
       "       x                  t           \n",
       " Min.   :-4.97077   Min.   :-1.08566  \n",
       " 1st Qu.:-2.36338   1st Qu.:-0.20412  \n",
       " Median : 0.04794   Median :-0.04610  \n",
       " Mean   : 0.14686   Mean   : 0.00188  \n",
       " 3rd Qu.: 2.64938   3rd Qu.: 0.19471  \n",
       " Max.   : 4.96613   Max.   : 1.42546  "
      ]
     },
     "metadata": {},
     "output_type": "display_data"
    }
   ],
   "source": [
    "a <- -5\n",
    "b <- 5\n",
    "\n",
    "domain <- c(a,b)\n",
    "\n",
    "myf.data <- function (N, a, b) \n",
    "{\n",
    "  x <- runif(N, a, b)\n",
    "  t <- myf(x) + rnorm(N, sd=0.2)\n",
    "  dd <- data.frame(x,t)\n",
    "  names(dd) <- c(\"x\", \"t\")\n",
    "  return (dd)\n",
    "}\n",
    "\n",
    "N <- 200\n",
    "d <- myf.data (N, a , b)\n",
    "\n",
    "summary(d)"
   ]
  },
  {
   "cell_type": "markdown",
   "metadata": {},
   "source": [
    "The black points are the data, the blue line is the true underlying function"
   ]
  },
  {
   "cell_type": "code",
   "execution_count": 57,
   "metadata": {},
   "outputs": [
    {
     "data": {
      "image/png": "[encoded data removed]",
      "text/plain": [
       "plot without title"
      ]
     },
     "metadata": {},
     "output_type": "display_data"
    }
   ],
   "source": [
    "options(repr.plot.width=4, repr.plot.height=4)\n",
    "plot (d)\n",
    "curve (myf, a, b, col='blue', add=TRUE)"
   ]
  },
  {
   "cell_type": "markdown",
   "metadata": {},
   "source": [
    " Create a large test data too for future use; notice that the generation mechanism is the same"
   ]
  },
  {
   "cell_type": "code",
   "execution_count": 58,
   "metadata": {},
   "outputs": [],
   "source": [
    "N.test <- 2000\n",
    "d.test <- myf.data (N.test, a , b)"
   ]
  },
  {
   "cell_type": "markdown",
   "metadata": {},
   "source": [
    "Function to compute a PHI (N x M) design matrix, without the Phi_0(x) = 1 column;\n",
    " m.i, h.i are the centers and variances (sigmas) of the neurons, respectively"
   ]
  },
  {
   "cell_type": "code",
   "execution_count": 59,
   "metadata": {},
   "outputs": [],
   "source": [
    "PHI <- function (x,m.i,h.i)\n",
    "{\n",
    "  N <- length(x)\n",
    "  M <- length(m.i)\n",
    "  phis <- matrix(rep(0,(M)*N), nrow=M, ncol=N)\n",
    "  for (i in 1:M)\n",
    "  {\n",
    "    phis[i,] <- exp(-(x - m.i[i])^2/(2*h.i[i]))\n",
    "  }\n",
    "  t(phis)\n",
    "}"
   ]
  },
  {
   "cell_type": "markdown",
   "metadata": {},
   "source": [
    " We find the centers and variances for each neuron using k-means; since this clustering algorithm is non-deterministic (because the initial centers are random), we do it 'NumKmeans' times"
   ]
  },
  {
   "cell_type": "code",
   "execution_count": 60,
   "metadata": {},
   "outputs": [],
   "source": [
    "NumKmeans <- 10"
   ]
  },
  {
   "cell_type": "markdown",
   "metadata": {},
   "source": [
    "We set a rather large number of hidden units (= basis functions) M as a function of data size (the sqrt is just a heuristic!) because we are going to try different regularizers"
   ]
  },
  {
   "cell_type": "code",
   "execution_count": 61,
   "metadata": {},
   "outputs": [
    {
     "data": {
      "text/html": [
       "14"
      ],
      "text/latex": [
       "14"
      ],
      "text/markdown": [
       "14"
      ],
      "text/plain": [
       "[1] 14"
      ]
     },
     "metadata": {},
     "output_type": "display_data"
    }
   ],
   "source": [
    "(M <- floor(sqrt(N)))\n",
    "\n",
    "m <- matrix(0,nrow=NumKmeans,ncol=M)\n",
    "h <- matrix(0,nrow=NumKmeans,ncol=M)\n",
    "\n",
    "data.Kmeans <- cbind(d$x,rep(0,N))\n",
    "\n",
    "for (j in 1:NumKmeans)\n",
    "{\n",
    "  # Find the centers m.i with k-means\n",
    "  km.res <- cclust (x=data.Kmeans, \n",
    "                    centers=M, \n",
    "                    iter.max=200, \n",
    "                    method=\"kmeans\",\n",
    "                    dist=\"euclidean\")\n",
    "  m[j,] <- km.res$centers[,1]\n",
    "  \n",
    "  # Obtain the variances h.i as a function of the m.i\n",
    "  h[j,] <- rep(0,M)\n",
    "  for (i in 1:M)\n",
    "  {\n",
    "    indexes <- which(km.res$cluster == i)\n",
    "    h[j,i] <- sum(abs(d$x[indexes] - m[j,i]))/length(indexes)\n",
    "    if (h[j,i] == 0) h[j,i] <- 1\n",
    "  }\n",
    "}\n"
   ]
  },
  {
   "cell_type": "markdown",
   "metadata": {},
   "source": [
    " Now for each k-means we get the hidden-to-output weights by solving a regularized\n",
    " least-squares problem (standard ridge regression), very much as we did in previous labs\n",
    "\n",
    "The difference is that now we perform ridge regression on the PHI matrix (that is, on the new regressors given by the hidden neurons), not on the original inputs ...\n",
    "\n",
    " ... and find the best lambda with using GCV across all choices of basis functions (the NumKmeans clusterings)"
   ]
  },
  {
   "cell_type": "code",
   "execution_count": 62,
   "metadata": {},
   "outputs": [
    {
     "data": {
      "text/html": [
       "<ol class=list-inline>\n",
       "\t<li>0.001</li>\n",
       "\t<li>0.00125892541179417</li>\n",
       "\t<li>0.00158489319246111</li>\n",
       "\t<li>0.00199526231496888</li>\n",
       "\t<li>0.00251188643150958</li>\n",
       "\t<li>0.00316227766016838</li>\n",
       "\t<li>0.00398107170553497</li>\n",
       "\t<li>0.00501187233627272</li>\n",
       "\t<li>0.00630957344480193</li>\n",
       "\t<li>0.00794328234724281</li>\n",
       "\t<li>0.01</li>\n",
       "\t<li>0.0125892541179417</li>\n",
       "\t<li>0.0158489319246111</li>\n",
       "\t<li>0.0199526231496888</li>\n",
       "\t<li>0.0251188643150958</li>\n",
       "\t<li>0.0316227766016838</li>\n",
       "\t<li>0.0398107170553497</li>\n",
       "\t<li>0.0501187233627272</li>\n",
       "\t<li>0.0630957344480193</li>\n",
       "\t<li>0.0794328234724282</li>\n",
       "\t<li>0.1</li>\n",
       "\t<li>0.125892541179417</li>\n",
       "\t<li>0.158489319246111</li>\n",
       "\t<li>0.199526231496888</li>\n",
       "\t<li>0.251188643150958</li>\n",
       "\t<li>0.316227766016838</li>\n",
       "\t<li>0.398107170553497</li>\n",
       "\t<li>0.501187233627272</li>\n",
       "\t<li>0.630957344480194</li>\n",
       "\t<li>0.794328234724282</li>\n",
       "\t<li>1</li>\n",
       "\t<li>1.25892541179417</li>\n",
       "\t<li>1.58489319246111</li>\n",
       "\t<li>1.99526231496888</li>\n",
       "\t<li>2.51188643150958</li>\n",
       "\t<li>3.16227766016838</li>\n",
       "\t<li>3.98107170553497</li>\n",
       "\t<li>5.01187233627272</li>\n",
       "\t<li>6.30957344480194</li>\n",
       "\t<li>7.94328234724282</li>\n",
       "\t<li>10</li>\n",
       "\t<li>12.5892541179417</li>\n",
       "\t<li>15.8489319246111</li>\n",
       "\t<li>19.9526231496888</li>\n",
       "\t<li>25.1188643150958</li>\n",
       "\t<li>31.6227766016838</li>\n",
       "</ol>\n"
      ],
      "text/latex": [
       "\\begin{enumerate*}\n",
       "\\item 0.001\n",
       "\\item 0.00125892541179417\n",
       "\\item 0.00158489319246111\n",
       "\\item 0.00199526231496888\n",
       "\\item 0.00251188643150958\n",
       "\\item 0.00316227766016838\n",
       "\\item 0.00398107170553497\n",
       "\\item 0.00501187233627272\n",
       "\\item 0.00630957344480193\n",
       "\\item 0.00794328234724281\n",
       "\\item 0.01\n",
       "\\item 0.0125892541179417\n",
       "\\item 0.0158489319246111\n",
       "\\item 0.0199526231496888\n",
       "\\item 0.0251188643150958\n",
       "\\item 0.0316227766016838\n",
       "\\item 0.0398107170553497\n",
       "\\item 0.0501187233627272\n",
       "\\item 0.0630957344480193\n",
       "\\item 0.0794328234724282\n",
       "\\item 0.1\n",
       "\\item 0.125892541179417\n",
       "\\item 0.158489319246111\n",
       "\\item 0.199526231496888\n",
       "\\item 0.251188643150958\n",
       "\\item 0.316227766016838\n",
       "\\item 0.398107170553497\n",
       "\\item 0.501187233627272\n",
       "\\item 0.630957344480194\n",
       "\\item 0.794328234724282\n",
       "\\item 1\n",
       "\\item 1.25892541179417\n",
       "\\item 1.58489319246111\n",
       "\\item 1.99526231496888\n",
       "\\item 2.51188643150958\n",
       "\\item 3.16227766016838\n",
       "\\item 3.98107170553497\n",
       "\\item 5.01187233627272\n",
       "\\item 6.30957344480194\n",
       "\\item 7.94328234724282\n",
       "\\item 10\n",
       "\\item 12.5892541179417\n",
       "\\item 15.8489319246111\n",
       "\\item 19.9526231496888\n",
       "\\item 25.1188643150958\n",
       "\\item 31.6227766016838\n",
       "\\end{enumerate*}\n"
      ],
      "text/markdown": [
       "1. 0.001\n",
       "2. 0.00125892541179417\n",
       "3. 0.00158489319246111\n",
       "4. 0.00199526231496888\n",
       "5. 0.00251188643150958\n",
       "6. 0.00316227766016838\n",
       "7. 0.00398107170553497\n",
       "8. 0.00501187233627272\n",
       "9. 0.00630957344480193\n",
       "10. 0.00794328234724281\n",
       "11. 0.01\n",
       "12. 0.0125892541179417\n",
       "13. 0.0158489319246111\n",
       "14. 0.0199526231496888\n",
       "15. 0.0251188643150958\n",
       "16. 0.0316227766016838\n",
       "17. 0.0398107170553497\n",
       "18. 0.0501187233627272\n",
       "19. 0.0630957344480193\n",
       "20. 0.0794328234724282\n",
       "21. 0.1\n",
       "22. 0.125892541179417\n",
       "23. 0.158489319246111\n",
       "24. 0.199526231496888\n",
       "25. 0.251188643150958\n",
       "26. 0.316227766016838\n",
       "27. 0.398107170553497\n",
       "28. 0.501187233627272\n",
       "29. 0.630957344480194\n",
       "30. 0.794328234724282\n",
       "31. 1\n",
       "32. 1.25892541179417\n",
       "33. 1.58489319246111\n",
       "34. 1.99526231496888\n",
       "35. 2.51188643150958\n",
       "36. 3.16227766016838\n",
       "37. 3.98107170553497\n",
       "38. 5.01187233627272\n",
       "39. 6.30957344480194\n",
       "40. 7.94328234724282\n",
       "41. 10\n",
       "42. 12.5892541179417\n",
       "43. 15.8489319246111\n",
       "44. 19.9526231496888\n",
       "45. 25.1188643150958\n",
       "46. 31.6227766016838\n",
       "\n",
       "\n"
      ],
      "text/plain": [
       " [1]  0.001000000  0.001258925  0.001584893  0.001995262  0.002511886\n",
       " [6]  0.003162278  0.003981072  0.005011872  0.006309573  0.007943282\n",
       "[11]  0.010000000  0.012589254  0.015848932  0.019952623  0.025118864\n",
       "[16]  0.031622777  0.039810717  0.050118723  0.063095734  0.079432823\n",
       "[21]  0.100000000  0.125892541  0.158489319  0.199526231  0.251188643\n",
       "[26]  0.316227766  0.398107171  0.501187234  0.630957344  0.794328235\n",
       "[31]  1.000000000  1.258925412  1.584893192  1.995262315  2.511886432\n",
       "[36]  3.162277660  3.981071706  5.011872336  6.309573445  7.943282347\n",
       "[41] 10.000000000 12.589254118 15.848931925 19.952623150 25.118864315\n",
       "[46] 31.622776602"
      ]
     },
     "metadata": {},
     "output_type": "display_data"
    }
   ],
   "source": [
    "(lambdes <- 10^seq(-3,1.5,by=0.1))\n",
    "\n",
    "library(MASS) # we need it for lm.ridge\n",
    "\n",
    "errors <- rep(0,NumKmeans)\n",
    "bestLambdes <- rep(0,NumKmeans)\n",
    "\n",
    "# For each k-means result\n",
    "for (num in 1:NumKmeans)\n",
    "{\n",
    "  m.i <- m[num,]\n",
    "  h.i <- h[num,]\n",
    "  \n",
    "  myPHI <- PHI (d$x,m.i,h.i)\n",
    "  aux1 <- lm.ridge(d$t ~ myPHI, d, lambda = lambdes)\n",
    "  my.lambda <- as.numeric(names(which.min(aux1$GCV)))\n",
    "  \n",
    "  aux2 <- lm.ridge(d$t ~ myPHI, d, lambda = my.lambda)\n",
    "  \n",
    "  errors[num] <- sqrt(aux2$GCV)\n",
    "  bestLambdes[num] <- my.lambda\n",
    "  \n",
    "}"
   ]
  },
  {
   "cell_type": "markdown",
   "metadata": {},
   "source": [
    " Now we obtain the best model among the tested ones"
   ]
  },
  {
   "cell_type": "code",
   "execution_count": 63,
   "metadata": {},
   "outputs": [],
   "source": [
    "bestIndex <- which(errors == min(errors))\n",
    "bestLambda <- bestLambdes[bestIndex]\n",
    "m.i <- m[bestIndex,]\n",
    "h.i <- h[bestIndex,]"
   ]
  },
  {
   "cell_type": "markdown",
   "metadata": {},
   "source": [
    " we see that this problem needs a lot of regularization! This makes sense if you take a look at how the data is generated (the previous plot): the noise level is very high relative to the signal\n",
    "\n",
    " We also see that the best lambda fluctuates (since the data changes  due to the clustering, but the order of magnitude is quite stable"
   ]
  },
  {
   "cell_type": "code",
   "execution_count": 64,
   "metadata": {},
   "outputs": [
    {
     "data": {
      "text/html": [
       "<ol class=list-inline>\n",
       "\t<li>1.258925412</li>\n",
       "\t<li>6.309573445</li>\n",
       "\t<li>1.258925412</li>\n",
       "\t<li>5.011872336</li>\n",
       "\t<li>3.981071706</li>\n",
       "\t<li>5.011872336</li>\n",
       "\t<li>3.16227766</li>\n",
       "\t<li>7.943282347</li>\n",
       "\t<li>6.309573445</li>\n",
       "\t<li>5.011872336</li>\n",
       "</ol>\n"
      ],
      "text/latex": [
       "\\begin{enumerate*}\n",
       "\\item 1.258925412\n",
       "\\item 6.309573445\n",
       "\\item 1.258925412\n",
       "\\item 5.011872336\n",
       "\\item 3.981071706\n",
       "\\item 5.011872336\n",
       "\\item 3.16227766\n",
       "\\item 7.943282347\n",
       "\\item 6.309573445\n",
       "\\item 5.011872336\n",
       "\\end{enumerate*}\n"
      ],
      "text/markdown": [
       "1. 1.258925412\n",
       "2. 6.309573445\n",
       "3. 1.258925412\n",
       "4. 5.011872336\n",
       "5. 3.981071706\n",
       "6. 5.011872336\n",
       "7. 3.16227766\n",
       "8. 7.943282347\n",
       "9. 6.309573445\n",
       "10. 5.011872336\n",
       "\n",
       "\n"
      ],
      "text/plain": [
       " [1] 1.258925 6.309573 1.258925 5.011872 3.981072 5.011872 3.162278 7.943282\n",
       " [9] 6.309573 5.011872"
      ]
     },
     "metadata": {},
     "output_type": "display_data"
    }
   ],
   "source": [
    "bestLambdes"
   ]
  },
  {
   "cell_type": "markdown",
   "metadata": {},
   "source": [
    " We now create the final model:"
   ]
  },
  {
   "cell_type": "code",
   "execution_count": 65,
   "metadata": {},
   "outputs": [],
   "source": [
    "my.RBF <- lm.ridge(d$t ~ PHI (d$x,m.i,h.i), d, lambda = bestLambda)"
   ]
  },
  {
   "cell_type": "markdown",
   "metadata": {},
   "source": [
    "these are the final hidden-to-output weights: note how small they are (here is where we regularize)"
   ]
  },
  {
   "cell_type": "code",
   "execution_count": 66,
   "metadata": {},
   "outputs": [
    {
     "data": {
      "text/html": [
       "<dl class=dl-horizontal>\n",
       "\t<dt>w_0</dt>\n",
       "\t\t<dd>0.024822089200559</dd>\n",
       "\t<dt>w_1</dt>\n",
       "\t\t<dd>-0.0663458900997104</dd>\n",
       "\t<dt>w_2</dt>\n",
       "\t\t<dd>0.497416574403686</dd>\n",
       "\t<dt>w_3</dt>\n",
       "\t\t<dd>-0.346465504483054</dd>\n",
       "\t<dt>w_4</dt>\n",
       "\t\t<dd>0.129436666139729</dd>\n",
       "\t<dt>w_5</dt>\n",
       "\t\t<dd>0.0112163267267736</dd>\n",
       "\t<dt>w_6</dt>\n",
       "\t\t<dd>-0.106166434653156</dd>\n",
       "\t<dt>w_7</dt>\n",
       "\t\t<dd>-0.00212525860013</dd>\n",
       "\t<dt>w_8</dt>\n",
       "\t\t<dd>-0.441257657931165</dd>\n",
       "\t<dt>w_9</dt>\n",
       "\t\t<dd>-0.823893755521675</dd>\n",
       "\t<dt>w_10</dt>\n",
       "\t\t<dd>-0.110522033101117</dd>\n",
       "\t<dt>w_11</dt>\n",
       "\t\t<dd>-0.0338083093982085</dd>\n",
       "\t<dt>w_12</dt>\n",
       "\t\t<dd>0.0514178316503273</dd>\n",
       "\t<dt>w_13</dt>\n",
       "\t\t<dd>-0.114800176311969</dd>\n",
       "\t<dt>w_14</dt>\n",
       "\t\t<dd>0.97902198439685</dd>\n",
       "</dl>\n"
      ],
      "text/latex": [
       "\\begin{description*}\n",
       "\\item[w\\textbackslash{}\\_0] 0.024822089200559\n",
       "\\item[w\\textbackslash{}\\_1] -0.0663458900997104\n",
       "\\item[w\\textbackslash{}\\_2] 0.497416574403686\n",
       "\\item[w\\textbackslash{}\\_3] -0.346465504483054\n",
       "\\item[w\\textbackslash{}\\_4] 0.129436666139729\n",
       "\\item[w\\textbackslash{}\\_5] 0.0112163267267736\n",
       "\\item[w\\textbackslash{}\\_6] -0.106166434653156\n",
       "\\item[w\\textbackslash{}\\_7] -0.00212525860013\n",
       "\\item[w\\textbackslash{}\\_8] -0.441257657931165\n",
       "\\item[w\\textbackslash{}\\_9] -0.823893755521675\n",
       "\\item[w\\textbackslash{}\\_10] -0.110522033101117\n",
       "\\item[w\\textbackslash{}\\_11] -0.0338083093982085\n",
       "\\item[w\\textbackslash{}\\_12] 0.0514178316503273\n",
       "\\item[w\\textbackslash{}\\_13] -0.114800176311969\n",
       "\\item[w\\textbackslash{}\\_14] 0.97902198439685\n",
       "\\end{description*}\n"
      ],
      "text/markdown": [
       "w_0\n",
       ":   0.024822089200559w_1\n",
       ":   -0.0663458900997104w_2\n",
       ":   0.497416574403686w_3\n",
       ":   -0.346465504483054w_4\n",
       ":   0.129436666139729w_5\n",
       ":   0.0112163267267736w_6\n",
       ":   -0.106166434653156w_7\n",
       ":   -0.00212525860013w_8\n",
       ":   -0.441257657931165w_9\n",
       ":   -0.823893755521675w_10\n",
       ":   -0.110522033101117w_11\n",
       ":   -0.0338083093982085w_12\n",
       ":   0.0514178316503273w_13\n",
       ":   -0.114800176311969w_14\n",
       ":   0.97902198439685\n",
       "\n"
      ],
      "text/plain": [
       "         w_0          w_1          w_2          w_3          w_4          w_5 \n",
       " 0.024822089 -0.066345890  0.497416574 -0.346465504  0.129436666  0.011216327 \n",
       "         w_6          w_7          w_8          w_9         w_10         w_11 \n",
       "-0.106166435 -0.002125259 -0.441257658 -0.823893756 -0.110522033 -0.033808309 \n",
       "        w_12         w_13         w_14 \n",
       " 0.051417832 -0.114800176  0.979021984 "
      ]
     },
     "metadata": {},
     "output_type": "display_data"
    }
   ],
   "source": [
    "(w.i <- setNames(coef(my.RBF), paste0(\"w_\", 0:M)))"
   ]
  },
  {
   "cell_type": "markdown",
   "metadata": {},
   "source": [
    " It remains to calculate the prediction on the test data"
   ]
  },
  {
   "cell_type": "code",
   "execution_count": 67,
   "metadata": {},
   "outputs": [],
   "source": [
    "test.PHI <- cbind(rep(1,length(d.test$x)),PHI(d.test$x,m.i,h.i))\n",
    "y <- test.PHI %*% w.i"
   ]
  },
  {
   "cell_type": "markdown",
   "metadata": {},
   "source": [
    " And now the normalized error of this prediction"
   ]
  },
  {
   "cell_type": "code",
   "execution_count": 68,
   "metadata": {},
   "outputs": [
    {
     "data": {
      "text/html": [
       "0.507681762667632"
      ],
      "text/latex": [
       "0.507681762667632"
      ],
      "text/markdown": [
       "0.507681762667632"
      ],
      "text/plain": [
       "[1] 0.5076818"
      ]
     },
     "metadata": {},
     "output_type": "display_data"
    }
   ],
   "source": [
    "(errorsTest <- sqrt(sum((d.test$t - y)^2)/((N.test-1)*var(d.test$t))))"
   ]
  },
  {
   "cell_type": "markdown",
   "metadata": {},
   "source": [
    " Much better if we plot everything"
   ]
  },
  {
   "cell_type": "code",
   "execution_count": 69,
   "metadata": {},
   "outputs": [],
   "source": [
    "par(mfrow=c(1,1))"
   ]
  },
  {
   "cell_type": "markdown",
   "metadata": {},
   "source": [
    " Test data in black,  Red data are the predictions  and the blue line is the underlying function"
   ]
  },
  {
   "cell_type": "code",
   "execution_count": 70,
   "metadata": {},
   "outputs": [
    {
     "data": {
      "image/png": "[encoded data removed]",
      "text/plain": [
       "Plot with title “Prediction (learning size:  200 examples)”"
      ]
     },
     "metadata": {},
     "output_type": "display_data"
    }
   ],
   "source": [
    "plot(d.test$x,d.test$t,\n",
    "     xlab=\"x\",ylab=\"t\",\n",
    "     main=paste(\"Prediction (learning size: \",toString(N),\"examples)\"),\n",
    "     ylim=c(-1.5,1.5))\n",
    "\n",
    "points(d.test$x,y,col='red',lwd=1)\n",
    "\n",
    "curve (myf, a, b, col='blue', add=TRUE)"
   ]
  },
  {
   "cell_type": "markdown",
   "metadata": {},
   "source": [
    "\n",
    "The previous code is designed for 1D problems but you can easily adapt it to more input dimensions\n",
    "\n",
    " There is a general package for neural networks: {RSNNS}\n",
    "\n",
    " Which is actually the R interface to the (formerly widely used and flexible) Stuttgart Neural Network Simulator (SNNS)\n",
    "\n",
    " This library contains many standard implementations of neural networks. The {RSNNS} package actually wraps the SNNS functionality to make it available from within R\n",
    "\n",
    "The RBF version within this package has a sophisticated method for initializing the network, which is also quite non-standard, so we avoid further explanation\n",
    "\n",
    " Sadly this package does not provide with a way to control regularization or to allow for multi-class problems (a softmax option with the cross-entropy would be welcome)\n",
    " \n"
   ]
  }
 ],
 "metadata": {
  "kernelspec": {
   "display_name": "R",
   "language": "R",
   "name": "ir"
  },
  "language_info": {
   "codemirror_mode": "r",
   "file_extension": ".r",
   "mimetype": "text/x-r-source",
   "name": "R",
   "pygments_lexer": "r",
   "version": "3.5.0"
  },
  "latex_envs": {
   "LaTeX_envs_menu_present": true,
   "autoclose": false,
   "autocomplete": true,
   "bibliofile": "biblio.bib",
   "cite_by": "apalike",
   "current_citInitial": 1,
   "eqLabelWithNumbers": true,
   "eqNumInitial": 1,
   "hotkeys": {
    "equation": "Ctrl-E",
    "itemize": "Ctrl-I"
   },
   "labels_anchors": false,
   "latex_user_defs": false,
   "report_style_numbering": false,
   "user_envs_cfg": false
  },
  "toc": {
   "base_numbering": 1,
   "nav_menu": {
    "height": "100px",
    "width": "252px"
   },
   "number_sections": true,
   "sideBar": true,
   "skip_h1_title": false,
   "title_cell": "Table of Contents",
   "title_sidebar": "Contents",
   "toc_cell": false,
   "toc_position": {},
   "toc_section_display": "block",
   "toc_window_display": true
  }
 },
 "nbformat": 4,
 "nbformat_minor": 2
}
